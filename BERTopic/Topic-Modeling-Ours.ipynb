{
  "cells": [
    {
      "cell_type": "markdown",
      "metadata": {
        "id": "EDNynfL6S6li"
      },
      "source": [
        "# Install Dependencies and load libraries"
      ]
    },
    {
      "cell_type": "code",
      "execution_count": 43,
      "metadata": {
        "id": "iFeb9iu-AWJo",
        "colab": {
          "base_uri": "https://localhost:8080/"
        },
        "outputId": "6454d1c9-cabf-4b25-e1d5-fb8d513e1b84"
      },
      "outputs": [
        {
          "output_type": "stream",
          "name": "stdout",
          "text": [
            "Looking in indexes: https://pypi.org/simple, https://us-python.pkg.dev/colab-wheels/public/simple/\n",
            "Requirement already satisfied: bertopic in /usr/local/lib/python3.7/dist-packages (0.11.0)\n",
            "Requirement already satisfied: tqdm>=4.41.1 in /usr/local/lib/python3.7/dist-packages (from bertopic) (4.64.0)\n",
            "Requirement already satisfied: umap-learn>=0.5.0 in /usr/local/lib/python3.7/dist-packages (from bertopic) (0.5.3)\n",
            "Requirement already satisfied: plotly>=4.7.0 in /usr/local/lib/python3.7/dist-packages (from bertopic) (5.5.0)\n",
            "Requirement already satisfied: hdbscan>=0.8.28 in /usr/local/lib/python3.7/dist-packages (from bertopic) (0.8.28)\n",
            "Requirement already satisfied: scikit-learn>=0.22.2.post1 in /usr/local/lib/python3.7/dist-packages (from bertopic) (1.0.2)\n",
            "Requirement already satisfied: pyyaml<6.0 in /usr/local/lib/python3.7/dist-packages (from bertopic) (5.4.1)\n",
            "Requirement already satisfied: sentence-transformers>=0.4.1 in /usr/local/lib/python3.7/dist-packages (from bertopic) (2.2.2)\n",
            "Requirement already satisfied: numpy>=1.20.0 in /usr/local/lib/python3.7/dist-packages (from bertopic) (1.21.6)\n",
            "Requirement already satisfied: pandas>=1.1.5 in /usr/local/lib/python3.7/dist-packages (from bertopic) (1.3.5)\n",
            "Requirement already satisfied: scipy>=1.0 in /usr/local/lib/python3.7/dist-packages (from hdbscan>=0.8.28->bertopic) (1.7.3)\n",
            "Requirement already satisfied: cython>=0.27 in /usr/local/lib/python3.7/dist-packages (from hdbscan>=0.8.28->bertopic) (0.29.32)\n",
            "Requirement already satisfied: joblib>=1.0 in /usr/local/lib/python3.7/dist-packages (from hdbscan>=0.8.28->bertopic) (1.1.0)\n",
            "Requirement already satisfied: python-dateutil>=2.7.3 in /usr/local/lib/python3.7/dist-packages (from pandas>=1.1.5->bertopic) (2.8.2)\n",
            "Requirement already satisfied: pytz>=2017.3 in /usr/local/lib/python3.7/dist-packages (from pandas>=1.1.5->bertopic) (2022.1)\n",
            "Requirement already satisfied: six in /usr/local/lib/python3.7/dist-packages (from plotly>=4.7.0->bertopic) (1.15.0)\n",
            "Requirement already satisfied: tenacity>=6.2.0 in /usr/local/lib/python3.7/dist-packages (from plotly>=4.7.0->bertopic) (8.0.1)\n",
            "Requirement already satisfied: threadpoolctl>=2.0.0 in /usr/local/lib/python3.7/dist-packages (from scikit-learn>=0.22.2.post1->bertopic) (3.1.0)\n",
            "Requirement already satisfied: nltk in /usr/local/lib/python3.7/dist-packages (from sentence-transformers>=0.4.1->bertopic) (3.7)\n",
            "Requirement already satisfied: torchvision in /usr/local/lib/python3.7/dist-packages (from sentence-transformers>=0.4.1->bertopic) (0.13.1+cu113)\n",
            "Requirement already satisfied: transformers<5.0.0,>=4.6.0 in /usr/local/lib/python3.7/dist-packages (from sentence-transformers>=0.4.1->bertopic) (4.21.1)\n",
            "Requirement already satisfied: sentencepiece in /usr/local/lib/python3.7/dist-packages (from sentence-transformers>=0.4.1->bertopic) (0.1.97)\n",
            "Requirement already satisfied: torch>=1.6.0 in /usr/local/lib/python3.7/dist-packages (from sentence-transformers>=0.4.1->bertopic) (1.12.1+cu113)\n",
            "Requirement already satisfied: huggingface-hub>=0.4.0 in /usr/local/lib/python3.7/dist-packages (from sentence-transformers>=0.4.1->bertopic) (0.8.1)\n",
            "Requirement already satisfied: importlib-metadata in /usr/local/lib/python3.7/dist-packages (from huggingface-hub>=0.4.0->sentence-transformers>=0.4.1->bertopic) (4.12.0)\n",
            "Requirement already satisfied: packaging>=20.9 in /usr/local/lib/python3.7/dist-packages (from huggingface-hub>=0.4.0->sentence-transformers>=0.4.1->bertopic) (21.3)\n",
            "Requirement already satisfied: requests in /usr/local/lib/python3.7/dist-packages (from huggingface-hub>=0.4.0->sentence-transformers>=0.4.1->bertopic) (2.23.0)\n",
            "Requirement already satisfied: typing-extensions>=3.7.4.3 in /usr/local/lib/python3.7/dist-packages (from huggingface-hub>=0.4.0->sentence-transformers>=0.4.1->bertopic) (4.1.1)\n",
            "Requirement already satisfied: filelock in /usr/local/lib/python3.7/dist-packages (from huggingface-hub>=0.4.0->sentence-transformers>=0.4.1->bertopic) (3.7.1)\n",
            "Requirement already satisfied: pyparsing!=3.0.5,>=2.0.2 in /usr/local/lib/python3.7/dist-packages (from packaging>=20.9->huggingface-hub>=0.4.0->sentence-transformers>=0.4.1->bertopic) (3.0.9)\n",
            "Requirement already satisfied: regex!=2019.12.17 in /usr/local/lib/python3.7/dist-packages (from transformers<5.0.0,>=4.6.0->sentence-transformers>=0.4.1->bertopic) (2022.6.2)\n",
            "Requirement already satisfied: tokenizers!=0.11.3,<0.13,>=0.11.1 in /usr/local/lib/python3.7/dist-packages (from transformers<5.0.0,>=4.6.0->sentence-transformers>=0.4.1->bertopic) (0.12.1)\n",
            "Requirement already satisfied: pynndescent>=0.5 in /usr/local/lib/python3.7/dist-packages (from umap-learn>=0.5.0->bertopic) (0.5.7)\n",
            "Requirement already satisfied: numba>=0.49 in /usr/local/lib/python3.7/dist-packages (from umap-learn>=0.5.0->bertopic) (0.56.0)\n",
            "Requirement already satisfied: setuptools in /usr/local/lib/python3.7/dist-packages (from numba>=0.49->umap-learn>=0.5.0->bertopic) (57.4.0)\n",
            "Requirement already satisfied: llvmlite<0.40,>=0.39.0dev0 in /usr/local/lib/python3.7/dist-packages (from numba>=0.49->umap-learn>=0.5.0->bertopic) (0.39.0)\n",
            "Requirement already satisfied: zipp>=0.5 in /usr/local/lib/python3.7/dist-packages (from importlib-metadata->huggingface-hub>=0.4.0->sentence-transformers>=0.4.1->bertopic) (3.8.1)\n",
            "Requirement already satisfied: click in /usr/local/lib/python3.7/dist-packages (from nltk->sentence-transformers>=0.4.1->bertopic) (7.1.2)\n",
            "Requirement already satisfied: certifi>=2017.4.17 in /usr/local/lib/python3.7/dist-packages (from requests->huggingface-hub>=0.4.0->sentence-transformers>=0.4.1->bertopic) (2022.6.15)\n",
            "Requirement already satisfied: chardet<4,>=3.0.2 in /usr/local/lib/python3.7/dist-packages (from requests->huggingface-hub>=0.4.0->sentence-transformers>=0.4.1->bertopic) (3.0.4)\n",
            "Requirement already satisfied: urllib3!=1.25.0,!=1.25.1,<1.26,>=1.21.1 in /usr/local/lib/python3.7/dist-packages (from requests->huggingface-hub>=0.4.0->sentence-transformers>=0.4.1->bertopic) (1.24.3)\n",
            "Requirement already satisfied: idna<3,>=2.5 in /usr/local/lib/python3.7/dist-packages (from requests->huggingface-hub>=0.4.0->sentence-transformers>=0.4.1->bertopic) (2.10)\n",
            "Requirement already satisfied: pillow!=8.3.*,>=5.3.0 in /usr/local/lib/python3.7/dist-packages (from torchvision->sentence-transformers>=0.4.1->bertopic) (7.1.2)\n",
            "Looking in indexes: https://pypi.org/simple, https://us-python.pkg.dev/colab-wheels/public/simple/\n",
            "Requirement already satisfied: transformers in /usr/local/lib/python3.7/dist-packages (4.21.1)\n",
            "Requirement already satisfied: tqdm>=4.27 in /usr/local/lib/python3.7/dist-packages (from transformers) (4.64.0)\n",
            "Requirement already satisfied: importlib-metadata in /usr/local/lib/python3.7/dist-packages (from transformers) (4.12.0)\n",
            "Requirement already satisfied: pyyaml>=5.1 in /usr/local/lib/python3.7/dist-packages (from transformers) (5.4.1)\n",
            "Requirement already satisfied: tokenizers!=0.11.3,<0.13,>=0.11.1 in /usr/local/lib/python3.7/dist-packages (from transformers) (0.12.1)\n",
            "Requirement already satisfied: numpy>=1.17 in /usr/local/lib/python3.7/dist-packages (from transformers) (1.21.6)\n",
            "Requirement already satisfied: filelock in /usr/local/lib/python3.7/dist-packages (from transformers) (3.7.1)\n",
            "Requirement already satisfied: packaging>=20.0 in /usr/local/lib/python3.7/dist-packages (from transformers) (21.3)\n",
            "Requirement already satisfied: requests in /usr/local/lib/python3.7/dist-packages (from transformers) (2.23.0)\n",
            "Requirement already satisfied: huggingface-hub<1.0,>=0.1.0 in /usr/local/lib/python3.7/dist-packages (from transformers) (0.8.1)\n",
            "Requirement already satisfied: regex!=2019.12.17 in /usr/local/lib/python3.7/dist-packages (from transformers) (2022.6.2)\n",
            "Requirement already satisfied: typing-extensions>=3.7.4.3 in /usr/local/lib/python3.7/dist-packages (from huggingface-hub<1.0,>=0.1.0->transformers) (4.1.1)\n",
            "Requirement already satisfied: pyparsing!=3.0.5,>=2.0.2 in /usr/local/lib/python3.7/dist-packages (from packaging>=20.0->transformers) (3.0.9)\n",
            "Requirement already satisfied: zipp>=0.5 in /usr/local/lib/python3.7/dist-packages (from importlib-metadata->transformers) (3.8.1)\n",
            "Requirement already satisfied: idna<3,>=2.5 in /usr/local/lib/python3.7/dist-packages (from requests->transformers) (2.10)\n",
            "Requirement already satisfied: certifi>=2017.4.17 in /usr/local/lib/python3.7/dist-packages (from requests->transformers) (2022.6.15)\n",
            "Requirement already satisfied: chardet<4,>=3.0.2 in /usr/local/lib/python3.7/dist-packages (from requests->transformers) (3.0.4)\n",
            "Requirement already satisfied: urllib3!=1.25.0,!=1.25.1,<1.26,>=1.21.1 in /usr/local/lib/python3.7/dist-packages (from requests->transformers) (1.24.3)\n",
            "Looking in indexes: https://pypi.org/simple, https://us-python.pkg.dev/colab-wheels/public/simple/\n",
            "Requirement already satisfied: sentence-transformers in /usr/local/lib/python3.7/dist-packages (2.2.2)\n",
            "Requirement already satisfied: huggingface-hub>=0.4.0 in /usr/local/lib/python3.7/dist-packages (from sentence-transformers) (0.8.1)\n",
            "Requirement already satisfied: sentencepiece in /usr/local/lib/python3.7/dist-packages (from sentence-transformers) (0.1.97)\n",
            "Requirement already satisfied: scipy in /usr/local/lib/python3.7/dist-packages (from sentence-transformers) (1.7.3)\n",
            "Requirement already satisfied: nltk in /usr/local/lib/python3.7/dist-packages (from sentence-transformers) (3.7)\n",
            "Requirement already satisfied: scikit-learn in /usr/local/lib/python3.7/dist-packages (from sentence-transformers) (1.0.2)\n",
            "Requirement already satisfied: torch>=1.6.0 in /usr/local/lib/python3.7/dist-packages (from sentence-transformers) (1.12.1+cu113)\n",
            "Requirement already satisfied: numpy in /usr/local/lib/python3.7/dist-packages (from sentence-transformers) (1.21.6)\n",
            "Requirement already satisfied: tqdm in /usr/local/lib/python3.7/dist-packages (from sentence-transformers) (4.64.0)\n",
            "Requirement already satisfied: torchvision in /usr/local/lib/python3.7/dist-packages (from sentence-transformers) (0.13.1+cu113)\n",
            "Requirement already satisfied: transformers<5.0.0,>=4.6.0 in /usr/local/lib/python3.7/dist-packages (from sentence-transformers) (4.21.1)\n",
            "Requirement already satisfied: filelock in /usr/local/lib/python3.7/dist-packages (from huggingface-hub>=0.4.0->sentence-transformers) (3.7.1)\n",
            "Requirement already satisfied: packaging>=20.9 in /usr/local/lib/python3.7/dist-packages (from huggingface-hub>=0.4.0->sentence-transformers) (21.3)\n",
            "Requirement already satisfied: importlib-metadata in /usr/local/lib/python3.7/dist-packages (from huggingface-hub>=0.4.0->sentence-transformers) (4.12.0)\n",
            "Requirement already satisfied: pyyaml>=5.1 in /usr/local/lib/python3.7/dist-packages (from huggingface-hub>=0.4.0->sentence-transformers) (5.4.1)\n",
            "Requirement already satisfied: typing-extensions>=3.7.4.3 in /usr/local/lib/python3.7/dist-packages (from huggingface-hub>=0.4.0->sentence-transformers) (4.1.1)\n",
            "Requirement already satisfied: requests in /usr/local/lib/python3.7/dist-packages (from huggingface-hub>=0.4.0->sentence-transformers) (2.23.0)\n",
            "Requirement already satisfied: pyparsing!=3.0.5,>=2.0.2 in /usr/local/lib/python3.7/dist-packages (from packaging>=20.9->huggingface-hub>=0.4.0->sentence-transformers) (3.0.9)\n",
            "Requirement already satisfied: tokenizers!=0.11.3,<0.13,>=0.11.1 in /usr/local/lib/python3.7/dist-packages (from transformers<5.0.0,>=4.6.0->sentence-transformers) (0.12.1)\n",
            "Requirement already satisfied: regex!=2019.12.17 in /usr/local/lib/python3.7/dist-packages (from transformers<5.0.0,>=4.6.0->sentence-transformers) (2022.6.2)\n",
            "Requirement already satisfied: zipp>=0.5 in /usr/local/lib/python3.7/dist-packages (from importlib-metadata->huggingface-hub>=0.4.0->sentence-transformers) (3.8.1)\n",
            "Requirement already satisfied: click in /usr/local/lib/python3.7/dist-packages (from nltk->sentence-transformers) (7.1.2)\n",
            "Requirement already satisfied: joblib in /usr/local/lib/python3.7/dist-packages (from nltk->sentence-transformers) (1.1.0)\n",
            "Requirement already satisfied: urllib3!=1.25.0,!=1.25.1,<1.26,>=1.21.1 in /usr/local/lib/python3.7/dist-packages (from requests->huggingface-hub>=0.4.0->sentence-transformers) (1.24.3)\n",
            "Requirement already satisfied: chardet<4,>=3.0.2 in /usr/local/lib/python3.7/dist-packages (from requests->huggingface-hub>=0.4.0->sentence-transformers) (3.0.4)\n",
            "Requirement already satisfied: idna<3,>=2.5 in /usr/local/lib/python3.7/dist-packages (from requests->huggingface-hub>=0.4.0->sentence-transformers) (2.10)\n",
            "Requirement already satisfied: certifi>=2017.4.17 in /usr/local/lib/python3.7/dist-packages (from requests->huggingface-hub>=0.4.0->sentence-transformers) (2022.6.15)\n",
            "Requirement already satisfied: threadpoolctl>=2.0.0 in /usr/local/lib/python3.7/dist-packages (from scikit-learn->sentence-transformers) (3.1.0)\n",
            "Requirement already satisfied: pillow!=8.3.*,>=5.3.0 in /usr/local/lib/python3.7/dist-packages (from torchvision->sentence-transformers) (7.1.2)\n"
          ]
        }
      ],
      "source": [
        "!pip install bertopic\n",
        "!pip install transformers\n",
        "!pip install sentence-transformers"
      ]
    },
    {
      "cell_type": "code",
      "execution_count": 44,
      "metadata": {
        "id": "wo0MFL1CX_Sp"
      },
      "outputs": [],
      "source": [
        "import pandas as pd\n",
        "import numpy as np\n",
        "import re\n",
        "import json"
      ]
    },
    {
      "cell_type": "code",
      "execution_count": 45,
      "metadata": {
        "colab": {
          "base_uri": "https://localhost:8080/"
        },
        "id": "Tu2cKotYYbNq",
        "outputId": "552cf0c1-b11e-47aa-ef78-b873aa12d37c"
      },
      "outputs": [
        {
          "output_type": "stream",
          "name": "stderr",
          "text": [
            "[nltk_data] Downloading package stopwords to /root/nltk_data...\n",
            "[nltk_data]   Package stopwords is already up-to-date!\n"
          ]
        },
        {
          "output_type": "execute_result",
          "data": {
            "text/plain": [
              "True"
            ]
          },
          "metadata": {},
          "execution_count": 45
        }
      ],
      "source": [
        "import nltk\n",
        "import torch\n",
        "from nltk.corpus import stopwords\n",
        "nltk.download('stopwords')"
      ]
    },
    {
      "cell_type": "code",
      "execution_count": 46,
      "metadata": {
        "id": "LM4gbAEeYb7Y"
      },
      "outputs": [],
      "source": [
        "from bertopic import BERTopic"
      ]
    },
    {
      "cell_type": "markdown",
      "metadata": {
        "id": "ggIY4Ds7X126"
      },
      "source": [
        "# Upload Data"
      ]
    },
    {
      "cell_type": "code",
      "execution_count": 47,
      "metadata": {
        "id": "Djru1lQ3fGDB"
      },
      "outputs": [],
      "source": [
        "file_name = 'total_scrapped_data.csv'"
      ]
    },
    {
      "cell_type": "markdown",
      "metadata": {
        "id": "E2Soro61ZN1i"
      },
      "source": [
        "- Read data file according to how to upload the file"
      ]
    },
    {
      "cell_type": "code",
      "execution_count": 48,
      "metadata": {
        "id": "9pm8zDIVZGW4"
      },
      "outputs": [],
      "source": [
        "# df = pd.read_csv('/content/gdrive/MyDrive/' + file_name)\n",
        "'''Or uncomment the following if you choose to upload your data file'''\n",
        "df = pd.read_csv(file_name)"
      ]
    },
    {
      "cell_type": "markdown",
      "metadata": {
        "id": "lJTLwDny_jMP"
      },
      "source": [
        "# Processing"
      ]
    },
    {
      "cell_type": "markdown",
      "metadata": {
        "id": "SDdsoHmqa4iv"
      },
      "source": [
        "- Define some functions for data processing"
      ]
    },
    {
      "cell_type": "code",
      "execution_count": 49,
      "metadata": {
        "id": "7eknz_Es-mlk"
      },
      "outputs": [],
      "source": [
        "def clean_punc_newlines(input_text):\n",
        "    # delete special character\n",
        "    punc_free = re.sub(r'[^a-zA-Z0-9\\s]', ' ', input_text)\n",
        "    return re.sub(r'\\n|\\t', ' ', punc_free)\n",
        "\n",
        "\n",
        "class Processor:\n",
        "    def __init__(self, df, column):\n",
        "        self.df = df\n",
        "        self.column = column\n",
        "\n",
        "    def delete_null_duplicates(self):\n",
        "        # delete duplicates\n",
        "        self.df.drop_duplicates(subset=[self.column], inplace=True, ignore_index=True)\n",
        "        # delete null value\n",
        "        self.df.dropna(subset=[self.column], inplace=True)\n",
        "        self.df.reset_index(drop=True, inplace=True)\n",
        "\n",
        "    def delete_short_overlapped_sent(self):\n",
        "        indices = []\n",
        "        for i in range(len(self.df[self.column].values)):\n",
        "            if len(self.df[self.column].values[i].split()) < 5:\n",
        "                # filter text less than three words\n",
        "                indices.append(i)\n",
        "\n",
        "            if i != len(self.df[self.column].values) - 1:\n",
        "                pre = self.df[self.column].values[i].replace(\" \", \"\")\n",
        "                lat = self.df[self.column].values[i + 1].replace(\" \", \"\")\n",
        "                if pre in lat or lat in pre:\n",
        "                    # filter overlapped texts\n",
        "                    indices.append(i)\n",
        "\n",
        "        self.df.drop(indices, inplace=True)\n",
        "\n",
        "    def clean_text(self):\n",
        "        self.df[\"cleaned\"] = self.df[self.column].apply(clean_punc_newlines)\n",
        "\n",
        "\n",
        "def mask_stopwords(docs, stopwords):\n",
        "    nltk_stop_words = stopwords.words('english')\n",
        "    masked_docs = []\n",
        "    for text in docs:\n",
        "        tokens = text.lower().split()\n",
        "        for i in range(len(tokens)):\n",
        "            if tokens[i] in nltk_stop_words:\n",
        "                tokens[i] = '[MASK]'\n",
        "        masked_docs.append(' '.join(tokens))\n",
        "    return masked_docs\n",
        "\n",
        "\n",
        "def remove_masks(dic):\n",
        "    filtered_dic = {}\n",
        "    for k, v in dic.items():\n",
        "        for i in v:\n",
        "            if i[0] == 'mask' or i[0] == 'MASK':\n",
        "                v.remove(i)\n",
        "        filtered_dic[k] = v\n",
        "    return filtered_dic"
      ]
    },
    {
      "cell_type": "markdown",
      "metadata": {
        "id": "dZ6lcMUrbbvv"
      },
      "source": [
        "- Show column names and decide which column to use for data processing"
      ]
    },
    {
      "cell_type": "code",
      "execution_count": 50,
      "metadata": {
        "colab": {
          "base_uri": "https://localhost:8080/"
        },
        "id": "Ouey4tg9kdSF",
        "outputId": "10bdd3fd-f0c7-4d89-c7ff-a2a66e8a57da"
      },
      "outputs": [
        {
          "output_type": "execute_result",
          "data": {
            "text/plain": [
              "Index(['Sentence', 'Category'], dtype='object')"
            ]
          },
          "metadata": {},
          "execution_count": 50
        }
      ],
      "source": [
        "df.columns"
      ]
    },
    {
      "cell_type": "code",
      "execution_count": 51,
      "metadata": {
        "id": "Yi-5iModbMsL"
      },
      "outputs": [],
      "source": [
        "# choose column name here\n",
        "column_name = 'Sentence'"
      ]
    },
    {
      "cell_type": "markdown",
      "metadata": {
        "id": "fSx5Im64dSun"
      },
      "source": [
        "- Processing input text and get a list of documents"
      ]
    },
    {
      "cell_type": "code",
      "execution_count": 52,
      "metadata": {
        "id": "LqUGiLzXbM9n"
      },
      "outputs": [],
      "source": [
        "processor = Processor(df, column_name)\n",
        "processor.delete_null_duplicates()\n",
        "processor.delete_short_overlapped_sent()\n",
        "processor.clean_text()\n",
        "# get list of documents for BERT topic modelling\n",
        "docs = processor.df.cleaned.to_list()\n",
        "# mask stopwords\n",
        "masked_docs = mask_stopwords(docs, stopwords)\n",
        "# docs"
      ]
    },
    {
      "cell_type": "markdown",
      "metadata": {
        "id": "wTQ9NTE7cG6I"
      },
      "source": [
        "# Topic Modelling"
      ]
    },
    {
      "cell_type": "code",
      "execution_count": 53,
      "metadata": {
        "id": "Ld4kZYLIb4do"
      },
      "outputs": [],
      "source": [
        "from sentence_transformers import SentenceTransformer\n",
        "\n",
        "sentence_model = SentenceTransformer('sentence-transformers/all-mpnet-base-v2')\n",
        "n_topics = None"
      ]
    },
    {
      "cell_type": "code",
      "execution_count": 54,
      "metadata": {
        "colab": {
          "base_uri": "https://localhost:8080/",
          "height": 101,
          "referenced_widgets": [
            "d5fd70dfdd6e465ebaa4df2a38bd9d0c",
            "981d9ef089dc45b5b833ee671c7a1886",
            "c1797bb2d82c442695e4f3f2096086cf",
            "8f5fe02d6ea84b2aba1b1c36e9c84911",
            "403c7c08a6bd49239e096e902cf11de7",
            "f7e921aba3d040a28d3e7b21753a6450",
            "0fefeff3a7844cb79eccf16f5d3fe2d4",
            "cf6f2309b9b7439ba85271d2bc385d39",
            "c6a74997977d4717ac5e8be57518a460",
            "064205cb9ebc45b1afc9d0e745861895",
            "cfa781bbb17540ec97db66bb8a071ac7"
          ]
        },
        "id": "_n5uTej6cXL5",
        "outputId": "b99fa795-b14f-41fa-c8b9-1e6ceed34fab"
      },
      "outputs": [
        {
          "output_type": "display_data",
          "data": {
            "text/plain": [
              "Batches:   0%|          | 0/63 [00:00<?, ?it/s]"
            ],
            "application/vnd.jupyter.widget-view+json": {
              "version_major": 2,
              "version_minor": 0,
              "model_id": "d5fd70dfdd6e465ebaa4df2a38bd9d0c"
            }
          },
          "metadata": {}
        },
        {
          "output_type": "stream",
          "name": "stderr",
          "text": [
            "2022-08-15 15:59:37,463 - BERTopic - Transformed documents to Embeddings\n",
            "2022-08-15 16:00:00,315 - BERTopic - Reduced dimensionality\n",
            "2022-08-15 16:00:00,400 - BERTopic - Clustered reduced embeddings\n"
          ]
        }
      ],
      "source": [
        "model = BERTopic(embedding_model=sentence_model, nr_topics=n_topics, verbose=True)\n",
        "doc_topics, prob_topics = model.fit_transform(masked_docs)"
      ]
    },
    {
      "cell_type": "code",
      "execution_count": 55,
      "metadata": {
        "id": "rTFjJSWYcwsO"
      },
      "outputs": [],
      "source": [
        "# get all potential topics\n",
        "topics = model.get_topics()\n",
        "\n",
        "# remove masks\n",
        "topics = remove_masks(topics)"
      ]
    },
    {
      "cell_type": "code",
      "execution_count": 56,
      "metadata": {
        "colab": {
          "base_uri": "https://localhost:8080/"
        },
        "id": "BeqFh2eGMLu1",
        "outputId": "8f3a9741-0953-467b-8177-907cc88596b4"
      },
      "outputs": [
        {
          "output_type": "execute_result",
          "data": {
            "text/plain": [
              "{-1: [('modi', 0.01732000562130977),\n",
              "  ('india', 0.01428867139992016),\n",
              "  ('bjp', 0.011993043285906519),\n",
              "  ('people', 0.009603478726024808),\n",
              "  ('pm', 0.009019140725238657),\n",
              "  ('govt', 0.008482644549235707),\n",
              "  ('congress', 0.008472767235852779),\n",
              "  ('http', 0.007115903919134497),\n",
              "  ('one', 0.0065127226749647675)],\n",
              " 0: [('people', 0.01657711351214658),\n",
              "  ('democracy', 0.010972659640450926),\n",
              "  ('say', 0.009337697968353134),\n",
              "  ('time', 0.009170306954884),\n",
              "  ('one', 0.009094053916412105),\n",
              "  ('like', 0.009034910429785133),\n",
              "  ('nation', 0.008656818652112227),\n",
              "  ('right', 0.008613406715322042),\n",
              "  ('media', 0.008406630831931028)],\n",
              " 1: [('india', 0.03552541743634113),\n",
              "  ('savarkar', 0.02026042532020739),\n",
              "  ('great', 0.018718155968662244),\n",
              "  ('indian', 0.01780440407794082),\n",
              "  ('tributes', 0.015291730116139686),\n",
              "  ('tribute', 0.014250140421781375),\n",
              "  ('veer', 0.013380263851622227),\n",
              "  ('give', 0.012880365042966446),\n",
              "  ('remembering', 0.012536911485228364)],\n",
              " 2: [('muslims', 0.06873229034991302),\n",
              "  ('muslim', 0.05821156600783466),\n",
              "  ('hindu', 0.02518767634918772),\n",
              "  ('hindus', 0.020169211887549637),\n",
              "  ('anti', 0.01574778292477397),\n",
              "  ('faith', 0.015528352944038993),\n",
              "  ('http', 0.015295293626914208),\n",
              "  ('secularism', 0.014874249214927162),\n",
              "  ('minorities', 0.0137402841235626)],\n",
              " 3: [('bjp', 0.03844304352356324),\n",
              "  ('vote', 0.038415428769578444),\n",
              "  ('elections', 0.027223628572796553),\n",
              "  ('election', 0.025440939817458468),\n",
              "  ('seats', 0.019608321164543703),\n",
              "  ('polling', 0.019170098064333854),\n",
              "  ('polls', 0.016080529069420535),\n",
              "  ('lok', 0.015562691742995634),\n",
              "  ('congress', 0.01547722351759732)],\n",
              " 4: [('congratulations', 0.06315992013585182),\n",
              "  ('narendramodi', 0.05136560486955532),\n",
              "  ('people', 0.037155071880692295),\n",
              "  ('thank', 0.035748227186150214),\n",
              "  ('india', 0.03547242303447779),\n",
              "  ('victory', 0.034842131898762924),\n",
              "  ('modi', 0.02409594723120606),\n",
              "  ('ji', 0.023826094399937013),\n",
              "  ('minister', 0.022891584242621627)],\n",
              " 5: [('accused', 0.03467961292078682),\n",
              "  ('case', 0.030826322596254955),\n",
              "  ('murder', 0.024178572381522743),\n",
              "  ('jail', 0.023138419714294492),\n",
              "  ('police', 0.022708404942094904),\n",
              "  ('arvindkejriwal', 0.021618338358254323),\n",
              "  ('court', 0.01964075016414994),\n",
              "  ('justice', 0.019449306714886386),\n",
              "  ('law', 0.019449306714886386)],\n",
              " 6: [('rahul', 0.1044758980362244),\n",
              "  ('gandhi', 0.07728433944959259),\n",
              "  ('congress', 0.054845779397241404),\n",
              "  ('sonia', 0.04046624718312132),\n",
              "  ('ji', 0.03277043572012728),\n",
              "  ('chowkidar', 0.020887191266620652),\n",
              "  ('resign', 0.019174099918584556),\n",
              "  ('manmohan', 0.01825377035052256),\n",
              "  ('based', 0.01604060385303524)],\n",
              " 7: [('rallies', 0.07272240782049015),\n",
              "  ('addressed', 0.055464035215636955),\n",
              "  ('aap', 0.03763318557985771),\n",
              "  ('3d', 0.03749056976756899),\n",
              "  ('rally', 0.03409968159955031),\n",
              "  ('vijay', 0.029134914045505122),\n",
              "  ('addressing', 0.029134914045505122),\n",
              "  ('across', 0.027989175136309996),\n",
              "  ('nda', 0.02572016470977844)],\n",
              " 8: [('kashmiri', 0.07098278353759915),\n",
              "  ('kashmiris', 0.05747796921574701),\n",
              "  ('kashmir', 0.04791048986614883),\n",
              "  ('students', 0.04377002856957608),\n",
              "  ('boycott', 0.03323067616382125),\n",
              "  ('dehradun', 0.029815636336287952),\n",
              "  ('poll', 0.028849989667718443),\n",
              "  ('article370', 0.027924896298873143),\n",
              "  ('dal', 0.021581166183375727)],\n",
              " 9: [('pakistan', 0.13102976659599525),\n",
              "  ('indian', 0.03587978837578265),\n",
              "  ('terror', 0.023657182353169465),\n",
              "  ('prince', 0.022551763053049196),\n",
              "  ('pakistani', 0.019691770787386726),\n",
              "  ('welcome', 0.017606637688842075),\n",
              "  ('pulwama', 0.017357417440079414),\n",
              "  ('govt', 0.017109786587897167),\n",
              "  ('country', 0.016117605854320077)],\n",
              " 10: [('nda', 0.07339929243673741),\n",
              "  ('seemandhra', 0.04393121049610964),\n",
              "  ('mp', 0.03813990912056678),\n",
              "  ('water', 0.034609620509414206),\n",
              "  ('2014', 0.032842520794147984),\n",
              "  ('india', 0.032023542311223896),\n",
              "  ('harvesting', 0.027308285323736407),\n",
              "  ('farmers', 0.027123898013192902),\n",
              "  ('land', 0.026166132851798803)],\n",
              " 11: [('data', 0.05052916904085462),\n",
              "  ('govt', 0.03926618551996064),\n",
              "  ('employment', 0.029439025921067),\n",
              "  ('years', 0.027631766506391226),\n",
              "  ('gujarat', 0.0263183587896711),\n",
              "  ('rs', 0.025869710396874426),\n",
              "  ('economy', 0.025558179721156003),\n",
              "  ('economic', 0.02526458452042731),\n",
              "  ('industry', 0.02389841947344065)],\n",
              " 12: [('rahul', 0.050483185872800936),\n",
              "  ('jaitley', 0.049165735389495674),\n",
              "  ('jp', 0.031013044694658355),\n",
              "  ('drrakeshparikh', 0.021931305112706138),\n",
              "  ('bot', 0.021931305112706138),\n",
              "  ('ran', 0.021931305112706138),\n",
              "  ('pandit', 0.021931305112706138),\n",
              "  ('amethi', 0.021382427982041475),\n",
              "  ('away', 0.021014041577103536)],\n",
              " 13: [('bjp', 0.07088802280083532),\n",
              "  ('nationalism', 0.026144252770485377),\n",
              "  ('congress', 0.025845318320609476),\n",
              "  ('never', 0.020786937519107505),\n",
              "  ('targetting', 0.01935115157003483),\n",
              "  ('electricity', 0.01935115157003483),\n",
              "  ('nd', 0.01824296746744609),\n",
              "  ('branded', 0.01824296746744609),\n",
              "  ('politics', 0.018191319219867393)],\n",
              " 14: [('modi', 0.07637736513215386),\n",
              "  ('personal', 0.03105688572303794),\n",
              "  ('tough', 0.03004801985517358),\n",
              "  ('party', 0.028015292508203535),\n",
              "  ('amit', 0.02523518764334262),\n",
              "  ('insistent', 0.024904386967773695),\n",
              "  ('consistent', 0.024904386967773695),\n",
              "  ('persistent', 0.024904386967773695),\n",
              "  ('nation', 0.02468441616328312)],\n",
              " 15: [('bjp', 0.05443949923036554),\n",
              "  ('media', 0.03304233372753908),\n",
              "  ('disgrace', 0.030821901121809926),\n",
              "  ('gurugram', 0.028464527354344564),\n",
              "  ('aap', 0.02721219780537807),\n",
              "  ('attack', 0.025227080310141436),\n",
              "  ('varanasi', 0.025227080310141436),\n",
              "  ('dalit', 0.024063309137138555),\n",
              "  ('volunteers', 0.023722695330278033)],\n",
              " 16: [('modi', 0.0926379316571928),\n",
              "  ('caste', 0.03955226701947433),\n",
              "  ('mann', 0.0317167977526804),\n",
              "  ('baat', 0.02990046910023115),\n",
              "  ('believed', 0.02990046910023115),\n",
              "  ('diwali', 0.02990046910023115),\n",
              "  ('mr', 0.028608339301628906),\n",
              "  ('neech', 0.02761356988485743),\n",
              "  ('bhi', 0.02761356988485743)],\n",
              " 17: [('prime', 0.04328530073279949),\n",
              "  ('minister', 0.039147044329802407),\n",
              "  ('talk', 0.031164133778122834),\n",
              "  ('day', 0.030664740245022127),\n",
              "  ('lingering', 0.030097216590841403),\n",
              "  ('mps', 0.029612946068530023),\n",
              "  ('time', 0.026544721714852303),\n",
              "  ('pmo', 0.02620351525243918),\n",
              "  ('council', 0.02620351525243918)],\n",
              " 18: [('tax', 0.048956359849432286),\n",
              "  ('ministries', 0.042225945664762565),\n",
              "  ('toward', 0.042225945664762565),\n",
              "  ('restore', 0.039807788712546546),\n",
              "  ('reject', 0.03809281299083954),\n",
              "  ('corruption', 0.03734151916543607),\n",
              "  ('government', 0.03418289653372459),\n",
              "  ('solution', 0.03396472692087282),\n",
              "  ('step', 0.03326406846090814)],\n",
              " 19: [('referee', 0.03339468084817135),\n",
              "  ('danger', 0.022263120565447568),\n",
              "  ('lineage', 0.022263120565447568),\n",
              "  ('managed', 0.022263120565447568),\n",
              "  ('band', 0.022263120565447568),\n",
              "  ('given', 0.02226085088387598),\n",
              "  ('vishwas', 0.020560354204751944),\n",
              "  ('card', 0.019953014383835906),\n",
              "  ('experience', 0.018995298027533216)],\n",
              " 20: [('modi', 0.03851539768730406),\n",
              "  ('north', 0.030386073599790776),\n",
              "  ('ji', 0.02885156063871846),\n",
              "  ('india', 0.02811558460544742),\n",
              "  ('government', 0.02587857703683104),\n",
              "  ('vision', 0.024825665891047),\n",
              "  ('headquarters', 0.02397574880965332),\n",
              "  ('bjp', 0.023953379661360838),\n",
              "  ('back', 0.022424124267820613)],\n",
              " 21: [('festival', 0.11607773890004403),\n",
              "  ('blessings', 0.08393602692508634),\n",
              "  ('today', 0.06793659585954392),\n",
              "  ('truly', 0.05803886945002201),\n",
              "  ('wishes', 0.05505538077469567),\n",
              "  ('temple', 0.05345843496302236),\n",
              "  ('kejriwal', 0.05274415165641048),\n",
              "  ('best', 0.04558953379871536),\n",
              "  ('mankamneshwar', 0.04044567229738186),\n",
              "  ('guruvayurappan', 0.04044567229738186)]}"
            ]
          },
          "metadata": {},
          "execution_count": 56
        }
      ],
      "source": [
        "topics"
      ]
    },
    {
      "cell_type": "markdown",
      "metadata": {
        "id": "phC3Z7sPdcyg"
      },
      "source": [
        "# Write to json and download"
      ]
    },
    {
      "cell_type": "code",
      "execution_count": 57,
      "metadata": {
        "id": "mc3o272VdlOE"
      },
      "outputs": [],
      "source": [
        "with open('topics.json', 'w', encoding='utf-8') as f:\n",
        "    json.dump(topics, f, ensure_ascii=False, indent=4)"
      ]
    },
    {
      "cell_type": "markdown",
      "metadata": {
        "id": "OzF7RvVM_obl"
      },
      "source": [
        "# BERTopic"
      ]
    },
    {
      "cell_type": "code",
      "execution_count": 58,
      "metadata": {
        "colab": {
          "base_uri": "https://localhost:8080/"
        },
        "id": "Weu1N7Lot3pO",
        "outputId": "b9687812-9eda-4688-f860-347fc144ba33"
      },
      "outputs": [
        {
          "output_type": "stream",
          "name": "stdout",
          "text": [
            "21\n"
          ]
        }
      ],
      "source": [
        "print(max(topics))"
      ]
    },
    {
      "cell_type": "code",
      "execution_count": 59,
      "metadata": {
        "colab": {
          "base_uri": "https://localhost:8080/"
        },
        "id": "gT-fE3U8BOb9",
        "outputId": "3c2ef87f-9721-4d27-ba24-ef71bf3452d4"
      },
      "outputs": [
        {
          "output_type": "execute_result",
          "data": {
            "text/plain": [
              "{-1: [('modi', 0.01732000562130977),\n",
              "  ('india', 0.01428867139992016),\n",
              "  ('bjp', 0.011993043285906519),\n",
              "  ('people', 0.009603478726024808),\n",
              "  ('pm', 0.009019140725238657),\n",
              "  ('govt', 0.008482644549235707),\n",
              "  ('congress', 0.008472767235852779),\n",
              "  ('http', 0.007115903919134497),\n",
              "  ('one', 0.0065127226749647675)],\n",
              " 0: [('people', 0.01657711351214658),\n",
              "  ('democracy', 0.010972659640450926),\n",
              "  ('say', 0.009337697968353134),\n",
              "  ('time', 0.009170306954884),\n",
              "  ('one', 0.009094053916412105),\n",
              "  ('like', 0.009034910429785133),\n",
              "  ('nation', 0.008656818652112227),\n",
              "  ('right', 0.008613406715322042),\n",
              "  ('media', 0.008406630831931028)],\n",
              " 1: [('india', 0.03552541743634113),\n",
              "  ('savarkar', 0.02026042532020739),\n",
              "  ('great', 0.018718155968662244),\n",
              "  ('indian', 0.01780440407794082),\n",
              "  ('tributes', 0.015291730116139686),\n",
              "  ('tribute', 0.014250140421781375),\n",
              "  ('veer', 0.013380263851622227),\n",
              "  ('give', 0.012880365042966446),\n",
              "  ('remembering', 0.012536911485228364)],\n",
              " 2: [('muslims', 0.06873229034991302),\n",
              "  ('muslim', 0.05821156600783466),\n",
              "  ('hindu', 0.02518767634918772),\n",
              "  ('hindus', 0.020169211887549637),\n",
              "  ('anti', 0.01574778292477397),\n",
              "  ('faith', 0.015528352944038993),\n",
              "  ('http', 0.015295293626914208),\n",
              "  ('secularism', 0.014874249214927162),\n",
              "  ('minorities', 0.0137402841235626)],\n",
              " 3: [('bjp', 0.03844304352356324),\n",
              "  ('vote', 0.038415428769578444),\n",
              "  ('elections', 0.027223628572796553),\n",
              "  ('election', 0.025440939817458468),\n",
              "  ('seats', 0.019608321164543703),\n",
              "  ('polling', 0.019170098064333854),\n",
              "  ('polls', 0.016080529069420535),\n",
              "  ('lok', 0.015562691742995634),\n",
              "  ('congress', 0.01547722351759732)],\n",
              " 4: [('congratulations', 0.06315992013585182),\n",
              "  ('narendramodi', 0.05136560486955532),\n",
              "  ('people', 0.037155071880692295),\n",
              "  ('thank', 0.035748227186150214),\n",
              "  ('india', 0.03547242303447779),\n",
              "  ('victory', 0.034842131898762924),\n",
              "  ('modi', 0.02409594723120606),\n",
              "  ('ji', 0.023826094399937013),\n",
              "  ('minister', 0.022891584242621627)],\n",
              " 5: [('accused', 0.03467961292078682),\n",
              "  ('case', 0.030826322596254955),\n",
              "  ('murder', 0.024178572381522743),\n",
              "  ('jail', 0.023138419714294492),\n",
              "  ('police', 0.022708404942094904),\n",
              "  ('arvindkejriwal', 0.021618338358254323),\n",
              "  ('court', 0.01964075016414994),\n",
              "  ('justice', 0.019449306714886386),\n",
              "  ('law', 0.019449306714886386)],\n",
              " 6: [('rahul', 0.1044758980362244),\n",
              "  ('gandhi', 0.07728433944959259),\n",
              "  ('congress', 0.054845779397241404),\n",
              "  ('sonia', 0.04046624718312132),\n",
              "  ('ji', 0.03277043572012728),\n",
              "  ('chowkidar', 0.020887191266620652),\n",
              "  ('resign', 0.019174099918584556),\n",
              "  ('manmohan', 0.01825377035052256),\n",
              "  ('based', 0.01604060385303524)],\n",
              " 7: [('rallies', 0.07272240782049015),\n",
              "  ('addressed', 0.055464035215636955),\n",
              "  ('aap', 0.03763318557985771),\n",
              "  ('3d', 0.03749056976756899),\n",
              "  ('rally', 0.03409968159955031),\n",
              "  ('vijay', 0.029134914045505122),\n",
              "  ('addressing', 0.029134914045505122),\n",
              "  ('across', 0.027989175136309996),\n",
              "  ('nda', 0.02572016470977844)],\n",
              " 8: [('kashmiri', 0.07098278353759915),\n",
              "  ('kashmiris', 0.05747796921574701),\n",
              "  ('kashmir', 0.04791048986614883),\n",
              "  ('students', 0.04377002856957608),\n",
              "  ('boycott', 0.03323067616382125),\n",
              "  ('dehradun', 0.029815636336287952),\n",
              "  ('poll', 0.028849989667718443),\n",
              "  ('article370', 0.027924896298873143),\n",
              "  ('dal', 0.021581166183375727)],\n",
              " 9: [('pakistan', 0.13102976659599525),\n",
              "  ('indian', 0.03587978837578265),\n",
              "  ('terror', 0.023657182353169465),\n",
              "  ('prince', 0.022551763053049196),\n",
              "  ('pakistani', 0.019691770787386726),\n",
              "  ('welcome', 0.017606637688842075),\n",
              "  ('pulwama', 0.017357417440079414),\n",
              "  ('govt', 0.017109786587897167),\n",
              "  ('country', 0.016117605854320077)],\n",
              " 10: [('nda', 0.07339929243673741),\n",
              "  ('seemandhra', 0.04393121049610964),\n",
              "  ('mp', 0.03813990912056678),\n",
              "  ('water', 0.034609620509414206),\n",
              "  ('2014', 0.032842520794147984),\n",
              "  ('india', 0.032023542311223896),\n",
              "  ('harvesting', 0.027308285323736407),\n",
              "  ('farmers', 0.027123898013192902),\n",
              "  ('land', 0.026166132851798803)],\n",
              " 11: [('data', 0.05052916904085462),\n",
              "  ('govt', 0.03926618551996064),\n",
              "  ('employment', 0.029439025921067),\n",
              "  ('years', 0.027631766506391226),\n",
              "  ('gujarat', 0.0263183587896711),\n",
              "  ('rs', 0.025869710396874426),\n",
              "  ('economy', 0.025558179721156003),\n",
              "  ('economic', 0.02526458452042731),\n",
              "  ('industry', 0.02389841947344065)],\n",
              " 12: [('rahul', 0.050483185872800936),\n",
              "  ('jaitley', 0.049165735389495674),\n",
              "  ('jp', 0.031013044694658355),\n",
              "  ('drrakeshparikh', 0.021931305112706138),\n",
              "  ('bot', 0.021931305112706138),\n",
              "  ('ran', 0.021931305112706138),\n",
              "  ('pandit', 0.021931305112706138),\n",
              "  ('amethi', 0.021382427982041475),\n",
              "  ('away', 0.021014041577103536)],\n",
              " 13: [('bjp', 0.07088802280083532),\n",
              "  ('nationalism', 0.026144252770485377),\n",
              "  ('congress', 0.025845318320609476),\n",
              "  ('never', 0.020786937519107505),\n",
              "  ('targetting', 0.01935115157003483),\n",
              "  ('electricity', 0.01935115157003483),\n",
              "  ('nd', 0.01824296746744609),\n",
              "  ('branded', 0.01824296746744609),\n",
              "  ('politics', 0.018191319219867393)],\n",
              " 14: [('modi', 0.07637736513215386),\n",
              "  ('personal', 0.03105688572303794),\n",
              "  ('tough', 0.03004801985517358),\n",
              "  ('party', 0.028015292508203535),\n",
              "  ('amit', 0.02523518764334262),\n",
              "  ('insistent', 0.024904386967773695),\n",
              "  ('consistent', 0.024904386967773695),\n",
              "  ('persistent', 0.024904386967773695),\n",
              "  ('nation', 0.02468441616328312)],\n",
              " 15: [('bjp', 0.05443949923036554),\n",
              "  ('media', 0.03304233372753908),\n",
              "  ('disgrace', 0.030821901121809926),\n",
              "  ('gurugram', 0.028464527354344564),\n",
              "  ('aap', 0.02721219780537807),\n",
              "  ('attack', 0.025227080310141436),\n",
              "  ('varanasi', 0.025227080310141436),\n",
              "  ('dalit', 0.024063309137138555),\n",
              "  ('volunteers', 0.023722695330278033)],\n",
              " 16: [('modi', 0.0926379316571928),\n",
              "  ('caste', 0.03955226701947433),\n",
              "  ('mann', 0.0317167977526804),\n",
              "  ('baat', 0.02990046910023115),\n",
              "  ('believed', 0.02990046910023115),\n",
              "  ('diwali', 0.02990046910023115),\n",
              "  ('mr', 0.028608339301628906),\n",
              "  ('neech', 0.02761356988485743),\n",
              "  ('bhi', 0.02761356988485743)],\n",
              " 17: [('prime', 0.04328530073279949),\n",
              "  ('minister', 0.039147044329802407),\n",
              "  ('talk', 0.031164133778122834),\n",
              "  ('day', 0.030664740245022127),\n",
              "  ('lingering', 0.030097216590841403),\n",
              "  ('mps', 0.029612946068530023),\n",
              "  ('time', 0.026544721714852303),\n",
              "  ('pmo', 0.02620351525243918),\n",
              "  ('council', 0.02620351525243918)],\n",
              " 18: [('tax', 0.048956359849432286),\n",
              "  ('ministries', 0.042225945664762565),\n",
              "  ('toward', 0.042225945664762565),\n",
              "  ('restore', 0.039807788712546546),\n",
              "  ('reject', 0.03809281299083954),\n",
              "  ('corruption', 0.03734151916543607),\n",
              "  ('government', 0.03418289653372459),\n",
              "  ('solution', 0.03396472692087282),\n",
              "  ('step', 0.03326406846090814)],\n",
              " 19: [('referee', 0.03339468084817135),\n",
              "  ('danger', 0.022263120565447568),\n",
              "  ('lineage', 0.022263120565447568),\n",
              "  ('managed', 0.022263120565447568),\n",
              "  ('band', 0.022263120565447568),\n",
              "  ('given', 0.02226085088387598),\n",
              "  ('vishwas', 0.020560354204751944),\n",
              "  ('card', 0.019953014383835906),\n",
              "  ('experience', 0.018995298027533216)],\n",
              " 20: [('modi', 0.03851539768730406),\n",
              "  ('north', 0.030386073599790776),\n",
              "  ('ji', 0.02885156063871846),\n",
              "  ('india', 0.02811558460544742),\n",
              "  ('government', 0.02587857703683104),\n",
              "  ('vision', 0.024825665891047),\n",
              "  ('headquarters', 0.02397574880965332),\n",
              "  ('bjp', 0.023953379661360838),\n",
              "  ('back', 0.022424124267820613)],\n",
              " 21: [('festival', 0.11607773890004403),\n",
              "  ('blessings', 0.08393602692508634),\n",
              "  ('today', 0.06793659585954392),\n",
              "  ('truly', 0.05803886945002201),\n",
              "  ('wishes', 0.05505538077469567),\n",
              "  ('temple', 0.05345843496302236),\n",
              "  ('kejriwal', 0.05274415165641048),\n",
              "  ('best', 0.04558953379871536),\n",
              "  ('mankamneshwar', 0.04044567229738186),\n",
              "  ('guruvayurappan', 0.04044567229738186)]}"
            ]
          },
          "metadata": {},
          "execution_count": 59
        }
      ],
      "source": [
        "model.get_topics()"
      ]
    },
    {
      "cell_type": "markdown",
      "metadata": {
        "id": "xz4CTVoYBW8x"
      },
      "source": [
        "# BERTopic Visualization"
      ]
    },
    {
      "cell_type": "code",
      "execution_count": 60,
      "metadata": {
        "colab": {
          "base_uri": "https://localhost:8080/",
          "height": 667
        },
        "id": "tv0eAXowBWLj",
        "outputId": "a365f086-43dd-4111-e46b-e8f89f9fd8bf"
      },
      "outputs": [
        {
          "output_type": "display_data",
          "data": {
            "text/html": [
              "<html>\n",
              "<head><meta charset=\"utf-8\" /></head>\n",
              "<body>\n",
              "    <div>            <script src=\"https://cdnjs.cloudflare.com/ajax/libs/mathjax/2.7.5/MathJax.js?config=TeX-AMS-MML_SVG\"></script><script type=\"text/javascript\">if (window.MathJax) {MathJax.Hub.Config({SVG: {font: \"STIX-Web\"}});}</script>                <script type=\"text/javascript\">window.PlotlyConfig = {MathJaxConfig: 'local'};</script>\n",
              "        <script src=\"https://cdn.plot.ly/plotly-2.8.3.min.js\"></script>                <div id=\"dca3a468-c501-4255-8655-f2bc0e5c79db\" class=\"plotly-graph-div\" style=\"height:650px; width:650px;\"></div>            <script type=\"text/javascript\">                                    window.PLOTLYENV=window.PLOTLYENV || {};                                    if (document.getElementById(\"dca3a468-c501-4255-8655-f2bc0e5c79db\")) {                    Plotly.newPlot(                        \"dca3a468-c501-4255-8655-f2bc0e5c79db\",                        [{\"customdata\":[[0,\"people | democracy | say | time | one\",329],[1,\"india | savarkar | great | indian | tributes\",96],[2,\"muslims | muslim | hindu | hindus | anti\",75],[3,\"bjp | vote | elections | election | seats\",68],[4,\"congratulations | narendramodi | people | thank | india\",55],[5,\"accused | case | murder | jail | police\",50],[6,\"rahul | gandhi | congress | sonia | ji\",37],[7,\"rallies | addressed | aap | 3d | rally\",30],[8,\"kashmiri | kashmiris | kashmir | students | boycott\",26],[9,\"pakistan | indian | terror | prince | pakistani\",26],[10,\"nda | seemandhra | mp | water | 2014\",26],[11,\"data | govt | employment | years | gujarat\",25],[12,\"rahul | jaitley | jp | drrakeshparikh | bot\",25],[13,\"bjp | nationalism | congress | never | targetting\",25],[14,\"modi | personal | tough | party | amit\",22],[15,\"bjp | media | disgrace | gurugram | aap\",21],[16,\"modi | caste | mann | baat | believed\",19],[17,\"prime | minister | talk | day | lingering\",18],[18,\"tax | ministries | toward | restore | reject\",17],[19,\"referee | danger | lineage | managed | band\",15],[20,\"modi | north | ji | india | government\",14],[21,\"festival | blessings | today | truly | wishes\",12]],\"hovertemplate\":\"<b>Topic %{customdata[0]}</b><br>Words: %{customdata[1]}<br>Size: %{customdata[2]}\",\"legendgroup\":\"\",\"marker\":{\"color\":\"#B0BEC5\",\"size\":[329,96,75,68,55,50,37,30,26,26,26,25,25,25,22,21,19,18,17,15,14,12],\"sizemode\":\"area\",\"sizeref\":0.205625,\"symbol\":\"circle\",\"line\":{\"color\":\"DarkSlateGrey\",\"width\":2}},\"mode\":\"markers\",\"name\":\"\",\"orientation\":\"v\",\"showlegend\":false,\"x\":[16.04954719543457,16.50324249267578,16.318281173706055,-0.7493271827697754,-0.8937111496925354,-8.55090045928955,3.7143423557281494,-0.5178539156913757,-8.396803855895996,8.131207466125488,8.04777717590332,7.566990375518799,3.510531425476074,4.510231971740723,4.636105060577393,-8.725276947021484,4.511719703674316,8.446386337280273,7.853087425231934,8.895856857299805,8.240906715393066,9.053821563720703],\"xaxis\":\"x\",\"y\":[3.318066358566284,2.8646154403686523,3.049532413482666,-5.847077369689941,-5.9914093017578125,-15.00033950805664,6.883590221405029,-5.615630149841309,-15.154417991638184,25.344226837158203,21.606098175048828,22.07416534423828,6.921039581298828,7.483675003051758,7.307765483856201,-14.825943946838379,7.007602214813232,25.445802688598633,21.79408073425293,25.780189514160156,25.712093353271484,25.55042266845703],\"yaxis\":\"y\",\"type\":\"scatter\"}],                        {\"template\":{\"data\":{\"barpolar\":[{\"marker\":{\"line\":{\"color\":\"white\",\"width\":0.5},\"pattern\":{\"fillmode\":\"overlay\",\"size\":10,\"solidity\":0.2}},\"type\":\"barpolar\"}],\"bar\":[{\"error_x\":{\"color\":\"rgb(36,36,36)\"},\"error_y\":{\"color\":\"rgb(36,36,36)\"},\"marker\":{\"line\":{\"color\":\"white\",\"width\":0.5},\"pattern\":{\"fillmode\":\"overlay\",\"size\":10,\"solidity\":0.2}},\"type\":\"bar\"}],\"carpet\":[{\"aaxis\":{\"endlinecolor\":\"rgb(36,36,36)\",\"gridcolor\":\"white\",\"linecolor\":\"white\",\"minorgridcolor\":\"white\",\"startlinecolor\":\"rgb(36,36,36)\"},\"baxis\":{\"endlinecolor\":\"rgb(36,36,36)\",\"gridcolor\":\"white\",\"linecolor\":\"white\",\"minorgridcolor\":\"white\",\"startlinecolor\":\"rgb(36,36,36)\"},\"type\":\"carpet\"}],\"choropleth\":[{\"colorbar\":{\"outlinewidth\":1,\"tickcolor\":\"rgb(36,36,36)\",\"ticks\":\"outside\"},\"type\":\"choropleth\"}],\"contourcarpet\":[{\"colorbar\":{\"outlinewidth\":1,\"tickcolor\":\"rgb(36,36,36)\",\"ticks\":\"outside\"},\"type\":\"contourcarpet\"}],\"contour\":[{\"colorbar\":{\"outlinewidth\":1,\"tickcolor\":\"rgb(36,36,36)\",\"ticks\":\"outside\"},\"colorscale\":[[0.0,\"#440154\"],[0.1111111111111111,\"#482878\"],[0.2222222222222222,\"#3e4989\"],[0.3333333333333333,\"#31688e\"],[0.4444444444444444,\"#26828e\"],[0.5555555555555556,\"#1f9e89\"],[0.6666666666666666,\"#35b779\"],[0.7777777777777778,\"#6ece58\"],[0.8888888888888888,\"#b5de2b\"],[1.0,\"#fde725\"]],\"type\":\"contour\"}],\"heatmapgl\":[{\"colorbar\":{\"outlinewidth\":1,\"tickcolor\":\"rgb(36,36,36)\",\"ticks\":\"outside\"},\"colorscale\":[[0.0,\"#440154\"],[0.1111111111111111,\"#482878\"],[0.2222222222222222,\"#3e4989\"],[0.3333333333333333,\"#31688e\"],[0.4444444444444444,\"#26828e\"],[0.5555555555555556,\"#1f9e89\"],[0.6666666666666666,\"#35b779\"],[0.7777777777777778,\"#6ece58\"],[0.8888888888888888,\"#b5de2b\"],[1.0,\"#fde725\"]],\"type\":\"heatmapgl\"}],\"heatmap\":[{\"colorbar\":{\"outlinewidth\":1,\"tickcolor\":\"rgb(36,36,36)\",\"ticks\":\"outside\"},\"colorscale\":[[0.0,\"#440154\"],[0.1111111111111111,\"#482878\"],[0.2222222222222222,\"#3e4989\"],[0.3333333333333333,\"#31688e\"],[0.4444444444444444,\"#26828e\"],[0.5555555555555556,\"#1f9e89\"],[0.6666666666666666,\"#35b779\"],[0.7777777777777778,\"#6ece58\"],[0.8888888888888888,\"#b5de2b\"],[1.0,\"#fde725\"]],\"type\":\"heatmap\"}],\"histogram2dcontour\":[{\"colorbar\":{\"outlinewidth\":1,\"tickcolor\":\"rgb(36,36,36)\",\"ticks\":\"outside\"},\"colorscale\":[[0.0,\"#440154\"],[0.1111111111111111,\"#482878\"],[0.2222222222222222,\"#3e4989\"],[0.3333333333333333,\"#31688e\"],[0.4444444444444444,\"#26828e\"],[0.5555555555555556,\"#1f9e89\"],[0.6666666666666666,\"#35b779\"],[0.7777777777777778,\"#6ece58\"],[0.8888888888888888,\"#b5de2b\"],[1.0,\"#fde725\"]],\"type\":\"histogram2dcontour\"}],\"histogram2d\":[{\"colorbar\":{\"outlinewidth\":1,\"tickcolor\":\"rgb(36,36,36)\",\"ticks\":\"outside\"},\"colorscale\":[[0.0,\"#440154\"],[0.1111111111111111,\"#482878\"],[0.2222222222222222,\"#3e4989\"],[0.3333333333333333,\"#31688e\"],[0.4444444444444444,\"#26828e\"],[0.5555555555555556,\"#1f9e89\"],[0.6666666666666666,\"#35b779\"],[0.7777777777777778,\"#6ece58\"],[0.8888888888888888,\"#b5de2b\"],[1.0,\"#fde725\"]],\"type\":\"histogram2d\"}],\"histogram\":[{\"marker\":{\"line\":{\"color\":\"white\",\"width\":0.6}},\"type\":\"histogram\"}],\"mesh3d\":[{\"colorbar\":{\"outlinewidth\":1,\"tickcolor\":\"rgb(36,36,36)\",\"ticks\":\"outside\"},\"type\":\"mesh3d\"}],\"parcoords\":[{\"line\":{\"colorbar\":{\"outlinewidth\":1,\"tickcolor\":\"rgb(36,36,36)\",\"ticks\":\"outside\"}},\"type\":\"parcoords\"}],\"pie\":[{\"automargin\":true,\"type\":\"pie\"}],\"scatter3d\":[{\"line\":{\"colorbar\":{\"outlinewidth\":1,\"tickcolor\":\"rgb(36,36,36)\",\"ticks\":\"outside\"}},\"marker\":{\"colorbar\":{\"outlinewidth\":1,\"tickcolor\":\"rgb(36,36,36)\",\"ticks\":\"outside\"}},\"type\":\"scatter3d\"}],\"scattercarpet\":[{\"marker\":{\"colorbar\":{\"outlinewidth\":1,\"tickcolor\":\"rgb(36,36,36)\",\"ticks\":\"outside\"}},\"type\":\"scattercarpet\"}],\"scattergeo\":[{\"marker\":{\"colorbar\":{\"outlinewidth\":1,\"tickcolor\":\"rgb(36,36,36)\",\"ticks\":\"outside\"}},\"type\":\"scattergeo\"}],\"scattergl\":[{\"marker\":{\"colorbar\":{\"outlinewidth\":1,\"tickcolor\":\"rgb(36,36,36)\",\"ticks\":\"outside\"}},\"type\":\"scattergl\"}],\"scattermapbox\":[{\"marker\":{\"colorbar\":{\"outlinewidth\":1,\"tickcolor\":\"rgb(36,36,36)\",\"ticks\":\"outside\"}},\"type\":\"scattermapbox\"}],\"scatterpolargl\":[{\"marker\":{\"colorbar\":{\"outlinewidth\":1,\"tickcolor\":\"rgb(36,36,36)\",\"ticks\":\"outside\"}},\"type\":\"scatterpolargl\"}],\"scatterpolar\":[{\"marker\":{\"colorbar\":{\"outlinewidth\":1,\"tickcolor\":\"rgb(36,36,36)\",\"ticks\":\"outside\"}},\"type\":\"scatterpolar\"}],\"scatter\":[{\"marker\":{\"colorbar\":{\"outlinewidth\":1,\"tickcolor\":\"rgb(36,36,36)\",\"ticks\":\"outside\"}},\"type\":\"scatter\"}],\"scatterternary\":[{\"marker\":{\"colorbar\":{\"outlinewidth\":1,\"tickcolor\":\"rgb(36,36,36)\",\"ticks\":\"outside\"}},\"type\":\"scatterternary\"}],\"surface\":[{\"colorbar\":{\"outlinewidth\":1,\"tickcolor\":\"rgb(36,36,36)\",\"ticks\":\"outside\"},\"colorscale\":[[0.0,\"#440154\"],[0.1111111111111111,\"#482878\"],[0.2222222222222222,\"#3e4989\"],[0.3333333333333333,\"#31688e\"],[0.4444444444444444,\"#26828e\"],[0.5555555555555556,\"#1f9e89\"],[0.6666666666666666,\"#35b779\"],[0.7777777777777778,\"#6ece58\"],[0.8888888888888888,\"#b5de2b\"],[1.0,\"#fde725\"]],\"type\":\"surface\"}],\"table\":[{\"cells\":{\"fill\":{\"color\":\"rgb(237,237,237)\"},\"line\":{\"color\":\"white\"}},\"header\":{\"fill\":{\"color\":\"rgb(217,217,217)\"},\"line\":{\"color\":\"white\"}},\"type\":\"table\"}]},\"layout\":{\"annotationdefaults\":{\"arrowhead\":0,\"arrowwidth\":1},\"autotypenumbers\":\"strict\",\"coloraxis\":{\"colorbar\":{\"outlinewidth\":1,\"tickcolor\":\"rgb(36,36,36)\",\"ticks\":\"outside\"}},\"colorscale\":{\"diverging\":[[0.0,\"rgb(103,0,31)\"],[0.1,\"rgb(178,24,43)\"],[0.2,\"rgb(214,96,77)\"],[0.3,\"rgb(244,165,130)\"],[0.4,\"rgb(253,219,199)\"],[0.5,\"rgb(247,247,247)\"],[0.6,\"rgb(209,229,240)\"],[0.7,\"rgb(146,197,222)\"],[0.8,\"rgb(67,147,195)\"],[0.9,\"rgb(33,102,172)\"],[1.0,\"rgb(5,48,97)\"]],\"sequential\":[[0.0,\"#440154\"],[0.1111111111111111,\"#482878\"],[0.2222222222222222,\"#3e4989\"],[0.3333333333333333,\"#31688e\"],[0.4444444444444444,\"#26828e\"],[0.5555555555555556,\"#1f9e89\"],[0.6666666666666666,\"#35b779\"],[0.7777777777777778,\"#6ece58\"],[0.8888888888888888,\"#b5de2b\"],[1.0,\"#fde725\"]],\"sequentialminus\":[[0.0,\"#440154\"],[0.1111111111111111,\"#482878\"],[0.2222222222222222,\"#3e4989\"],[0.3333333333333333,\"#31688e\"],[0.4444444444444444,\"#26828e\"],[0.5555555555555556,\"#1f9e89\"],[0.6666666666666666,\"#35b779\"],[0.7777777777777778,\"#6ece58\"],[0.8888888888888888,\"#b5de2b\"],[1.0,\"#fde725\"]]},\"colorway\":[\"#1F77B4\",\"#FF7F0E\",\"#2CA02C\",\"#D62728\",\"#9467BD\",\"#8C564B\",\"#E377C2\",\"#7F7F7F\",\"#BCBD22\",\"#17BECF\"],\"font\":{\"color\":\"rgb(36,36,36)\"},\"geo\":{\"bgcolor\":\"white\",\"lakecolor\":\"white\",\"landcolor\":\"white\",\"showlakes\":true,\"showland\":true,\"subunitcolor\":\"white\"},\"hoverlabel\":{\"align\":\"left\"},\"hovermode\":\"closest\",\"mapbox\":{\"style\":\"light\"},\"paper_bgcolor\":\"white\",\"plot_bgcolor\":\"white\",\"polar\":{\"angularaxis\":{\"gridcolor\":\"rgb(232,232,232)\",\"linecolor\":\"rgb(36,36,36)\",\"showgrid\":false,\"showline\":true,\"ticks\":\"outside\"},\"bgcolor\":\"white\",\"radialaxis\":{\"gridcolor\":\"rgb(232,232,232)\",\"linecolor\":\"rgb(36,36,36)\",\"showgrid\":false,\"showline\":true,\"ticks\":\"outside\"}},\"scene\":{\"xaxis\":{\"backgroundcolor\":\"white\",\"gridcolor\":\"rgb(232,232,232)\",\"gridwidth\":2,\"linecolor\":\"rgb(36,36,36)\",\"showbackground\":true,\"showgrid\":false,\"showline\":true,\"ticks\":\"outside\",\"zeroline\":false,\"zerolinecolor\":\"rgb(36,36,36)\"},\"yaxis\":{\"backgroundcolor\":\"white\",\"gridcolor\":\"rgb(232,232,232)\",\"gridwidth\":2,\"linecolor\":\"rgb(36,36,36)\",\"showbackground\":true,\"showgrid\":false,\"showline\":true,\"ticks\":\"outside\",\"zeroline\":false,\"zerolinecolor\":\"rgb(36,36,36)\"},\"zaxis\":{\"backgroundcolor\":\"white\",\"gridcolor\":\"rgb(232,232,232)\",\"gridwidth\":2,\"linecolor\":\"rgb(36,36,36)\",\"showbackground\":true,\"showgrid\":false,\"showline\":true,\"ticks\":\"outside\",\"zeroline\":false,\"zerolinecolor\":\"rgb(36,36,36)\"}},\"shapedefaults\":{\"fillcolor\":\"black\",\"line\":{\"width\":0},\"opacity\":0.3},\"ternary\":{\"aaxis\":{\"gridcolor\":\"rgb(232,232,232)\",\"linecolor\":\"rgb(36,36,36)\",\"showgrid\":false,\"showline\":true,\"ticks\":\"outside\"},\"baxis\":{\"gridcolor\":\"rgb(232,232,232)\",\"linecolor\":\"rgb(36,36,36)\",\"showgrid\":false,\"showline\":true,\"ticks\":\"outside\"},\"bgcolor\":\"white\",\"caxis\":{\"gridcolor\":\"rgb(232,232,232)\",\"linecolor\":\"rgb(36,36,36)\",\"showgrid\":false,\"showline\":true,\"ticks\":\"outside\"}},\"title\":{\"x\":0.05},\"xaxis\":{\"automargin\":true,\"gridcolor\":\"rgb(232,232,232)\",\"linecolor\":\"rgb(36,36,36)\",\"showgrid\":false,\"showline\":true,\"ticks\":\"outside\",\"title\":{\"standoff\":15},\"zeroline\":false,\"zerolinecolor\":\"rgb(36,36,36)\"},\"yaxis\":{\"automargin\":true,\"gridcolor\":\"rgb(232,232,232)\",\"linecolor\":\"rgb(36,36,36)\",\"showgrid\":false,\"showline\":true,\"ticks\":\"outside\",\"title\":{\"standoff\":15},\"zeroline\":false,\"zerolinecolor\":\"rgb(36,36,36)\"}}},\"xaxis\":{\"anchor\":\"y\",\"domain\":[0.0,1.0],\"title\":{\"text\":\"\"},\"visible\":false,\"range\":[-10.034068489074707,18.97872886657715]},\"yaxis\":{\"anchor\":\"x\",\"domain\":[0.0,1.0],\"title\":{\"text\":\"\"},\"visible\":false,\"range\":[-17.427580690383913,29.64721794128418]},\"legend\":{\"tracegroupgap\":0,\"itemsizing\":\"constant\"},\"margin\":{\"t\":60},\"title\":{\"font\":{\"size\":22,\"color\":\"Black\"},\"text\":\"<b>Intertopic Distance Map\",\"y\":0.95,\"x\":0.5,\"xanchor\":\"center\",\"yanchor\":\"top\"},\"hoverlabel\":{\"font\":{\"size\":16,\"family\":\"Rockwell\"},\"bgcolor\":\"white\"},\"width\":650,\"height\":650,\"sliders\":[{\"active\":0,\"pad\":{\"t\":50},\"steps\":[{\"args\":[{\"marker.color\":[[\"red\",\"#B0BEC5\",\"#B0BEC5\",\"#B0BEC5\",\"#B0BEC5\",\"#B0BEC5\",\"#B0BEC5\",\"#B0BEC5\",\"#B0BEC5\",\"#B0BEC5\",\"#B0BEC5\",\"#B0BEC5\",\"#B0BEC5\",\"#B0BEC5\",\"#B0BEC5\",\"#B0BEC5\",\"#B0BEC5\",\"#B0BEC5\",\"#B0BEC5\",\"#B0BEC5\",\"#B0BEC5\",\"#B0BEC5\"]]}],\"label\":\"Topic 0\",\"method\":\"update\"},{\"args\":[{\"marker.color\":[[\"#B0BEC5\",\"red\",\"#B0BEC5\",\"#B0BEC5\",\"#B0BEC5\",\"#B0BEC5\",\"#B0BEC5\",\"#B0BEC5\",\"#B0BEC5\",\"#B0BEC5\",\"#B0BEC5\",\"#B0BEC5\",\"#B0BEC5\",\"#B0BEC5\",\"#B0BEC5\",\"#B0BEC5\",\"#B0BEC5\",\"#B0BEC5\",\"#B0BEC5\",\"#B0BEC5\",\"#B0BEC5\",\"#B0BEC5\"]]}],\"label\":\"Topic 1\",\"method\":\"update\"},{\"args\":[{\"marker.color\":[[\"#B0BEC5\",\"#B0BEC5\",\"red\",\"#B0BEC5\",\"#B0BEC5\",\"#B0BEC5\",\"#B0BEC5\",\"#B0BEC5\",\"#B0BEC5\",\"#B0BEC5\",\"#B0BEC5\",\"#B0BEC5\",\"#B0BEC5\",\"#B0BEC5\",\"#B0BEC5\",\"#B0BEC5\",\"#B0BEC5\",\"#B0BEC5\",\"#B0BEC5\",\"#B0BEC5\",\"#B0BEC5\",\"#B0BEC5\"]]}],\"label\":\"Topic 2\",\"method\":\"update\"},{\"args\":[{\"marker.color\":[[\"#B0BEC5\",\"#B0BEC5\",\"#B0BEC5\",\"red\",\"#B0BEC5\",\"#B0BEC5\",\"#B0BEC5\",\"#B0BEC5\",\"#B0BEC5\",\"#B0BEC5\",\"#B0BEC5\",\"#B0BEC5\",\"#B0BEC5\",\"#B0BEC5\",\"#B0BEC5\",\"#B0BEC5\",\"#B0BEC5\",\"#B0BEC5\",\"#B0BEC5\",\"#B0BEC5\",\"#B0BEC5\",\"#B0BEC5\"]]}],\"label\":\"Topic 3\",\"method\":\"update\"},{\"args\":[{\"marker.color\":[[\"#B0BEC5\",\"#B0BEC5\",\"#B0BEC5\",\"#B0BEC5\",\"red\",\"#B0BEC5\",\"#B0BEC5\",\"#B0BEC5\",\"#B0BEC5\",\"#B0BEC5\",\"#B0BEC5\",\"#B0BEC5\",\"#B0BEC5\",\"#B0BEC5\",\"#B0BEC5\",\"#B0BEC5\",\"#B0BEC5\",\"#B0BEC5\",\"#B0BEC5\",\"#B0BEC5\",\"#B0BEC5\",\"#B0BEC5\"]]}],\"label\":\"Topic 4\",\"method\":\"update\"},{\"args\":[{\"marker.color\":[[\"#B0BEC5\",\"#B0BEC5\",\"#B0BEC5\",\"#B0BEC5\",\"#B0BEC5\",\"red\",\"#B0BEC5\",\"#B0BEC5\",\"#B0BEC5\",\"#B0BEC5\",\"#B0BEC5\",\"#B0BEC5\",\"#B0BEC5\",\"#B0BEC5\",\"#B0BEC5\",\"#B0BEC5\",\"#B0BEC5\",\"#B0BEC5\",\"#B0BEC5\",\"#B0BEC5\",\"#B0BEC5\",\"#B0BEC5\"]]}],\"label\":\"Topic 5\",\"method\":\"update\"},{\"args\":[{\"marker.color\":[[\"#B0BEC5\",\"#B0BEC5\",\"#B0BEC5\",\"#B0BEC5\",\"#B0BEC5\",\"#B0BEC5\",\"red\",\"#B0BEC5\",\"#B0BEC5\",\"#B0BEC5\",\"#B0BEC5\",\"#B0BEC5\",\"#B0BEC5\",\"#B0BEC5\",\"#B0BEC5\",\"#B0BEC5\",\"#B0BEC5\",\"#B0BEC5\",\"#B0BEC5\",\"#B0BEC5\",\"#B0BEC5\",\"#B0BEC5\"]]}],\"label\":\"Topic 6\",\"method\":\"update\"},{\"args\":[{\"marker.color\":[[\"#B0BEC5\",\"#B0BEC5\",\"#B0BEC5\",\"#B0BEC5\",\"#B0BEC5\",\"#B0BEC5\",\"#B0BEC5\",\"red\",\"#B0BEC5\",\"#B0BEC5\",\"#B0BEC5\",\"#B0BEC5\",\"#B0BEC5\",\"#B0BEC5\",\"#B0BEC5\",\"#B0BEC5\",\"#B0BEC5\",\"#B0BEC5\",\"#B0BEC5\",\"#B0BEC5\",\"#B0BEC5\",\"#B0BEC5\"]]}],\"label\":\"Topic 7\",\"method\":\"update\"},{\"args\":[{\"marker.color\":[[\"#B0BEC5\",\"#B0BEC5\",\"#B0BEC5\",\"#B0BEC5\",\"#B0BEC5\",\"#B0BEC5\",\"#B0BEC5\",\"#B0BEC5\",\"red\",\"#B0BEC5\",\"#B0BEC5\",\"#B0BEC5\",\"#B0BEC5\",\"#B0BEC5\",\"#B0BEC5\",\"#B0BEC5\",\"#B0BEC5\",\"#B0BEC5\",\"#B0BEC5\",\"#B0BEC5\",\"#B0BEC5\",\"#B0BEC5\"]]}],\"label\":\"Topic 8\",\"method\":\"update\"},{\"args\":[{\"marker.color\":[[\"#B0BEC5\",\"#B0BEC5\",\"#B0BEC5\",\"#B0BEC5\",\"#B0BEC5\",\"#B0BEC5\",\"#B0BEC5\",\"#B0BEC5\",\"#B0BEC5\",\"red\",\"#B0BEC5\",\"#B0BEC5\",\"#B0BEC5\",\"#B0BEC5\",\"#B0BEC5\",\"#B0BEC5\",\"#B0BEC5\",\"#B0BEC5\",\"#B0BEC5\",\"#B0BEC5\",\"#B0BEC5\",\"#B0BEC5\"]]}],\"label\":\"Topic 9\",\"method\":\"update\"},{\"args\":[{\"marker.color\":[[\"#B0BEC5\",\"#B0BEC5\",\"#B0BEC5\",\"#B0BEC5\",\"#B0BEC5\",\"#B0BEC5\",\"#B0BEC5\",\"#B0BEC5\",\"#B0BEC5\",\"#B0BEC5\",\"red\",\"#B0BEC5\",\"#B0BEC5\",\"#B0BEC5\",\"#B0BEC5\",\"#B0BEC5\",\"#B0BEC5\",\"#B0BEC5\",\"#B0BEC5\",\"#B0BEC5\",\"#B0BEC5\",\"#B0BEC5\"]]}],\"label\":\"Topic 10\",\"method\":\"update\"},{\"args\":[{\"marker.color\":[[\"#B0BEC5\",\"#B0BEC5\",\"#B0BEC5\",\"#B0BEC5\",\"#B0BEC5\",\"#B0BEC5\",\"#B0BEC5\",\"#B0BEC5\",\"#B0BEC5\",\"#B0BEC5\",\"#B0BEC5\",\"red\",\"#B0BEC5\",\"#B0BEC5\",\"#B0BEC5\",\"#B0BEC5\",\"#B0BEC5\",\"#B0BEC5\",\"#B0BEC5\",\"#B0BEC5\",\"#B0BEC5\",\"#B0BEC5\"]]}],\"label\":\"Topic 11\",\"method\":\"update\"},{\"args\":[{\"marker.color\":[[\"#B0BEC5\",\"#B0BEC5\",\"#B0BEC5\",\"#B0BEC5\",\"#B0BEC5\",\"#B0BEC5\",\"#B0BEC5\",\"#B0BEC5\",\"#B0BEC5\",\"#B0BEC5\",\"#B0BEC5\",\"#B0BEC5\",\"red\",\"#B0BEC5\",\"#B0BEC5\",\"#B0BEC5\",\"#B0BEC5\",\"#B0BEC5\",\"#B0BEC5\",\"#B0BEC5\",\"#B0BEC5\",\"#B0BEC5\"]]}],\"label\":\"Topic 12\",\"method\":\"update\"},{\"args\":[{\"marker.color\":[[\"#B0BEC5\",\"#B0BEC5\",\"#B0BEC5\",\"#B0BEC5\",\"#B0BEC5\",\"#B0BEC5\",\"#B0BEC5\",\"#B0BEC5\",\"#B0BEC5\",\"#B0BEC5\",\"#B0BEC5\",\"#B0BEC5\",\"#B0BEC5\",\"red\",\"#B0BEC5\",\"#B0BEC5\",\"#B0BEC5\",\"#B0BEC5\",\"#B0BEC5\",\"#B0BEC5\",\"#B0BEC5\",\"#B0BEC5\"]]}],\"label\":\"Topic 13\",\"method\":\"update\"},{\"args\":[{\"marker.color\":[[\"#B0BEC5\",\"#B0BEC5\",\"#B0BEC5\",\"#B0BEC5\",\"#B0BEC5\",\"#B0BEC5\",\"#B0BEC5\",\"#B0BEC5\",\"#B0BEC5\",\"#B0BEC5\",\"#B0BEC5\",\"#B0BEC5\",\"#B0BEC5\",\"#B0BEC5\",\"red\",\"#B0BEC5\",\"#B0BEC5\",\"#B0BEC5\",\"#B0BEC5\",\"#B0BEC5\",\"#B0BEC5\",\"#B0BEC5\"]]}],\"label\":\"Topic 14\",\"method\":\"update\"},{\"args\":[{\"marker.color\":[[\"#B0BEC5\",\"#B0BEC5\",\"#B0BEC5\",\"#B0BEC5\",\"#B0BEC5\",\"#B0BEC5\",\"#B0BEC5\",\"#B0BEC5\",\"#B0BEC5\",\"#B0BEC5\",\"#B0BEC5\",\"#B0BEC5\",\"#B0BEC5\",\"#B0BEC5\",\"#B0BEC5\",\"red\",\"#B0BEC5\",\"#B0BEC5\",\"#B0BEC5\",\"#B0BEC5\",\"#B0BEC5\",\"#B0BEC5\"]]}],\"label\":\"Topic 15\",\"method\":\"update\"},{\"args\":[{\"marker.color\":[[\"#B0BEC5\",\"#B0BEC5\",\"#B0BEC5\",\"#B0BEC5\",\"#B0BEC5\",\"#B0BEC5\",\"#B0BEC5\",\"#B0BEC5\",\"#B0BEC5\",\"#B0BEC5\",\"#B0BEC5\",\"#B0BEC5\",\"#B0BEC5\",\"#B0BEC5\",\"#B0BEC5\",\"#B0BEC5\",\"red\",\"#B0BEC5\",\"#B0BEC5\",\"#B0BEC5\",\"#B0BEC5\",\"#B0BEC5\"]]}],\"label\":\"Topic 16\",\"method\":\"update\"},{\"args\":[{\"marker.color\":[[\"#B0BEC5\",\"#B0BEC5\",\"#B0BEC5\",\"#B0BEC5\",\"#B0BEC5\",\"#B0BEC5\",\"#B0BEC5\",\"#B0BEC5\",\"#B0BEC5\",\"#B0BEC5\",\"#B0BEC5\",\"#B0BEC5\",\"#B0BEC5\",\"#B0BEC5\",\"#B0BEC5\",\"#B0BEC5\",\"#B0BEC5\",\"red\",\"#B0BEC5\",\"#B0BEC5\",\"#B0BEC5\",\"#B0BEC5\"]]}],\"label\":\"Topic 17\",\"method\":\"update\"},{\"args\":[{\"marker.color\":[[\"#B0BEC5\",\"#B0BEC5\",\"#B0BEC5\",\"#B0BEC5\",\"#B0BEC5\",\"#B0BEC5\",\"#B0BEC5\",\"#B0BEC5\",\"#B0BEC5\",\"#B0BEC5\",\"#B0BEC5\",\"#B0BEC5\",\"#B0BEC5\",\"#B0BEC5\",\"#B0BEC5\",\"#B0BEC5\",\"#B0BEC5\",\"#B0BEC5\",\"red\",\"#B0BEC5\",\"#B0BEC5\",\"#B0BEC5\"]]}],\"label\":\"Topic 18\",\"method\":\"update\"},{\"args\":[{\"marker.color\":[[\"#B0BEC5\",\"#B0BEC5\",\"#B0BEC5\",\"#B0BEC5\",\"#B0BEC5\",\"#B0BEC5\",\"#B0BEC5\",\"#B0BEC5\",\"#B0BEC5\",\"#B0BEC5\",\"#B0BEC5\",\"#B0BEC5\",\"#B0BEC5\",\"#B0BEC5\",\"#B0BEC5\",\"#B0BEC5\",\"#B0BEC5\",\"#B0BEC5\",\"#B0BEC5\",\"red\",\"#B0BEC5\",\"#B0BEC5\"]]}],\"label\":\"Topic 19\",\"method\":\"update\"},{\"args\":[{\"marker.color\":[[\"#B0BEC5\",\"#B0BEC5\",\"#B0BEC5\",\"#B0BEC5\",\"#B0BEC5\",\"#B0BEC5\",\"#B0BEC5\",\"#B0BEC5\",\"#B0BEC5\",\"#B0BEC5\",\"#B0BEC5\",\"#B0BEC5\",\"#B0BEC5\",\"#B0BEC5\",\"#B0BEC5\",\"#B0BEC5\",\"#B0BEC5\",\"#B0BEC5\",\"#B0BEC5\",\"#B0BEC5\",\"red\",\"#B0BEC5\"]]}],\"label\":\"Topic 20\",\"method\":\"update\"},{\"args\":[{\"marker.color\":[[\"#B0BEC5\",\"#B0BEC5\",\"#B0BEC5\",\"#B0BEC5\",\"#B0BEC5\",\"#B0BEC5\",\"#B0BEC5\",\"#B0BEC5\",\"#B0BEC5\",\"#B0BEC5\",\"#B0BEC5\",\"#B0BEC5\",\"#B0BEC5\",\"#B0BEC5\",\"#B0BEC5\",\"#B0BEC5\",\"#B0BEC5\",\"#B0BEC5\",\"#B0BEC5\",\"#B0BEC5\",\"#B0BEC5\",\"red\"]]}],\"label\":\"Topic 21\",\"method\":\"update\"}]}],\"shapes\":[{\"line\":{\"color\":\"#CFD8DC\",\"width\":2},\"type\":\"line\",\"x0\":4.472330188751221,\"x1\":4.472330188751221,\"y0\":-17.427580690383913,\"y1\":29.64721794128418},{\"line\":{\"color\":\"#9E9E9E\",\"width\":2},\"type\":\"line\",\"x0\":-10.034068489074707,\"x1\":18.97872886657715,\"y0\":6.109818625450133,\"y1\":6.109818625450133}],\"annotations\":[{\"showarrow\":false,\"text\":\"D1\",\"x\":-10.034068489074707,\"y\":6.109818625450133,\"yshift\":10},{\"showarrow\":false,\"text\":\"D2\",\"x\":4.472330188751221,\"xshift\":10,\"y\":29.64721794128418}]},                        {\"responsive\": true}                    ).then(function(){\n",
              "                            \n",
              "var gd = document.getElementById('dca3a468-c501-4255-8655-f2bc0e5c79db');\n",
              "var x = new MutationObserver(function (mutations, observer) {{\n",
              "        var display = window.getComputedStyle(gd).display;\n",
              "        if (!display || display === 'none') {{\n",
              "            console.log([gd, 'removed!']);\n",
              "            Plotly.purge(gd);\n",
              "            observer.disconnect();\n",
              "        }}\n",
              "}});\n",
              "\n",
              "// Listen for the removal of the full notebook cells\n",
              "var notebookContainer = gd.closest('#notebook-container');\n",
              "if (notebookContainer) {{\n",
              "    x.observe(notebookContainer, {childList: true});\n",
              "}}\n",
              "\n",
              "// Listen for the clearing of the current output cell\n",
              "var outputEl = gd.closest('.output');\n",
              "if (outputEl) {{\n",
              "    x.observe(outputEl, {childList: true});\n",
              "}}\n",
              "\n",
              "                        })                };                            </script>        </div>\n",
              "</body>\n",
              "</html>"
            ]
          },
          "metadata": {}
        }
      ],
      "source": [
        "model.visualize_topics()"
      ]
    },
    {
      "cell_type": "code",
      "execution_count": 61,
      "metadata": {
        "colab": {
          "base_uri": "https://localhost:8080/",
          "height": 1000
        },
        "id": "R8kPrW5hDMDg",
        "outputId": "946502ae-5cfb-4189-f923-3951d3a4e4e3"
      },
      "outputs": [
        {
          "output_type": "display_data",
          "data": {
            "text/html": [
              "<html>\n",
              "<head><meta charset=\"utf-8\" /></head>\n",
              "<body>\n",
              "    <div>            <script src=\"https://cdnjs.cloudflare.com/ajax/libs/mathjax/2.7.5/MathJax.js?config=TeX-AMS-MML_SVG\"></script><script type=\"text/javascript\">if (window.MathJax) {MathJax.Hub.Config({SVG: {font: \"STIX-Web\"}});}</script>                <script type=\"text/javascript\">window.PlotlyConfig = {MathJaxConfig: 'local'};</script>\n",
              "        <script src=\"https://cdn.plot.ly/plotly-2.8.3.min.js\"></script>                <div id=\"bc2ceeff-6d37-403c-a796-64309331508b\" class=\"plotly-graph-div\" style=\"height:1250px; width:1000px;\"></div>            <script type=\"text/javascript\">                                    window.PLOTLYENV=window.PLOTLYENV || {};                                    if (document.getElementById(\"bc2ceeff-6d37-403c-a796-64309331508b\")) {                    Plotly.newPlot(                        \"bc2ceeff-6d37-403c-a796-64309331508b\",                        [{\"marker\":{\"color\":\"#D55E00\"},\"orientation\":\"h\",\"x\":[0.009094053916412105,0.009170306954884,0.009337697968353134,0.010972659640450926,0.01657711351214658],\"y\":[\"one  \",\"time  \",\"say  \",\"democracy  \",\"people  \"],\"type\":\"bar\",\"xaxis\":\"x\",\"yaxis\":\"y\"},{\"marker\":{\"color\":\"#0072B2\"},\"orientation\":\"h\",\"x\":[0.015291730116139686,0.01780440407794082,0.018718155968662244,0.02026042532020739,0.03552541743634113],\"y\":[\"tributes  \",\"indian  \",\"great  \",\"savarkar  \",\"india  \"],\"type\":\"bar\",\"xaxis\":\"x2\",\"yaxis\":\"y2\"},{\"marker\":{\"color\":\"#CC79A7\"},\"orientation\":\"h\",\"x\":[0.01574778292477397,0.020169211887549637,0.02518767634918772,0.05821156600783466,0.06873229034991302],\"y\":[\"anti  \",\"hindus  \",\"hindu  \",\"muslim  \",\"muslims  \"],\"type\":\"bar\",\"xaxis\":\"x3\",\"yaxis\":\"y3\"},{\"marker\":{\"color\":\"#E69F00\"},\"orientation\":\"h\",\"x\":[0.019608321164543703,0.025440939817458468,0.027223628572796553,0.038415428769578444,0.03844304352356324],\"y\":[\"seats  \",\"election  \",\"elections  \",\"vote  \",\"bjp  \"],\"type\":\"bar\",\"xaxis\":\"x4\",\"yaxis\":\"y4\"},{\"marker\":{\"color\":\"#56B4E9\"},\"orientation\":\"h\",\"x\":[0.03547242303447779,0.035748227186150214,0.037155071880692295,0.05136560486955532,0.06315992013585182],\"y\":[\"india  \",\"thank  \",\"people  \",\"narendramodi  \",\"congratulations  \"],\"type\":\"bar\",\"xaxis\":\"x5\",\"yaxis\":\"y5\"},{\"marker\":{\"color\":\"#009E73\"},\"orientation\":\"h\",\"x\":[0.022708404942094904,0.023138419714294492,0.024178572381522743,0.030826322596254955,0.03467961292078682],\"y\":[\"police  \",\"jail  \",\"murder  \",\"case  \",\"accused  \"],\"type\":\"bar\",\"xaxis\":\"x6\",\"yaxis\":\"y6\"},{\"marker\":{\"color\":\"#F0E442\"},\"orientation\":\"h\",\"x\":[0.03277043572012728,0.04046624718312132,0.054845779397241404,0.07728433944959259,0.1044758980362244],\"y\":[\"ji  \",\"sonia  \",\"congress  \",\"gandhi  \",\"rahul  \"],\"type\":\"bar\",\"xaxis\":\"x7\",\"yaxis\":\"y7\"},{\"marker\":{\"color\":\"#D55E00\"},\"orientation\":\"h\",\"x\":[0.03409968159955031,0.03749056976756899,0.03763318557985771,0.055464035215636955,0.07272240782049015],\"y\":[\"rally  \",\"3d  \",\"aap  \",\"addressed  \",\"rallies  \"],\"type\":\"bar\",\"xaxis\":\"x8\",\"yaxis\":\"y8\"},{\"marker\":{\"color\":\"#0072B2\"},\"orientation\":\"h\",\"x\":[0.03323067616382125,0.04377002856957608,0.04791048986614883,0.05747796921574701,0.07098278353759915],\"y\":[\"boycott  \",\"students  \",\"kashmir  \",\"kashmiris  \",\"kashmiri  \"],\"type\":\"bar\",\"xaxis\":\"x9\",\"yaxis\":\"y9\"},{\"marker\":{\"color\":\"#CC79A7\"},\"orientation\":\"h\",\"x\":[0.019691770787386726,0.022551763053049196,0.023657182353169465,0.03587978837578265,0.13102976659599525],\"y\":[\"pakistani  \",\"prince  \",\"terror  \",\"indian  \",\"pakistan  \"],\"type\":\"bar\",\"xaxis\":\"x10\",\"yaxis\":\"y10\"},{\"marker\":{\"color\":\"#E69F00\"},\"orientation\":\"h\",\"x\":[0.032842520794147984,0.034609620509414206,0.03813990912056678,0.04393121049610964,0.07339929243673741],\"y\":[\"2014  \",\"water  \",\"mp  \",\"seemandhra  \",\"nda  \"],\"type\":\"bar\",\"xaxis\":\"x11\",\"yaxis\":\"y11\"},{\"marker\":{\"color\":\"#56B4E9\"},\"orientation\":\"h\",\"x\":[0.0263183587896711,0.027631766506391226,0.029439025921067,0.03926618551996064,0.05052916904085462],\"y\":[\"gujarat  \",\"years  \",\"employment  \",\"govt  \",\"data  \"],\"type\":\"bar\",\"xaxis\":\"x12\",\"yaxis\":\"y12\"},{\"marker\":{\"color\":\"#009E73\"},\"orientation\":\"h\",\"x\":[0.021931305112706138,0.021931305112706138,0.031013044694658355,0.049165735389495674,0.050483185872800936],\"y\":[\"bot  \",\"drrakeshparikh  \",\"jp  \",\"jaitley  \",\"rahul  \"],\"type\":\"bar\",\"xaxis\":\"x13\",\"yaxis\":\"y13\"},{\"marker\":{\"color\":\"#F0E442\"},\"orientation\":\"h\",\"x\":[0.01935115157003483,0.020786937519107505,0.025845318320609476,0.026144252770485377,0.07088802280083532],\"y\":[\"targetting  \",\"never  \",\"congress  \",\"nationalism  \",\"bjp  \"],\"type\":\"bar\",\"xaxis\":\"x14\",\"yaxis\":\"y14\"},{\"marker\":{\"color\":\"#D55E00\"},\"orientation\":\"h\",\"x\":[0.02523518764334262,0.028015292508203535,0.03004801985517358,0.03105688572303794,0.07637736513215386],\"y\":[\"amit  \",\"party  \",\"tough  \",\"personal  \",\"modi  \"],\"type\":\"bar\",\"xaxis\":\"x15\",\"yaxis\":\"y15\"},{\"marker\":{\"color\":\"#0072B2\"},\"orientation\":\"h\",\"x\":[0.02721219780537807,0.028464527354344564,0.030821901121809926,0.03304233372753908,0.05443949923036554],\"y\":[\"aap  \",\"gurugram  \",\"disgrace  \",\"media  \",\"bjp  \"],\"type\":\"bar\",\"xaxis\":\"x16\",\"yaxis\":\"y16\"},{\"marker\":{\"color\":\"#CC79A7\"},\"orientation\":\"h\",\"x\":[0.02990046910023115,0.02990046910023115,0.0317167977526804,0.03955226701947433,0.0926379316571928],\"y\":[\"believed  \",\"baat  \",\"mann  \",\"caste  \",\"modi  \"],\"type\":\"bar\",\"xaxis\":\"x17\",\"yaxis\":\"y17\"},{\"marker\":{\"color\":\"#E69F00\"},\"orientation\":\"h\",\"x\":[0.030097216590841403,0.030664740245022127,0.031164133778122834,0.039147044329802407,0.04328530073279949],\"y\":[\"lingering  \",\"day  \",\"talk  \",\"minister  \",\"prime  \"],\"type\":\"bar\",\"xaxis\":\"x18\",\"yaxis\":\"y18\"},{\"marker\":{\"color\":\"#56B4E9\"},\"orientation\":\"h\",\"x\":[0.03809281299083954,0.039807788712546546,0.042225945664762565,0.042225945664762565,0.048956359849432286],\"y\":[\"reject  \",\"restore  \",\"toward  \",\"ministries  \",\"tax  \"],\"type\":\"bar\",\"xaxis\":\"x19\",\"yaxis\":\"y19\"},{\"marker\":{\"color\":\"#009E73\"},\"orientation\":\"h\",\"x\":[0.022263120565447568,0.022263120565447568,0.022263120565447568,0.022263120565447568,0.03339468084817135],\"y\":[\"band  \",\"managed  \",\"lineage  \",\"danger  \",\"referee  \"],\"type\":\"bar\",\"xaxis\":\"x20\",\"yaxis\":\"y20\"}],                        {\"template\":{\"data\":{\"barpolar\":[{\"marker\":{\"line\":{\"color\":\"white\",\"width\":0.5},\"pattern\":{\"fillmode\":\"overlay\",\"size\":10,\"solidity\":0.2}},\"type\":\"barpolar\"}],\"bar\":[{\"error_x\":{\"color\":\"#2a3f5f\"},\"error_y\":{\"color\":\"#2a3f5f\"},\"marker\":{\"line\":{\"color\":\"white\",\"width\":0.5},\"pattern\":{\"fillmode\":\"overlay\",\"size\":10,\"solidity\":0.2}},\"type\":\"bar\"}],\"carpet\":[{\"aaxis\":{\"endlinecolor\":\"#2a3f5f\",\"gridcolor\":\"#C8D4E3\",\"linecolor\":\"#C8D4E3\",\"minorgridcolor\":\"#C8D4E3\",\"startlinecolor\":\"#2a3f5f\"},\"baxis\":{\"endlinecolor\":\"#2a3f5f\",\"gridcolor\":\"#C8D4E3\",\"linecolor\":\"#C8D4E3\",\"minorgridcolor\":\"#C8D4E3\",\"startlinecolor\":\"#2a3f5f\"},\"type\":\"carpet\"}],\"choropleth\":[{\"colorbar\":{\"outlinewidth\":0,\"ticks\":\"\"},\"type\":\"choropleth\"}],\"contourcarpet\":[{\"colorbar\":{\"outlinewidth\":0,\"ticks\":\"\"},\"type\":\"contourcarpet\"}],\"contour\":[{\"colorbar\":{\"outlinewidth\":0,\"ticks\":\"\"},\"colorscale\":[[0.0,\"#0d0887\"],[0.1111111111111111,\"#46039f\"],[0.2222222222222222,\"#7201a8\"],[0.3333333333333333,\"#9c179e\"],[0.4444444444444444,\"#bd3786\"],[0.5555555555555556,\"#d8576b\"],[0.6666666666666666,\"#ed7953\"],[0.7777777777777778,\"#fb9f3a\"],[0.8888888888888888,\"#fdca26\"],[1.0,\"#f0f921\"]],\"type\":\"contour\"}],\"heatmapgl\":[{\"colorbar\":{\"outlinewidth\":0,\"ticks\":\"\"},\"colorscale\":[[0.0,\"#0d0887\"],[0.1111111111111111,\"#46039f\"],[0.2222222222222222,\"#7201a8\"],[0.3333333333333333,\"#9c179e\"],[0.4444444444444444,\"#bd3786\"],[0.5555555555555556,\"#d8576b\"],[0.6666666666666666,\"#ed7953\"],[0.7777777777777778,\"#fb9f3a\"],[0.8888888888888888,\"#fdca26\"],[1.0,\"#f0f921\"]],\"type\":\"heatmapgl\"}],\"heatmap\":[{\"colorbar\":{\"outlinewidth\":0,\"ticks\":\"\"},\"colorscale\":[[0.0,\"#0d0887\"],[0.1111111111111111,\"#46039f\"],[0.2222222222222222,\"#7201a8\"],[0.3333333333333333,\"#9c179e\"],[0.4444444444444444,\"#bd3786\"],[0.5555555555555556,\"#d8576b\"],[0.6666666666666666,\"#ed7953\"],[0.7777777777777778,\"#fb9f3a\"],[0.8888888888888888,\"#fdca26\"],[1.0,\"#f0f921\"]],\"type\":\"heatmap\"}],\"histogram2dcontour\":[{\"colorbar\":{\"outlinewidth\":0,\"ticks\":\"\"},\"colorscale\":[[0.0,\"#0d0887\"],[0.1111111111111111,\"#46039f\"],[0.2222222222222222,\"#7201a8\"],[0.3333333333333333,\"#9c179e\"],[0.4444444444444444,\"#bd3786\"],[0.5555555555555556,\"#d8576b\"],[0.6666666666666666,\"#ed7953\"],[0.7777777777777778,\"#fb9f3a\"],[0.8888888888888888,\"#fdca26\"],[1.0,\"#f0f921\"]],\"type\":\"histogram2dcontour\"}],\"histogram2d\":[{\"colorbar\":{\"outlinewidth\":0,\"ticks\":\"\"},\"colorscale\":[[0.0,\"#0d0887\"],[0.1111111111111111,\"#46039f\"],[0.2222222222222222,\"#7201a8\"],[0.3333333333333333,\"#9c179e\"],[0.4444444444444444,\"#bd3786\"],[0.5555555555555556,\"#d8576b\"],[0.6666666666666666,\"#ed7953\"],[0.7777777777777778,\"#fb9f3a\"],[0.8888888888888888,\"#fdca26\"],[1.0,\"#f0f921\"]],\"type\":\"histogram2d\"}],\"histogram\":[{\"marker\":{\"pattern\":{\"fillmode\":\"overlay\",\"size\":10,\"solidity\":0.2}},\"type\":\"histogram\"}],\"mesh3d\":[{\"colorbar\":{\"outlinewidth\":0,\"ticks\":\"\"},\"type\":\"mesh3d\"}],\"parcoords\":[{\"line\":{\"colorbar\":{\"outlinewidth\":0,\"ticks\":\"\"}},\"type\":\"parcoords\"}],\"pie\":[{\"automargin\":true,\"type\":\"pie\"}],\"scatter3d\":[{\"line\":{\"colorbar\":{\"outlinewidth\":0,\"ticks\":\"\"}},\"marker\":{\"colorbar\":{\"outlinewidth\":0,\"ticks\":\"\"}},\"type\":\"scatter3d\"}],\"scattercarpet\":[{\"marker\":{\"colorbar\":{\"outlinewidth\":0,\"ticks\":\"\"}},\"type\":\"scattercarpet\"}],\"scattergeo\":[{\"marker\":{\"colorbar\":{\"outlinewidth\":0,\"ticks\":\"\"}},\"type\":\"scattergeo\"}],\"scattergl\":[{\"marker\":{\"colorbar\":{\"outlinewidth\":0,\"ticks\":\"\"}},\"type\":\"scattergl\"}],\"scattermapbox\":[{\"marker\":{\"colorbar\":{\"outlinewidth\":0,\"ticks\":\"\"}},\"type\":\"scattermapbox\"}],\"scatterpolargl\":[{\"marker\":{\"colorbar\":{\"outlinewidth\":0,\"ticks\":\"\"}},\"type\":\"scatterpolargl\"}],\"scatterpolar\":[{\"marker\":{\"colorbar\":{\"outlinewidth\":0,\"ticks\":\"\"}},\"type\":\"scatterpolar\"}],\"scatter\":[{\"marker\":{\"colorbar\":{\"outlinewidth\":0,\"ticks\":\"\"}},\"type\":\"scatter\"}],\"scatterternary\":[{\"marker\":{\"colorbar\":{\"outlinewidth\":0,\"ticks\":\"\"}},\"type\":\"scatterternary\"}],\"surface\":[{\"colorbar\":{\"outlinewidth\":0,\"ticks\":\"\"},\"colorscale\":[[0.0,\"#0d0887\"],[0.1111111111111111,\"#46039f\"],[0.2222222222222222,\"#7201a8\"],[0.3333333333333333,\"#9c179e\"],[0.4444444444444444,\"#bd3786\"],[0.5555555555555556,\"#d8576b\"],[0.6666666666666666,\"#ed7953\"],[0.7777777777777778,\"#fb9f3a\"],[0.8888888888888888,\"#fdca26\"],[1.0,\"#f0f921\"]],\"type\":\"surface\"}],\"table\":[{\"cells\":{\"fill\":{\"color\":\"#EBF0F8\"},\"line\":{\"color\":\"white\"}},\"header\":{\"fill\":{\"color\":\"#C8D4E3\"},\"line\":{\"color\":\"white\"}},\"type\":\"table\"}]},\"layout\":{\"annotationdefaults\":{\"arrowcolor\":\"#2a3f5f\",\"arrowhead\":0,\"arrowwidth\":1},\"autotypenumbers\":\"strict\",\"coloraxis\":{\"colorbar\":{\"outlinewidth\":0,\"ticks\":\"\"}},\"colorscale\":{\"diverging\":[[0,\"#8e0152\"],[0.1,\"#c51b7d\"],[0.2,\"#de77ae\"],[0.3,\"#f1b6da\"],[0.4,\"#fde0ef\"],[0.5,\"#f7f7f7\"],[0.6,\"#e6f5d0\"],[0.7,\"#b8e186\"],[0.8,\"#7fbc41\"],[0.9,\"#4d9221\"],[1,\"#276419\"]],\"sequential\":[[0.0,\"#0d0887\"],[0.1111111111111111,\"#46039f\"],[0.2222222222222222,\"#7201a8\"],[0.3333333333333333,\"#9c179e\"],[0.4444444444444444,\"#bd3786\"],[0.5555555555555556,\"#d8576b\"],[0.6666666666666666,\"#ed7953\"],[0.7777777777777778,\"#fb9f3a\"],[0.8888888888888888,\"#fdca26\"],[1.0,\"#f0f921\"]],\"sequentialminus\":[[0.0,\"#0d0887\"],[0.1111111111111111,\"#46039f\"],[0.2222222222222222,\"#7201a8\"],[0.3333333333333333,\"#9c179e\"],[0.4444444444444444,\"#bd3786\"],[0.5555555555555556,\"#d8576b\"],[0.6666666666666666,\"#ed7953\"],[0.7777777777777778,\"#fb9f3a\"],[0.8888888888888888,\"#fdca26\"],[1.0,\"#f0f921\"]]},\"colorway\":[\"#636efa\",\"#EF553B\",\"#00cc96\",\"#ab63fa\",\"#FFA15A\",\"#19d3f3\",\"#FF6692\",\"#B6E880\",\"#FF97FF\",\"#FECB52\"],\"font\":{\"color\":\"#2a3f5f\"},\"geo\":{\"bgcolor\":\"white\",\"lakecolor\":\"white\",\"landcolor\":\"white\",\"showlakes\":true,\"showland\":true,\"subunitcolor\":\"#C8D4E3\"},\"hoverlabel\":{\"align\":\"left\"},\"hovermode\":\"closest\",\"mapbox\":{\"style\":\"light\"},\"paper_bgcolor\":\"white\",\"plot_bgcolor\":\"white\",\"polar\":{\"angularaxis\":{\"gridcolor\":\"#EBF0F8\",\"linecolor\":\"#EBF0F8\",\"ticks\":\"\"},\"bgcolor\":\"white\",\"radialaxis\":{\"gridcolor\":\"#EBF0F8\",\"linecolor\":\"#EBF0F8\",\"ticks\":\"\"}},\"scene\":{\"xaxis\":{\"backgroundcolor\":\"white\",\"gridcolor\":\"#DFE8F3\",\"gridwidth\":2,\"linecolor\":\"#EBF0F8\",\"showbackground\":true,\"ticks\":\"\",\"zerolinecolor\":\"#EBF0F8\"},\"yaxis\":{\"backgroundcolor\":\"white\",\"gridcolor\":\"#DFE8F3\",\"gridwidth\":2,\"linecolor\":\"#EBF0F8\",\"showbackground\":true,\"ticks\":\"\",\"zerolinecolor\":\"#EBF0F8\"},\"zaxis\":{\"backgroundcolor\":\"white\",\"gridcolor\":\"#DFE8F3\",\"gridwidth\":2,\"linecolor\":\"#EBF0F8\",\"showbackground\":true,\"ticks\":\"\",\"zerolinecolor\":\"#EBF0F8\"}},\"shapedefaults\":{\"line\":{\"color\":\"#2a3f5f\"}},\"ternary\":{\"aaxis\":{\"gridcolor\":\"#DFE8F3\",\"linecolor\":\"#A2B1C6\",\"ticks\":\"\"},\"baxis\":{\"gridcolor\":\"#DFE8F3\",\"linecolor\":\"#A2B1C6\",\"ticks\":\"\"},\"bgcolor\":\"white\",\"caxis\":{\"gridcolor\":\"#DFE8F3\",\"linecolor\":\"#A2B1C6\",\"ticks\":\"\"}},\"title\":{\"x\":0.05},\"xaxis\":{\"automargin\":true,\"gridcolor\":\"#EBF0F8\",\"linecolor\":\"#EBF0F8\",\"ticks\":\"\",\"title\":{\"standoff\":15},\"zerolinecolor\":\"#EBF0F8\",\"zerolinewidth\":2},\"yaxis\":{\"automargin\":true,\"gridcolor\":\"#EBF0F8\",\"linecolor\":\"#EBF0F8\",\"ticks\":\"\",\"title\":{\"standoff\":15},\"zerolinecolor\":\"#EBF0F8\",\"zerolinewidth\":2}}},\"xaxis\":{\"anchor\":\"y\",\"domain\":[0.0,0.175],\"showgrid\":true},\"yaxis\":{\"anchor\":\"x\",\"domain\":[0.8639999999999999,0.9999999999999999],\"showgrid\":true},\"xaxis2\":{\"anchor\":\"y2\",\"domain\":[0.275,0.45],\"showgrid\":true},\"yaxis2\":{\"anchor\":\"x2\",\"domain\":[0.8639999999999999,0.9999999999999999],\"showgrid\":true},\"xaxis3\":{\"anchor\":\"y3\",\"domain\":[0.55,0.7250000000000001],\"showgrid\":true},\"yaxis3\":{\"anchor\":\"x3\",\"domain\":[0.8639999999999999,0.9999999999999999],\"showgrid\":true},\"xaxis4\":{\"anchor\":\"y4\",\"domain\":[0.825,1.0],\"showgrid\":true},\"yaxis4\":{\"anchor\":\"x4\",\"domain\":[0.8639999999999999,0.9999999999999999],\"showgrid\":true},\"xaxis5\":{\"anchor\":\"y5\",\"domain\":[0.0,0.175],\"showgrid\":true},\"yaxis5\":{\"anchor\":\"x5\",\"domain\":[0.6479999999999999,0.7839999999999999],\"showgrid\":true},\"xaxis6\":{\"anchor\":\"y6\",\"domain\":[0.275,0.45],\"showgrid\":true},\"yaxis6\":{\"anchor\":\"x6\",\"domain\":[0.6479999999999999,0.7839999999999999],\"showgrid\":true},\"xaxis7\":{\"anchor\":\"y7\",\"domain\":[0.55,0.7250000000000001],\"showgrid\":true},\"yaxis7\":{\"anchor\":\"x7\",\"domain\":[0.6479999999999999,0.7839999999999999],\"showgrid\":true},\"xaxis8\":{\"anchor\":\"y8\",\"domain\":[0.825,1.0],\"showgrid\":true},\"yaxis8\":{\"anchor\":\"x8\",\"domain\":[0.6479999999999999,0.7839999999999999],\"showgrid\":true},\"xaxis9\":{\"anchor\":\"y9\",\"domain\":[0.0,0.175],\"showgrid\":true},\"yaxis9\":{\"anchor\":\"x9\",\"domain\":[0.43199999999999994,0.568],\"showgrid\":true},\"xaxis10\":{\"anchor\":\"y10\",\"domain\":[0.275,0.45],\"showgrid\":true},\"yaxis10\":{\"anchor\":\"x10\",\"domain\":[0.43199999999999994,0.568],\"showgrid\":true},\"xaxis11\":{\"anchor\":\"y11\",\"domain\":[0.55,0.7250000000000001],\"showgrid\":true},\"yaxis11\":{\"anchor\":\"x11\",\"domain\":[0.43199999999999994,0.568],\"showgrid\":true},\"xaxis12\":{\"anchor\":\"y12\",\"domain\":[0.825,1.0],\"showgrid\":true},\"yaxis12\":{\"anchor\":\"x12\",\"domain\":[0.43199999999999994,0.568],\"showgrid\":true},\"xaxis13\":{\"anchor\":\"y13\",\"domain\":[0.0,0.175],\"showgrid\":true},\"yaxis13\":{\"anchor\":\"x13\",\"domain\":[0.21599999999999997,0.352],\"showgrid\":true},\"xaxis14\":{\"anchor\":\"y14\",\"domain\":[0.275,0.45],\"showgrid\":true},\"yaxis14\":{\"anchor\":\"x14\",\"domain\":[0.21599999999999997,0.352],\"showgrid\":true},\"xaxis15\":{\"anchor\":\"y15\",\"domain\":[0.55,0.7250000000000001],\"showgrid\":true},\"yaxis15\":{\"anchor\":\"x15\",\"domain\":[0.21599999999999997,0.352],\"showgrid\":true},\"xaxis16\":{\"anchor\":\"y16\",\"domain\":[0.825,1.0],\"showgrid\":true},\"yaxis16\":{\"anchor\":\"x16\",\"domain\":[0.21599999999999997,0.352],\"showgrid\":true},\"xaxis17\":{\"anchor\":\"y17\",\"domain\":[0.0,0.175],\"showgrid\":true},\"yaxis17\":{\"anchor\":\"x17\",\"domain\":[0.0,0.13599999999999998],\"showgrid\":true},\"xaxis18\":{\"anchor\":\"y18\",\"domain\":[0.275,0.45],\"showgrid\":true},\"yaxis18\":{\"anchor\":\"x18\",\"domain\":[0.0,0.13599999999999998],\"showgrid\":true},\"xaxis19\":{\"anchor\":\"y19\",\"domain\":[0.55,0.7250000000000001],\"showgrid\":true},\"yaxis19\":{\"anchor\":\"x19\",\"domain\":[0.0,0.13599999999999998],\"showgrid\":true},\"xaxis20\":{\"anchor\":\"y20\",\"domain\":[0.825,1.0],\"showgrid\":true},\"yaxis20\":{\"anchor\":\"x20\",\"domain\":[0.0,0.13599999999999998],\"showgrid\":true},\"annotations\":[{\"font\":{\"size\":16},\"showarrow\":false,\"text\":\"Topic 0\",\"x\":0.0875,\"xanchor\":\"center\",\"xref\":\"paper\",\"y\":0.9999999999999999,\"yanchor\":\"bottom\",\"yref\":\"paper\"},{\"font\":{\"size\":16},\"showarrow\":false,\"text\":\"Topic 1\",\"x\":0.36250000000000004,\"xanchor\":\"center\",\"xref\":\"paper\",\"y\":0.9999999999999999,\"yanchor\":\"bottom\",\"yref\":\"paper\"},{\"font\":{\"size\":16},\"showarrow\":false,\"text\":\"Topic 2\",\"x\":0.6375000000000001,\"xanchor\":\"center\",\"xref\":\"paper\",\"y\":0.9999999999999999,\"yanchor\":\"bottom\",\"yref\":\"paper\"},{\"font\":{\"size\":16},\"showarrow\":false,\"text\":\"Topic 3\",\"x\":0.9125,\"xanchor\":\"center\",\"xref\":\"paper\",\"y\":0.9999999999999999,\"yanchor\":\"bottom\",\"yref\":\"paper\"},{\"font\":{\"size\":16},\"showarrow\":false,\"text\":\"Topic 4\",\"x\":0.0875,\"xanchor\":\"center\",\"xref\":\"paper\",\"y\":0.7839999999999999,\"yanchor\":\"bottom\",\"yref\":\"paper\"},{\"font\":{\"size\":16},\"showarrow\":false,\"text\":\"Topic 5\",\"x\":0.36250000000000004,\"xanchor\":\"center\",\"xref\":\"paper\",\"y\":0.7839999999999999,\"yanchor\":\"bottom\",\"yref\":\"paper\"},{\"font\":{\"size\":16},\"showarrow\":false,\"text\":\"Topic 6\",\"x\":0.6375000000000001,\"xanchor\":\"center\",\"xref\":\"paper\",\"y\":0.7839999999999999,\"yanchor\":\"bottom\",\"yref\":\"paper\"},{\"font\":{\"size\":16},\"showarrow\":false,\"text\":\"Topic 7\",\"x\":0.9125,\"xanchor\":\"center\",\"xref\":\"paper\",\"y\":0.7839999999999999,\"yanchor\":\"bottom\",\"yref\":\"paper\"},{\"font\":{\"size\":16},\"showarrow\":false,\"text\":\"Topic 8\",\"x\":0.0875,\"xanchor\":\"center\",\"xref\":\"paper\",\"y\":0.568,\"yanchor\":\"bottom\",\"yref\":\"paper\"},{\"font\":{\"size\":16},\"showarrow\":false,\"text\":\"Topic 9\",\"x\":0.36250000000000004,\"xanchor\":\"center\",\"xref\":\"paper\",\"y\":0.568,\"yanchor\":\"bottom\",\"yref\":\"paper\"},{\"font\":{\"size\":16},\"showarrow\":false,\"text\":\"Topic 10\",\"x\":0.6375000000000001,\"xanchor\":\"center\",\"xref\":\"paper\",\"y\":0.568,\"yanchor\":\"bottom\",\"yref\":\"paper\"},{\"font\":{\"size\":16},\"showarrow\":false,\"text\":\"Topic 11\",\"x\":0.9125,\"xanchor\":\"center\",\"xref\":\"paper\",\"y\":0.568,\"yanchor\":\"bottom\",\"yref\":\"paper\"},{\"font\":{\"size\":16},\"showarrow\":false,\"text\":\"Topic 12\",\"x\":0.0875,\"xanchor\":\"center\",\"xref\":\"paper\",\"y\":0.352,\"yanchor\":\"bottom\",\"yref\":\"paper\"},{\"font\":{\"size\":16},\"showarrow\":false,\"text\":\"Topic 13\",\"x\":0.36250000000000004,\"xanchor\":\"center\",\"xref\":\"paper\",\"y\":0.352,\"yanchor\":\"bottom\",\"yref\":\"paper\"},{\"font\":{\"size\":16},\"showarrow\":false,\"text\":\"Topic 14\",\"x\":0.6375000000000001,\"xanchor\":\"center\",\"xref\":\"paper\",\"y\":0.352,\"yanchor\":\"bottom\",\"yref\":\"paper\"},{\"font\":{\"size\":16},\"showarrow\":false,\"text\":\"Topic 15\",\"x\":0.9125,\"xanchor\":\"center\",\"xref\":\"paper\",\"y\":0.352,\"yanchor\":\"bottom\",\"yref\":\"paper\"},{\"font\":{\"size\":16},\"showarrow\":false,\"text\":\"Topic 16\",\"x\":0.0875,\"xanchor\":\"center\",\"xref\":\"paper\",\"y\":0.13599999999999998,\"yanchor\":\"bottom\",\"yref\":\"paper\"},{\"font\":{\"size\":16},\"showarrow\":false,\"text\":\"Topic 17\",\"x\":0.36250000000000004,\"xanchor\":\"center\",\"xref\":\"paper\",\"y\":0.13599999999999998,\"yanchor\":\"bottom\",\"yref\":\"paper\"},{\"font\":{\"size\":16},\"showarrow\":false,\"text\":\"Topic 18\",\"x\":0.6375000000000001,\"xanchor\":\"center\",\"xref\":\"paper\",\"y\":0.13599999999999998,\"yanchor\":\"bottom\",\"yref\":\"paper\"},{\"font\":{\"size\":16},\"showarrow\":false,\"text\":\"Topic 19\",\"x\":0.9125,\"xanchor\":\"center\",\"xref\":\"paper\",\"y\":0.13599999999999998,\"yanchor\":\"bottom\",\"yref\":\"paper\"}],\"title\":{\"font\":{\"size\":22,\"color\":\"Black\"},\"text\":\"<b>Topic Word Scores\",\"x\":0.5,\"xanchor\":\"center\",\"yanchor\":\"top\"},\"hoverlabel\":{\"font\":{\"size\":16,\"family\":\"Rockwell\"},\"bgcolor\":\"white\"},\"showlegend\":false,\"width\":1000,\"height\":1250},                        {\"responsive\": true}                    ).then(function(){\n",
              "                            \n",
              "var gd = document.getElementById('bc2ceeff-6d37-403c-a796-64309331508b');\n",
              "var x = new MutationObserver(function (mutations, observer) {{\n",
              "        var display = window.getComputedStyle(gd).display;\n",
              "        if (!display || display === 'none') {{\n",
              "            console.log([gd, 'removed!']);\n",
              "            Plotly.purge(gd);\n",
              "            observer.disconnect();\n",
              "        }}\n",
              "}});\n",
              "\n",
              "// Listen for the removal of the full notebook cells\n",
              "var notebookContainer = gd.closest('#notebook-container');\n",
              "if (notebookContainer) {{\n",
              "    x.observe(notebookContainer, {childList: true});\n",
              "}}\n",
              "\n",
              "// Listen for the clearing of the current output cell\n",
              "var outputEl = gd.closest('.output');\n",
              "if (outputEl) {{\n",
              "    x.observe(outputEl, {childList: true});\n",
              "}}\n",
              "\n",
              "                        })                };                            </script>        </div>\n",
              "</body>\n",
              "</html>"
            ]
          },
          "metadata": {}
        }
      ],
      "source": [
        "model.visualize_barchart(top_n_topics=20)\n",
        "# fig.write_html(\"file.html\")"
      ]
    },
    {
      "cell_type": "code",
      "execution_count": 62,
      "metadata": {
        "colab": {
          "base_uri": "https://localhost:8080/",
          "height": 825
        },
        "id": "OWSorqoFet5s",
        "outputId": "9e321cca-5a98-4bed-ce0d-7bf01438a4fa"
      },
      "outputs": [
        {
          "output_type": "stream",
          "name": "stderr",
          "text": [
            "/usr/local/lib/python3.7/dist-packages/plotly/figure_factory/_dendrogram.py:350: DeprecationWarning:\n",
            "\n",
            "scipy.array is deprecated and will be removed in SciPy 2.0.0, use numpy.array instead\n",
            "\n",
            "/usr/local/lib/python3.7/dist-packages/plotly/figure_factory/_dendrogram.py:351: DeprecationWarning:\n",
            "\n",
            "scipy.array is deprecated and will be removed in SciPy 2.0.0, use numpy.array instead\n",
            "\n",
            "/usr/local/lib/python3.7/dist-packages/plotly/figure_factory/_dendrogram.py:352: DeprecationWarning:\n",
            "\n",
            "scipy.array is deprecated and will be removed in SciPy 2.0.0, use numpy.array instead\n",
            "\n",
            "/usr/local/lib/python3.7/dist-packages/plotly/figure_factory/_dendrogram.py:353: DeprecationWarning:\n",
            "\n",
            "scipy.array is deprecated and will be removed in SciPy 2.0.0, use numpy.array instead\n",
            "\n"
          ]
        },
        {
          "output_type": "display_data",
          "data": {
            "text/html": [
              "<html>\n",
              "<head><meta charset=\"utf-8\" /></head>\n",
              "<body>\n",
              "    <div>            <script src=\"https://cdnjs.cloudflare.com/ajax/libs/mathjax/2.7.5/MathJax.js?config=TeX-AMS-MML_SVG\"></script><script type=\"text/javascript\">if (window.MathJax) {MathJax.Hub.Config({SVG: {font: \"STIX-Web\"}});}</script>                <script type=\"text/javascript\">window.PlotlyConfig = {MathJaxConfig: 'local'};</script>\n",
              "        <script src=\"https://cdn.plot.ly/plotly-2.8.3.min.js\"></script>                <div id=\"3fc9b23b-7d2b-4b0e-a875-319fe3ce1341\" class=\"plotly-graph-div\" style=\"height:530px; width:1000px;\"></div>            <script type=\"text/javascript\">                                    window.PLOTLYENV=window.PLOTLYENV || {};                                    if (document.getElementById(\"3fc9b23b-7d2b-4b0e-a875-319fe3ce1341\")) {                    Plotly.newPlot(                        \"3fc9b23b-7d2b-4b0e-a875-319fe3ce1341\",                        [{\"hoverinfo\":\"text\",\"marker\":{\"color\":\"rgb(0,116,217)\"},\"mode\":\"lines\",\"x\":[0.0,1.2501067871407021,1.2501067871407021,0.0],\"xaxis\":\"x\",\"y\":[-15.0,-15.0,-25.0,-25.0],\"yaxis\":\"y\",\"type\":\"scatter\"},{\"hoverinfo\":\"text\",\"marker\":{\"color\":\"rgb(0,116,217)\"},\"mode\":\"lines\",\"x\":[1.2501067871407021,1.2872533887261541,1.2872533887261541,0.0],\"xaxis\":\"x\",\"y\":[-20.0,-20.0,-35.0,-35.0],\"yaxis\":\"y\",\"type\":\"scatter\"},{\"hoverinfo\":\"text\",\"marker\":{\"color\":\"rgb(0,116,217)\"},\"mode\":\"lines\",\"x\":[0.0,1.4362746152441854,1.4362746152441854,1.2872533887261541],\"xaxis\":\"x\",\"y\":[-5.0,-5.0,-27.5,-27.5],\"yaxis\":\"y\",\"type\":\"scatter\"},{\"hoverinfo\":\"text\",\"marker\":{\"color\":\"rgb(0,116,217)\"},\"mode\":\"lines\",\"x\":[0.0,1.2032913900221467,1.2032913900221467,0.0],\"xaxis\":\"x\",\"y\":[-45.0,-45.0,-55.0,-55.0],\"yaxis\":\"y\",\"type\":\"scatter\"},{\"hoverinfo\":\"text\",\"marker\":{\"color\":\"rgb(0,116,217)\"},\"mode\":\"lines\",\"x\":[1.2032913900221467,1.2279830746298013,1.2279830746298013,0.0],\"xaxis\":\"x\",\"y\":[-50.0,-50.0,-65.0,-65.0],\"yaxis\":\"y\",\"type\":\"scatter\"},{\"hoverinfo\":\"text\",\"marker\":{\"color\":\"rgb(0,116,217)\"},\"mode\":\"lines\",\"x\":[0.0,1.1603104832637954,1.1603104832637954,0.0],\"xaxis\":\"x\",\"y\":[-75.0,-75.0,-85.0,-85.0],\"yaxis\":\"y\",\"type\":\"scatter\"},{\"hoverinfo\":\"text\",\"marker\":{\"color\":\"rgb(0,116,217)\"},\"mode\":\"lines\",\"x\":[0.0,1.2531544019067284,1.2531544019067284,0.0],\"xaxis\":\"x\",\"y\":[-95.0,-95.0,-105.0,-105.0],\"yaxis\":\"y\",\"type\":\"scatter\"},{\"hoverinfo\":\"text\",\"marker\":{\"color\":\"rgb(0,116,217)\"},\"mode\":\"lines\",\"x\":[1.1603104832637954,1.2894373728566266,1.2894373728566266,1.2531544019067284],\"xaxis\":\"x\",\"y\":[-80.0,-80.0,-100.0,-100.0],\"yaxis\":\"y\",\"type\":\"scatter\"},{\"hoverinfo\":\"text\",\"marker\":{\"color\":\"rgb(0,116,217)\"},\"mode\":\"lines\",\"x\":[1.2279830746298013,1.3402120048705102,1.3402120048705102,1.2894373728566266],\"xaxis\":\"x\",\"y\":[-57.5,-57.5,-90.0,-90.0],\"yaxis\":\"y\",\"type\":\"scatter\"},{\"hoverinfo\":\"text\",\"marker\":{\"color\":\"rgb(0,116,217)\"},\"mode\":\"lines\",\"x\":[0.0,1.0899657061350834,1.0899657061350834,0.0],\"xaxis\":\"x\",\"y\":[-115.0,-115.0,-125.0,-125.0],\"yaxis\":\"y\",\"type\":\"scatter\"},{\"hoverinfo\":\"text\",\"marker\":{\"color\":\"rgb(0,116,217)\"},\"mode\":\"lines\",\"x\":[0.0,1.0829380442254515,1.0829380442254515,0.0],\"xaxis\":\"x\",\"y\":[-135.0,-135.0,-145.0,-145.0],\"yaxis\":\"y\",\"type\":\"scatter\"},{\"hoverinfo\":\"text\",\"marker\":{\"color\":\"rgb(0,116,217)\"},\"mode\":\"lines\",\"x\":[1.0899657061350834,1.3857850446144848,1.3857850446144848,1.0829380442254515],\"xaxis\":\"x\",\"y\":[-120.0,-120.0,-140.0,-140.0],\"yaxis\":\"y\",\"type\":\"scatter\"},{\"hoverinfo\":\"text\",\"marker\":{\"color\":\"rgb(0,116,217)\"},\"mode\":\"lines\",\"x\":[1.3402120048705102,1.4544353840948843,1.4544353840948843,1.3857850446144848],\"xaxis\":\"x\",\"y\":[-73.75,-73.75,-130.0,-130.0],\"yaxis\":\"y\",\"type\":\"scatter\"},{\"hoverinfo\":\"text\",\"marker\":{\"color\":\"rgb(61,153,112)\"},\"mode\":\"lines\",\"x\":[0.0,0.8804028805510293,0.8804028805510293,0.0],\"xaxis\":\"x\",\"y\":[-165.0,-165.0,-175.0,-175.0],\"yaxis\":\"y\",\"type\":\"scatter\"},{\"hoverinfo\":\"text\",\"marker\":{\"color\":\"rgb(0,116,217)\"},\"mode\":\"lines\",\"x\":[0.0,1.1323533872685807,1.1323533872685807,0.8804028805510293],\"xaxis\":\"x\",\"y\":[-155.0,-155.0,-170.0,-170.0],\"yaxis\":\"y\",\"type\":\"scatter\"},{\"hoverinfo\":\"text\",\"marker\":{\"color\":\"rgb(0,116,217)\"},\"mode\":\"lines\",\"x\":[0.0,1.040232582499445,1.040232582499445,0.0],\"xaxis\":\"x\",\"y\":[-195.0,-195.0,-205.0,-205.0],\"yaxis\":\"y\",\"type\":\"scatter\"},{\"hoverinfo\":\"text\",\"marker\":{\"color\":\"rgb(0,116,217)\"},\"mode\":\"lines\",\"x\":[0.0,1.0962740950743213,1.0962740950743213,1.040232582499445],\"xaxis\":\"x\",\"y\":[-185.0,-185.0,-200.0,-200.0],\"yaxis\":\"y\",\"type\":\"scatter\"},{\"hoverinfo\":\"text\",\"marker\":{\"color\":\"rgb(0,116,217)\"},\"mode\":\"lines\",\"x\":[1.0962740950743213,1.1933982550351483,1.1933982550351483,0.0],\"xaxis\":\"x\",\"y\":[-192.5,-192.5,-215.0,-215.0],\"yaxis\":\"y\",\"type\":\"scatter\"},{\"hoverinfo\":\"text\",\"marker\":{\"color\":\"rgb(0,116,217)\"},\"mode\":\"lines\",\"x\":[1.1323533872685807,1.2595479060172567,1.2595479060172567,1.1933982550351483],\"xaxis\":\"x\",\"y\":[-162.5,-162.5,-203.75,-203.75],\"yaxis\":\"y\",\"type\":\"scatter\"},{\"hoverinfo\":\"text\",\"marker\":{\"color\":\"rgb(0,116,217)\"},\"mode\":\"lines\",\"x\":[1.4544353840948843,1.5228444754947665,1.5228444754947665,1.2595479060172567],\"xaxis\":\"x\",\"y\":[-101.875,-101.875,-183.125,-183.125],\"yaxis\":\"y\",\"type\":\"scatter\"},{\"hoverinfo\":\"text\",\"marker\":{\"color\":\"rgb(0,116,217)\"},\"mode\":\"lines\",\"x\":[1.4362746152441854,1.694303920059114,1.694303920059114,1.5228444754947665],\"xaxis\":\"x\",\"y\":[-16.25,-16.25,-142.5,-142.5],\"yaxis\":\"y\",\"type\":\"scatter\"}],                        {\"autosize\":false,\"height\":530,\"hovermode\":\"closest\",\"showlegend\":false,\"width\":1000,\"xaxis\":{\"mirror\":\"allticks\",\"rangemode\":\"tozero\",\"showgrid\":false,\"showline\":true,\"showticklabels\":true,\"ticks\":\"outside\",\"type\":\"linear\",\"zeroline\":false},\"yaxis\":{\"mirror\":\"allticks\",\"rangemode\":\"tozero\",\"showgrid\":false,\"showline\":true,\"showticklabels\":true,\"tickmode\":\"array\",\"ticks\":\"outside\",\"ticktext\":[\"21_festival_blessings_today\",\"10_nda_seemandhra_mp\",\"11_data_govt_employment\",\"18_tax_ministries_toward\",\"9_pakistan_indian_terror\",\"8_kashmiri_kashmiris_kashmir\",\"5_accused_case_murder\",\"13_bjp_nationalism_congress\",\"15_bjp_media_disgrace\",\"7_rallies_addressed_aap\",\"19_referee_danger_lineage\",\"12_rahul_jaitley_jp\",\"6_rahul_gandhi_congress\",\"14_modi_personal_tough\",\"16_modi_caste_mann\",\"2_muslims_muslim_hindu\",\"1_india_savarkar_great\",\"0_people_democracy_say\",\"20_modi_north_ji\",\"4_congratulations_narendram...\",\"3_bjp_vote_elections\",\"17_prime_minister_talk\"],\"tickvals\":[-5.0,-15.0,-25.0,-35.0,-45.0,-55.0,-65.0,-75.0,-85.0,-95.0,-105.0,-115.0,-125.0,-135.0,-145.0,-155.0,-165.0,-175.0,-185.0,-195.0,-205.0,-215.0],\"type\":\"linear\",\"zeroline\":false,\"range\":[-220.0,0.0]},\"template\":{\"data\":{\"barpolar\":[{\"marker\":{\"line\":{\"color\":\"white\",\"width\":0.5},\"pattern\":{\"fillmode\":\"overlay\",\"size\":10,\"solidity\":0.2}},\"type\":\"barpolar\"}],\"bar\":[{\"error_x\":{\"color\":\"#2a3f5f\"},\"error_y\":{\"color\":\"#2a3f5f\"},\"marker\":{\"line\":{\"color\":\"white\",\"width\":0.5},\"pattern\":{\"fillmode\":\"overlay\",\"size\":10,\"solidity\":0.2}},\"type\":\"bar\"}],\"carpet\":[{\"aaxis\":{\"endlinecolor\":\"#2a3f5f\",\"gridcolor\":\"#C8D4E3\",\"linecolor\":\"#C8D4E3\",\"minorgridcolor\":\"#C8D4E3\",\"startlinecolor\":\"#2a3f5f\"},\"baxis\":{\"endlinecolor\":\"#2a3f5f\",\"gridcolor\":\"#C8D4E3\",\"linecolor\":\"#C8D4E3\",\"minorgridcolor\":\"#C8D4E3\",\"startlinecolor\":\"#2a3f5f\"},\"type\":\"carpet\"}],\"choropleth\":[{\"colorbar\":{\"outlinewidth\":0,\"ticks\":\"\"},\"type\":\"choropleth\"}],\"contourcarpet\":[{\"colorbar\":{\"outlinewidth\":0,\"ticks\":\"\"},\"type\":\"contourcarpet\"}],\"contour\":[{\"colorbar\":{\"outlinewidth\":0,\"ticks\":\"\"},\"colorscale\":[[0.0,\"#0d0887\"],[0.1111111111111111,\"#46039f\"],[0.2222222222222222,\"#7201a8\"],[0.3333333333333333,\"#9c179e\"],[0.4444444444444444,\"#bd3786\"],[0.5555555555555556,\"#d8576b\"],[0.6666666666666666,\"#ed7953\"],[0.7777777777777778,\"#fb9f3a\"],[0.8888888888888888,\"#fdca26\"],[1.0,\"#f0f921\"]],\"type\":\"contour\"}],\"heatmapgl\":[{\"colorbar\":{\"outlinewidth\":0,\"ticks\":\"\"},\"colorscale\":[[0.0,\"#0d0887\"],[0.1111111111111111,\"#46039f\"],[0.2222222222222222,\"#7201a8\"],[0.3333333333333333,\"#9c179e\"],[0.4444444444444444,\"#bd3786\"],[0.5555555555555556,\"#d8576b\"],[0.6666666666666666,\"#ed7953\"],[0.7777777777777778,\"#fb9f3a\"],[0.8888888888888888,\"#fdca26\"],[1.0,\"#f0f921\"]],\"type\":\"heatmapgl\"}],\"heatmap\":[{\"colorbar\":{\"outlinewidth\":0,\"ticks\":\"\"},\"colorscale\":[[0.0,\"#0d0887\"],[0.1111111111111111,\"#46039f\"],[0.2222222222222222,\"#7201a8\"],[0.3333333333333333,\"#9c179e\"],[0.4444444444444444,\"#bd3786\"],[0.5555555555555556,\"#d8576b\"],[0.6666666666666666,\"#ed7953\"],[0.7777777777777778,\"#fb9f3a\"],[0.8888888888888888,\"#fdca26\"],[1.0,\"#f0f921\"]],\"type\":\"heatmap\"}],\"histogram2dcontour\":[{\"colorbar\":{\"outlinewidth\":0,\"ticks\":\"\"},\"colorscale\":[[0.0,\"#0d0887\"],[0.1111111111111111,\"#46039f\"],[0.2222222222222222,\"#7201a8\"],[0.3333333333333333,\"#9c179e\"],[0.4444444444444444,\"#bd3786\"],[0.5555555555555556,\"#d8576b\"],[0.6666666666666666,\"#ed7953\"],[0.7777777777777778,\"#fb9f3a\"],[0.8888888888888888,\"#fdca26\"],[1.0,\"#f0f921\"]],\"type\":\"histogram2dcontour\"}],\"histogram2d\":[{\"colorbar\":{\"outlinewidth\":0,\"ticks\":\"\"},\"colorscale\":[[0.0,\"#0d0887\"],[0.1111111111111111,\"#46039f\"],[0.2222222222222222,\"#7201a8\"],[0.3333333333333333,\"#9c179e\"],[0.4444444444444444,\"#bd3786\"],[0.5555555555555556,\"#d8576b\"],[0.6666666666666666,\"#ed7953\"],[0.7777777777777778,\"#fb9f3a\"],[0.8888888888888888,\"#fdca26\"],[1.0,\"#f0f921\"]],\"type\":\"histogram2d\"}],\"histogram\":[{\"marker\":{\"pattern\":{\"fillmode\":\"overlay\",\"size\":10,\"solidity\":0.2}},\"type\":\"histogram\"}],\"mesh3d\":[{\"colorbar\":{\"outlinewidth\":0,\"ticks\":\"\"},\"type\":\"mesh3d\"}],\"parcoords\":[{\"line\":{\"colorbar\":{\"outlinewidth\":0,\"ticks\":\"\"}},\"type\":\"parcoords\"}],\"pie\":[{\"automargin\":true,\"type\":\"pie\"}],\"scatter3d\":[{\"line\":{\"colorbar\":{\"outlinewidth\":0,\"ticks\":\"\"}},\"marker\":{\"colorbar\":{\"outlinewidth\":0,\"ticks\":\"\"}},\"type\":\"scatter3d\"}],\"scattercarpet\":[{\"marker\":{\"colorbar\":{\"outlinewidth\":0,\"ticks\":\"\"}},\"type\":\"scattercarpet\"}],\"scattergeo\":[{\"marker\":{\"colorbar\":{\"outlinewidth\":0,\"ticks\":\"\"}},\"type\":\"scattergeo\"}],\"scattergl\":[{\"marker\":{\"colorbar\":{\"outlinewidth\":0,\"ticks\":\"\"}},\"type\":\"scattergl\"}],\"scattermapbox\":[{\"marker\":{\"colorbar\":{\"outlinewidth\":0,\"ticks\":\"\"}},\"type\":\"scattermapbox\"}],\"scatterpolargl\":[{\"marker\":{\"colorbar\":{\"outlinewidth\":0,\"ticks\":\"\"}},\"type\":\"scatterpolargl\"}],\"scatterpolar\":[{\"marker\":{\"colorbar\":{\"outlinewidth\":0,\"ticks\":\"\"}},\"type\":\"scatterpolar\"}],\"scatter\":[{\"marker\":{\"colorbar\":{\"outlinewidth\":0,\"ticks\":\"\"}},\"type\":\"scatter\"}],\"scatterternary\":[{\"marker\":{\"colorbar\":{\"outlinewidth\":0,\"ticks\":\"\"}},\"type\":\"scatterternary\"}],\"surface\":[{\"colorbar\":{\"outlinewidth\":0,\"ticks\":\"\"},\"colorscale\":[[0.0,\"#0d0887\"],[0.1111111111111111,\"#46039f\"],[0.2222222222222222,\"#7201a8\"],[0.3333333333333333,\"#9c179e\"],[0.4444444444444444,\"#bd3786\"],[0.5555555555555556,\"#d8576b\"],[0.6666666666666666,\"#ed7953\"],[0.7777777777777778,\"#fb9f3a\"],[0.8888888888888888,\"#fdca26\"],[1.0,\"#f0f921\"]],\"type\":\"surface\"}],\"table\":[{\"cells\":{\"fill\":{\"color\":\"#EBF0F8\"},\"line\":{\"color\":\"white\"}},\"header\":{\"fill\":{\"color\":\"#C8D4E3\"},\"line\":{\"color\":\"white\"}},\"type\":\"table\"}]},\"layout\":{\"annotationdefaults\":{\"arrowcolor\":\"#2a3f5f\",\"arrowhead\":0,\"arrowwidth\":1},\"autotypenumbers\":\"strict\",\"coloraxis\":{\"colorbar\":{\"outlinewidth\":0,\"ticks\":\"\"}},\"colorscale\":{\"diverging\":[[0,\"#8e0152\"],[0.1,\"#c51b7d\"],[0.2,\"#de77ae\"],[0.3,\"#f1b6da\"],[0.4,\"#fde0ef\"],[0.5,\"#f7f7f7\"],[0.6,\"#e6f5d0\"],[0.7,\"#b8e186\"],[0.8,\"#7fbc41\"],[0.9,\"#4d9221\"],[1,\"#276419\"]],\"sequential\":[[0.0,\"#0d0887\"],[0.1111111111111111,\"#46039f\"],[0.2222222222222222,\"#7201a8\"],[0.3333333333333333,\"#9c179e\"],[0.4444444444444444,\"#bd3786\"],[0.5555555555555556,\"#d8576b\"],[0.6666666666666666,\"#ed7953\"],[0.7777777777777778,\"#fb9f3a\"],[0.8888888888888888,\"#fdca26\"],[1.0,\"#f0f921\"]],\"sequentialminus\":[[0.0,\"#0d0887\"],[0.1111111111111111,\"#46039f\"],[0.2222222222222222,\"#7201a8\"],[0.3333333333333333,\"#9c179e\"],[0.4444444444444444,\"#bd3786\"],[0.5555555555555556,\"#d8576b\"],[0.6666666666666666,\"#ed7953\"],[0.7777777777777778,\"#fb9f3a\"],[0.8888888888888888,\"#fdca26\"],[1.0,\"#f0f921\"]]},\"colorway\":[\"#636efa\",\"#EF553B\",\"#00cc96\",\"#ab63fa\",\"#FFA15A\",\"#19d3f3\",\"#FF6692\",\"#B6E880\",\"#FF97FF\",\"#FECB52\"],\"font\":{\"color\":\"#2a3f5f\"},\"geo\":{\"bgcolor\":\"white\",\"lakecolor\":\"white\",\"landcolor\":\"white\",\"showlakes\":true,\"showland\":true,\"subunitcolor\":\"#C8D4E3\"},\"hoverlabel\":{\"align\":\"left\"},\"hovermode\":\"closest\",\"mapbox\":{\"style\":\"light\"},\"paper_bgcolor\":\"white\",\"plot_bgcolor\":\"white\",\"polar\":{\"angularaxis\":{\"gridcolor\":\"#EBF0F8\",\"linecolor\":\"#EBF0F8\",\"ticks\":\"\"},\"bgcolor\":\"white\",\"radialaxis\":{\"gridcolor\":\"#EBF0F8\",\"linecolor\":\"#EBF0F8\",\"ticks\":\"\"}},\"scene\":{\"xaxis\":{\"backgroundcolor\":\"white\",\"gridcolor\":\"#DFE8F3\",\"gridwidth\":2,\"linecolor\":\"#EBF0F8\",\"showbackground\":true,\"ticks\":\"\",\"zerolinecolor\":\"#EBF0F8\"},\"yaxis\":{\"backgroundcolor\":\"white\",\"gridcolor\":\"#DFE8F3\",\"gridwidth\":2,\"linecolor\":\"#EBF0F8\",\"showbackground\":true,\"ticks\":\"\",\"zerolinecolor\":\"#EBF0F8\"},\"zaxis\":{\"backgroundcolor\":\"white\",\"gridcolor\":\"#DFE8F3\",\"gridwidth\":2,\"linecolor\":\"#EBF0F8\",\"showbackground\":true,\"ticks\":\"\",\"zerolinecolor\":\"#EBF0F8\"}},\"shapedefaults\":{\"line\":{\"color\":\"#2a3f5f\"}},\"ternary\":{\"aaxis\":{\"gridcolor\":\"#DFE8F3\",\"linecolor\":\"#A2B1C6\",\"ticks\":\"\"},\"baxis\":{\"gridcolor\":\"#DFE8F3\",\"linecolor\":\"#A2B1C6\",\"ticks\":\"\"},\"bgcolor\":\"white\",\"caxis\":{\"gridcolor\":\"#DFE8F3\",\"linecolor\":\"#A2B1C6\",\"ticks\":\"\"}},\"title\":{\"x\":0.05},\"xaxis\":{\"automargin\":true,\"gridcolor\":\"#EBF0F8\",\"linecolor\":\"#EBF0F8\",\"ticks\":\"\",\"title\":{\"standoff\":15},\"zerolinecolor\":\"#EBF0F8\",\"zerolinewidth\":2},\"yaxis\":{\"automargin\":true,\"gridcolor\":\"#EBF0F8\",\"linecolor\":\"#EBF0F8\",\"ticks\":\"\",\"title\":{\"standoff\":15},\"zerolinecolor\":\"#EBF0F8\",\"zerolinewidth\":2}}},\"title\":{\"font\":{\"size\":22,\"color\":\"Black\"},\"text\":\"<b>Hierarchical Clustering\",\"x\":0.5,\"xanchor\":\"center\",\"yanchor\":\"top\"},\"hoverlabel\":{\"font\":{\"size\":16,\"family\":\"Rockwell\"},\"bgcolor\":\"white\"},\"plot_bgcolor\":\"#ECEFF1\"},                        {\"responsive\": true}                    ).then(function(){\n",
              "                            \n",
              "var gd = document.getElementById('3fc9b23b-7d2b-4b0e-a875-319fe3ce1341');\n",
              "var x = new MutationObserver(function (mutations, observer) {{\n",
              "        var display = window.getComputedStyle(gd).display;\n",
              "        if (!display || display === 'none') {{\n",
              "            console.log([gd, 'removed!']);\n",
              "            Plotly.purge(gd);\n",
              "            observer.disconnect();\n",
              "        }}\n",
              "}});\n",
              "\n",
              "// Listen for the removal of the full notebook cells\n",
              "var notebookContainer = gd.closest('#notebook-container');\n",
              "if (notebookContainer) {{\n",
              "    x.observe(notebookContainer, {childList: true});\n",
              "}}\n",
              "\n",
              "// Listen for the clearing of the current output cell\n",
              "var outputEl = gd.closest('.output');\n",
              "if (outputEl) {{\n",
              "    x.observe(outputEl, {childList: true});\n",
              "}}\n",
              "\n",
              "                        })                };                            </script>        </div>\n",
              "</body>\n",
              "</html>"
            ]
          },
          "metadata": {}
        }
      ],
      "source": [
        "model.visualize_hierarchy()"
      ]
    },
    {
      "cell_type": "code",
      "execution_count": 63,
      "metadata": {
        "colab": {
          "base_uri": "https://localhost:8080/"
        },
        "id": "qvFMkf01fEbK",
        "outputId": "24aefddc-e7cb-4884-d9f6-d8ce12d4d302"
      },
      "outputs": [
        {
          "output_type": "stream",
          "name": "stderr",
          "text": [
            "100%|██████████| 21/21 [00:00<00:00, 124.54it/s]\n"
          ]
        },
        {
          "output_type": "stream",
          "name": "stdout",
          "text": [
            "   Parent_ID                                 Parent_Name  \\\n",
            "20        42                  mask_india_people_bjp_modi   \n",
            "19        41                  mask_people_india_bjp_modi   \n",
            "18        40                mask_rahul_pakistan_modi_bjp   \n",
            "17        39                    mask_govt_nda_data_india   \n",
            "16        38                   rahul_mask_modi_gandhi_ji   \n",
            "15        37           mask_pakistan_bjp_kashmiri_indian   \n",
            "14        36              mask_bjp_rallies_aap_addressed   \n",
            "13        35                    mask_govt_nda_data_india   \n",
            "12        34              mask_people_india_vote_muslims   \n",
            "11        33               mask_rallies_addressed_aap_3d   \n",
            "10        32                    mask_nda_data_govt_india   \n",
            "9         31    pakistan_mask_kashmiri_accused_kashmiris   \n",
            "8         30    pakistan_mask_kashmiri_kashmiris_kashmir   \n",
            "7         29            mask_bjp_vote_elections_election   \n",
            "6         28            bjp_mask_congress_media_disgrace   \n",
            "5         27            mask_people_muslims_muslim_india   \n",
            "4         26  mask_bjp_vote_narendramodi_congratulations   \n",
            "3         25               rahul_gandhi_mask_congress_ji   \n",
            "2         24                  modi_mask_tough_mr_planted   \n",
            "1         23  mask_bjp_vote_congratulations_narendramodi   \n",
            "0         22                mask_people_india_one_nation   \n",
            "\n",
            "                                               Topics Child_Left_ID  \\\n",
            "20  [0, 1, 2, 3, 4, 5, 6, 7, 8, 9, 10, 11, 12, 13,...            39   \n",
            "19  [0, 1, 2, 3, 4, 5, 6, 7, 8, 9, 12, 13, 14, 15,...            40   \n",
            "18            [5, 6, 7, 8, 9, 12, 13, 14, 15, 16, 19]            37   \n",
            "17                                   [10, 11, 18, 21]            21   \n",
            "16                                    [6, 12, 14, 16]            25   \n",
            "15                           [5, 7, 8, 9, 13, 15, 19]            31   \n",
            "14                                    [7, 13, 15, 19]            28   \n",
            "13                                       [10, 11, 18]            32   \n",
            "12                            [0, 1, 2, 3, 4, 17, 20]            27   \n",
            "11                                            [7, 19]             7   \n",
            "10                                           [10, 11]            10   \n",
            "9                                           [5, 8, 9]            30   \n",
            "8                                              [8, 9]             9   \n",
            "7                                      [3, 4, 17, 20]            26   \n",
            "6                                            [13, 15]            13   \n",
            "5                                           [0, 1, 2]             2   \n",
            "4                                          [3, 4, 20]            20   \n",
            "3                                             [6, 12]            12   \n",
            "2                                            [14, 16]            14   \n",
            "1                                              [3, 4]             4   \n",
            "0                                              [0, 1]             1   \n",
            "\n",
            "                                    Child_Left_Name Child_Right_ID  \\\n",
            "20                         mask_govt_nda_data_india             41   \n",
            "19                     mask_rahul_pakistan_modi_bjp             34   \n",
            "18                mask_pakistan_bjp_kashmiri_indian             38   \n",
            "17            festival_blessings_today_truly_wishes             35   \n",
            "16                    rahul_gandhi_mask_congress_ji             24   \n",
            "15         pakistan_mask_kashmiri_accused_kashmiris             36   \n",
            "14                 bjp_mask_congress_media_disgrace             33   \n",
            "13                         mask_nda_data_govt_india             18   \n",
            "12                 mask_people_muslims_muslim_india             29   \n",
            "11                   rallies_addressed_aap_3d_rally             19   \n",
            "10                     nda_seemandhra_mp_water_2014             11   \n",
            "9          pakistan_mask_kashmiri_kashmiris_kashmir              5   \n",
            "8           pakistan_indian_terror_prince_pakistani              8   \n",
            "7        mask_bjp_vote_narendramodi_congratulations             17   \n",
            "6         bjp_nationalism_congress_never_targetting             15   \n",
            "5                  muslims_muslim_hindu_hindus_anti             22   \n",
            "4                    modi_north_ji_india_government             23   \n",
            "3               rahul_jaitley_jp_drrakeshparikh_bot              6   \n",
            "2                    modi_personal_tough_party_amit             16   \n",
            "1   congratulations_narendramodi_people_thank_india              3   \n",
            "0              india_savarkar_great_indian_tributes              0   \n",
            "\n",
            "                               Child_Right_Name  Distance  \n",
            "20                   mask_people_india_bjp_modi  1.694304  \n",
            "19               mask_people_india_vote_muslims  1.522844  \n",
            "18                    rahul_mask_modi_gandhi_ji  1.454435  \n",
            "17                     mask_govt_nda_data_india  1.436275  \n",
            "16                   modi_mask_tough_mr_planted  1.385785  \n",
            "15               mask_bjp_rallies_aap_addressed  1.340212  \n",
            "14                mask_rallies_addressed_aap_3d  1.289437  \n",
            "13         tax_ministries_toward_restore_reject  1.287253  \n",
            "12             mask_bjp_vote_elections_election  1.259548  \n",
            "11          referee_danger_lineage_managed_band  1.253154  \n",
            "10           data_govt_employment_years_gujarat  1.250107  \n",
            "9               accused_case_murder_jail_police  1.227983  \n",
            "8   kashmiri_kashmiris_kashmir_students_boycott  1.203291  \n",
            "7             prime_minister_talk_day_lingering  1.193398  \n",
            "6               bjp_media_disgrace_gurugram_aap  1.160310  \n",
            "5                  mask_people_india_one_nation  1.132353  \n",
            "4    mask_bjp_vote_congratulations_narendramodi  1.096274  \n",
            "3                rahul_gandhi_congress_sonia_ji  1.089966  \n",
            "2                 modi_caste_mann_baat_believed  1.082938  \n",
            "1             bjp_vote_elections_election_seats  1.040233  \n",
            "0                 people_democracy_say_time_one  0.880403  \n",
            ".\n",
            "├─mask_govt_nda_data_india\n",
            "│    ├─■──festival_blessings_today_truly_wishes ── Topic: 21\n",
            "│    └─mask_govt_nda_data_india\n",
            "│         ├─mask_nda_data_govt_india\n",
            "│         │    ├─■──nda_seemandhra_mp_water_2014 ── Topic: 10\n",
            "│         │    └─■──data_govt_employment_years_gujarat ── Topic: 11\n",
            "│         └─■──tax_ministries_toward_restore_reject ── Topic: 18\n",
            "└─mask_people_india_bjp_modi\n",
            "     ├─mask_rahul_pakistan_modi_bjp\n",
            "     │    ├─mask_pakistan_bjp_kashmiri_indian\n",
            "     │    │    ├─pakistan_mask_kashmiri_accused_kashmiris\n",
            "     │    │    │    ├─pakistan_mask_kashmiri_kashmiris_kashmir\n",
            "     │    │    │    │    ├─■──pakistan_indian_terror_prince_pakistani ── Topic: 9\n",
            "     │    │    │    │    └─■──kashmiri_kashmiris_kashmir_students_boycott ── Topic: 8\n",
            "     │    │    │    └─■──accused_case_murder_jail_police ── Topic: 5\n",
            "     │    │    └─mask_bjp_rallies_aap_addressed\n",
            "     │    │         ├─bjp_mask_congress_media_disgrace\n",
            "     │    │         │    ├─■──bjp_nationalism_congress_never_targetting ── Topic: 13\n",
            "     │    │         │    └─■──bjp_media_disgrace_gurugram_aap ── Topic: 15\n",
            "     │    │         └─mask_rallies_addressed_aap_3d\n",
            "     │    │              ├─■──rallies_addressed_aap_3d_rally ── Topic: 7\n",
            "     │    │              └─■──referee_danger_lineage_managed_band ── Topic: 19\n",
            "     │    └─rahul_mask_modi_gandhi_ji\n",
            "     │         ├─rahul_gandhi_mask_congress_ji\n",
            "     │         │    ├─■──rahul_jaitley_jp_drrakeshparikh_bot ── Topic: 12\n",
            "     │         │    └─■──rahul_gandhi_congress_sonia_ji ── Topic: 6\n",
            "     │         └─modi_mask_tough_mr_planted\n",
            "     │              ├─■──modi_personal_tough_party_amit ── Topic: 14\n",
            "     │              └─■──modi_caste_mann_baat_believed ── Topic: 16\n",
            "     └─mask_people_india_vote_muslims\n",
            "          ├─mask_people_muslims_muslim_india\n",
            "          │    ├─■──muslims_muslim_hindu_hindus_anti ── Topic: 2\n",
            "          │    └─mask_people_india_one_nation\n",
            "          │         ├─■──india_savarkar_great_indian_tributes ── Topic: 1\n",
            "          │         └─■──people_democracy_say_time_one ── Topic: 0\n",
            "          └─mask_bjp_vote_elections_election\n",
            "               ├─mask_bjp_vote_narendramodi_congratulations\n",
            "               │    ├─■──modi_north_ji_india_government ── Topic: 20\n",
            "               │    └─mask_bjp_vote_congratulations_narendramodi\n",
            "               │         ├─■──congratulations_narendramodi_people_thank_india ── Topic: 4\n",
            "               │         └─■──bjp_vote_elections_election_seats ── Topic: 3\n",
            "               └─■──prime_minister_talk_day_lingering ── Topic: 17\n",
            "\n"
          ]
        }
      ],
      "source": [
        "hierarchical_topics = model.hierarchical_topics(masked_docs, doc_topics)\n",
        "print(hierarchical_topics)\n",
        "\n",
        "# h_topics = remove_masks(hierarchical_topics)\n",
        "# Print topic tree\n",
        "tree = model.get_topic_tree(hierarchical_topics)\n",
        "print(tree)"
      ]
    },
    {
      "cell_type": "code",
      "execution_count": 64,
      "metadata": {
        "colab": {
          "base_uri": "https://localhost:8080/",
          "height": 924
        },
        "id": "q8TzTB2jGNQI",
        "outputId": "96fffe77-f924-4f6b-f6b2-fd2373096052"
      },
      "outputs": [
        {
          "output_type": "stream",
          "name": "stderr",
          "text": [
            "/usr/local/lib/python3.7/dist-packages/plotly/express/_imshow.py:354: DeprecationWarning:\n",
            "\n",
            "`np.bool` is a deprecated alias for the builtin `bool`. To silence this warning, use `bool` by itself. Doing this will not modify any behavior and is safe. If you specifically wanted the numpy scalar type, use `np.bool_` here.\n",
            "Deprecated in NumPy 1.20; for more details and guidance: https://numpy.org/devdocs/release/1.20.0-notes.html#deprecations\n",
            "\n"
          ]
        },
        {
          "output_type": "display_data",
          "data": {
            "text/html": [
              "<html>\n",
              "<head><meta charset=\"utf-8\" /></head>\n",
              "<body>\n",
              "    <div>            <script src=\"https://cdnjs.cloudflare.com/ajax/libs/mathjax/2.7.5/MathJax.js?config=TeX-AMS-MML_SVG\"></script><script type=\"text/javascript\">if (window.MathJax) {MathJax.Hub.Config({SVG: {font: \"STIX-Web\"}});}</script>                <script type=\"text/javascript\">window.PlotlyConfig = {MathJaxConfig: 'local'};</script>\n",
              "        <script src=\"https://cdn.plot.ly/plotly-2.8.3.min.js\"></script>                <div id=\"ebf4eb9b-6c6a-4b27-870c-551477fb93cd\" class=\"plotly-graph-div\" style=\"height:800px; width:800px;\"></div>            <script type=\"text/javascript\">                                    window.PLOTLYENV=window.PLOTLYENV || {};                                    if (document.getElementById(\"ebf4eb9b-6c6a-4b27-870c-551477fb93cd\")) {                    Plotly.newPlot(                        \"ebf4eb9b-6c6a-4b27-870c-551477fb93cd\",                        [{\"coloraxis\":\"coloraxis\",\"name\":\"0\",\"x\":[\"0_people_democracy_say\",\"1_india_savarkar_great\",\"2_muslims_muslim_hindu\",\"3_bjp_vote_elections\",\"4_congratulations_narendram...\",\"5_accused_case_murder\",\"6_rahul_gandhi_congress\",\"7_rallies_addressed_aap\",\"8_kashmiri_kashmiris_kashmir\",\"9_pakistan_indian_terror\",\"10_nda_seemandhra_mp\",\"11_data_govt_employment\",\"12_rahul_jaitley_jp\",\"13_bjp_nationalism_congress\",\"14_modi_personal_tough\",\"15_bjp_media_disgrace\",\"16_modi_caste_mann\",\"17_prime_minister_talk\",\"18_tax_ministries_toward\",\"19_referee_danger_lineage\",\"20_modi_north_ji\",\"21_festival_blessings_today\"],\"y\":[\"0_people_democracy_say\",\"1_india_savarkar_great\",\"2_muslims_muslim_hindu\",\"3_bjp_vote_elections\",\"4_congratulations_narendram...\",\"5_accused_case_murder\",\"6_rahul_gandhi_congress\",\"7_rallies_addressed_aap\",\"8_kashmiri_kashmiris_kashmir\",\"9_pakistan_indian_terror\",\"10_nda_seemandhra_mp\",\"11_data_govt_employment\",\"12_rahul_jaitley_jp\",\"13_bjp_nationalism_congress\",\"14_modi_personal_tough\",\"15_bjp_media_disgrace\",\"16_modi_caste_mann\",\"17_prime_minister_talk\",\"18_tax_ministries_toward\",\"19_referee_danger_lineage\",\"20_modi_north_ji\",\"21_festival_blessings_today\"],\"z\":[[1.0,0.8380865077169231,0.8399697024388035,0.6986401267451346,0.7554511640214805,0.7984959137117689,0.6882797879888954,0.7628808660030536,0.6914763850634251,0.7287227469109145,0.7600115153921393,0.774924208206162,0.7347221514590636,0.77570611742729,0.8718581566213309,0.7948657328284932,0.8419682573003154,0.8190512894870142,0.7714773074043582,0.7148795880430682,0.7624862254370961,0.8973531104471737],[0.8380865077169231,1.0000000000000002,0.7824757096772247,0.6668182235146498,0.6625463077651991,0.6863874725930992,0.6831802641529517,0.5943045955327655,0.6856089404497903,0.6379808986287859,0.6291466134135878,0.7051122551190677,0.6920945108843932,0.643890597146497,0.7499937778421455,0.7149352520722284,0.7398884231583283,0.6367763875137085,0.7659070614954927,0.7007527961477267,0.8154106374173067,0.7318435652729874],[0.8399697024388035,0.7824757096772247,1.0,0.6467597552669667,0.6106800100890099,0.7635684054391807,0.6292439859770099,0.7332037783522974,0.6855978698225623,0.7236000994832132,0.7578800052364406,0.7651935297468496,0.6578997798839052,0.799669312652943,0.7250992272920956,0.7518091084466929,0.7985227598332696,0.7753038145132375,0.7191212604022678,0.6503017266128094,0.8183567394389684,0.8102144732292551],[0.6986401267451346,0.6668182235146498,0.6467597552669667,1.0000000000000004,0.591344631783043,0.600314561393483,0.5758045805604018,0.5952796688775088,0.5414474443852547,0.7374970721477381,0.6928176362579197,0.6360809620434755,0.6033876690438715,0.5856732730888544,0.6861352036290412,0.5774571335080237,0.7017843053320196,0.6206169171898548,0.5734455055258727,0.5990077911110373,0.6137988745392067,0.6318712161798057],[0.7554511640214805,0.6625463077651991,0.6106800100890099,0.591344631783043,0.9999999999999993,0.6415033344518599,0.5789633647047123,0.6403530314947485,0.6513488837250023,0.6196411825224499,0.5584226986500058,0.6293151701186743,0.6565936424617852,0.5752602798943882,0.8365401197876513,0.6588876724820918,0.7453641963053623,0.6289085561944143,0.6629218673346914,0.6899247389614467,0.6140585711272982,0.7282973522696911],[0.7984959137117689,0.6863874725930992,0.7635684054391807,0.600314561393483,0.6415033344518599,1.0000000000000004,0.598775593974987,0.7347952272458291,0.6272419082034203,0.6687569655424236,0.678976895411848,0.6975223906868595,0.6417434255188055,0.7536272656137533,0.7210780745818787,0.782756593981567,0.757600904773164,0.7960616214865548,0.6974793221236897,0.6513462873186757,0.6923624369622514,0.7968217494337492],[0.6882797879888954,0.6831802641529517,0.6292439859770099,0.5758045805604018,0.5789633647047123,0.598775593974987,1.0,0.5487265395431198,0.5758485940675875,0.5701983089194141,0.5568843069716215,0.608861568119305,0.6249934802490418,0.5679011239306211,0.6487755567975048,0.6210955059705722,0.6545288924060979,0.5783794099986235,0.6617992625198784,0.6725641789332051,0.7005168919117912,0.6628557252488575],[0.7628808660030536,0.5943045955327655,0.7332037783522974,0.5952796688775088,0.6403530314947485,0.7347952272458291,0.5487265395431198,1.0000000000000002,0.5890287943608761,0.6951165693664443,0.6623781636407438,0.6666110815514084,0.5675808104206397,0.8868582810699928,0.7356737322777119,0.7002778184272476,0.7820623356660297,0.8135381518517839,0.6100367283539037,0.5608666490111822,0.650096074546771,0.7718605209275431],[0.6914763850634251,0.6856089404497903,0.6855978698225623,0.5414474443852547,0.6513488837250023,0.6272419082034203,0.5758485940675875,0.5890287943608761,1.0000000000000002,0.5772946713231094,0.543534491508577,0.6999569007451301,0.6331995540979929,0.6046839721765989,0.6874648571079686,0.6402727913917293,0.7248591642886804,0.6026469737011761,0.7099624766491424,0.7032129655904832,0.7223259004109686,0.702990806755865],[0.7287227469109145,0.6379808986287859,0.7236000994832132,0.7374970721477381,0.6196411825224499,0.6687569655424236,0.5701983089194141,0.6951165693664443,0.5772946713231094,0.9999999999999998,0.7894636213848115,0.6992383771453025,0.6462967369612806,0.676852292039465,0.6921763567976295,0.6487483240150523,0.7598294697371537,0.7021563972037471,0.5782266458242077,0.5795281042256933,0.6225801551722281,0.7296198955479041],[0.7600115153921393,0.6291466134135878,0.7578800052364406,0.6928176362579197,0.5584226986500058,0.678976895411848,0.5568843069716215,0.6623781636407438,0.543534491508577,0.7894636213848115,1.0,0.7222830471592803,0.6308250425079047,0.6722477333533493,0.6681080264242394,0.6304535692163602,0.7115677772677571,0.6831597282199778,0.5779258491179758,0.5424955736300816,0.6269560386343669,0.7566098068675646],[0.774924208206162,0.7051122551190677,0.7651935297468496,0.6360809620434755,0.6293151701186743,0.6975223906868595,0.608861568119305,0.6666110815514084,0.6999569007451301,0.6992383771453025,0.7222830471592803,0.9999999999999992,0.7539055273214874,0.7002897216848947,0.7349501528343304,0.671710935348969,0.7766072882735143,0.7007654042180813,0.7232146170830005,0.6701063417831904,0.7343398001433754,0.782810299476028],[0.7347221514590636,0.6920945108843932,0.6578997798839052,0.6033876690438715,0.6565936424617852,0.6417434255188055,0.6249934802490418,0.5675808104206397,0.6331995540979929,0.6462967369612806,0.6308250425079047,0.7539055273214874,0.9999999999999999,0.5669741582942338,0.7485609858487074,0.6558818271391271,0.7156476833926944,0.6120335354025676,0.6813681463861655,0.7261609551239192,0.668905193134854,0.7495017619867681],[0.77570611742729,0.643890597146497,0.799669312652943,0.5856732730888544,0.5752602798943882,0.7536272656137533,0.5679011239306211,0.8868582810699928,0.6046839721765989,0.676852292039465,0.6722477333533493,0.7002897216848947,0.5669741582942338,0.9999999999999998,0.6756797144742825,0.7477154094989533,0.7910887168862593,0.8427018836958227,0.6599698930555,0.5595687530172468,0.7342775628268439,0.7704592323487494],[0.8718581566213309,0.7499937778421455,0.7250992272920956,0.6861352036290412,0.8365401197876513,0.7210780745818787,0.6487755567975048,0.7356737322777119,0.6874648571079686,0.6921763567976295,0.6681080264242394,0.7349501528343304,0.7485609858487074,0.6756797144742825,1.0000000000000004,0.7368825654880169,0.8552553136077541,0.7345222678855132,0.7269754213796964,0.7376401742705024,0.710805110806568,0.8574600356904784],[0.7948657328284932,0.7149352520722284,0.7518091084466929,0.5774571335080237,0.6588876724820918,0.782756593981567,0.6210955059705722,0.7002778184272476,0.6402727913917293,0.6487483240150523,0.6304535692163602,0.671710935348969,0.6558818271391271,0.7477154094989533,0.7368825654880169,0.9999999999999996,0.7681139513595596,0.8246439161300422,0.7524207018758142,0.667855453011183,0.728013415078913,0.7643013948323102],[0.8419682573003154,0.7398884231583283,0.7985227598332696,0.7017843053320196,0.7453641963053623,0.757600904773164,0.6545288924060979,0.7820623356660297,0.7248591642886804,0.7598294697371537,0.7115677772677571,0.7766072882735143,0.7156476833926944,0.7910887168862593,0.8552553136077541,0.7681139513595596,1.0,0.8120890906571362,0.7326066488647371,0.7245943385229947,0.7703594814113813,0.8304225176257227],[0.8190512894870142,0.6367763875137085,0.7753038145132375,0.6206169171898548,0.6289085561944143,0.7960616214865548,0.5783794099986235,0.8135381518517839,0.6026469737011761,0.7021563972037471,0.6831597282199778,0.7007654042180813,0.6120335354025676,0.8427018836958227,0.7345222678855132,0.8246439161300422,0.8120890906571362,1.0,0.6972819526684106,0.6186367786251796,0.6884925219200633,0.8111763837134887],[0.7714773074043582,0.7659070614954927,0.7191212604022678,0.5734455055258727,0.6629218673346914,0.6974793221236897,0.6617992625198784,0.6100367283539037,0.7099624766491424,0.5782266458242077,0.5779258491179758,0.7232146170830005,0.6813681463861655,0.6599698930555,0.7269754213796964,0.7524207018758142,0.7326066488647371,0.6972819526684106,1.0000000000000007,0.7267126709684402,0.7555645647361207,0.7241489847088453],[0.7148795880430682,0.7007527961477267,0.6503017266128094,0.5990077911110373,0.6899247389614467,0.6513462873186757,0.6725641789332051,0.5608666490111822,0.7032129655904832,0.5795281042256933,0.5424955736300816,0.6701063417831904,0.7261609551239192,0.5595687530172468,0.7376401742705024,0.667855453011183,0.7245943385229947,0.6186367786251796,0.7267126709684402,0.9999999999999996,0.7111547999470773,0.7395920823711264],[0.7624862254370961,0.8154106374173067,0.8183567394389684,0.6137988745392067,0.6140585711272982,0.6923624369622514,0.7005168919117912,0.650096074546771,0.7223259004109686,0.6225801551722281,0.6269560386343669,0.7343398001433754,0.668905193134854,0.7342775628268439,0.710805110806568,0.728013415078913,0.7703594814113813,0.6884925219200633,0.7555645647361207,0.7111547999470773,1.0000000000000004,0.7293873890227854],[0.8973531104471737,0.7318435652729874,0.8102144732292551,0.6318712161798057,0.7282973522696911,0.7968217494337492,0.6628557252488575,0.7718605209275431,0.702990806755865,0.7296198955479041,0.7566098068675646,0.782810299476028,0.7495017619867681,0.7704592323487494,0.8574600356904784,0.7643013948323102,0.8304225176257227,0.8111763837134887,0.7241489847088453,0.7395920823711264,0.7293873890227854,1.0000000000000002]],\"type\":\"heatmap\",\"xaxis\":\"x\",\"yaxis\":\"y\",\"hovertemplate\":\"x: %{x}<br>y: %{y}<br>Similarity Score: %{z}<extra></extra>\"}],                        {\"template\":{\"data\":{\"bar\":[{\"error_x\":{\"color\":\"#2a3f5f\"},\"error_y\":{\"color\":\"#2a3f5f\"},\"marker\":{\"line\":{\"color\":\"#E5ECF6\",\"width\":0.5},\"pattern\":{\"fillmode\":\"overlay\",\"size\":10,\"solidity\":0.2}},\"type\":\"bar\"}],\"barpolar\":[{\"marker\":{\"line\":{\"color\":\"#E5ECF6\",\"width\":0.5},\"pattern\":{\"fillmode\":\"overlay\",\"size\":10,\"solidity\":0.2}},\"type\":\"barpolar\"}],\"carpet\":[{\"aaxis\":{\"endlinecolor\":\"#2a3f5f\",\"gridcolor\":\"white\",\"linecolor\":\"white\",\"minorgridcolor\":\"white\",\"startlinecolor\":\"#2a3f5f\"},\"baxis\":{\"endlinecolor\":\"#2a3f5f\",\"gridcolor\":\"white\",\"linecolor\":\"white\",\"minorgridcolor\":\"white\",\"startlinecolor\":\"#2a3f5f\"},\"type\":\"carpet\"}],\"choropleth\":[{\"colorbar\":{\"outlinewidth\":0,\"ticks\":\"\"},\"type\":\"choropleth\"}],\"contour\":[{\"colorbar\":{\"outlinewidth\":0,\"ticks\":\"\"},\"colorscale\":[[0.0,\"#0d0887\"],[0.1111111111111111,\"#46039f\"],[0.2222222222222222,\"#7201a8\"],[0.3333333333333333,\"#9c179e\"],[0.4444444444444444,\"#bd3786\"],[0.5555555555555556,\"#d8576b\"],[0.6666666666666666,\"#ed7953\"],[0.7777777777777778,\"#fb9f3a\"],[0.8888888888888888,\"#fdca26\"],[1.0,\"#f0f921\"]],\"type\":\"contour\"}],\"contourcarpet\":[{\"colorbar\":{\"outlinewidth\":0,\"ticks\":\"\"},\"type\":\"contourcarpet\"}],\"heatmap\":[{\"colorbar\":{\"outlinewidth\":0,\"ticks\":\"\"},\"colorscale\":[[0.0,\"#0d0887\"],[0.1111111111111111,\"#46039f\"],[0.2222222222222222,\"#7201a8\"],[0.3333333333333333,\"#9c179e\"],[0.4444444444444444,\"#bd3786\"],[0.5555555555555556,\"#d8576b\"],[0.6666666666666666,\"#ed7953\"],[0.7777777777777778,\"#fb9f3a\"],[0.8888888888888888,\"#fdca26\"],[1.0,\"#f0f921\"]],\"type\":\"heatmap\"}],\"heatmapgl\":[{\"colorbar\":{\"outlinewidth\":0,\"ticks\":\"\"},\"colorscale\":[[0.0,\"#0d0887\"],[0.1111111111111111,\"#46039f\"],[0.2222222222222222,\"#7201a8\"],[0.3333333333333333,\"#9c179e\"],[0.4444444444444444,\"#bd3786\"],[0.5555555555555556,\"#d8576b\"],[0.6666666666666666,\"#ed7953\"],[0.7777777777777778,\"#fb9f3a\"],[0.8888888888888888,\"#fdca26\"],[1.0,\"#f0f921\"]],\"type\":\"heatmapgl\"}],\"histogram\":[{\"marker\":{\"pattern\":{\"fillmode\":\"overlay\",\"size\":10,\"solidity\":0.2}},\"type\":\"histogram\"}],\"histogram2d\":[{\"colorbar\":{\"outlinewidth\":0,\"ticks\":\"\"},\"colorscale\":[[0.0,\"#0d0887\"],[0.1111111111111111,\"#46039f\"],[0.2222222222222222,\"#7201a8\"],[0.3333333333333333,\"#9c179e\"],[0.4444444444444444,\"#bd3786\"],[0.5555555555555556,\"#d8576b\"],[0.6666666666666666,\"#ed7953\"],[0.7777777777777778,\"#fb9f3a\"],[0.8888888888888888,\"#fdca26\"],[1.0,\"#f0f921\"]],\"type\":\"histogram2d\"}],\"histogram2dcontour\":[{\"colorbar\":{\"outlinewidth\":0,\"ticks\":\"\"},\"colorscale\":[[0.0,\"#0d0887\"],[0.1111111111111111,\"#46039f\"],[0.2222222222222222,\"#7201a8\"],[0.3333333333333333,\"#9c179e\"],[0.4444444444444444,\"#bd3786\"],[0.5555555555555556,\"#d8576b\"],[0.6666666666666666,\"#ed7953\"],[0.7777777777777778,\"#fb9f3a\"],[0.8888888888888888,\"#fdca26\"],[1.0,\"#f0f921\"]],\"type\":\"histogram2dcontour\"}],\"mesh3d\":[{\"colorbar\":{\"outlinewidth\":0,\"ticks\":\"\"},\"type\":\"mesh3d\"}],\"parcoords\":[{\"line\":{\"colorbar\":{\"outlinewidth\":0,\"ticks\":\"\"}},\"type\":\"parcoords\"}],\"pie\":[{\"automargin\":true,\"type\":\"pie\"}],\"scatter\":[{\"marker\":{\"colorbar\":{\"outlinewidth\":0,\"ticks\":\"\"}},\"type\":\"scatter\"}],\"scatter3d\":[{\"line\":{\"colorbar\":{\"outlinewidth\":0,\"ticks\":\"\"}},\"marker\":{\"colorbar\":{\"outlinewidth\":0,\"ticks\":\"\"}},\"type\":\"scatter3d\"}],\"scattercarpet\":[{\"marker\":{\"colorbar\":{\"outlinewidth\":0,\"ticks\":\"\"}},\"type\":\"scattercarpet\"}],\"scattergeo\":[{\"marker\":{\"colorbar\":{\"outlinewidth\":0,\"ticks\":\"\"}},\"type\":\"scattergeo\"}],\"scattergl\":[{\"marker\":{\"colorbar\":{\"outlinewidth\":0,\"ticks\":\"\"}},\"type\":\"scattergl\"}],\"scattermapbox\":[{\"marker\":{\"colorbar\":{\"outlinewidth\":0,\"ticks\":\"\"}},\"type\":\"scattermapbox\"}],\"scatterpolar\":[{\"marker\":{\"colorbar\":{\"outlinewidth\":0,\"ticks\":\"\"}},\"type\":\"scatterpolar\"}],\"scatterpolargl\":[{\"marker\":{\"colorbar\":{\"outlinewidth\":0,\"ticks\":\"\"}},\"type\":\"scatterpolargl\"}],\"scatterternary\":[{\"marker\":{\"colorbar\":{\"outlinewidth\":0,\"ticks\":\"\"}},\"type\":\"scatterternary\"}],\"surface\":[{\"colorbar\":{\"outlinewidth\":0,\"ticks\":\"\"},\"colorscale\":[[0.0,\"#0d0887\"],[0.1111111111111111,\"#46039f\"],[0.2222222222222222,\"#7201a8\"],[0.3333333333333333,\"#9c179e\"],[0.4444444444444444,\"#bd3786\"],[0.5555555555555556,\"#d8576b\"],[0.6666666666666666,\"#ed7953\"],[0.7777777777777778,\"#fb9f3a\"],[0.8888888888888888,\"#fdca26\"],[1.0,\"#f0f921\"]],\"type\":\"surface\"}],\"table\":[{\"cells\":{\"fill\":{\"color\":\"#EBF0F8\"},\"line\":{\"color\":\"white\"}},\"header\":{\"fill\":{\"color\":\"#C8D4E3\"},\"line\":{\"color\":\"white\"}},\"type\":\"table\"}]},\"layout\":{\"annotationdefaults\":{\"arrowcolor\":\"#2a3f5f\",\"arrowhead\":0,\"arrowwidth\":1},\"autotypenumbers\":\"strict\",\"coloraxis\":{\"colorbar\":{\"outlinewidth\":0,\"ticks\":\"\"}},\"colorscale\":{\"diverging\":[[0,\"#8e0152\"],[0.1,\"#c51b7d\"],[0.2,\"#de77ae\"],[0.3,\"#f1b6da\"],[0.4,\"#fde0ef\"],[0.5,\"#f7f7f7\"],[0.6,\"#e6f5d0\"],[0.7,\"#b8e186\"],[0.8,\"#7fbc41\"],[0.9,\"#4d9221\"],[1,\"#276419\"]],\"sequential\":[[0.0,\"#0d0887\"],[0.1111111111111111,\"#46039f\"],[0.2222222222222222,\"#7201a8\"],[0.3333333333333333,\"#9c179e\"],[0.4444444444444444,\"#bd3786\"],[0.5555555555555556,\"#d8576b\"],[0.6666666666666666,\"#ed7953\"],[0.7777777777777778,\"#fb9f3a\"],[0.8888888888888888,\"#fdca26\"],[1.0,\"#f0f921\"]],\"sequentialminus\":[[0.0,\"#0d0887\"],[0.1111111111111111,\"#46039f\"],[0.2222222222222222,\"#7201a8\"],[0.3333333333333333,\"#9c179e\"],[0.4444444444444444,\"#bd3786\"],[0.5555555555555556,\"#d8576b\"],[0.6666666666666666,\"#ed7953\"],[0.7777777777777778,\"#fb9f3a\"],[0.8888888888888888,\"#fdca26\"],[1.0,\"#f0f921\"]]},\"colorway\":[\"#636efa\",\"#EF553B\",\"#00cc96\",\"#ab63fa\",\"#FFA15A\",\"#19d3f3\",\"#FF6692\",\"#B6E880\",\"#FF97FF\",\"#FECB52\"],\"font\":{\"color\":\"#2a3f5f\"},\"geo\":{\"bgcolor\":\"white\",\"lakecolor\":\"white\",\"landcolor\":\"#E5ECF6\",\"showlakes\":true,\"showland\":true,\"subunitcolor\":\"white\"},\"hoverlabel\":{\"align\":\"left\"},\"hovermode\":\"closest\",\"mapbox\":{\"style\":\"light\"},\"paper_bgcolor\":\"white\",\"plot_bgcolor\":\"#E5ECF6\",\"polar\":{\"angularaxis\":{\"gridcolor\":\"white\",\"linecolor\":\"white\",\"ticks\":\"\"},\"bgcolor\":\"#E5ECF6\",\"radialaxis\":{\"gridcolor\":\"white\",\"linecolor\":\"white\",\"ticks\":\"\"}},\"scene\":{\"xaxis\":{\"backgroundcolor\":\"#E5ECF6\",\"gridcolor\":\"white\",\"gridwidth\":2,\"linecolor\":\"white\",\"showbackground\":true,\"ticks\":\"\",\"zerolinecolor\":\"white\"},\"yaxis\":{\"backgroundcolor\":\"#E5ECF6\",\"gridcolor\":\"white\",\"gridwidth\":2,\"linecolor\":\"white\",\"showbackground\":true,\"ticks\":\"\",\"zerolinecolor\":\"white\"},\"zaxis\":{\"backgroundcolor\":\"#E5ECF6\",\"gridcolor\":\"white\",\"gridwidth\":2,\"linecolor\":\"white\",\"showbackground\":true,\"ticks\":\"\",\"zerolinecolor\":\"white\"}},\"shapedefaults\":{\"line\":{\"color\":\"#2a3f5f\"}},\"ternary\":{\"aaxis\":{\"gridcolor\":\"white\",\"linecolor\":\"white\",\"ticks\":\"\"},\"baxis\":{\"gridcolor\":\"white\",\"linecolor\":\"white\",\"ticks\":\"\"},\"bgcolor\":\"#E5ECF6\",\"caxis\":{\"gridcolor\":\"white\",\"linecolor\":\"white\",\"ticks\":\"\"}},\"title\":{\"x\":0.05},\"xaxis\":{\"automargin\":true,\"gridcolor\":\"white\",\"linecolor\":\"white\",\"ticks\":\"\",\"title\":{\"standoff\":15},\"zerolinecolor\":\"white\",\"zerolinewidth\":2},\"yaxis\":{\"automargin\":true,\"gridcolor\":\"white\",\"linecolor\":\"white\",\"ticks\":\"\",\"title\":{\"standoff\":15},\"zerolinecolor\":\"white\",\"zerolinewidth\":2}}},\"xaxis\":{\"anchor\":\"y\",\"domain\":[0.0,1.0],\"scaleanchor\":\"y\",\"constrain\":\"domain\"},\"yaxis\":{\"anchor\":\"x\",\"domain\":[0.0,1.0],\"autorange\":\"reversed\",\"constrain\":\"domain\"},\"coloraxis\":{\"colorbar\":{\"title\":{\"text\":\"Similarity Score\"}},\"colorscale\":[[0.0,\"rgb(247,252,240)\"],[0.125,\"rgb(224,243,219)\"],[0.25,\"rgb(204,235,197)\"],[0.375,\"rgb(168,221,181)\"],[0.5,\"rgb(123,204,196)\"],[0.625,\"rgb(78,179,211)\"],[0.75,\"rgb(43,140,190)\"],[0.875,\"rgb(8,104,172)\"],[1.0,\"rgb(8,64,129)\"]]},\"margin\":{\"t\":60},\"title\":{\"font\":{\"size\":22,\"color\":\"Black\"},\"text\":\"<b>Similarity Matrix\",\"y\":0.95,\"x\":0.55,\"xanchor\":\"center\",\"yanchor\":\"top\"},\"hoverlabel\":{\"font\":{\"size\":16,\"family\":\"Rockwell\"},\"bgcolor\":\"white\"},\"width\":800,\"height\":800,\"showlegend\":true,\"legend\":{\"title\":{\"text\":\"Trend\"}}},                        {\"responsive\": true}                    ).then(function(){\n",
              "                            \n",
              "var gd = document.getElementById('ebf4eb9b-6c6a-4b27-870c-551477fb93cd');\n",
              "var x = new MutationObserver(function (mutations, observer) {{\n",
              "        var display = window.getComputedStyle(gd).display;\n",
              "        if (!display || display === 'none') {{\n",
              "            console.log([gd, 'removed!']);\n",
              "            Plotly.purge(gd);\n",
              "            observer.disconnect();\n",
              "        }}\n",
              "}});\n",
              "\n",
              "// Listen for the removal of the full notebook cells\n",
              "var notebookContainer = gd.closest('#notebook-container');\n",
              "if (notebookContainer) {{\n",
              "    x.observe(notebookContainer, {childList: true});\n",
              "}}\n",
              "\n",
              "// Listen for the clearing of the current output cell\n",
              "var outputEl = gd.closest('.output');\n",
              "if (outputEl) {{\n",
              "    x.observe(outputEl, {childList: true});\n",
              "}}\n",
              "\n",
              "                        })                };                            </script>        </div>\n",
              "</body>\n",
              "</html>"
            ]
          },
          "metadata": {}
        }
      ],
      "source": [
        "model.visualize_heatmap()"
      ]
    },
    {
      "cell_type": "markdown",
      "metadata": {
        "id": "RMH8HpynKEtg"
      },
      "source": [
        "---"
      ]
    },
    {
      "cell_type": "markdown",
      "metadata": {
        "id": "7yLviWMEV_3k"
      },
      "source": [
        "# Contextualised Topic Modelling"
      ]
    },
    {
      "cell_type": "code",
      "execution_count": 65,
      "metadata": {
        "id": "xl9RpgDGGcJd",
        "colab": {
          "base_uri": "https://localhost:8080/"
        },
        "outputId": "4abd60fb-449f-443e-9acc-1c606204156d"
      },
      "outputs": [
        {
          "output_type": "stream",
          "name": "stdout",
          "text": [
            "Looking in indexes: https://pypi.org/simple, https://us-python.pkg.dev/colab-wheels/public/simple/\n",
            "Requirement already satisfied: contextualized-topic-models==2.2.0 in /usr/local/lib/python3.7/dist-packages (2.2.0)\n",
            "Requirement already satisfied: torchvision>=0.7.0 in /usr/local/lib/python3.7/dist-packages (from contextualized-topic-models==2.2.0) (0.13.1+cu113)\n",
            "Requirement already satisfied: ipywidgets==7.5.1 in /usr/local/lib/python3.7/dist-packages (from contextualized-topic-models==2.2.0) (7.5.1)\n",
            "Requirement already satisfied: wordcloud>=1.8.1 in /usr/local/lib/python3.7/dist-packages (from contextualized-topic-models==2.2.0) (1.8.2.2)\n",
            "Requirement already satisfied: matplotlib>=3.1.3 in /usr/local/lib/python3.7/dist-packages (from contextualized-topic-models==2.2.0) (3.2.2)\n",
            "Requirement already satisfied: tqdm>=4.56.0 in /usr/local/lib/python3.7/dist-packages (from contextualized-topic-models==2.2.0) (4.64.0)\n",
            "Requirement already satisfied: numpy>=1.19.1 in /usr/local/lib/python3.7/dist-packages (from contextualized-topic-models==2.2.0) (1.21.6)\n",
            "Requirement already satisfied: scipy>=1.4.1 in /usr/local/lib/python3.7/dist-packages (from contextualized-topic-models==2.2.0) (1.7.3)\n",
            "Requirement already satisfied: ipython==7.16.1 in /usr/local/lib/python3.7/dist-packages (from contextualized-topic-models==2.2.0) (7.16.1)\n",
            "Requirement already satisfied: torch>=1.6.0 in /usr/local/lib/python3.7/dist-packages (from contextualized-topic-models==2.2.0) (1.12.1+cu113)\n",
            "Requirement already satisfied: sentence-transformers>=1.1.1 in /usr/local/lib/python3.7/dist-packages (from contextualized-topic-models==2.2.0) (2.2.2)\n",
            "Requirement already satisfied: gensim>=3.8.3 in /usr/local/lib/python3.7/dist-packages (from contextualized-topic-models==2.2.0) (4.2.0)\n",
            "Requirement already satisfied: pexpect in /usr/local/lib/python3.7/dist-packages (from ipython==7.16.1->contextualized-topic-models==2.2.0) (4.8.0)\n",
            "Requirement already satisfied: backcall in /usr/local/lib/python3.7/dist-packages (from ipython==7.16.1->contextualized-topic-models==2.2.0) (0.2.0)\n",
            "Requirement already satisfied: decorator in /usr/local/lib/python3.7/dist-packages (from ipython==7.16.1->contextualized-topic-models==2.2.0) (4.4.2)\n",
            "Requirement already satisfied: traitlets>=4.2 in /usr/local/lib/python3.7/dist-packages (from ipython==7.16.1->contextualized-topic-models==2.2.0) (5.1.1)\n",
            "Requirement already satisfied: pygments in /usr/local/lib/python3.7/dist-packages (from ipython==7.16.1->contextualized-topic-models==2.2.0) (2.6.1)\n",
            "Requirement already satisfied: setuptools>=18.5 in /usr/local/lib/python3.7/dist-packages (from ipython==7.16.1->contextualized-topic-models==2.2.0) (57.4.0)\n",
            "Requirement already satisfied: prompt-toolkit!=3.0.0,!=3.0.1,<3.1.0,>=2.0.0 in /usr/local/lib/python3.7/dist-packages (from ipython==7.16.1->contextualized-topic-models==2.2.0) (3.0.30)\n",
            "Requirement already satisfied: jedi>=0.10 in /usr/local/lib/python3.7/dist-packages (from ipython==7.16.1->contextualized-topic-models==2.2.0) (0.18.1)\n",
            "Requirement already satisfied: pickleshare in /usr/local/lib/python3.7/dist-packages (from ipython==7.16.1->contextualized-topic-models==2.2.0) (0.7.5)\n",
            "Requirement already satisfied: nbformat>=4.2.0 in /usr/local/lib/python3.7/dist-packages (from ipywidgets==7.5.1->contextualized-topic-models==2.2.0) (5.4.0)\n",
            "Requirement already satisfied: widgetsnbextension~=3.5.0 in /usr/local/lib/python3.7/dist-packages (from ipywidgets==7.5.1->contextualized-topic-models==2.2.0) (3.5.2)\n",
            "Requirement already satisfied: ipykernel>=4.5.1 in /usr/local/lib/python3.7/dist-packages (from ipywidgets==7.5.1->contextualized-topic-models==2.2.0) (4.10.1)\n",
            "Requirement already satisfied: smart-open>=1.8.1 in /usr/local/lib/python3.7/dist-packages (from gensim>=3.8.3->contextualized-topic-models==2.2.0) (5.2.1)\n",
            "Requirement already satisfied: tornado>=4.0 in /usr/local/lib/python3.7/dist-packages (from ipykernel>=4.5.1->ipywidgets==7.5.1->contextualized-topic-models==2.2.0) (5.1.1)\n",
            "Requirement already satisfied: jupyter-client in /usr/local/lib/python3.7/dist-packages (from ipykernel>=4.5.1->ipywidgets==7.5.1->contextualized-topic-models==2.2.0) (5.3.5)\n",
            "Requirement already satisfied: parso<0.9.0,>=0.8.0 in /usr/local/lib/python3.7/dist-packages (from jedi>=0.10->ipython==7.16.1->contextualized-topic-models==2.2.0) (0.8.3)\n",
            "Requirement already satisfied: kiwisolver>=1.0.1 in /usr/local/lib/python3.7/dist-packages (from matplotlib>=3.1.3->contextualized-topic-models==2.2.0) (1.4.4)\n",
            "Requirement already satisfied: pyparsing!=2.0.4,!=2.1.2,!=2.1.6,>=2.0.1 in /usr/local/lib/python3.7/dist-packages (from matplotlib>=3.1.3->contextualized-topic-models==2.2.0) (3.0.9)\n",
            "Requirement already satisfied: python-dateutil>=2.1 in /usr/local/lib/python3.7/dist-packages (from matplotlib>=3.1.3->contextualized-topic-models==2.2.0) (2.8.2)\n",
            "Requirement already satisfied: cycler>=0.10 in /usr/local/lib/python3.7/dist-packages (from matplotlib>=3.1.3->contextualized-topic-models==2.2.0) (0.11.0)\n",
            "Requirement already satisfied: typing-extensions in /usr/local/lib/python3.7/dist-packages (from kiwisolver>=1.0.1->matplotlib>=3.1.3->contextualized-topic-models==2.2.0) (4.1.1)\n",
            "Requirement already satisfied: jupyter-core in /usr/local/lib/python3.7/dist-packages (from nbformat>=4.2.0->ipywidgets==7.5.1->contextualized-topic-models==2.2.0) (4.11.1)\n",
            "Requirement already satisfied: fastjsonschema in /usr/local/lib/python3.7/dist-packages (from nbformat>=4.2.0->ipywidgets==7.5.1->contextualized-topic-models==2.2.0) (2.16.1)\n",
            "Requirement already satisfied: jsonschema>=2.6 in /usr/local/lib/python3.7/dist-packages (from nbformat>=4.2.0->ipywidgets==7.5.1->contextualized-topic-models==2.2.0) (4.3.3)\n",
            "Requirement already satisfied: attrs>=17.4.0 in /usr/local/lib/python3.7/dist-packages (from jsonschema>=2.6->nbformat>=4.2.0->ipywidgets==7.5.1->contextualized-topic-models==2.2.0) (22.1.0)\n",
            "Requirement already satisfied: pyrsistent!=0.17.0,!=0.17.1,!=0.17.2,>=0.14.0 in /usr/local/lib/python3.7/dist-packages (from jsonschema>=2.6->nbformat>=4.2.0->ipywidgets==7.5.1->contextualized-topic-models==2.2.0) (0.18.1)\n",
            "Requirement already satisfied: importlib-metadata in /usr/local/lib/python3.7/dist-packages (from jsonschema>=2.6->nbformat>=4.2.0->ipywidgets==7.5.1->contextualized-topic-models==2.2.0) (4.12.0)\n",
            "Requirement already satisfied: importlib-resources>=1.4.0 in /usr/local/lib/python3.7/dist-packages (from jsonschema>=2.6->nbformat>=4.2.0->ipywidgets==7.5.1->contextualized-topic-models==2.2.0) (5.9.0)\n",
            "Requirement already satisfied: zipp>=3.1.0 in /usr/local/lib/python3.7/dist-packages (from importlib-resources>=1.4.0->jsonschema>=2.6->nbformat>=4.2.0->ipywidgets==7.5.1->contextualized-topic-models==2.2.0) (3.8.1)\n",
            "Requirement already satisfied: wcwidth in /usr/local/lib/python3.7/dist-packages (from prompt-toolkit!=3.0.0,!=3.0.1,<3.1.0,>=2.0.0->ipython==7.16.1->contextualized-topic-models==2.2.0) (0.2.5)\n",
            "Requirement already satisfied: six>=1.5 in /usr/local/lib/python3.7/dist-packages (from python-dateutil>=2.1->matplotlib>=3.1.3->contextualized-topic-models==2.2.0) (1.15.0)\n",
            "Requirement already satisfied: sentencepiece in /usr/local/lib/python3.7/dist-packages (from sentence-transformers>=1.1.1->contextualized-topic-models==2.2.0) (0.1.97)\n",
            "Requirement already satisfied: scikit-learn in /usr/local/lib/python3.7/dist-packages (from sentence-transformers>=1.1.1->contextualized-topic-models==2.2.0) (1.0.2)\n",
            "Requirement already satisfied: nltk in /usr/local/lib/python3.7/dist-packages (from sentence-transformers>=1.1.1->contextualized-topic-models==2.2.0) (3.7)\n",
            "Requirement already satisfied: huggingface-hub>=0.4.0 in /usr/local/lib/python3.7/dist-packages (from sentence-transformers>=1.1.1->contextualized-topic-models==2.2.0) (0.8.1)\n",
            "Requirement already satisfied: transformers<5.0.0,>=4.6.0 in /usr/local/lib/python3.7/dist-packages (from sentence-transformers>=1.1.1->contextualized-topic-models==2.2.0) (4.21.1)\n",
            "Requirement already satisfied: pyyaml>=5.1 in /usr/local/lib/python3.7/dist-packages (from huggingface-hub>=0.4.0->sentence-transformers>=1.1.1->contextualized-topic-models==2.2.0) (5.4.1)\n",
            "Requirement already satisfied: requests in /usr/local/lib/python3.7/dist-packages (from huggingface-hub>=0.4.0->sentence-transformers>=1.1.1->contextualized-topic-models==2.2.0) (2.23.0)\n",
            "Requirement already satisfied: filelock in /usr/local/lib/python3.7/dist-packages (from huggingface-hub>=0.4.0->sentence-transformers>=1.1.1->contextualized-topic-models==2.2.0) (3.7.1)\n",
            "Requirement already satisfied: packaging>=20.9 in /usr/local/lib/python3.7/dist-packages (from huggingface-hub>=0.4.0->sentence-transformers>=1.1.1->contextualized-topic-models==2.2.0) (21.3)\n",
            "Requirement already satisfied: pillow!=8.3.*,>=5.3.0 in /usr/local/lib/python3.7/dist-packages (from torchvision>=0.7.0->contextualized-topic-models==2.2.0) (7.1.2)\n",
            "Requirement already satisfied: regex!=2019.12.17 in /usr/local/lib/python3.7/dist-packages (from transformers<5.0.0,>=4.6.0->sentence-transformers>=1.1.1->contextualized-topic-models==2.2.0) (2022.6.2)\n",
            "Requirement already satisfied: tokenizers!=0.11.3,<0.13,>=0.11.1 in /usr/local/lib/python3.7/dist-packages (from transformers<5.0.0,>=4.6.0->sentence-transformers>=1.1.1->contextualized-topic-models==2.2.0) (0.12.1)\n",
            "Requirement already satisfied: notebook>=4.4.1 in /usr/local/lib/python3.7/dist-packages (from widgetsnbextension~=3.5.0->ipywidgets==7.5.1->contextualized-topic-models==2.2.0) (5.3.1)\n",
            "Requirement already satisfied: Send2Trash in /usr/local/lib/python3.7/dist-packages (from notebook>=4.4.1->widgetsnbextension~=3.5.0->ipywidgets==7.5.1->contextualized-topic-models==2.2.0) (1.8.0)\n",
            "Requirement already satisfied: jinja2 in /usr/local/lib/python3.7/dist-packages (from notebook>=4.4.1->widgetsnbextension~=3.5.0->ipywidgets==7.5.1->contextualized-topic-models==2.2.0) (2.11.3)\n",
            "Requirement already satisfied: terminado>=0.8.1 in /usr/local/lib/python3.7/dist-packages (from notebook>=4.4.1->widgetsnbextension~=3.5.0->ipywidgets==7.5.1->contextualized-topic-models==2.2.0) (0.13.3)\n",
            "Requirement already satisfied: nbconvert in /usr/local/lib/python3.7/dist-packages (from notebook>=4.4.1->widgetsnbextension~=3.5.0->ipywidgets==7.5.1->contextualized-topic-models==2.2.0) (5.6.1)\n",
            "Requirement already satisfied: ipython-genutils in /usr/local/lib/python3.7/dist-packages (from notebook>=4.4.1->widgetsnbextension~=3.5.0->ipywidgets==7.5.1->contextualized-topic-models==2.2.0) (0.2.0)\n",
            "Requirement already satisfied: pyzmq>=13 in /usr/local/lib/python3.7/dist-packages (from jupyter-client->ipykernel>=4.5.1->ipywidgets==7.5.1->contextualized-topic-models==2.2.0) (23.2.0)\n",
            "Requirement already satisfied: ptyprocess in /usr/local/lib/python3.7/dist-packages (from terminado>=0.8.1->notebook>=4.4.1->widgetsnbextension~=3.5.0->ipywidgets==7.5.1->contextualized-topic-models==2.2.0) (0.7.0)\n",
            "Requirement already satisfied: MarkupSafe>=0.23 in /usr/local/lib/python3.7/dist-packages (from jinja2->notebook>=4.4.1->widgetsnbextension~=3.5.0->ipywidgets==7.5.1->contextualized-topic-models==2.2.0) (2.0.1)\n",
            "Requirement already satisfied: bleach in /usr/local/lib/python3.7/dist-packages (from nbconvert->notebook>=4.4.1->widgetsnbextension~=3.5.0->ipywidgets==7.5.1->contextualized-topic-models==2.2.0) (5.0.1)\n",
            "Requirement already satisfied: entrypoints>=0.2.2 in /usr/local/lib/python3.7/dist-packages (from nbconvert->notebook>=4.4.1->widgetsnbextension~=3.5.0->ipywidgets==7.5.1->contextualized-topic-models==2.2.0) (0.4)\n",
            "Requirement already satisfied: pandocfilters>=1.4.1 in /usr/local/lib/python3.7/dist-packages (from nbconvert->notebook>=4.4.1->widgetsnbextension~=3.5.0->ipywidgets==7.5.1->contextualized-topic-models==2.2.0) (1.5.0)\n",
            "Requirement already satisfied: defusedxml in /usr/local/lib/python3.7/dist-packages (from nbconvert->notebook>=4.4.1->widgetsnbextension~=3.5.0->ipywidgets==7.5.1->contextualized-topic-models==2.2.0) (0.7.1)\n",
            "Requirement already satisfied: mistune<2,>=0.8.1 in /usr/local/lib/python3.7/dist-packages (from nbconvert->notebook>=4.4.1->widgetsnbextension~=3.5.0->ipywidgets==7.5.1->contextualized-topic-models==2.2.0) (0.8.4)\n",
            "Requirement already satisfied: testpath in /usr/local/lib/python3.7/dist-packages (from nbconvert->notebook>=4.4.1->widgetsnbextension~=3.5.0->ipywidgets==7.5.1->contextualized-topic-models==2.2.0) (0.6.0)\n",
            "Requirement already satisfied: webencodings in /usr/local/lib/python3.7/dist-packages (from bleach->nbconvert->notebook>=4.4.1->widgetsnbextension~=3.5.0->ipywidgets==7.5.1->contextualized-topic-models==2.2.0) (0.5.1)\n",
            "Requirement already satisfied: click in /usr/local/lib/python3.7/dist-packages (from nltk->sentence-transformers>=1.1.1->contextualized-topic-models==2.2.0) (7.1.2)\n",
            "Requirement already satisfied: joblib in /usr/local/lib/python3.7/dist-packages (from nltk->sentence-transformers>=1.1.1->contextualized-topic-models==2.2.0) (1.1.0)\n",
            "Requirement already satisfied: chardet<4,>=3.0.2 in /usr/local/lib/python3.7/dist-packages (from requests->huggingface-hub>=0.4.0->sentence-transformers>=1.1.1->contextualized-topic-models==2.2.0) (3.0.4)\n",
            "Requirement already satisfied: certifi>=2017.4.17 in /usr/local/lib/python3.7/dist-packages (from requests->huggingface-hub>=0.4.0->sentence-transformers>=1.1.1->contextualized-topic-models==2.2.0) (2022.6.15)\n",
            "Requirement already satisfied: urllib3!=1.25.0,!=1.25.1,<1.26,>=1.21.1 in /usr/local/lib/python3.7/dist-packages (from requests->huggingface-hub>=0.4.0->sentence-transformers>=1.1.1->contextualized-topic-models==2.2.0) (1.24.3)\n",
            "Requirement already satisfied: idna<3,>=2.5 in /usr/local/lib/python3.7/dist-packages (from requests->huggingface-hub>=0.4.0->sentence-transformers>=1.1.1->contextualized-topic-models==2.2.0) (2.10)\n",
            "Requirement already satisfied: threadpoolctl>=2.0.0 in /usr/local/lib/python3.7/dist-packages (from scikit-learn->sentence-transformers>=1.1.1->contextualized-topic-models==2.2.0) (3.1.0)\n"
          ]
        }
      ],
      "source": [
        "!pip install contextualized-topic-models==2.2.0"
      ]
    },
    {
      "cell_type": "code",
      "execution_count": 66,
      "metadata": {
        "id": "XjTOOYv4iBW1",
        "colab": {
          "base_uri": "https://localhost:8080/"
        },
        "outputId": "980e233e-9497-484d-fa97-0be5db2ca527"
      },
      "outputs": [
        {
          "output_type": "stream",
          "name": "stdout",
          "text": [
            "Looking in indexes: https://pypi.org/simple, https://us-python.pkg.dev/colab-wheels/public/simple/\n",
            "Requirement already satisfied: pyldavis in /usr/local/lib/python3.7/dist-packages (3.3.1)\n",
            "Requirement already satisfied: numexpr in /usr/local/lib/python3.7/dist-packages (from pyldavis) (2.8.3)\n",
            "Requirement already satisfied: gensim in /usr/local/lib/python3.7/dist-packages (from pyldavis) (4.2.0)\n",
            "Requirement already satisfied: setuptools in /usr/local/lib/python3.7/dist-packages (from pyldavis) (57.4.0)\n",
            "Requirement already satisfied: pandas>=1.2.0 in /usr/local/lib/python3.7/dist-packages (from pyldavis) (1.3.5)\n",
            "Requirement already satisfied: sklearn in /usr/local/lib/python3.7/dist-packages (from pyldavis) (0.0)\n",
            "Requirement already satisfied: scipy in /usr/local/lib/python3.7/dist-packages (from pyldavis) (1.7.3)\n",
            "Requirement already satisfied: jinja2 in /usr/local/lib/python3.7/dist-packages (from pyldavis) (2.11.3)\n",
            "Requirement already satisfied: scikit-learn in /usr/local/lib/python3.7/dist-packages (from pyldavis) (1.0.2)\n",
            "Requirement already satisfied: numpy>=1.20.0 in /usr/local/lib/python3.7/dist-packages (from pyldavis) (1.21.6)\n",
            "Requirement already satisfied: joblib in /usr/local/lib/python3.7/dist-packages (from pyldavis) (1.1.0)\n",
            "Requirement already satisfied: future in /usr/local/lib/python3.7/dist-packages (from pyldavis) (0.16.0)\n",
            "Requirement already satisfied: funcy in /usr/local/lib/python3.7/dist-packages (from pyldavis) (1.17)\n",
            "Requirement already satisfied: pytz>=2017.3 in /usr/local/lib/python3.7/dist-packages (from pandas>=1.2.0->pyldavis) (2022.1)\n",
            "Requirement already satisfied: python-dateutil>=2.7.3 in /usr/local/lib/python3.7/dist-packages (from pandas>=1.2.0->pyldavis) (2.8.2)\n",
            "Requirement already satisfied: six>=1.5 in /usr/local/lib/python3.7/dist-packages (from python-dateutil>=2.7.3->pandas>=1.2.0->pyldavis) (1.15.0)\n",
            "Requirement already satisfied: smart-open>=1.8.1 in /usr/local/lib/python3.7/dist-packages (from gensim->pyldavis) (5.2.1)\n",
            "Requirement already satisfied: MarkupSafe>=0.23 in /usr/local/lib/python3.7/dist-packages (from jinja2->pyldavis) (2.0.1)\n",
            "Requirement already satisfied: packaging in /usr/local/lib/python3.7/dist-packages (from numexpr->pyldavis) (21.3)\n",
            "Requirement already satisfied: pyparsing!=3.0.5,>=2.0.2 in /usr/local/lib/python3.7/dist-packages (from packaging->numexpr->pyldavis) (3.0.9)\n",
            "Requirement already satisfied: threadpoolctl>=2.0.0 in /usr/local/lib/python3.7/dist-packages (from scikit-learn->pyldavis) (3.1.0)\n"
          ]
        }
      ],
      "source": [
        "!pip install pyldavis"
      ]
    },
    {
      "cell_type": "markdown",
      "metadata": {
        "id": "JLz7UpS4ZSaK"
      },
      "source": [
        "## Prep"
      ]
    },
    {
      "cell_type": "code",
      "execution_count": 67,
      "metadata": {
        "id": "EEh2h__kWO8b"
      },
      "outputs": [],
      "source": [
        "import nltk\n",
        "from contextualized_topic_models.utils.preprocessing import WhiteSpacePreprocessing"
      ]
    },
    {
      "cell_type": "code",
      "execution_count": 68,
      "metadata": {
        "id": "PWgRf8iYWRb7",
        "colab": {
          "base_uri": "https://localhost:8080/"
        },
        "outputId": "e6d9f816-6a1f-4077-8a8c-ba007f1a811d"
      },
      "outputs": [
        {
          "output_type": "stream",
          "name": "stderr",
          "text": [
            "[nltk_data] Downloading package stopwords to /root/nltk_data...\n",
            "[nltk_data]   Package stopwords is already up-to-date!\n"
          ]
        },
        {
          "output_type": "execute_result",
          "data": {
            "text/plain": [
              "True"
            ]
          },
          "metadata": {},
          "execution_count": 68
        }
      ],
      "source": [
        "nltk.download('stopwords')"
      ]
    },
    {
      "cell_type": "code",
      "execution_count": 69,
      "metadata": {
        "id": "iwnDRGbNYi6F"
      },
      "outputs": [],
      "source": [
        "sp = WhiteSpacePreprocessing(docs, stopwords_language='english')"
      ]
    },
    {
      "cell_type": "code",
      "execution_count": 70,
      "metadata": {
        "id": "7-VK09myZFBo"
      },
      "outputs": [],
      "source": [
        "preprocessed_documents, unpreprocessed_documents, vocab = sp.preprocess()"
      ]
    },
    {
      "cell_type": "code",
      "execution_count": 71,
      "metadata": {
        "id": "c0_DCGrnYI68",
        "colab": {
          "base_uri": "https://localhost:8080/"
        },
        "outputId": "e6f67f74-f2b4-4f7e-9543-9c6765e8fdbb"
      },
      "outputs": [
        {
          "output_type": "execute_result",
          "data": {
            "text/plain": [
              "1999"
            ]
          },
          "metadata": {},
          "execution_count": 71
        }
      ],
      "source": [
        "len(preprocessed_documents)"
      ]
    },
    {
      "cell_type": "code",
      "execution_count": 72,
      "metadata": {
        "id": "30FSDh1eYQ5V",
        "colab": {
          "base_uri": "https://localhost:8080/"
        },
        "outputId": "3c8c8235-98ce-40b3-e0c8-c3a4f984ab57"
      },
      "outputs": [
        {
          "output_type": "execute_result",
          "data": {
            "text/plain": [
              "1999"
            ]
          },
          "metadata": {},
          "execution_count": 72
        }
      ],
      "source": [
        "len(unpreprocessed_documents)"
      ]
    },
    {
      "cell_type": "markdown",
      "metadata": {
        "id": "lCdoJ7gEZXAZ"
      },
      "source": [
        "## Train"
      ]
    },
    {
      "cell_type": "code",
      "execution_count": 73,
      "metadata": {
        "id": "JK1Z3ebXZIgV"
      },
      "outputs": [],
      "source": [
        "from contextualized_topic_models.models.ctm import CombinedTM\n",
        "from contextualized_topic_models.utils.data_preparation import TopicModelDataPreparation"
      ]
    },
    {
      "cell_type": "code",
      "execution_count": 74,
      "metadata": {
        "id": "dB00EjUqZgMG"
      },
      "outputs": [],
      "source": [
        "tp = TopicModelDataPreparation(\"paraphrase-distilroberta-base-v1\")"
      ]
    },
    {
      "cell_type": "code",
      "execution_count": 75,
      "metadata": {
        "id": "76H3p8VrZlta",
        "colab": {
          "base_uri": "https://localhost:8080/",
          "height": 49,
          "referenced_widgets": [
            "32bedd0a4e66498bb9b1d1a37c79fdba",
            "16ede3e04b82423f9cee552e4d76450f",
            "95ec7ee7643747da80e175edc957db9f",
            "537660709f074863bd050e88c469a6db",
            "8b3a8a32fbc54e0c85b09679de82ad72",
            "f6c6db7036f8460a9cb90008e671defd",
            "1fc6f1acd86c4666a3d9f4ebd069cbba",
            "0bf5f280ce904827a0ba501d33e3fb0e",
            "dfb16812e26e49978d8e1d703c689e1a",
            "24198e1ef07c421e80a5f457c398e7f6",
            "1d7912073ba34806b98767e089f3a914"
          ]
        },
        "outputId": "b65b1450-3dd0-4b14-fdd6-175c39ff82e9"
      },
      "outputs": [
        {
          "output_type": "display_data",
          "data": {
            "text/plain": [
              "Batches:   0%|          | 0/10 [00:00<?, ?it/s]"
            ],
            "application/vnd.jupyter.widget-view+json": {
              "version_major": 2,
              "version_minor": 0,
              "model_id": "32bedd0a4e66498bb9b1d1a37c79fdba"
            }
          },
          "metadata": {}
        }
      ],
      "source": [
        "training_dataset = tp.fit(text_for_contextual=unpreprocessed_documents, text_for_bow=preprocessed_documents)"
      ]
    },
    {
      "cell_type": "code",
      "execution_count": 76,
      "metadata": {
        "id": "TrOnmBuxXomq",
        "colab": {
          "base_uri": "https://localhost:8080/"
        },
        "outputId": "07984a4b-c653-4288-eeb8-35c056b64ac2"
      },
      "outputs": [
        {
          "output_type": "execute_result",
          "data": {
            "text/plain": [
              "{'X_bow': tensor([[0., 0., 0.,  ..., 0., 0., 0.]]),\n",
              " 'X_contextual': tensor([-4.0498e-02, -2.6594e-01,  1.0159e-01, -1.9433e-01,  7.1802e-02,\n",
              "          1.2669e-01,  9.4211e-02, -2.2931e-01,  1.3224e-01, -5.7586e-02,\n",
              "         -4.8656e-02, -5.0711e-01,  6.5773e-03,  1.9796e-01, -4.5504e-02,\n",
              "          3.1948e-01,  2.9208e-01,  3.6723e-01, -1.4929e-01, -6.5634e-01,\n",
              "         -3.2622e-02, -3.8401e-01,  1.6066e-01,  1.2029e-01,  5.5425e-01,\n",
              "          6.1781e-02, -2.7916e-01,  1.3890e-01, -3.2175e-01, -3.6257e-01,\n",
              "          2.1418e-02, -1.3394e-01, -8.9690e-02, -5.4047e-02,  3.1533e-01,\n",
              "          2.2677e-02, -9.5729e-02, -4.4652e-02, -3.6684e-02,  6.6625e-02,\n",
              "          1.2913e-01,  3.0115e-01, -3.7200e-03, -4.3566e-02,  3.2983e-02,\n",
              "          2.4430e-02,  8.4693e-02, -1.1726e-01,  1.2551e-01, -1.8291e-01,\n",
              "          1.0474e-01, -6.8118e-02,  1.4911e-01, -1.0972e-01,  9.5576e-02,\n",
              "          9.1948e-02, -1.0358e-02, -5.0415e-02,  1.8001e-01,  3.9566e-01,\n",
              "         -1.2335e-01, -1.7255e-01,  4.8188e-01,  1.7399e-01, -1.7885e-01,\n",
              "          1.2745e-01, -1.5966e-01,  1.8698e-01, -1.8646e-02,  8.1132e-02,\n",
              "          1.2922e-01, -7.7737e-02,  1.4390e-01,  7.0683e-01,  3.4289e-02,\n",
              "          8.7507e-01,  7.2463e-02, -9.8914e-02, -3.6305e-01,  2.6646e-01,\n",
              "          1.0594e-01, -3.2107e-01,  2.0488e-01,  5.9936e-02, -8.9469e-02,\n",
              "         -4.2035e-02, -4.5113e-02, -2.8590e-01, -2.6002e-02,  2.2234e-01,\n",
              "          6.0803e-01, -1.2766e-02, -1.6968e-01, -7.9937e-02,  2.4204e-01,\n",
              "          2.2458e-01, -3.0334e-01, -4.0409e-01,  2.0419e-01,  5.5035e-02,\n",
              "         -1.2881e-01,  5.8270e-02, -1.8565e-01,  7.5428e-02, -1.3478e-01,\n",
              "          2.8690e-01, -2.6596e-01, -6.9733e-02,  2.2855e-01,  6.5948e-03,\n",
              "         -3.7049e-02,  2.9732e-01,  1.2484e-01, -1.3644e-01,  2.7043e-01,\n",
              "         -3.2544e-01,  3.0810e-02, -6.0322e-02,  7.3416e-02,  6.3407e-02,\n",
              "          2.6985e-02, -2.3851e-02,  2.8512e-01, -4.3507e-01,  4.2337e-02,\n",
              "          1.4964e-02, -2.1839e-01, -5.5263e-03, -3.7504e-01,  2.5645e-01,\n",
              "         -1.5292e-01,  2.8368e-03,  9.3499e-02,  1.6532e-01, -2.4319e-01,\n",
              "         -6.6474e-02, -8.3980e-03,  3.5390e-02, -1.4183e-02,  6.6093e-02,\n",
              "         -5.8155e-02,  2.3976e-01,  1.1933e-01,  1.4191e-01,  4.4443e-01,\n",
              "         -1.7606e-01, -8.3630e-03, -3.1268e-01,  4.1109e-01,  1.3355e-01,\n",
              "          1.3519e-02, -1.9692e-01,  2.7427e-01, -2.0914e-01,  4.6043e-01,\n",
              "         -2.7351e-01, -1.0854e-01,  3.5784e-01,  2.6178e-01,  1.1681e-01,\n",
              "          4.8682e-02,  6.6812e-02, -6.7472e-02, -2.6582e-01, -1.7124e-01,\n",
              "          1.4902e-01,  2.9912e-01,  2.5648e-02, -2.8769e-02, -5.3331e-01,\n",
              "         -2.5981e-01, -4.6494e-01, -1.2685e-01,  3.9110e-02, -1.3593e-01,\n",
              "         -2.4028e-01,  1.1490e-01, -4.3174e-01,  4.8384e-02,  5.1033e-03,\n",
              "          5.2369e-01,  6.0290e-02,  2.3693e-01,  9.4432e-02, -9.2660e-02,\n",
              "          3.7248e-01, -1.9979e-01, -4.7015e-02, -5.8001e-02, -2.5911e-01,\n",
              "         -1.6461e-01,  1.7552e-01,  1.2705e-01, -4.7112e-02,  6.5123e-02,\n",
              "         -1.4491e-01,  1.1479e-01, -1.0748e-01,  2.0018e-01, -1.1790e-01,\n",
              "          1.1285e-01,  1.9974e-02, -1.5769e-01, -7.2713e-02, -2.8690e-01,\n",
              "         -1.9521e-01,  6.5305e-02,  1.2048e-01,  9.4375e-02, -2.8239e-01,\n",
              "          1.2928e-01,  1.0287e-01, -7.6884e-02, -2.1097e-01,  3.5934e-02,\n",
              "          2.2579e-02, -2.6551e-01, -9.8609e-02,  9.3971e-02,  6.4969e-03,\n",
              "          1.2907e-01,  6.2108e-02,  2.1036e-02, -2.2343e-01, -5.4332e-03,\n",
              "          3.4290e-01,  1.2407e-03, -8.5433e-02,  2.7913e-01,  1.6029e-01,\n",
              "         -2.3538e-01,  2.7328e-01, -3.5802e-02, -2.8423e-01,  1.8131e-01,\n",
              "         -1.3119e-01, -4.0709e-01, -8.1097e-02,  1.1115e-01,  1.0008e-01,\n",
              "          9.9441e-02, -6.0354e-02, -5.1428e-03,  1.6737e-01,  8.7827e-02,\n",
              "          3.6637e-01,  3.3172e-01, -2.5203e-01,  3.0148e-01,  3.8356e-01,\n",
              "          1.3307e-01, -1.2291e-01, -1.5897e-01,  7.9515e-02,  4.9865e-01,\n",
              "          6.3677e-03, -2.3740e-01,  1.0567e-01,  3.4303e-01,  9.5737e-02,\n",
              "          2.3659e-02,  1.0947e-01,  1.9221e-01, -3.8554e-02,  2.7677e-01,\n",
              "          6.9888e-01, -2.5748e-02,  2.8458e-02,  2.6327e-01, -9.3864e-02,\n",
              "          3.6480e-01,  1.7951e-01, -9.5490e-02,  3.1448e-01,  7.5113e-02,\n",
              "          1.4274e-02, -3.1056e-03,  2.7035e-02,  4.5279e-01,  1.0037e-01,\n",
              "         -2.7940e-01,  1.6634e-03, -6.1298e-02,  2.0991e-01, -1.4530e-01,\n",
              "         -2.4387e-01, -4.9102e-02,  7.9865e-01,  8.3322e-02, -1.1984e-01,\n",
              "         -3.7511e-02,  2.4075e-01,  1.0410e-01, -9.1377e-02, -1.7769e-01,\n",
              "         -1.5273e-01, -1.5931e-01, -4.9743e-01,  2.4414e-01,  1.3996e-01,\n",
              "         -2.4558e-01,  1.7757e-01, -6.1263e-05, -1.8039e-02, -3.7073e-01,\n",
              "          2.8761e-01,  3.2239e-01,  2.0641e-01, -2.5937e-02,  1.4149e-01,\n",
              "         -5.7780e-02, -3.9492e-02,  5.6260e-02,  2.7443e-02,  1.6251e-01,\n",
              "         -8.1114e-02, -1.2856e-03, -1.7918e-01, -1.9224e-01, -1.5718e-02,\n",
              "         -4.4859e-03, -1.9488e-01,  1.5210e-01, -5.2437e-02, -5.3443e-01,\n",
              "          8.1477e-02,  3.1139e-01, -2.1025e-01,  1.8856e-01, -1.0798e-02,\n",
              "         -1.3637e-01, -6.0044e-01,  6.4826e-02, -5.8931e-01,  9.4113e-02,\n",
              "          4.3699e-01, -7.5800e-02,  1.9716e-01,  2.0031e-02, -1.4669e-01,\n",
              "          5.2650e-01, -5.6470e-02, -1.0273e-02, -3.5007e-02,  5.7221e-02,\n",
              "          1.4605e-01,  1.4449e-01,  4.2225e-02,  1.2940e-02, -8.5066e-02,\n",
              "          1.7462e-01, -9.5669e-02, -1.2666e-01, -4.4430e-01, -4.8213e-01,\n",
              "         -1.2703e-01,  2.2309e-01,  1.1820e-01, -1.2254e-01,  6.1099e-01,\n",
              "          2.1863e-01,  5.3490e-02, -4.0911e-01,  8.8664e-02, -2.0756e-01,\n",
              "         -2.8442e-01,  1.8957e-01,  1.3444e-02,  7.7911e-02,  8.6229e-02,\n",
              "          1.8795e-01,  1.4909e-01, -1.0879e-01,  4.6881e-01,  1.2081e-01,\n",
              "          3.0846e-01, -1.2213e-02,  1.0956e-01, -5.2239e-02, -2.0257e-01,\n",
              "         -1.0730e-01, -5.4758e-02,  1.9788e-02, -7.7755e-02,  4.3968e-02,\n",
              "         -2.1657e-01, -3.7704e-02,  1.9493e-02, -3.5690e-01, -2.1475e-02,\n",
              "         -2.9254e-01, -2.9447e-01, -9.6226e-02, -2.9208e-02,  1.9859e-01,\n",
              "          2.2695e-02, -2.7040e-02,  2.0242e-01,  1.6081e-01,  9.6755e-02,\n",
              "         -8.2344e-03, -1.1762e-02, -2.5570e-01,  2.6607e-01, -1.6570e-01,\n",
              "         -6.6299e-02, -2.5904e-01, -3.0545e-01,  3.5637e-02, -2.4965e-01,\n",
              "          1.7437e-01,  2.2923e-01,  2.4793e-01,  2.7547e-01, -4.6453e-01,\n",
              "          3.3709e-02,  8.1666e-02, -3.6545e-01, -3.1666e-01,  4.0881e-01,\n",
              "         -1.1518e-01,  1.7991e-01, -6.9853e-02, -1.1477e-01,  2.3968e-02,\n",
              "          1.1774e-01,  2.6300e-01, -1.9502e-02,  3.1321e-01,  1.1483e-01,\n",
              "          1.2372e-01,  2.1001e-01, -9.2052e-02,  8.6496e-02,  3.6951e-02,\n",
              "          2.7440e-01,  8.5543e-03,  3.4844e-02,  1.0144e-02,  1.1232e-01,\n",
              "          1.7868e-01, -7.5980e-02, -7.3078e-02, -2.8684e-02, -2.0921e-01,\n",
              "         -4.9491e-02, -3.2321e-01, -9.6454e-02, -9.3400e-02,  9.9199e-02,\n",
              "          1.0626e-01,  5.9694e-03, -1.4910e-01,  8.7833e-02,  1.3261e-01,\n",
              "          3.7099e-01,  1.0055e-01, -5.6927e-02,  8.8623e-02,  2.6424e-01,\n",
              "          1.0918e-01, -1.6241e-01, -1.0107e-01,  9.4934e-02,  1.9416e-01,\n",
              "         -2.9700e-01,  2.3497e-01,  1.8263e-01, -2.3830e-01,  2.5084e-01,\n",
              "         -1.5202e-01, -2.9716e-02,  4.6320e-02,  1.1001e-01, -1.0086e-01,\n",
              "          1.0906e-01, -1.9534e-01, -2.4662e-01, -1.4682e-01,  1.5332e-01,\n",
              "          1.7806e-02, -3.0258e-02, -1.3918e-01, -5.6467e-02, -6.0680e-02,\n",
              "          2.7799e-03, -4.5254e-03, -1.1575e-01,  5.7249e-02,  8.1945e-02,\n",
              "          3.1514e-01,  1.6909e-01, -1.4368e-01,  7.9528e-03,  3.5881e-02,\n",
              "         -1.9668e-01,  4.6957e-01,  8.1240e-03,  7.4576e-03, -5.7751e-03,\n",
              "          1.1126e-01,  5.1354e-02,  1.9180e-01,  6.0745e-01, -8.7784e-02,\n",
              "         -4.6997e-02,  1.9715e-01, -6.7979e-02,  1.5351e-01, -2.1061e-02,\n",
              "         -8.1983e-02, -2.0247e-01, -4.3721e-02,  2.6971e-01, -8.2982e-02,\n",
              "         -2.5949e-01,  4.5229e-01,  1.8140e-02,  3.6312e-01, -1.3822e-01,\n",
              "          4.1875e-01, -1.6292e-01, -7.2836e-02,  5.4994e-02, -5.8941e-02,\n",
              "          1.5359e-01,  9.2143e-02, -1.1082e-01,  1.5260e-01,  2.0727e-01,\n",
              "         -1.4453e-01, -7.6418e-02, -5.3067e-04, -1.3952e-01,  2.2645e-01,\n",
              "          1.0296e-01,  4.5409e-02,  2.4758e-03,  7.2669e-02,  1.5013e-02,\n",
              "         -1.1085e-01,  2.2855e-01,  9.5713e-03, -2.2361e-01,  1.5881e-01,\n",
              "         -2.1300e-01,  4.3449e-01, -2.3690e-01, -8.7631e-02, -1.1759e-01,\n",
              "         -1.8695e-01, -3.1656e-01,  3.4914e-02, -3.3864e-01,  4.2363e-01,\n",
              "          1.1643e-01,  4.8012e-01,  2.8177e-01,  9.0024e-02,  4.4378e-01,\n",
              "         -1.4737e-01,  1.7990e-01, -1.4187e-01,  2.7188e-01,  4.9355e-02,\n",
              "          1.5017e-02,  1.8520e-01,  1.3654e-01, -2.1223e-01,  5.4826e-02,\n",
              "         -2.8408e-01,  1.6581e-01,  1.9004e-02, -5.9985e-02,  3.1503e-02,\n",
              "         -9.1810e-02, -1.1268e-02,  2.4444e-01, -1.7978e-01,  2.6495e-01,\n",
              "          8.4855e-02,  3.7908e-01,  1.3521e-01, -4.4301e-01,  2.1603e-01,\n",
              "          3.6055e-02, -3.1484e-01,  2.0350e-01,  4.9193e-02,  3.3778e-02,\n",
              "          2.3055e-01, -2.3366e-01, -1.7950e-02, -1.6029e-01,  9.0234e-02,\n",
              "          5.5375e-04, -2.4209e-01,  4.1159e-01,  2.3845e-02, -3.4981e-01,\n",
              "          8.7439e-02, -5.7995e-02,  1.5692e-01,  2.6916e-01, -7.3705e-02,\n",
              "          3.4315e-02,  2.2489e-02, -2.5403e-02, -3.7367e-02,  5.1291e-01,\n",
              "          1.0352e-01, -3.6036e-01, -2.3786e-01,  3.5764e-01, -3.8036e-01,\n",
              "         -6.8320e-02,  4.0521e-02, -6.4780e-02,  6.1159e-02,  1.7540e-01,\n",
              "          2.0063e-02,  5.1544e-05, -2.9749e-01, -2.2525e-01,  8.5996e-02,\n",
              "         -4.3854e-01, -4.9387e-02, -5.6898e-03,  1.2321e-01, -7.1481e-02,\n",
              "          2.8945e-02,  1.7245e-01, -4.6685e-02,  1.4220e-01, -5.1075e-02,\n",
              "         -1.9388e-01,  5.0724e-01, -1.8511e-01, -1.0135e-01, -1.2875e-01,\n",
              "          1.1901e-01,  2.1961e-01,  2.1929e-01,  2.8893e-01, -2.1429e-01,\n",
              "         -6.3819e-02, -3.0244e-02, -6.0916e-01,  8.9185e-02, -3.5645e-02,\n",
              "         -8.0147e-02,  1.6685e-01, -1.6322e-02,  1.2300e-01, -2.8712e-01,\n",
              "         -4.8223e-01, -9.8358e-02,  3.2030e-01, -1.0360e-01,  2.0078e-01,\n",
              "          2.7765e-02,  9.4594e-02, -9.1709e-02, -9.9386e-02, -7.1935e-02,\n",
              "          3.4659e-01, -6.7677e-02,  1.1696e-01,  8.1942e-02,  6.6318e-02,\n",
              "          5.4170e-02,  6.0748e-02, -3.0986e-02,  2.1660e-01,  1.1516e-01,\n",
              "         -3.1951e-01,  3.0255e-01,  2.6886e-01, -1.0064e-01, -1.7061e-02,\n",
              "          2.8097e-01, -1.2055e-01,  1.4618e-01, -2.6498e-01, -2.7909e-01,\n",
              "          2.3171e-01, -2.9485e-01, -1.3791e-01,  1.2135e-01,  6.0788e-02,\n",
              "          4.9171e-02,  1.0100e-01, -6.9128e-02, -1.4873e-01, -6.8901e-01,\n",
              "         -2.5864e-01, -1.3818e-01, -9.3141e-02,  6.7087e-02,  3.3938e-02,\n",
              "         -2.6515e-01, -1.1214e-01,  6.7851e-01,  1.8159e-02,  1.4760e-01,\n",
              "          9.8055e-02, -1.1408e-01, -3.0211e-01, -3.9814e-02, -1.0952e-01,\n",
              "         -2.1477e-01,  9.8387e-02,  3.6125e-02, -2.0375e-01, -5.6478e-02,\n",
              "         -6.2120e-02, -1.5183e-01,  1.5767e-01, -2.0616e-01, -6.6287e-02,\n",
              "          1.0622e-01,  6.6578e-02,  1.3568e-01, -1.3994e-01,  1.6845e-01,\n",
              "          1.3261e-01,  2.6655e-01, -6.4059e-01,  3.0556e-01, -3.3717e-01,\n",
              "          1.8037e-01,  2.4163e-01, -4.4953e-03,  4.9500e-01,  1.9628e-01,\n",
              "          4.6613e-01,  1.3498e-01, -5.2842e-02,  1.4148e-02, -1.1497e-01,\n",
              "         -1.3532e-01,  2.7992e-02, -2.2843e-01,  1.6855e-01, -9.0031e-02,\n",
              "          3.5962e-01,  2.9117e-01,  3.5543e-02,  4.2161e-01, -2.3486e-01,\n",
              "          5.1707e-01, -4.0520e-01,  1.3290e-01,  2.3898e-01, -4.8383e-01,\n",
              "          2.7475e-01, -8.9206e-02,  1.1050e-01, -1.4566e-02, -1.9343e-02,\n",
              "         -2.6720e-01, -2.6479e-01, -1.2890e-01,  1.4031e-01,  2.4331e-01,\n",
              "          4.8321e-02,  1.1948e-01, -1.6111e-01])}"
            ]
          },
          "metadata": {},
          "execution_count": 76
        }
      ],
      "source": [
        "training_dataset[0]"
      ]
    },
    {
      "cell_type": "code",
      "execution_count": 77,
      "metadata": {
        "id": "PMP5Q1aEZpeq",
        "colab": {
          "base_uri": "https://localhost:8080/"
        },
        "outputId": "6d381ab7-726b-4a8f-c1b2-2b5b01df73e6"
      },
      "outputs": [
        {
          "output_type": "stream",
          "name": "stderr",
          "text": [
            "Epoch: [50/50]\t Seen Samples: [99950/99950]\tTrain Loss: 82.46003952904186\tTime: 0:00:00.708773: : 50it [00:48,  1.02it/s]\n"
          ]
        }
      ],
      "source": [
        "ctm = CombinedTM(bow_size=len(tp.vocab), contextual_size=768, n_components=10, num_epochs=50)\n",
        "ctm.fit(training_dataset)"
      ]
    },
    {
      "cell_type": "code",
      "execution_count": 78,
      "metadata": {
        "id": "wVGNO0SZaG3w",
        "colab": {
          "base_uri": "https://localhost:8080/"
        },
        "outputId": "69e0c61b-7a53-4e48-94db-5aa71947db67"
      },
      "outputs": [
        {
          "output_type": "execute_result",
          "data": {
            "text/plain": [
              "defaultdict(list,\n",
              "            {0: ['development',\n",
              "              'debate',\n",
              "              'need',\n",
              "              'mean',\n",
              "              'leadership',\n",
              "              'yet',\n",
              "              'governance',\n",
              "              'sadhguruquotes',\n",
              "              'human',\n",
              "              'women'],\n",
              "             1: ['gujarat',\n",
              "              'mps',\n",
              "              'state',\n",
              "              'polls',\n",
              "              'last',\n",
              "              'across',\n",
              "              'elections',\n",
              "              'schools',\n",
              "              'years',\n",
              "              'since'],\n",
              "             2: ['modi',\n",
              "              'bjp',\n",
              "              'narendra',\n",
              "              'ec',\n",
              "              'pm',\n",
              "              'attack',\n",
              "              'shah',\n",
              "              'arnab',\n",
              "              'media',\n",
              "              'pragya'],\n",
              "             3: ['muslims',\n",
              "              'muslim',\n",
              "              'history',\n",
              "              'nation',\n",
              "              'hindu',\n",
              "              'issue',\n",
              "              'country',\n",
              "              'life',\n",
              "              'indian',\n",
              "              'hate'],\n",
              "             4: ['media',\n",
              "              'aap',\n",
              "              'com',\n",
              "              'http',\n",
              "              'news',\n",
              "              'case',\n",
              "              'police',\n",
              "              'article',\n",
              "              'via',\n",
              "              'volunteers'],\n",
              "             5: ['india',\n",
              "              'indian',\n",
              "              'upa',\n",
              "              'national',\n",
              "              'us',\n",
              "              'pakistan',\n",
              "              'economic',\n",
              "              'would',\n",
              "              'economy',\n",
              "              'attack'],\n",
              "             6: ['congress',\n",
              "              'rahul',\n",
              "              'party',\n",
              "              'gandhi',\n",
              "              'lok',\n",
              "              'politics',\n",
              "              'sabha',\n",
              "              'kerala',\n",
              "              'aap',\n",
              "              'lost'],\n",
              "             7: ['vote',\n",
              "              'people',\n",
              "              'elections',\n",
              "              'democracy',\n",
              "              'election',\n",
              "              'politics',\n",
              "              'want',\n",
              "              'party',\n",
              "              'time',\n",
              "              'one'],\n",
              "             8: ['india',\n",
              "              'narendramodi',\n",
              "              'pm',\n",
              "              'modi',\n",
              "              'ji',\n",
              "              'minister',\n",
              "              'new',\n",
              "              'world',\n",
              "              'us',\n",
              "              'prime'],\n",
              "             9: ['suggestion',\n",
              "              'hrd',\n",
              "              'veer',\n",
              "              'savarkar',\n",
              "              'heavy',\n",
              "              'tourism',\n",
              "              'gives',\n",
              "              'deeply',\n",
              "              'smritiirani',\n",
              "              'energy']})"
            ]
          },
          "metadata": {},
          "execution_count": 78
        }
      ],
      "source": [
        "ctm.get_topics()"
      ]
    },
    {
      "cell_type": "markdown",
      "metadata": {
        "id": "57zhI5R5b1NI"
      },
      "source": [
        "## Viz"
      ]
    },
    {
      "cell_type": "code",
      "execution_count": 79,
      "metadata": {
        "id": "4BC8aRJBaqbU",
        "colab": {
          "base_uri": "https://localhost:8080/"
        },
        "outputId": "ccda71c8-448d-4b63-9534-5fb2e652a100"
      },
      "outputs": [
        {
          "output_type": "stream",
          "name": "stderr",
          "text": [
            "Sampling: [20/20]: : 20it [00:16,  1.22it/s]\n"
          ]
        }
      ],
      "source": [
        "lda_vis_data = ctm.get_ldavis_data_format(tp.vocab, training_dataset, n_samples=20)"
      ]
    },
    {
      "cell_type": "code",
      "execution_count": 80,
      "metadata": {
        "id": "RarDO7gVb85b",
        "colab": {
          "base_uri": "https://localhost:8080/",
          "height": 861
        },
        "outputId": "55732f86-9c66-419f-8a88-d003174d8b1b"
      },
      "outputs": [
        {
          "output_type": "execute_result",
          "data": {
            "text/plain": [
              "<IPython.core.display.HTML object>"
            ],
            "text/html": [
              "\n",
              "<link rel=\"stylesheet\" type=\"text/css\" href=\"https://cdn.jsdelivr.net/gh/bmabey/pyLDAvis@3.3.1/pyLDAvis/js/ldavis.v1.0.0.css\">\n",
              "\n",
              "\n",
              "<div id=\"ldavis_el6511402138776363047962771061\"></div>\n",
              "<script type=\"text/javascript\">\n",
              "\n",
              "var ldavis_el6511402138776363047962771061_data = {\"mdsDat\": {\"x\": [0.0004546339394293333, 0.0005209143662077187, 0.0010462573658002287, 4.5297953157335405e-05, -8.251717154531262e-05, -0.00043327909973113325, 0.0003103349697903907, -1.5850217982623402e-05, -0.00033554400007726617, -0.0015102481050486716], \"y\": [-0.0009686978292657159, 0.0004434597101729522, 0.0005256174242279908, 0.000272933207844025, 0.00023956640229984378, -0.0007497093822833731, -0.00012357367265558122, -0.00022651912562393734, 0.00022405429355207892, 0.0003628689717317163], \"topics\": [1, 2, 3, 4, 5, 6, 7, 8, 9, 10], \"cluster\": [1, 1, 1, 1, 1, 1, 1, 1, 1, 1], \"Freq\": [12.155134996005316, 11.810173445832586, 11.314638680284162, 10.476024212477835, 10.0020482926956, 9.715438699611129, 9.17679705922491, 9.162052365229435, 8.383741552233122, 7.80395069640592]}, \"tinfo\": {\"Term\": [\"bibekdebroy\", \"filth\", \"meant\", \"learnt\", \"nail\", \"madam\", \"obc\", \"credibility\", \"seeking\", \"suggesting\", \"intellectually\", \"hatao\", \"ridiculous\", \"longer\", \"focussed\", \"concluded\", \"jan\", \"exchange\", \"capital\", \"reject\", \"threatened\", \"imagination\", \"managed\", \"electing\", \"forming\", \"franchise\", \"worth\", \"whatever\", \"jana\", \"detractors\", \"modi\", \"bjp\", \"narendra\", \"ec\", \"shah\", \"arnab\", \"pragya\", \"din\", \"used\", \"pm\", \"amit\", \"hemant\", \"snoopgate\", \"nomination\", \"mr\", \"ambani\", \"ask\", \"tonight\", \"farmers\", \"polling\", \"mobs\", \"pradesh\", \"accused\", \"adani\", \"attacks\", \"public\", \"priyankavsbjp\", \"electoral\", \"sadhvi\", \"fascist\", \"media\", \"attack\", \"terror\", \"loans\", \"using\", \"money\", \"muslims\", \"opposition\", \"sc\", \"forces\", \"govt\", \"days\", \"narendramodi\", \"minister\", \"pm\", \"prime\", \"ji\", \"india\", \"new\", \"world\", \"narendra\", \"modi\", \"vision\", \"largest\", \"congratulations\", \"us\", \"mandate\", \"second\", \"mr\", \"victory\", \"nuclear\", \"north\", \"day\", \"proud\", \"nda\", \"government\", \"win\", \"president\", \"office\", \"term\", \"rule\", \"ministers\", \"meeting\", \"thank\", \"forward\", \"people\", \"leaders\", \"vote\", \"election\", \"democracy\", \"people\", \"elections\", \"voters\", \"numbers\", \"future\", \"politics\", \"want\", \"large\", \"party\", \"sg\", \"polling\", \"time\", \"voted\", \"right\", \"voting\", \"votes\", \"seats\", \"polls\", \"karnataka\", \"last\", \"must\", \"electoral\", \"political\", \"kashmir\", \"hope\", \"one\", \"ballot\", \"work\", \"us\", \"come\", \"bjp\", \"today\", \"first\", \"muslim\", \"let\", \"upa\", \"india\", \"indian\", \"woof\", \"economy\", \"economic\", \"national\", \"pakistan\", \"would\", \"become\", \"us\", \"namo\", \"also\", \"strong\", \"capital\", \"air\", \"role\", \"priority\", \"terror\", \"security\", \"easy\", \"add\", \"government\", \"lead\", \"start\", \"strike\", \"world\", \"forces\", \"claims\", \"pak\", \"tax\", \"stand\", \"attack\", \"give\", \"today\", \"take\", \"history\", \"muslim\", \"nation\", \"muslims\", \"hindu\", \"hate\", \"godse\", \"faith\", \"bibekdebroy\", \"issue\", \"religious\", \"constitution\", \"hindus\", \"hurriyat\", \"life\", \"respect\", \"justice\", \"freedom\", \"many\", \"assam\", \"babasaheb\", \"country\", \"nothing\", \"name\", \"horse\", \"love\", \"conscience\", \"secular\", \"man\", \"indians\", \"indian\", \"read\", \"never\", \"cannot\", \"poor\", \"given\", \"media\", \"aap\", \"com\", \"case\", \"http\", \"anarchy\", \"news\", \"volunteers\", \"detained\", \"police\", \"journalism\", \"op\", \"via\", \"article\", \"arvindkejriwal\", \"protests\", \"fake\", \"kejriwal\", \"arvind\", \"ibnlive\", \"questions\", \"economictimes\", \"ed\", \"mr\", \"rss\", \"journalists\", \"letter\", \"hours\", \"support\", \"chowkidarchorhai\", \"students\", \"sitting\", \"videos\", \"face\", \"https\", \"rahul\", \"congress\", \"party\", \"gandhi\", \"kerala\", \"lok\", \"sabha\", \"lost\", \"priyanka\", \"seats\", \"sonia\", \"politics\", \"leader\", \"amethi\", \"cong\", \"aap\", \"dynasty\", \"neither\", \"defeat\", \"old\", \"resignation\", \"candidate\", \"rally\", \"ka\", \"massive\", \"joker\", \"wayanad\", \"longer\", \"political\", \"varanasi\", \"president\", \"left\", \"called\", \"elections\", \"back\", \"opposition\", \"comrade\", \"gujarat\", \"mps\", \"polls\", \"state\", \"across\", \"schools\", \"last\", \"since\", \"spent\", \"lakh\", \"rallies\", \"data\", \"poll\", \"exit\", \"bihar\", \"saw\", \"lok\", \"evm\", \"rs\", \"sabha\", \"punjab\", \"ministers\", \"employment\", \"constituency\", \"set\", \"orientation\", \"delhi\", \"game\", \"elections\", \"gdp\", \"years\", \"pmoindia\", \"many\", \"schemes\", \"villages\", \"first\", \"done\", \"debate\", \"development\", \"leadership\", \"sg\", \"meant\", \"yet\", \"governance\", \"mean\", \"sadhguruquotes\", \"need\", \"congi\", \"disagreed\", \"please\", \"peace\", \"tools\", \"human\", \"problem\", \"carry\", \"discussion\", \"future\", \"system\", \"views\", \"times\", \"occasion\", \"gdp\", \"verdict\", \"wrote\", \"others\", \"clear\", \"intellectually\", \"housing\", \"policy\", \"read\", \"women\", \"like\", \"corrupt\", \"empowerment\", \"say\", \"talking\", \"suggestion\", \"veer\", \"bibekdebroy\", \"hrd\", \"gives\", \"professional\", \"heavy\", \"deeply\", \"savarkar\", \"dear\", \"tourism\", \"prosperity\", \"catch\", \"smritiirani\", \"credibility\", \"road\", \"sincerely\", \"qotd\", \"energy\", \"mother\", \"keeps\", \"exchange\", \"paying\", \"offered\", \"tributes\", \"raj\", \"dance\", \"salute\", \"image\", \"opportunities\", \"fighter\", \"nehru\", \"sun\", \"festival\", \"tribute\", \"temple\", \"high\", \"feeling\"], \"Freq\": [10.0, 10.0, 10.0, 10.0, 10.0, 10.0, 10.0, 10.0, 11.0, 10.0, 10.0, 10.0, 10.0, 10.0, 10.0, 10.0, 10.0, 10.0, 10.0, 10.0, 11.0, 10.0, 11.0, 10.0, 10.0, 10.0, 10.0, 10.0, 10.0, 10.0, 1.8999854980122233, 1.8283017139806022, 1.7340041137406228, 1.6877433359428708, 1.6386492328469535, 1.6202335526774965, 1.6093521260734953, 1.5848395646087166, 1.6057883584268084, 1.680799540144542, 1.607880030153026, 1.5515129572820638, 1.5803930688286323, 1.5561125174042068, 1.591172193018867, 1.5602665871065842, 1.5861098585075095, 1.5846228142891383, 1.5527608287340038, 1.5305766203788904, 1.5450420571163206, 1.5531459031164154, 1.5683375779935822, 1.5683614018433634, 1.581269101370261, 1.5900239768862734, 1.5419986770903453, 1.5519688803680733, 1.5582599338246839, 1.5584783969700635, 1.618419825865393, 1.6393518028483451, 1.606250198547404, 1.564896043824531, 1.5706103421204245, 1.5750450038313366, 1.605518199084518, 1.5820353573491726, 1.5708566776129338, 1.5745320903595759, 1.5918637075082687, 1.5671899847067345, 1.7524601155781456, 1.692971354047546, 1.7331957566621266, 1.6461890327513, 1.7007712317209929, 1.8027015854172233, 1.6911083399136921, 1.661381660354634, 1.6342086445575799, 1.7026823568256575, 1.5703033564234834, 1.5621040669168893, 1.591340861810898, 1.658567017269835, 1.5610652935659846, 1.540236420344445, 1.5752876832579652, 1.5624304045396538, 1.523496223180027, 1.5362801251032339, 1.6163006216582896, 1.5590077174558328, 1.584369007229426, 1.5749528732629825, 1.5520785273201743, 1.5535994694257151, 1.552764033008049, 1.51305311666684, 1.555675654496275, 1.5116158392369545, 1.5495183579866456, 1.5630555445754735, 1.553084470228733, 1.5631538846101498, 1.550858505720743, 1.719906087725778, 1.6272311080369357, 1.6276572445471107, 1.6643549902371266, 1.640261898696034, 1.5256697326670334, 1.5003356272483495, 1.5424470459502821, 1.5900822954014555, 1.5817388614098904, 1.5135507871730747, 1.5759336935972996, 1.4932491510174095, 1.4612922464752853, 1.56554900774424, 1.4737777563346293, 1.5344635088821064, 1.483767178832843, 1.4832261014204338, 1.4503186515607154, 1.4969997320845139, 1.423647868966238, 1.515160974415093, 1.5436574765613267, 1.4703822890260039, 1.5119363965437111, 1.4878834545989854, 1.50263386551547, 1.5532035141668108, 1.4743595631209703, 1.5076025592463536, 1.5308181574430246, 1.5060886150801027, 1.5079023042473882, 1.500361427349986, 1.4903191001489786, 1.4876373390227007, 1.4853344625350613, 1.455101398137076, 1.5243849113055854, 1.484421328999165, 1.3595250020818948, 1.4011895878059608, 1.4234103960021691, 1.4355350946825665, 1.4310694071302525, 1.4137174276513764, 1.3832488665524725, 1.4329738599507504, 1.3708118810907841, 1.3748050453268432, 1.3412087851627201, 1.336144827532626, 1.3859312851964094, 1.3573129595309634, 1.3429417285261962, 1.3951113355935736, 1.3888309759928648, 1.3631445494726104, 1.3356511003867861, 1.36207308507131, 1.3503010678095773, 1.3420492888632893, 1.3382654788940174, 1.3634702563992083, 1.3527162913604545, 1.30226942834612, 1.3509425507552455, 1.3412866220055, 1.3480126646318498, 1.3975968807058587, 1.3471991354233475, 1.3484492219586823, 1.3420589513679102, 1.3678640673408582, 1.3746988877639232, 1.3661418765884366, 1.387315943457822, 1.3542171054444474, 1.3315376432063992, 1.2955030984361258, 1.313427540883004, 1.2688753207426897, 1.3461191828387047, 1.318711479908308, 1.3110547077199886, 1.3199689443859706, 1.2955593473566163, 1.3340943424306992, 1.304872707911728, 1.3006671081002015, 1.3065082830143737, 1.3024570794424621, 1.2959342547401134, 1.267803644271203, 1.3437111140193454, 1.296464583400501, 1.2781383263416448, 1.251114371741246, 1.3071028046341366, 1.2732330104599618, 1.286241117874446, 1.2987459319866825, 1.323246629203893, 1.3335930992030025, 1.2972233672436557, 1.311500598934811, 1.3013136503616938, 1.293936072701276, 1.296552992865509, 1.4017130007592888, 1.3980056430992767, 1.3772283602176545, 1.3270158672481942, 1.3711775811335662, 1.2701357808881124, 1.3292413024005603, 1.282927459179317, 1.273892672868948, 1.3127056757701423, 1.2480131060263393, 1.2776423462804174, 1.2868111739564312, 1.2964072662640693, 1.245970126437609, 1.2670742362701912, 1.2633162241665228, 1.254993960435836, 1.261837039736912, 1.2717604568278802, 1.256757531606857, 1.2433740550857157, 1.25217261993648, 1.2439025041465595, 1.258691236990354, 1.2464816491978699, 1.2359873428365085, 1.2238912608244032, 1.2447514327956444, 1.2106596231761375, 1.2613100841731786, 1.240188425749551, 1.2427208990161662, 1.2442150184168794, 1.2466748081574623, 1.4159462184294174, 1.4508984183416787, 1.3913756750088424, 1.331387637472633, 1.263652886414522, 1.2758663302424798, 1.2660623533150621, 1.2448623127001757, 1.195529371351723, 1.2048912129838178, 1.2176735195328778, 1.2715006997380662, 1.2347559768311016, 1.2204986711992412, 1.2183373690443606, 1.2595933767048493, 1.1895319195140541, 1.185699766800168, 1.1837129205820753, 1.1817508790827576, 1.1933400904145273, 1.1837778125477807, 1.1873670906219072, 1.1584761764918399, 1.1698347392063742, 1.1939183577683408, 1.1844148588560373, 1.1605794050397304, 1.2067184155616426, 1.207548491956291, 1.190238324988554, 1.203066126448353, 1.188297208797018, 1.202964556415075, 1.1878882248320015, 1.1887193592478298, 1.185457244834135, 1.2855418669867769, 1.2599824145619818, 1.2463488286977018, 1.2476747465653737, 1.2312340457465831, 1.225801855194272, 1.2413079464724526, 1.2112811942442292, 1.2045456206769143, 1.2059600347889188, 1.2047841145343199, 1.184254746384537, 1.1751571212029088, 1.1706799624014383, 1.1970329467996186, 1.211207838604033, 1.1980430246228622, 1.1956459970393034, 1.1765790469324693, 1.1951262869996424, 1.178984994561876, 1.1720131571486176, 1.193878771640212, 1.1708866492532548, 1.1970557163903355, 1.1812944648532968, 1.2073968663845671, 1.1739882430897688, 1.2272354004572394, 1.1760170840440554, 1.2171178384543253, 1.1908574582163287, 1.187130404849247, 1.1876700676230414, 1.1779475697559671, 1.1827408033399145, 1.178237471246022, 1.1155016453994375, 1.1453825125423813, 1.0935832028104888, 1.071351048920845, 1.077251742615737, 1.0912168895314025, 1.089429454688039, 1.1008582763461863, 1.0881376643680258, 1.1106272526937413, 1.075882732704762, 1.0675783510191639, 1.08141236424837, 1.0758087350716985, 1.0605975496381752, 1.0863827712994347, 1.0799750488299515, 1.0583639810244978, 1.0633340658797727, 1.0618165237096875, 1.058493825927798, 1.062534698125212, 1.071968268655557, 1.0581515466004052, 1.0596800434273446, 1.0630182066071456, 1.0584271313993039, 1.069414544825388, 1.0436263160034236, 1.0490832386971272, 1.0648800686779594, 1.0600242559294764, 1.071832839025233, 1.083043641532264, 1.0706875403909946, 1.068235630430411, 1.066056298108021, 1.0729107987393978, 1.0617507957685628, 1.0829357638836392, 1.067121907331253, 1.0107552019370583, 1.0702563067931896, 1.0388809211927048, 1.020930778412458, 1.0457949347412498, 1.035808204008956, 1.0486238219792945, 1.0176631172376787, 1.0444484216052556, 1.0072113201226804, 1.0019631279703096, 1.0326990972802148, 0.9994569480158784, 0.9955680653230156, 0.9894638191218277, 0.9923413923719913, 1.0305244220818124, 1.0227082677255455, 0.9961525973822744, 0.9777137949978445, 1.0216427738504674, 1.0119811497124458, 1.007422659403213, 1.0068872132411828, 0.9988266291115467, 1.0064080509083577, 0.9799617491426187, 0.9582258940278388, 0.9994497500839019, 1.0071416401422968, 0.9981629198005463, 1.0082709156923888, 1.005180703535086, 0.9994951370438648, 0.9987352553639561, 0.9987433530374297], \"Total\": [10.0, 10.0, 10.0, 10.0, 10.0, 10.0, 10.0, 10.0, 11.0, 10.0, 10.0, 10.0, 10.0, 10.0, 10.0, 10.0, 10.0, 10.0, 10.0, 10.0, 11.0, 10.0, 11.0, 10.0, 10.0, 10.0, 10.0, 10.0, 10.0, 10.0, 11.59155321159114, 11.479356462679974, 11.048614937220165, 10.872289003751176, 10.689725876246102, 10.701279428999413, 10.63563470557629, 10.604819433192914, 10.791551296500222, 11.307493296900738, 10.868956944596839, 10.5452273747595, 10.752389790355798, 10.588192224766093, 10.896508868814855, 10.692473577844144, 10.910221790163511, 10.912923788498844, 10.695896476455781, 10.55181142704483, 10.655365864841436, 10.71569648727199, 10.836109114758138, 10.846942467633664, 10.939115524342439, 11.0030628112935, 10.694524890120611, 10.801731577664658, 10.847728223265758, 10.85316683745106, 11.290136657146935, 11.579131356295319, 11.324649886531104, 10.93072402043601, 11.007496783321942, 11.08722599824826, 11.555753526195856, 11.200301996865486, 11.033226977748546, 11.111263688059937, 11.57714879091805, 11.028333390955888, 11.089208606483307, 11.01827238580866, 11.307493296900738, 10.772136586044253, 11.137517357125146, 11.814781197283969, 11.218104615939424, 11.198632250589467, 11.048614937220165, 11.59155321159114, 10.704843757207327, 10.66457795550148, 10.905556914148626, 11.439895985747421, 10.789817070672871, 10.65188737583824, 10.896508868814855, 10.938607761193387, 10.675345192339218, 10.770237148124442, 11.34221020682001, 10.982214966795851, 11.175967979832029, 11.110174395135825, 10.984120528945677, 10.995803130332671, 10.992098928685301, 10.779646097603514, 11.085886014596149, 10.804373753295424, 11.106378052008356, 11.235607563629111, 11.149005827292276, 11.48873741678736, 11.259826207258827, 10.67001462460272, 11.183272669878715, 11.231181459228715, 11.48873741678736, 11.393673482946848, 10.616539411446496, 10.572330418230427, 10.892889866299104, 11.30395077271437, 11.253660518909525, 10.772801971304975, 11.315772326101293, 10.731342844661347, 10.55181142704483, 11.319710553742514, 10.703155141128757, 11.153263348289446, 10.819611224893507, 10.81881714092536, 10.590113461381943, 10.949641628896543, 10.421580244309522, 11.093452047703863, 11.318696816524698, 10.801731577664658, 11.11572067303608, 10.963971503746615, 11.083086462201381, 11.466961827990474, 10.889755576597693, 11.19821372307383, 11.439895985747421, 11.419748819709255, 11.479356462679974, 11.369919154264306, 11.36413076656256, 11.405440154607517, 11.271962709348957, 10.972677276309232, 11.814781197283969, 11.523911359935697, 10.59076085612413, 10.934071424025817, 11.110956670397155, 11.226203039970512, 11.213590283685491, 11.120296375528133, 10.913379792310078, 11.439895985747421, 10.957529181446636, 11.07605336642433, 10.851293078170881, 10.816369539453573, 11.225837333689356, 10.995084963189239, 10.886377853313089, 11.324649886531104, 11.305953751074885, 11.109639829403655, 10.891442354923601, 11.110174395135825, 11.04356041397626, 10.98786382778367, 10.958015098682104, 11.198632250589467, 11.111263688059937, 10.723555006756936, 11.130675889684658, 11.05820076019259, 11.118773988891142, 11.579131356295319, 11.121195347243498, 11.369919154264306, 11.138498577867976, 11.190162550564985, 11.405440154607517, 11.356181079215755, 11.555753526195856, 11.28670672443945, 11.11134161042598, 10.867254982731358, 11.043411068196, 10.678515208484471, 11.334894770339726, 11.11716445156671, 11.066716053399077, 11.176890153107347, 10.97890843036705, 11.306037480142058, 11.075978176991875, 11.049283221572098, 11.131103422483408, 11.116244925945578, 11.071430453969777, 10.836147089001006, 11.490125565814932, 11.08913823262361, 10.943523444661366, 10.717940826940314, 11.20826552112122, 10.922943466802742, 11.044727150918089, 11.156711732083181, 11.37301605604534, 11.523911359935697, 11.169529932471805, 11.382326213316896, 11.314594512589858, 11.25117531339761, 11.370858399893065, 11.290136657146935, 11.332367891094869, 11.399596165059535, 11.036531730632456, 11.438109595718005, 10.691035259942481, 11.213353057506298, 10.912152544833738, 10.865810362302948, 11.213464997671533, 10.733370652722003, 10.98821890647348, 11.081521521215238, 11.173419582355617, 10.802240869593506, 11.001756563103047, 10.96917658639467, 10.943616130362486, 11.028743470904764, 11.116256686323407, 10.991635298486173, 10.885919265578368, 10.96499949938324, 10.896508868814855, 11.086413781671956, 10.994626500080686, 10.920685608242545, 10.814688018099718, 11.015577069749916, 10.728822197832576, 11.181417253772937, 11.01622844504416, 11.071270755313167, 11.12457344391308, 11.208629122483329, 10.935453379782066, 11.405785419655915, 11.315772326101293, 11.148025571755523, 10.691665893169938, 10.949609297607141, 10.991863315374493, 10.867666896692256, 10.50684772628858, 10.590113461381943, 10.793245360738755, 11.30395077271437, 11.021883762033873, 10.947068591951524, 10.929793771443986, 11.332367891094869, 10.703796132585873, 10.745697212443215, 10.741996990609259, 10.737913971170176, 10.865361882368234, 10.788484414737184, 10.839486640757542, 10.60010996843445, 10.706588515029177, 10.94124658580583, 10.88223914153879, 10.68062687400485, 11.11572067303608, 11.146104813903609, 10.995803130332671, 11.152339363492626, 11.00700824450934, 11.393673482946848, 11.102340439560825, 11.200301996865486, 10.978640074270862, 10.986236390205006, 11.040980263500032, 10.949641628896543, 10.970313091341229, 10.873409719242701, 10.894312144342077, 11.093452047703863, 10.867137295873444, 10.83742947162838, 10.872823729999007, 10.914966179258334, 10.763671260406985, 10.691867159575711, 10.657052504677521, 10.914950892884436, 11.044218931348464, 10.949609297607141, 10.941079718217951, 10.805816669855558, 10.991863315374493, 10.86764065659848, 10.804373753295424, 11.012139086632516, 10.834702349663468, 11.081899160070137, 10.955712585904593, 11.206592765801902, 10.898252033854577, 11.393673482946848, 10.922174828905565, 11.34894832238591, 11.095381873919747, 11.116244925945578, 11.246014739243474, 10.971287914719847, 11.36413076656256, 11.122204293842149, 10.97673692994429, 11.273817101249511, 10.842882722054195, 10.731342844661347, 10.795959287961972, 10.950817519081157, 10.94769216478819, 11.092049840704442, 10.970495251207728, 11.214912118113794, 10.865573071854612, 10.79394429110624, 10.950942502825134, 10.914893191988194, 10.774315119598292, 11.119510471236145, 11.060730895202871, 10.85288380722168, 10.90398965510674, 10.892889866299104, 10.874319362586776, 10.927105756201644, 11.031294994228018, 10.90336941028086, 10.922174828905565, 10.958002731953659, 10.945029849953603, 11.060587704331008, 10.80172125898955, 10.87441558497963, 11.042481484545855, 10.994499274248877, 11.169529932471805, 11.433647259008765, 11.200904255613327, 11.170184487823837, 11.135438841699703, 11.395717715119416, 11.175277666327657, 11.0284008694599, 11.197638109643218, 10.678515208484471, 11.317434347279335, 10.998996627787005, 10.8170289728579, 11.085893992634096, 11.0888629482981, 11.289639227091108, 10.957962587016214, 11.253475732661109, 10.892817101894698, 10.886286682176031, 11.23124822359989, 10.88559139964975, 10.845051225694474, 10.795537349775381, 10.846092744957735, 11.273383491195496, 11.207325544938932, 10.943763786378648, 10.756263663002493, 11.242432369578706, 11.147798642407274, 11.114691558577045, 11.128049184864981, 11.055698289049417, 11.14523198932374, 10.85293167692026, 10.624919303523262, 11.094589026619175, 11.206606038136941, 11.095283243285879, 11.304147670276631, 11.279963682423398, 11.148623895933016, 11.139756784255594, 11.23316368416398], \"Category\": [\"Default\", \"Default\", \"Default\", \"Default\", \"Default\", \"Default\", \"Default\", \"Default\", \"Default\", \"Default\", \"Default\", \"Default\", \"Default\", \"Default\", \"Default\", \"Default\", \"Default\", \"Default\", \"Default\", \"Default\", \"Default\", \"Default\", \"Default\", \"Default\", \"Default\", \"Default\", \"Default\", \"Default\", \"Default\", \"Default\", \"Topic1\", \"Topic1\", \"Topic1\", \"Topic1\", \"Topic1\", \"Topic1\", \"Topic1\", \"Topic1\", \"Topic1\", \"Topic1\", \"Topic1\", \"Topic1\", \"Topic1\", \"Topic1\", \"Topic1\", \"Topic1\", \"Topic1\", \"Topic1\", \"Topic1\", \"Topic1\", \"Topic1\", \"Topic1\", \"Topic1\", \"Topic1\", \"Topic1\", \"Topic1\", \"Topic1\", \"Topic1\", \"Topic1\", \"Topic1\", \"Topic1\", \"Topic1\", \"Topic1\", \"Topic1\", \"Topic1\", \"Topic1\", \"Topic1\", \"Topic1\", \"Topic1\", \"Topic1\", \"Topic1\", \"Topic1\", \"Topic2\", \"Topic2\", \"Topic2\", \"Topic2\", \"Topic2\", \"Topic2\", \"Topic2\", \"Topic2\", \"Topic2\", \"Topic2\", \"Topic2\", \"Topic2\", \"Topic2\", \"Topic2\", \"Topic2\", \"Topic2\", \"Topic2\", \"Topic2\", \"Topic2\", \"Topic2\", \"Topic2\", \"Topic2\", \"Topic2\", \"Topic2\", \"Topic2\", \"Topic2\", \"Topic2\", \"Topic2\", \"Topic2\", \"Topic2\", \"Topic2\", \"Topic2\", \"Topic2\", \"Topic2\", \"Topic2\", \"Topic3\", \"Topic3\", \"Topic3\", \"Topic3\", \"Topic3\", \"Topic3\", \"Topic3\", \"Topic3\", \"Topic3\", \"Topic3\", \"Topic3\", \"Topic3\", \"Topic3\", \"Topic3\", \"Topic3\", \"Topic3\", \"Topic3\", \"Topic3\", \"Topic3\", \"Topic3\", \"Topic3\", \"Topic3\", \"Topic3\", \"Topic3\", \"Topic3\", \"Topic3\", \"Topic3\", \"Topic3\", \"Topic3\", \"Topic3\", \"Topic3\", \"Topic3\", \"Topic3\", \"Topic3\", \"Topic3\", \"Topic3\", \"Topic3\", \"Topic3\", \"Topic4\", \"Topic4\", \"Topic4\", \"Topic4\", \"Topic4\", \"Topic4\", \"Topic4\", \"Topic4\", \"Topic4\", \"Topic4\", \"Topic4\", \"Topic4\", \"Topic4\", \"Topic4\", \"Topic4\", \"Topic4\", \"Topic4\", \"Topic4\", \"Topic4\", \"Topic4\", \"Topic4\", \"Topic4\", \"Topic4\", \"Topic4\", \"Topic4\", \"Topic4\", \"Topic4\", \"Topic4\", \"Topic4\", \"Topic4\", \"Topic4\", \"Topic4\", \"Topic4\", \"Topic4\", \"Topic4\", \"Topic4\", \"Topic5\", \"Topic5\", \"Topic5\", \"Topic5\", \"Topic5\", \"Topic5\", \"Topic5\", \"Topic5\", \"Topic5\", \"Topic5\", \"Topic5\", \"Topic5\", \"Topic5\", \"Topic5\", \"Topic5\", \"Topic5\", \"Topic5\", \"Topic5\", \"Topic5\", \"Topic5\", \"Topic5\", \"Topic5\", \"Topic5\", \"Topic5\", \"Topic5\", \"Topic5\", \"Topic5\", \"Topic5\", \"Topic5\", \"Topic5\", \"Topic5\", \"Topic5\", \"Topic5\", \"Topic5\", \"Topic5\", \"Topic5\", \"Topic6\", \"Topic6\", \"Topic6\", \"Topic6\", \"Topic6\", \"Topic6\", \"Topic6\", \"Topic6\", \"Topic6\", \"Topic6\", \"Topic6\", \"Topic6\", \"Topic6\", \"Topic6\", \"Topic6\", \"Topic6\", \"Topic6\", \"Topic6\", \"Topic6\", \"Topic6\", \"Topic6\", \"Topic6\", \"Topic6\", \"Topic6\", \"Topic6\", \"Topic6\", \"Topic6\", \"Topic6\", \"Topic6\", \"Topic6\", \"Topic6\", \"Topic6\", \"Topic6\", \"Topic6\", \"Topic6\", \"Topic7\", \"Topic7\", \"Topic7\", \"Topic7\", \"Topic7\", \"Topic7\", \"Topic7\", \"Topic7\", \"Topic7\", \"Topic7\", \"Topic7\", \"Topic7\", \"Topic7\", \"Topic7\", \"Topic7\", \"Topic7\", \"Topic7\", \"Topic7\", \"Topic7\", \"Topic7\", \"Topic7\", \"Topic7\", \"Topic7\", \"Topic7\", \"Topic7\", \"Topic7\", \"Topic7\", \"Topic7\", \"Topic7\", \"Topic7\", \"Topic7\", \"Topic7\", \"Topic7\", \"Topic7\", \"Topic7\", \"Topic7\", \"Topic7\", \"Topic8\", \"Topic8\", \"Topic8\", \"Topic8\", \"Topic8\", \"Topic8\", \"Topic8\", \"Topic8\", \"Topic8\", \"Topic8\", \"Topic8\", \"Topic8\", \"Topic8\", \"Topic8\", \"Topic8\", \"Topic8\", \"Topic8\", \"Topic8\", \"Topic8\", \"Topic8\", \"Topic8\", \"Topic8\", \"Topic8\", \"Topic8\", \"Topic8\", \"Topic8\", \"Topic8\", \"Topic8\", \"Topic8\", \"Topic8\", \"Topic8\", \"Topic8\", \"Topic8\", \"Topic8\", \"Topic8\", \"Topic8\", \"Topic8\", \"Topic9\", \"Topic9\", \"Topic9\", \"Topic9\", \"Topic9\", \"Topic9\", \"Topic9\", \"Topic9\", \"Topic9\", \"Topic9\", \"Topic9\", \"Topic9\", \"Topic9\", \"Topic9\", \"Topic9\", \"Topic9\", \"Topic9\", \"Topic9\", \"Topic9\", \"Topic9\", \"Topic9\", \"Topic9\", \"Topic9\", \"Topic9\", \"Topic9\", \"Topic9\", \"Topic9\", \"Topic9\", \"Topic9\", \"Topic9\", \"Topic9\", \"Topic9\", \"Topic9\", \"Topic9\", \"Topic9\", \"Topic9\", \"Topic9\", \"Topic9\", \"Topic9\", \"Topic10\", \"Topic10\", \"Topic10\", \"Topic10\", \"Topic10\", \"Topic10\", \"Topic10\", \"Topic10\", \"Topic10\", \"Topic10\", \"Topic10\", \"Topic10\", \"Topic10\", \"Topic10\", \"Topic10\", \"Topic10\", \"Topic10\", \"Topic10\", \"Topic10\", \"Topic10\", \"Topic10\", \"Topic10\", \"Topic10\", \"Topic10\", \"Topic10\", \"Topic10\", \"Topic10\", \"Topic10\", \"Topic10\", \"Topic10\", \"Topic10\", \"Topic10\", \"Topic10\", \"Topic10\", \"Topic10\", \"Topic10\", \"Topic10\", \"Topic10\"], \"logprob\": [30.0, 29.0, 28.0, 27.0, 26.0, 25.0, 24.0, 23.0, 22.0, 21.0, 20.0, 19.0, 18.0, 17.0, 16.0, 15.0, 14.0, 13.0, 12.0, 11.0, 10.0, 9.0, 8.0, 7.0, 6.0, 5.0, 4.0, 3.0, 2.0, 1.0, -7.2499, -7.2884, -7.3413, -7.3684, -7.3979, -7.4092, -7.4159, -7.4313, -7.4181, -7.3725, -7.4168, -7.4525, -7.4341, -7.4496, -7.4273, -7.4469, -7.4305, -7.4314, -7.4517, -7.4661, -7.4567, -7.4515, -7.4417, -7.4417, -7.4335, -7.428, -7.4587, -7.4522, -7.4482, -7.448, -7.4103, -7.3974, -7.4178, -7.4439, -7.4403, -7.4375, -7.4183, -7.433, -7.4401, -7.4378, -7.4268, -7.4425, -7.3019, -7.3365, -7.313, -7.3645, -7.3319, -7.2737, -7.3376, -7.3553, -7.3718, -7.3307, -7.4117, -7.4169, -7.3984, -7.357, -7.4176, -7.431, -7.4085, -7.4167, -7.4419, -7.4336, -7.3828, -7.4189, -7.4028, -7.4087, -7.4234, -7.4224, -7.4229, -7.4488, -7.421, -7.4498, -7.425, -7.4163, -7.4227, -7.4162, -7.4241, -7.2778, -7.3332, -7.3329, -7.3107, -7.3252, -7.3977, -7.4144, -7.3867, -7.3563, -7.3616, -7.4056, -7.3652, -7.4191, -7.4408, -7.3719, -7.4323, -7.3919, -7.4255, -7.4259, -7.4483, -7.4166, -7.4669, -7.4046, -7.3859, -7.4346, -7.4067, -7.4227, -7.4129, -7.3798, -7.4319, -7.4096, -7.3943, -7.4106, -7.4094, -7.4144, -7.4211, -7.4229, -7.4244, -7.368, -7.3215, -7.3481, -7.4359, -7.4058, -7.39, -7.3815, -7.3847, -7.3969, -7.4186, -7.3833, -7.4277, -7.4248, -7.4495, -7.4533, -7.4167, -7.4376, -7.4482, -7.4101, -7.4146, -7.4333, -7.4537, -7.4341, -7.4428, -7.4489, -7.4517, -7.433, -7.441, -7.479, -7.4423, -7.4495, -7.4444, -7.4083, -7.4451, -7.4441, -7.4489, -7.3835, -7.3785, -7.3848, -7.3694, -7.3936, -7.4104, -7.4379, -7.4241, -7.4587, -7.3996, -7.4201, -7.4259, -7.4192, -7.4378, -7.4085, -7.4307, -7.4339, -7.4294, -7.4325, -7.4375, -7.4595, -7.4013, -7.4371, -7.4514, -7.4727, -7.429, -7.4552, -7.4451, -7.4354, -7.4167, -7.4089, -7.4366, -7.4256, -7.4334, -7.4391, -7.4371, -7.33, -7.3327, -7.3476, -7.3848, -7.352, -7.4286, -7.3831, -7.4186, -7.4256, -7.3956, -7.4462, -7.4227, -7.4155, -7.4081, -7.4478, -7.431, -7.434, -7.4406, -7.4351, -7.4273, -7.4392, -7.4499, -7.4428, -7.4495, -7.4376, -7.4474, -7.4558, -7.4657, -7.4488, -7.4765, -7.4356, -7.4524, -7.4504, -7.4492, -7.4472, -7.2629, -7.2385, -7.2804, -7.3244, -7.3767, -7.367, -7.3748, -7.3916, -7.4321, -7.4243, -7.4137, -7.3705, -7.3998, -7.4114, -7.4132, -7.3799, -7.4371, -7.4403, -7.442, -7.4437, -7.4339, -7.442, -7.4389, -7.4636, -7.4538, -7.4334, -7.4414, -7.4617, -7.4228, -7.4221, -7.4365, -7.4258, -7.4381, -7.4259, -7.4385, -7.4378, -7.4405, -7.3579, -7.378, -7.3888, -7.3878, -7.401, -7.4055, -7.3929, -7.4174, -7.423, -7.4218, -7.4228, -7.4399, -7.4477, -7.4515, -7.4292, -7.4174, -7.4284, -7.4304, -7.4465, -7.4308, -7.4444, -7.4503, -7.4319, -7.4513, -7.4292, -7.4425, -7.4206, -7.4487, -7.4043, -7.4469, -7.4126, -7.4344, -7.4375, -7.4371, -7.4453, -7.4412, -7.445, -7.411, -7.3845, -7.4308, -7.4514, -7.4459, -7.433, -7.4346, -7.4242, -7.4358, -7.4154, -7.4471, -7.4549, -7.442, -7.4472, -7.4615, -7.4374, -7.4433, -7.4636, -7.4589, -7.4603, -7.4634, -7.4596, -7.4508, -7.4638, -7.4623, -7.4592, -7.4635, -7.4532, -7.4776, -7.4724, -7.4574, -7.462, -7.4509, -7.4405, -7.452, -7.4543, -7.4563, -7.4499, -7.4604, -7.3689, -7.3837, -7.4379, -7.3807, -7.4105, -7.4279, -7.4038, -7.4134, -7.4011, -7.4311, -7.4051, -7.4414, -7.4467, -7.4164, -7.4492, -7.4531, -7.4592, -7.4563, -7.4186, -7.4262, -7.4525, -7.4712, -7.4272, -7.4367, -7.4412, -7.4418, -7.4498, -7.4422, -7.4689, -7.4913, -7.4492, -7.4415, -7.4505, -7.4404, -7.4435, -7.4491, -7.4499, -7.4499], \"loglift\": [30.0, 29.0, 28.0, 27.0, 26.0, 25.0, 24.0, 23.0, 22.0, 21.0, 20.0, 19.0, 18.0, 17.0, 16.0, 15.0, 14.0, 13.0, 12.0, 11.0, 10.0, 9.0, 8.0, 7.0, 6.0, 5.0, 4.0, 3.0, 2.0, 1.0, 0.299, 0.2703, 0.2555, 0.2446, 0.232, 0.2196, 0.219, 0.2066, 0.2023, 0.2012, 0.1964, 0.191, 0.19, 0.1899, 0.1834, 0.1827, 0.179, 0.1778, 0.1776, 0.1768, 0.1764, 0.176, 0.1746, 0.1736, 0.1733, 0.173, 0.1708, 0.1672, 0.167, 0.1667, 0.1649, 0.1525, 0.1543, 0.1637, 0.1603, 0.1559, 0.1337, 0.1502, 0.1581, 0.1534, 0.1233, 0.1562, 0.2913, 0.2631, 0.2607, 0.2577, 0.257, 0.2561, 0.2441, 0.2281, 0.2251, 0.2181, 0.2168, 0.2153, 0.2115, 0.2051, 0.203, 0.2024, 0.2022, 0.1902, 0.1893, 0.1888, 0.1878, 0.184, 0.1826, 0.1826, 0.1794, 0.1793, 0.1791, 0.1727, 0.1724, 0.1694, 0.1666, 0.1638, 0.1651, 0.1415, 0.1538, 0.3539, 0.2515, 0.2475, 0.2471, 0.2409, 0.2391, 0.2265, 0.2243, 0.2177, 0.2169, 0.2165, 0.2077, 0.2069, 0.2021, 0.2008, 0.1964, 0.1955, 0.1923, 0.192, 0.1909, 0.1892, 0.1884, 0.1882, 0.1868, 0.1849, 0.1841, 0.1818, 0.1809, 0.1799, 0.1795, 0.1738, 0.1678, 0.1532, 0.1492, 0.1538, 0.1476, 0.1422, 0.1524, 0.2357, 0.2083, 0.2067, 0.2032, 0.2015, 0.2012, 0.1994, 0.1974, 0.1935, 0.1905, 0.1787, 0.1775, 0.1696, 0.1654, 0.1648, 0.1642, 0.1641, 0.1634, 0.1621, 0.1592, 0.1581, 0.1575, 0.1572, 0.1546, 0.1535, 0.1534, 0.1503, 0.1502, 0.1477, 0.1472, 0.1465, 0.1461, 0.1416, 0.1453, 0.1241, 0.1399, 0.2006, 0.1865, 0.1846, 0.1826, 0.182, 0.1807, 0.1755, 0.1732, 0.1723, 0.1717, 0.1705, 0.1693, 0.1661, 0.1653, 0.1653, 0.1637, 0.1629, 0.16, 0.1582, 0.1572, 0.1568, 0.1563, 0.1561, 0.155, 0.1545, 0.1535, 0.1531, 0.1522, 0.1517, 0.1512, 0.1458, 0.1494, 0.1415, 0.1397, 0.1396, 0.131, 0.2452, 0.2388, 0.2179, 0.2132, 0.2102, 0.2012, 0.199, 0.1907, 0.1879, 0.1864, 0.1796, 0.1796, 0.1783, 0.1775, 0.1716, 0.1701, 0.1701, 0.1658, 0.1635, 0.1634, 0.1629, 0.1618, 0.1616, 0.1613, 0.1558, 0.1544, 0.1527, 0.1526, 0.1511, 0.1497, 0.1494, 0.1473, 0.1444, 0.1408, 0.1352, 0.3443, 0.3266, 0.2926, 0.2635, 0.253, 0.2388, 0.2272, 0.2217, 0.2151, 0.215, 0.2065, 0.2035, 0.1995, 0.1947, 0.1945, 0.1916, 0.1915, 0.1843, 0.183, 0.1817, 0.1797, 0.1787, 0.177, 0.1747, 0.1745, 0.1732, 0.1706, 0.169, 0.168, 0.166, 0.1651, 0.1617, 0.1625, 0.1402, 0.1535, 0.1454, 0.1627, 0.2446, 0.2196, 0.217, 0.2162, 0.2118, 0.2055, 0.1999, 0.196, 0.1932, 0.1911, 0.1863, 0.183, 0.182, 0.1815, 0.1798, 0.1798, 0.1775, 0.1763, 0.1726, 0.1712, 0.169, 0.1689, 0.1683, 0.1651, 0.1647, 0.1628, 0.1621, 0.1619, 0.1618, 0.1614, 0.1575, 0.1582, 0.1532, 0.1421, 0.1586, 0.1275, 0.1452, 0.1924, 0.1921, 0.1848, 0.1746, 0.1741, 0.1728, 0.1714, 0.1687, 0.1681, 0.1666, 0.1664, 0.1653, 0.1637, 0.1618, 0.1605, 0.153, 0.1524, 0.1512, 0.1512, 0.1507, 0.1493, 0.1483, 0.1476, 0.1463, 0.146, 0.1459, 0.1428, 0.1426, 0.1419, 0.1404, 0.14, 0.1398, 0.1351, 0.1221, 0.1312, 0.1316, 0.1327, 0.116, 0.1251, 0.2297, 0.1998, 0.193, 0.1921, 0.1909, 0.1901, 0.1896, 0.1798, 0.1741, 0.174, 0.1734, 0.1696, 0.165, 0.164, 0.1626, 0.1624, 0.1608, 0.159, 0.1582, 0.1564, 0.1539, 0.1525, 0.1523, 0.1512, 0.1497, 0.1479, 0.1464, 0.1459, 0.1459, 0.1447, 0.1435, 0.1412, 0.1422, 0.1336, 0.1327, 0.1387, 0.1388, 0.1304]}, \"token.table\": {\"Topic\": [1, 2, 3, 4, 5, 6, 7, 8, 9, 10, 1, 2, 3, 4, 5, 6, 7, 8, 9, 10, 1, 2, 3, 4, 5, 6, 7, 8, 9, 10, 1, 2, 3, 4, 5, 6, 7, 8, 9, 10, 1, 2, 3, 4, 5, 6, 7, 8, 9, 10, 1, 2, 3, 4, 5, 6, 7, 8, 9, 10, 1, 2, 3, 4, 5, 6, 7, 8, 9, 10, 1, 2, 3, 4, 5, 6, 7, 8, 9, 10, 1, 2, 3, 4, 5, 6, 7, 8, 9, 10, 1, 2, 3, 4, 5, 6, 7, 8, 9, 10, 1, 2, 3, 4, 5, 6, 7, 8, 9, 10, 1, 2, 3, 4, 5, 6, 7, 8, 9, 10, 1, 2, 3, 4, 5, 6, 7, 8, 9, 10, 1, 2, 3, 4, 5, 6, 7, 8, 9, 10, 1, 2, 3, 4, 5, 6, 7, 8, 9, 10, 1, 2, 3, 4, 5, 6, 7, 8, 9, 10, 1, 2, 3, 4, 5, 6, 7, 8, 9, 10, 1, 2, 3, 4, 5, 6, 7, 8, 9, 10, 1, 2, 3, 4, 5, 6, 7, 8, 9, 10, 1, 2, 3, 4, 5, 6, 7, 8, 9, 10, 1, 2, 3, 4, 5, 6, 7, 8, 9, 10, 1, 2, 3, 4, 5, 6, 7, 8, 9, 10, 1, 2, 3, 4, 5, 6, 7, 8, 9, 10, 1, 2, 3, 4, 5, 6, 7, 8, 9, 10, 1, 2, 3, 4, 5, 6, 7, 8, 9, 10, 1, 2, 3, 4, 5, 6, 7, 8, 9, 10, 1, 2, 3, 4, 5, 6, 7, 8, 9, 10, 1, 2, 3, 4, 5, 6, 7, 8, 9, 10, 1, 2, 3, 4, 5, 6, 7, 8, 9, 10, 1, 2, 3, 4, 5, 6, 7, 8, 9, 10, 1, 2, 3, 4, 5, 6, 7, 8, 9, 10, 1, 2, 3, 4, 5, 6, 7, 8, 9, 10, 1, 2, 3, 4, 5, 6, 7, 8, 9, 10, 1, 2, 3, 4, 5, 6, 7, 8, 9, 10, 1, 2, 3, 4, 5, 6, 7, 8, 9, 10, 1, 2, 3, 4, 5, 6, 7, 8, 9, 10, 1, 2, 3, 4, 5, 6, 7, 8, 9, 10, 1, 2, 3, 4, 5, 6, 7, 8, 9, 10, 1, 2, 3, 4, 5, 6, 7, 8, 9, 10, 1, 2, 3, 4, 5, 6, 7, 8, 9, 10, 1, 2, 3, 4, 5, 6, 7, 8, 9, 10, 1, 2, 3, 4, 5, 6, 7, 8, 9, 10, 1, 2, 3, 4, 5, 6, 7, 8, 9, 10, 1, 2, 3, 4, 5, 6, 7, 8, 9, 10, 1, 2, 3, 4, 5, 6, 7, 8, 9, 10, 1, 2, 3, 4, 5, 6, 7, 8, 9, 10, 1, 2, 3, 4, 5, 6, 7, 8, 9, 10, 1, 2, 3, 4, 5, 6, 7, 8, 9, 10, 1, 2, 3, 4, 5, 6, 7, 8, 9, 10, 1, 2, 3, 4, 5, 6, 7, 8, 9, 10, 1, 2, 3, 4, 5, 6, 7, 8, 9, 10, 1, 2, 3, 4, 5, 6, 7, 8, 9, 10, 1, 2, 3, 4, 5, 6, 7, 8, 9, 10, 1, 2, 3, 4, 5, 6, 7, 8, 9, 10, 1, 2, 3, 4, 5, 6, 7, 8, 9, 10, 1, 2, 3, 4, 5, 6, 7, 8, 9, 10, 1, 2, 3, 4, 5, 6, 7, 8, 9, 10, 1, 2, 3, 4, 5, 6, 7, 8, 9, 10, 1, 2, 3, 4, 5, 6, 7, 8, 9, 10, 1, 2, 3, 4, 5, 6, 7, 8, 9, 10, 1, 2, 3, 4, 5, 6, 7, 8, 9, 10, 1, 2, 3, 4, 5, 6, 7, 8, 9, 10, 1, 2, 3, 4, 5, 6, 7, 8, 9, 10, 1, 2, 3, 4, 5, 6, 7, 8, 9, 10, 1, 2, 3, 4, 5, 6, 7, 8, 9, 10, 1, 2, 3, 4, 5, 6, 7, 8, 9, 10, 1, 2, 3, 4, 5, 6, 7, 8, 9, 10, 1, 2, 3, 4, 5, 6, 7, 8, 9, 10, 1, 2, 3, 4, 5, 6, 7, 8, 9, 10, 1, 2, 3, 4, 5, 6, 7, 8, 9, 10, 1, 2, 3, 4, 5, 6, 7, 8, 9, 10, 1, 2, 3, 4, 5, 6, 7, 8, 9, 10, 1, 2, 3, 4, 5, 6, 7, 8, 9, 10, 1, 2, 3, 4, 5, 6, 7, 8, 9, 10, 1, 2, 3, 4, 5, 6, 7, 8, 9, 10, 1, 2, 3, 4, 5, 6, 7, 8, 9, 10, 1, 2, 3, 4, 5, 6, 7, 8, 9, 10, 1, 2, 3, 4, 5, 6, 7, 8, 9, 10, 1, 2, 3, 4, 5, 6, 7, 8, 9, 10, 1, 2, 3, 4, 5, 6, 7, 8, 9, 10, 1, 2, 3, 4, 5, 6, 7, 8, 9, 10, 1, 2, 3, 4, 5, 6, 7, 8, 9, 10, 1, 2, 3, 4, 5, 6, 7, 8, 9, 10, 1, 2, 3, 4, 5, 6, 7, 8, 9, 10, 1, 2, 3, 4, 5, 6, 7, 8, 9, 10, 1, 2, 3, 4, 5, 6, 7, 8, 9, 10, 1, 2, 3, 4, 5, 6, 7, 8, 9, 10, 1, 2, 3, 4, 5, 6, 7, 8, 9, 10, 1, 2, 3, 4, 5, 6, 7, 8, 9, 10, 1, 2, 3, 4, 5, 6, 7, 8, 9, 10, 1, 2, 3, 4, 5, 6, 7, 8, 9, 10, 1, 2, 3, 4, 5, 6, 7, 8, 9, 10, 1, 2, 3, 4, 5, 6, 7, 8, 9, 10, 1, 2, 3, 4, 5, 6, 7, 8, 9, 10, 1, 2, 3, 4, 5, 6, 7, 8, 9, 10, 1, 2, 3, 4, 5, 6, 7, 8, 9, 10, 1, 2, 3, 4, 5, 6, 7, 8, 9, 10, 1, 2, 3, 4, 5, 6, 7, 8, 9, 10, 1, 2, 3, 4, 5, 6, 7, 8, 9, 10, 1, 2, 3, 4, 5, 6, 7, 8, 9, 10, 1, 2, 3, 4, 5, 6, 7, 8, 9, 10, 1, 2, 3, 4, 5, 6, 7, 8, 9, 10, 1, 2, 3, 4, 5, 6, 7, 8, 9, 10, 1, 2, 3, 4, 5, 6, 7, 8, 9, 10, 1, 2, 3, 4, 5, 6, 7, 8, 9, 10, 1, 2, 3, 4, 5, 6, 7, 8, 9, 10, 1, 2, 3, 4, 5, 6, 7, 8, 9, 10, 1, 2, 3, 4, 5, 6, 7, 8, 9, 10, 1, 2, 3, 4, 5, 6, 7, 8, 9, 10, 1, 2, 3, 4, 5, 6, 7, 8, 9, 10, 1, 2, 3, 4, 5, 6, 7, 8, 9, 10, 1, 2, 3, 4, 5, 6, 7, 8, 9, 10, 1, 2, 3, 4, 5, 6, 7, 8, 9, 10, 1, 2, 3, 4, 5, 6, 7, 8, 9, 10, 1, 2, 3, 4, 5, 6, 7, 8, 9, 10, 1, 2, 3, 4, 5, 6, 7, 8, 9, 10, 1, 2, 3, 4, 5, 6, 7, 8, 9, 10, 1, 2, 3, 4, 5, 6, 7, 8, 9, 10, 1, 2, 3, 4, 5, 6, 7, 8, 9, 10, 1, 2, 3, 4, 5, 6, 7, 8, 9, 10, 1, 2, 3, 4, 5, 6, 7, 8, 9, 10, 1, 2, 3, 4, 5, 6, 7, 8, 9, 10, 1, 2, 3, 4, 5, 6, 7, 8, 9, 10, 1, 2, 3, 4, 5, 6, 7, 8, 9, 10, 1, 2, 3, 4, 5, 6, 7, 8, 9, 10, 1, 2, 3, 4, 5, 6, 7, 8, 9, 10, 1, 2, 3, 4, 5, 6, 7, 8, 9, 10, 1, 2, 3, 4, 5, 6, 7, 8, 9, 10, 1, 2, 3, 4, 5, 6, 7, 8, 9, 10, 1, 2, 3, 4, 5, 6, 7, 8, 9, 10, 1, 2, 3, 4, 5, 6, 7, 8, 9, 10, 1, 2, 3, 4, 5, 6, 7, 8, 9, 10, 1, 2, 3, 4, 5, 6, 7, 8, 9, 10, 1, 2, 3, 4, 5, 6, 7, 8, 9, 10, 1, 2, 3, 4, 5, 6, 7, 8, 9, 10, 1, 2, 3, 4, 5, 6, 7, 8, 9, 10, 1, 2, 3, 4, 5, 6, 7, 8, 9, 10, 1, 2, 3, 4, 5, 6, 7, 8, 9, 10, 1, 2, 3, 4, 5, 6, 7, 8, 9, 10, 1, 2, 3, 4, 5, 6, 7, 8, 9, 10, 1, 2, 3, 4, 5, 6, 7, 8, 9, 10, 1, 2, 3, 4, 5, 6, 7, 8, 9, 10, 1, 2, 3, 4, 5, 6, 7, 8, 9, 10, 1, 2, 3, 4, 5, 6, 7, 8, 9, 10, 1, 2, 3, 4, 5, 6, 7, 8, 9, 10, 1, 2, 3, 4, 5, 6, 7, 8, 9, 10, 1, 2, 3, 4, 5, 6, 7, 8, 9, 10, 1, 2, 3, 4, 5, 6, 7, 8, 9, 10, 1, 2, 3, 4, 5, 6, 7, 8, 9, 10, 1, 2, 3, 4, 5, 6, 7, 8, 9, 10, 1, 2, 3, 4, 5, 6, 7, 8, 9, 10, 1, 2, 3, 4, 5, 6, 7, 8, 9, 10, 1, 2, 3, 4, 5, 6, 7, 8, 9, 10, 1, 2, 3, 4, 5, 6, 7, 8, 9, 10, 1, 2, 3, 4, 5, 6, 7, 8, 9, 10, 1, 2, 3, 4, 5, 6, 7, 8, 9, 10, 1, 2, 3, 4, 5, 6, 7, 8, 9, 10, 1, 2, 3, 4, 5, 6, 7, 8, 9, 10, 1, 2, 3, 4, 5, 6, 7, 8, 9, 10, 1, 2, 3, 4, 5, 6, 7, 8, 9, 10, 1, 2, 3, 4, 5, 6, 7, 8, 9, 10, 1, 2, 3, 4, 5, 6, 7, 8, 9, 10, 1, 2, 3, 4, 5, 6, 7, 8, 9, 10, 1, 2, 3, 4, 5, 6, 7, 8, 9, 10, 1, 2, 3, 4, 5, 6, 7, 8, 9, 10, 1, 2, 3, 4, 5, 6, 7, 8, 9, 10, 1, 2, 3, 4, 5, 6, 7, 8, 9, 10, 1, 2, 3, 4, 5, 6, 7, 8, 9, 10, 1, 2, 3, 4, 5, 6, 7, 8, 9, 10, 1, 2, 3, 4, 5, 6, 7, 8, 9, 10, 1, 2, 3, 4, 5, 6, 7, 8, 9, 10, 1, 2, 3, 4, 5, 6, 7, 8, 9, 10, 1, 2, 3, 4, 5, 6, 7, 8, 9, 10, 1, 2, 3, 4, 5, 6, 7, 8, 9, 10, 1, 2, 3, 4, 5, 6, 7, 8, 9, 10, 1, 2, 3, 4, 5, 6, 7, 8, 9, 10, 1, 2, 3, 4, 5, 6, 7, 8, 9, 10, 1, 2, 3, 4, 5, 6, 7, 8, 9, 10, 1, 2, 3, 4, 5, 6, 7, 8, 9, 10, 1, 2, 3, 4, 5, 6, 7, 8, 9, 10, 1, 2, 3, 4, 5, 6, 7, 8, 9, 10, 1, 2, 3, 4, 5, 6, 7, 8, 9, 10, 1, 2, 3, 4, 5, 6, 7, 8, 9, 10, 1, 2, 3, 4, 5, 6, 7, 8, 9, 10, 1, 2, 3, 4, 5, 6, 7, 8, 9, 10, 1, 2, 3, 4, 5, 6, 7, 8, 9, 10, 1, 2, 3, 4, 5, 6, 7, 8, 9, 10, 1, 2, 3, 4, 5, 6, 7, 8, 9, 10, 1, 2, 3, 4, 5, 6, 7, 8, 9, 10, 1, 2, 3, 4, 5, 6, 7, 8, 9, 10, 1, 2, 3, 4, 5, 6, 7, 8, 9, 10, 1, 2, 3, 4, 5, 6, 7, 8, 9, 10, 1, 2, 3, 4, 5, 6, 7, 8, 9, 10, 1, 2, 3, 4, 5, 6, 7, 8, 9, 10, 1, 2, 3, 4, 5, 6, 7, 8, 9, 10, 1, 2, 3, 4, 5, 6, 7, 8, 9, 10, 1, 2, 3, 4, 5, 6, 7, 8, 9, 10, 1, 2, 3, 4, 5, 6, 7, 8, 9, 10, 1, 2, 3, 4, 5, 6, 7, 8, 9, 10, 1, 2, 3, 4, 5, 6, 7, 8, 9, 10, 1, 2, 3, 4, 5, 6, 7, 8, 9, 10, 1, 2, 3, 4, 5, 6, 7, 8, 9, 10, 1, 2, 3, 4, 5, 6, 7, 8, 9, 10, 1, 2, 3, 4, 5, 6, 7, 8, 9, 10, 1, 2, 3, 4, 5, 6, 7, 8, 9, 10, 1, 2, 3, 4, 5, 6, 7, 8, 9, 10, 1, 2, 3, 4, 5, 6, 7, 8, 9, 10, 1, 2, 3, 4, 5, 6, 7, 8, 9, 10, 1, 2, 3, 4, 5, 6, 7, 8, 9, 10, 1, 2, 3, 4, 5, 6, 7, 8, 9, 10, 1, 2, 3, 4, 5, 6, 7, 8, 9, 10, 1, 2, 3, 4, 5, 6, 7, 8, 9, 10, 1, 2, 3, 4, 5, 6, 7, 8, 9, 10, 1, 2, 3, 4, 5, 6, 7, 8, 9, 10, 1, 2, 3, 4, 5, 6, 7, 8, 9, 10, 1, 2, 3, 4, 5, 6, 7, 8, 9, 10, 1, 2, 3, 4, 5, 6, 7, 8, 9, 10, 1, 2, 3, 4, 5, 6, 7, 8, 9, 10, 1, 2, 3, 4, 5, 6, 7, 8, 9, 10, 1, 2, 3, 4, 5, 6, 7, 8, 9, 10, 1, 2, 3, 4, 5, 6, 7, 8, 9, 10, 1, 2, 3, 4, 5, 6, 7, 8, 9, 10, 1, 2, 3, 4, 5, 6, 7, 8, 9, 10, 1, 2, 3, 4, 5, 6, 7, 8, 9, 10, 1, 2, 3, 4, 5, 6, 7, 8, 9, 10, 1, 2, 3, 4, 5, 6, 7, 8, 9, 10, 1, 2, 3, 4, 5, 6, 7, 8, 9, 10, 1, 2, 3, 4, 5, 6, 7, 8, 9, 10, 1, 2, 3, 4, 5, 6, 7, 8, 9, 10, 1, 2, 3, 4, 5, 6, 7, 8, 9, 10, 1, 2, 3, 4, 5, 6, 7, 8, 9, 10, 1, 2, 3, 4, 5, 6, 7, 8, 9, 10, 1, 2, 3, 4, 5, 6, 7, 8, 9, 10, 1, 2, 3, 4, 5, 6, 7, 8, 9, 10, 1, 2, 3, 4, 5, 6, 7, 8, 9, 10, 1, 2, 3, 4, 5, 6, 7, 8, 9, 10, 1, 2, 3, 4, 5, 6, 7, 8, 9, 10, 1, 2, 3, 4, 5, 6, 7, 8, 9, 10, 1, 2, 3, 4, 5, 6, 7, 8, 9, 10, 1, 2, 3, 4, 5, 6, 7, 8, 9, 10, 1, 2, 3, 4, 5, 6, 7, 8, 9, 10, 1, 2, 3, 4, 5, 6, 7, 8, 9, 10, 1, 2, 3, 4, 5, 6, 7, 8, 9, 10, 1, 2, 3, 4, 5, 6, 7, 8, 9, 10, 1, 2, 3, 4, 5, 6, 7, 8, 9, 10, 1, 2, 3, 4, 5, 6, 7, 8, 9, 10, 1, 2, 3, 4, 5, 6, 7, 8, 9, 10, 1, 2, 3, 4, 5, 6, 7, 8, 9, 10, 1, 2, 3, 4, 5, 6, 7, 8, 9, 10, 1, 2, 3, 4, 5, 6, 7, 8, 9, 10, 1, 2, 3, 4, 5, 6, 7, 8, 9, 10, 1, 2, 3, 4, 5, 6, 7, 8, 9, 10, 1, 2, 3, 4, 5, 6, 7, 8, 9, 10, 1, 2, 3, 4, 5, 6, 7, 8, 9, 10, 1, 2, 3, 4, 5, 6, 7, 8, 9, 10, 1, 2, 3, 4, 5, 6, 7, 8, 9, 10, 1, 2, 3, 4, 5, 6, 7, 8, 9, 10, 1, 2, 3, 4, 5, 6, 7, 8, 9, 10, 1, 2, 3, 4, 5, 6, 7, 8, 9, 10, 1, 2, 3, 4, 5, 6, 7, 8, 9, 10, 1, 2, 3, 4, 5, 6, 7, 8, 9, 10, 1, 2, 3, 4, 5, 6, 7, 8, 9, 10, 1, 2, 3, 4, 5, 6, 7, 8, 9, 10, 1, 2, 3, 4, 5, 6, 7, 8, 9, 10, 1, 2, 3, 4, 5, 6, 7, 8, 9, 10, 1, 2, 3, 4, 5, 6, 7, 8, 9, 10, 1, 2, 3, 4, 5, 6, 7, 8, 9, 10, 1, 2, 3, 4, 5, 6, 7, 8, 9, 10, 1, 2, 3, 4, 5, 6, 7, 8, 9, 10, 1, 2, 3, 4, 5, 6, 7, 8, 9, 10, 1, 2, 3, 4, 5, 6, 7, 8, 9, 10, 1, 2, 3, 4, 5, 6, 7, 8, 9, 10, 1, 2, 3, 4, 5, 6, 7, 8, 9, 10, 1, 2, 3, 4, 5, 6, 7, 8, 9, 10, 1, 2, 3, 4, 5, 6, 7, 8, 9, 10, 1, 2, 3, 4, 5, 6, 7, 8, 9, 10, 1, 2, 3, 4, 5, 6, 7, 8, 9, 10, 1, 2, 3, 4, 5, 6, 7, 8, 9, 10, 1, 2, 3, 4, 5, 6, 7, 8, 9, 10, 1, 2, 3, 4, 5, 6, 7, 8, 9, 10, 1, 2, 3, 4, 5, 6, 7, 8, 9, 10, 1, 2, 3, 4, 5, 6, 7, 8, 9, 10, 1, 2, 3, 4, 5, 6, 7, 8, 9, 10, 1, 2, 3, 4, 5, 6, 7, 8, 9, 10, 1, 2, 3, 4, 5, 6, 7, 8, 9, 10, 1, 2, 3, 4, 5, 6, 7, 8, 9, 10, 1, 2, 3, 4, 5, 6, 7, 8, 9, 10, 1, 2, 3, 4, 5, 6, 7, 8, 9, 10, 1, 2, 3, 4, 5, 6, 7, 8, 9, 10, 1, 2, 3, 4, 5, 6, 7, 8, 9, 10, 1, 2, 3, 4, 5, 6, 7, 8, 9, 10, 1, 2, 3, 4, 5, 6, 7, 8, 9, 10, 1, 2, 3, 4, 5, 6, 7, 8, 9, 10, 1, 2, 3, 4, 5, 6, 7, 8, 9, 10, 1, 2, 3, 4, 5, 6, 7, 8, 9, 10, 1, 2, 3, 4, 5, 6, 7, 8, 9, 10, 1, 2, 3, 4, 5, 6, 7, 8, 9, 10, 1, 2, 3, 4, 5, 6, 7, 8, 9, 10, 1, 2, 3, 4, 5, 6, 7, 8, 9, 10, 1, 2, 3, 4, 5, 6, 7, 8, 9, 10, 1, 2, 3, 4, 5, 6, 7, 8, 9, 10, 1, 2, 3, 4, 5, 6, 7, 8, 9, 10, 1, 2, 3, 4, 5, 6, 7, 8, 9, 10, 1, 2, 3, 4, 5, 6, 7, 8, 9, 10, 1, 2, 3, 4, 5, 6, 7, 8, 9, 10, 1, 2, 3, 4, 5, 6, 7, 8, 9, 10, 1, 2, 3, 4, 5, 6, 7, 8, 9, 10, 1, 2, 3, 4, 5, 6, 7, 8, 9, 10, 1, 2, 3, 4, 5, 6, 7, 8, 9, 10, 1, 2, 3, 4, 5, 6, 7, 8, 9, 10, 1, 2, 3, 4, 5, 6, 7, 8, 9, 10, 1, 2, 3, 4, 5, 6, 7, 8, 9, 10, 1, 2, 3, 4, 5, 6, 7, 8, 9, 10, 1, 2, 3, 4, 5, 6, 7, 8, 9, 10, 1, 2, 3, 4, 5, 6, 7, 8, 9, 10, 1, 2, 3, 4, 5, 6, 7, 8, 9, 10, 1, 2, 3, 4, 5, 6, 7, 8, 9, 10, 1, 2, 3, 4, 5, 6, 7, 8, 9, 10, 1, 2, 3, 4, 5, 6, 7, 8, 9, 10, 1, 2, 3, 4, 5, 6, 7, 8, 9, 10, 1, 2, 3, 4, 5, 6, 7, 8, 9, 10, 1, 2, 3, 4, 5, 6, 7, 8, 9, 10, 1, 2, 3, 4, 5, 6, 7, 8, 9, 10, 1, 2, 3, 4, 5, 6, 7, 8, 9, 10, 1, 2, 3, 4, 5, 6, 7, 8, 9, 10, 1, 2, 3, 4, 5, 6, 7, 8, 9, 10, 1, 2, 3, 4, 5, 6, 7, 8, 9, 10, 1, 2, 3, 4, 5, 6, 7, 8, 9, 10, 1, 2, 3, 4, 5, 6, 7, 8, 9, 10, 1, 2, 3, 4, 5, 6, 7, 8, 9, 10, 1, 2, 3, 4, 5, 6, 7, 8, 9, 10, 1, 2, 3, 4, 5, 6, 7, 8, 9, 10, 1, 2, 3, 4, 5, 6, 7, 8, 9, 10, 1, 2, 3, 4, 5, 6, 7, 8, 9, 10, 1, 2, 3, 4, 5, 6, 7, 8, 9, 10, 1, 2, 3, 4, 5, 6, 7, 8, 9, 10, 1, 2, 3, 4, 5, 6, 7, 8, 9, 10, 1, 2, 3, 4, 5, 6, 7, 8, 9, 10, 1, 2, 3, 4, 5, 6, 7, 8, 9, 10, 1, 2, 3, 4, 5, 6, 7, 8, 9, 10, 1, 2, 3, 4, 5, 6, 7, 8, 9, 10, 1, 2, 3, 4, 5, 6, 7, 8, 9, 10, 1, 2, 3, 4, 5, 6, 7, 8, 9, 10, 1, 2, 3, 4, 5, 6, 7, 8, 9, 10, 1, 2, 3, 4, 5, 6, 7, 8, 9, 10, 1, 2, 3, 4, 5, 6, 7, 8, 9, 10, 1, 2, 3, 4, 5, 6, 7, 8, 9, 10, 1, 2, 3, 4, 5, 6, 7, 8, 9, 10, 1, 2, 3, 4, 5, 6, 7, 8, 9, 10, 1, 2, 3, 4, 5, 6, 7, 8, 9, 10, 1, 2, 3, 4, 5, 6, 7, 8, 9, 10, 1, 2, 3, 4, 5, 6, 7, 8, 9, 10, 1, 2, 3, 4, 5, 6, 7, 8, 9, 10], \"Freq\": [0.08824281117680743, 0.08824281117680743, 0.08824281117680743, 0.08824281117680743, 0.08824281117680743, 0.08824281117680743, 0.08824281117680743, 0.08824281117680743, 0.08824281117680743, 0.08824281117680743, 0.18456809347518646, 0.09228404673759323, 0.09228404673759323, 0.09228404673759323, 0.09228404673759323, 0.09228404673759323, 0.09228404673759323, 0.09228404673759323, 0.09228404673759323, 0.09228404673759323, 0.09196747164142058, 0.09196747164142058, 0.09196747164142058, 0.09196747164142058, 0.09196747164142058, 0.09196747164142058, 0.09196747164142058, 0.09196747164142058, 0.09196747164142058, 0.09196747164142058, 0.18438375661785122, 0.09219187830892561, 0.09219187830892561, 0.09219187830892561, 0.09219187830892561, 0.09219187830892561, 0.09219187830892561, 0.09219187830892561, 0.09219187830892561, 0.09219187830892561, 0.09181520384652622, 0.09181520384652622, 0.09181520384652622, 0.09181520384652622, 0.09181520384652622, 0.09181520384652622, 0.09181520384652622, 0.09181520384652622, 0.09181520384652622, 0.09181520384652622, 0.08908021471137346, 0.08908021471137346, 0.08908021471137346, 0.08908021471137346, 0.08908021471137346, 0.08908021471137346, 0.08908021471137346, 0.08908021471137346, 0.08908021471137346, 0.08908021471137346, 0.09028486654202794, 0.09028486654202794, 0.09028486654202794, 0.09028486654202794, 0.09028486654202794, 0.09028486654202794, 0.09028486654202794, 0.09028486654202794, 0.09028486654202794, 0.09028486654202794, 0.18704745776919166, 0.09352372888459583, 0.09352372888459583, 0.09352372888459583, 0.09352372888459583, 0.09352372888459583, 0.09352372888459583, 0.09352372888459583, 0.09352372888459583, 0.09352372888459583, 0.0913486557246218, 0.0913486557246218, 0.0913486557246218, 0.0913486557246218, 0.0913486557246218, 0.0913486557246218, 0.0913486557246218, 0.0913486557246218, 0.0913486557246218, 0.0913486557246218, 0.18401029741811953, 0.09200514870905976, 0.09200514870905976, 0.09200514870905976, 0.09200514870905976, 0.09200514870905976, 0.09200514870905976, 0.09200514870905976, 0.09200514870905976, 0.09200514870905976, 0.09353631109485089, 0.09353631109485089, 0.09353631109485089, 0.09353631109485089, 0.09353631109485089, 0.09353631109485089, 0.09353631109485089, 0.09353631109485089, 0.09353631109485089, 0.09353631109485089, 0.18689354046584344, 0.09344677023292172, 0.09344677023292172, 0.09344677023292172, 0.09344677023292172, 0.09344677023292172, 0.09344677023292172, 0.09344677023292172, 0.09344677023292172, 0.09344677023292172, 0.08949811583010263, 0.08949811583010263, 0.08949811583010263, 0.08949811583010263, 0.08949811583010263, 0.08949811583010263, 0.08949811583010263, 0.08949811583010263, 0.08949811583010263, 0.08949811583010263, 0.09067216067162391, 0.09067216067162391, 0.09067216067162391, 0.09067216067162391, 0.09067216067162391, 0.09067216067162391, 0.09067216067162391, 0.09067216067162391, 0.09067216067162391, 0.09067216067162391, 0.09257338473305406, 0.09257338473305406, 0.09257338473305406, 0.09257338473305406, 0.09257338473305406, 0.09257338473305406, 0.09257338473305406, 0.09257338473305406, 0.09257338473305406, 0.09257338473305406, 0.18331433021858173, 0.09165716510929087, 0.09165716510929087, 0.09165716510929087, 0.09165716510929087, 0.09165716510929087, 0.09165716510929087, 0.09165716510929087, 0.09165716510929087, 0.09165716510929087, 0.0903225652870754, 0.0903225652870754, 0.0903225652870754, 0.0903225652870754, 0.0903225652870754, 0.0903225652870754, 0.0903225652870754, 0.0903225652870754, 0.0903225652870754, 0.0903225652870754, 0.172724528158379, 0.0863622640791895, 0.0863622640791895, 0.0863622640791895, 0.0863622640791895, 0.0863622640791895, 0.0863622640791895, 0.0863622640791895, 0.0863622640791895, 0.0863622640791895, 0.18283013791649502, 0.09141506895824751, 0.09141506895824751, 0.09141506895824751, 0.09141506895824751, 0.09141506895824751, 0.09141506895824751, 0.09141506895824751, 0.09141506895824751, 0.09141506895824751, 0.09228372333696246, 0.09228372333696246, 0.09228372333696246, 0.09228372333696246, 0.09228372333696246, 0.09228372333696246, 0.09228372333696246, 0.09228372333696246, 0.09228372333696246, 0.09228372333696246, 0.09007109856194943, 0.09007109856194943, 0.09007109856194943, 0.09007109856194943, 0.09007109856194943, 0.09007109856194943, 0.09007109856194943, 0.09007109856194943, 0.09007109856194943, 0.09007109856194943, 0.09182942564376931, 0.09182942564376931, 0.09182942564376931, 0.09182942564376931, 0.09182942564376931, 0.09182942564376931, 0.09182942564376931, 0.09182942564376931, 0.09182942564376931, 0.09182942564376931, 0.09163064229695667, 0.09163064229695667, 0.09163064229695667, 0.09163064229695667, 0.09163064229695667, 0.09163064229695667, 0.09163064229695667, 0.09163064229695667, 0.09163064229695667, 0.09163064229695667, 0.09364597797317958, 0.09364597797317958, 0.09364597797317958, 0.09364597797317958, 0.09364597797317958, 0.09364597797317958, 0.09364597797317958, 0.09364597797317958, 0.09364597797317958, 0.09364597797317958, 0.09161745296095743, 0.09161745296095743, 0.09161745296095743, 0.09161745296095743, 0.09161745296095743, 0.09161745296095743, 0.09161745296095743, 0.09161745296095743, 0.09161745296095743, 0.09161745296095743, 0.17422579449484918, 0.08711289724742459, 0.17422579449484918, 0.08711289724742459, 0.08711289724742459, 0.08711289724742459, 0.08711289724742459, 0.08711289724742459, 0.08711289724742459, 0.08711289724742459, 0.09085120841068081, 0.09085120841068081, 0.09085120841068081, 0.09085120841068081, 0.09085120841068081, 0.09085120841068081, 0.09085120841068081, 0.09085120841068081, 0.09085120841068081, 0.09085120841068081, 0.09269142555686408, 0.09269142555686408, 0.09269142555686408, 0.09269142555686408, 0.09269142555686408, 0.09269142555686408, 0.09269142555686408, 0.09269142555686408, 0.09269142555686408, 0.09269142555686408, 0.08838142620906922, 0.08838142620906922, 0.08838142620906922, 0.08838142620906922, 0.08838142620906922, 0.08838142620906922, 0.08838142620906922, 0.08838142620906922, 0.08838142620906922, 0.08838142620906922, 0.0924524625709597, 0.0924524625709597, 0.0924524625709597, 0.0924524625709597, 0.0924524625709597, 0.0924524625709597, 0.0924524625709597, 0.0924524625709597, 0.0924524625709597, 0.0924524625709597, 0.09214140847380899, 0.09214140847380899, 0.09214140847380899, 0.09214140847380899, 0.09214140847380899, 0.09214140847380899, 0.09214140847380899, 0.09214140847380899, 0.09214140847380899, 0.09214140847380899, 0.18121635028229913, 0.09060817514114956, 0.09060817514114956, 0.09060817514114956, 0.09060817514114956, 0.09060817514114956, 0.09060817514114956, 0.09060817514114956, 0.09060817514114956, 0.09060817514114956, 0.09185868691454602, 0.09185868691454602, 0.09185868691454602, 0.09185868691454602, 0.09185868691454602, 0.09185868691454602, 0.09185868691454602, 0.09185868691454602, 0.09185868691454602, 0.09185868691454602, 0.09320687597954777, 0.09320687597954777, 0.09320687597954777, 0.09320687597954777, 0.09320687597954777, 0.09320687597954777, 0.09320687597954777, 0.09320687597954777, 0.09320687597954777, 0.09320687597954777, 0.09325265729227833, 0.09325265729227833, 0.09325265729227833, 0.09325265729227833, 0.09325265729227833, 0.09325265729227833, 0.09325265729227833, 0.09325265729227833, 0.09325265729227833, 0.09325265729227833, 0.09257783792261505, 0.09257783792261505, 0.09257783792261505, 0.09257783792261505, 0.09257783792261505, 0.09257783792261505, 0.09257783792261505, 0.09257783792261505, 0.09257783792261505, 0.09257783792261505, 0.08772240573442958, 0.08772240573442958, 0.08772240573442958, 0.08772240573442958, 0.08772240573442958, 0.08772240573442958, 0.08772240573442958, 0.08772240573442958, 0.08772240573442958, 0.08772240573442958, 0.08756760028505249, 0.08756760028505249, 0.17513520057010498, 0.08756760028505249, 0.08756760028505249, 0.08756760028505249, 0.08756760028505249, 0.08756760028505249, 0.08756760028505249, 0.08756760028505249, 0.09108596267251381, 0.09108596267251381, 0.09108596267251381, 0.09108596267251381, 0.09108596267251381, 0.09108596267251381, 0.09108596267251381, 0.09108596267251381, 0.09108596267251381, 0.09108596267251381, 0.09326656141734689, 0.09326656141734689, 0.09326656141734689, 0.09326656141734689, 0.09326656141734689, 0.09326656141734689, 0.09326656141734689, 0.09326656141734689, 0.09326656141734689, 0.09326656141734689, 0.09149303462730252, 0.09149303462730252, 0.09149303462730252, 0.09149303462730252, 0.09149303462730252, 0.09149303462730252, 0.09149303462730252, 0.09149303462730252, 0.09149303462730252, 0.09149303462730252, 0.09203380193450882, 0.09203380193450882, 0.09203380193450882, 0.09203380193450882, 0.09203380193450882, 0.09203380193450882, 0.09203380193450882, 0.09203380193450882, 0.09203380193450882, 0.09203380193450882, 0.0916963716637545, 0.183392743327509, 0.0916963716637545, 0.0916963716637545, 0.0916963716637545, 0.0916963716637545, 0.0916963716637545, 0.0916963716637545, 0.0916963716637545, 0.0916963716637545, 0.08767480390054257, 0.08767480390054257, 0.08767480390054257, 0.08767480390054257, 0.08767480390054257, 0.08767480390054257, 0.08767480390054257, 0.08767480390054257, 0.08767480390054257, 0.08767480390054257, 0.09155041432185589, 0.09155041432185589, 0.09155041432185589, 0.09155041432185589, 0.09155041432185589, 0.09155041432185589, 0.09155041432185589, 0.09155041432185589, 0.09155041432185589, 0.09155041432185589, 0.09229602879040424, 0.09229602879040424, 0.09229602879040424, 0.09229602879040424, 0.09229602879040424, 0.09229602879040424, 0.09229602879040424, 0.09229602879040424, 0.09229602879040424, 0.09229602879040424, 0.09036104253283483, 0.09036104253283483, 0.09036104253283483, 0.09036104253283483, 0.09036104253283483, 0.09036104253283483, 0.09036104253283483, 0.09036104253283483, 0.09036104253283483, 0.09036104253283483, 0.08952403615983776, 0.08952403615983776, 0.08952403615983776, 0.08952403615983776, 0.08952403615983776, 0.08952403615983776, 0.08952403615983776, 0.08952403615983776, 0.08952403615983776, 0.08952403615983776, 0.08703125081375693, 0.17406250162751385, 0.08703125081375693, 0.08703125081375693, 0.08703125081375693, 0.08703125081375693, 0.08703125081375693, 0.08703125081375693, 0.08703125081375693, 0.08703125081375693, 0.09186455409599295, 0.09186455409599295, 0.09186455409599295, 0.09186455409599295, 0.09186455409599295, 0.09186455409599295, 0.09186455409599295, 0.09186455409599295, 0.09186455409599295, 0.09186455409599295, 0.09045109353160372, 0.09045109353160372, 0.09045109353160372, 0.09045109353160372, 0.09045109353160372, 0.09045109353160372, 0.09045109353160372, 0.09045109353160372, 0.09045109353160372, 0.09045109353160372, 0.18581020839579024, 0.09290510419789512, 0.09290510419789512, 0.09290510419789512, 0.09290510419789512, 0.09290510419789512, 0.09290510419789512, 0.09290510419789512, 0.09290510419789512, 0.09290510419789512, 0.08816623759967925, 0.1763324751993585, 0.08816623759967925, 0.08816623759967925, 0.08816623759967925, 0.08816623759967925, 0.08816623759967925, 0.08816623759967925, 0.08816623759967925, 0.08816623759967925, 0.18135106448995814, 0.09067553224497907, 0.09067553224497907, 0.09067553224497907, 0.09067553224497907, 0.09067553224497907, 0.09067553224497907, 0.09067553224497907, 0.09067553224497907, 0.09067553224497907, 0.09125784032014056, 0.09125784032014056, 0.09125784032014056, 0.09125784032014056, 0.09125784032014056, 0.09125784032014056, 0.09125784032014056, 0.09125784032014056, 0.09125784032014056, 0.09125784032014056, 0.09110175513745097, 0.09110175513745097, 0.09110175513745097, 0.09110175513745097, 0.09110175513745097, 0.09110175513745097, 0.09110175513745097, 0.09110175513745097, 0.09110175513745097, 0.09110175513745097, 0.09018057168372509, 0.09018057168372509, 0.09018057168372509, 0.09018057168372509, 0.09018057168372509, 0.09018057168372509, 0.09018057168372509, 0.09018057168372509, 0.09018057168372509, 0.09018057168372509, 0.18618512011764818, 0.09309256005882409, 0.09309256005882409, 0.09309256005882409, 0.09309256005882409, 0.09309256005882409, 0.09309256005882409, 0.09309256005882409, 0.09309256005882409, 0.09309256005882409, 0.08923318807939602, 0.17846637615879204, 0.08923318807939602, 0.08923318807939602, 0.08923318807939602, 0.08923318807939602, 0.08923318807939602, 0.08923318807939602, 0.08923318807939602, 0.08923318807939602, 0.0890378277325664, 0.1780756554651328, 0.1780756554651328, 0.0890378277325664, 0.0890378277325664, 0.0890378277325664, 0.0890378277325664, 0.0890378277325664, 0.0890378277325664, 0.0890378277325664, 0.09203179207593455, 0.09203179207593455, 0.09203179207593455, 0.09203179207593455, 0.09203179207593455, 0.09203179207593455, 0.09203179207593455, 0.09203179207593455, 0.09203179207593455, 0.09203179207593455, 0.09297200312666756, 0.09297200312666756, 0.09297200312666756, 0.09297200312666756, 0.09297200312666756, 0.09297200312666756, 0.09297200312666756, 0.09297200312666756, 0.09297200312666756, 0.09297200312666756, 0.08870110194435982, 0.17740220388871963, 0.08870110194435982, 0.08870110194435982, 0.08870110194435982, 0.08870110194435982, 0.08870110194435982, 0.08870110194435982, 0.08870110194435982, 0.08870110194435982, 0.18859349870116904, 0.09429674935058452, 0.09429674935058452, 0.09429674935058452, 0.09429674935058452, 0.09429674935058452, 0.09429674935058452, 0.09429674935058452, 0.09429674935058452, 0.09429674935058452, 0.09264453966322193, 0.09264453966322193, 0.09264453966322193, 0.09264453966322193, 0.09264453966322193, 0.09264453966322193, 0.09264453966322193, 0.09264453966322193, 0.09264453966322193, 0.09264453966322193, 0.09170955142383716, 0.09170955142383716, 0.09170955142383716, 0.09170955142383716, 0.09170955142383716, 0.09170955142383716, 0.09170955142383716, 0.09170955142383716, 0.09170955142383716, 0.09170955142383716, 0.08991023484019744, 0.08991023484019744, 0.08991023484019744, 0.08991023484019744, 0.08991023484019744, 0.08991023484019744, 0.08991023484019744, 0.08991023484019744, 0.08991023484019744, 0.08991023484019744, 0.09342479879224076, 0.09342479879224076, 0.09342479879224076, 0.09342479879224076, 0.09342479879224076, 0.09342479879224076, 0.09342479879224076, 0.09342479879224076, 0.09342479879224076, 0.09342479879224076, 0.09001191896008372, 0.09001191896008372, 0.09001191896008372, 0.09001191896008372, 0.09001191896008372, 0.09001191896008372, 0.09001191896008372, 0.09001191896008372, 0.09001191896008372, 0.09001191896008372, 0.18395390329579692, 0.09197695164789846, 0.09197695164789846, 0.09197695164789846, 0.09197695164789846, 0.09197695164789846, 0.09197695164789846, 0.09197695164789846, 0.09197695164789846, 0.09197695164789846, 0.09000125098717135, 0.09000125098717135, 0.09000125098717135, 0.09000125098717135, 0.09000125098717135, 0.09000125098717135, 0.09000125098717135, 0.09000125098717135, 0.09000125098717135, 0.09000125098717135, 0.09186178728718232, 0.09186178728718232, 0.09186178728718232, 0.09186178728718232, 0.09186178728718232, 0.09186178728718232, 0.09186178728718232, 0.09186178728718232, 0.09186178728718232, 0.09186178728718232, 0.09145724051176994, 0.09145724051176994, 0.09145724051176994, 0.09145724051176994, 0.09145724051176994, 0.09145724051176994, 0.09145724051176994, 0.09145724051176994, 0.09145724051176994, 0.09145724051176994, 0.0911992745696202, 0.0911992745696202, 0.0911992745696202, 0.0911992745696202, 0.0911992745696202, 0.0911992745696202, 0.0911992745696202, 0.0911992745696202, 0.0911992745696202, 0.0911992745696202, 0.0932089822345384, 0.0932089822345384, 0.0932089822345384, 0.0932089822345384, 0.0932089822345384, 0.0932089822345384, 0.0932089822345384, 0.0932089822345384, 0.0932089822345384, 0.0932089822345384, 0.08941926299386611, 0.08941926299386611, 0.17883852598773223, 0.08941926299386611, 0.08941926299386611, 0.08941926299386611, 0.08941926299386611, 0.08941926299386611, 0.08941926299386611, 0.08941926299386611, 0.08776800577063412, 0.17553601154126824, 0.17553601154126824, 0.08776800577063412, 0.08776800577063412, 0.08776800577063412, 0.08776800577063412, 0.08776800577063412, 0.08776800577063412, 0.08776800577063412, 0.1851554989697681, 0.09257774948488405, 0.09257774948488405, 0.09257774948488405, 0.09257774948488405, 0.09257774948488405, 0.09257774948488405, 0.09257774948488405, 0.09257774948488405, 0.09257774948488405, 0.09080887846884228, 0.09080887846884228, 0.09080887846884228, 0.09080887846884228, 0.09080887846884228, 0.09080887846884228, 0.09080887846884228, 0.09080887846884228, 0.09080887846884228, 0.09080887846884228, 0.08980337588988643, 0.08980337588988643, 0.08980337588988643, 0.08980337588988643, 0.08980337588988643, 0.08980337588988643, 0.08980337588988643, 0.08980337588988643, 0.08980337588988643, 0.08980337588988643, 0.08870451366983118, 0.08870451366983118, 0.08870451366983118, 0.08870451366983118, 0.08870451366983118, 0.08870451366983118, 0.08870451366983118, 0.08870451366983118, 0.08870451366983118, 0.08870451366983118, 0.09139865769690936, 0.09139865769690936, 0.09139865769690936, 0.09139865769690936, 0.09139865769690936, 0.09139865769690936, 0.09139865769690936, 0.09139865769690936, 0.09139865769690936, 0.09139865769690936, 0.09296908585828223, 0.09296908585828223, 0.09296908585828223, 0.09296908585828223, 0.09296908585828223, 0.09296908585828223, 0.09296908585828223, 0.09296908585828223, 0.09296908585828223, 0.09296908585828223, 0.09383457570102867, 0.09383457570102867, 0.09383457570102867, 0.09383457570102867, 0.09383457570102867, 0.09383457570102867, 0.09383457570102867, 0.09383457570102867, 0.09383457570102867, 0.09383457570102867, 0.08989108706430086, 0.08989108706430086, 0.08989108706430086, 0.08989108706430086, 0.08989108706430086, 0.08989108706430086, 0.08989108706430086, 0.08989108706430086, 0.08989108706430086, 0.08989108706430086, 0.09055173205314318, 0.09055173205314318, 0.09055173205314318, 0.09055173205314318, 0.09055173205314318, 0.09055173205314318, 0.09055173205314318, 0.09055173205314318, 0.09055173205314318, 0.09055173205314318, 0.09116454568160783, 0.09116454568160783, 0.09116454568160783, 0.09116454568160783, 0.09116454568160783, 0.09116454568160783, 0.09116454568160783, 0.09116454568160783, 0.09116454568160783, 0.09116454568160783, 0.186987598879858, 0.093493799439929, 0.093493799439929, 0.093493799439929, 0.093493799439929, 0.093493799439929, 0.093493799439929, 0.093493799439929, 0.093493799439929, 0.093493799439929, 0.1842780111974869, 0.09213900559874345, 0.09213900559874345, 0.09213900559874345, 0.09213900559874345, 0.09213900559874345, 0.09213900559874345, 0.09213900559874345, 0.09213900559874345, 0.09213900559874345, 0.08902211595204973, 0.08902211595204973, 0.08902211595204973, 0.08902211595204973, 0.08902211595204973, 0.08902211595204973, 0.08902211595204973, 0.08902211595204973, 0.08902211595204973, 0.08902211595204973, 0.08846310479731448, 0.08846310479731448, 0.08846310479731448, 0.08846310479731448, 0.08846310479731448, 0.08846310479731448, 0.08846310479731448, 0.08846310479731448, 0.08846310479731448, 0.08846310479731448, 0.09013402818263087, 0.09013402818263087, 0.09013402818263087, 0.09013402818263087, 0.09013402818263087, 0.09013402818263087, 0.09013402818263087, 0.09013402818263087, 0.09013402818263087, 0.09013402818263087, 0.09234567573922511, 0.09234567573922511, 0.09234567573922511, 0.09234567573922511, 0.09234567573922511, 0.09234567573922511, 0.09234567573922511, 0.09234567573922511, 0.09234567573922511, 0.09234567573922511, 0.08799617151030739, 0.08799617151030739, 0.08799617151030739, 0.08799617151030739, 0.08799617151030739, 0.08799617151030739, 0.08799617151030739, 0.08799617151030739, 0.08799617151030739, 0.08799617151030739, 0.09248737794950841, 0.09248737794950841, 0.09248737794950841, 0.09248737794950841, 0.09248737794950841, 0.09248737794950841, 0.09248737794950841, 0.09248737794950841, 0.09248737794950841, 0.09248737794950841, 0.1799975282873704, 0.0899987641436852, 0.0899987641436852, 0.0899987641436852, 0.0899987641436852, 0.0899987641436852, 0.0899987641436852, 0.0899987641436852, 0.0899987641436852, 0.0899987641436852, 0.09462834961268418, 0.09462834961268418, 0.09462834961268418, 0.09462834961268418, 0.09462834961268418, 0.09462834961268418, 0.09462834961268418, 0.09462834961268418, 0.09462834961268418, 0.09462834961268418, 0.08969409609169313, 0.17938819218338625, 0.08969409609169313, 0.08969409609169313, 0.08969409609169313, 0.08969409609169313, 0.08969409609169313, 0.08969409609169313, 0.08969409609169313, 0.08969409609169313, 0.09165042955694608, 0.09165042955694608, 0.09165042955694608, 0.09165042955694608, 0.09165042955694608, 0.09165042955694608, 0.09165042955694608, 0.09165042955694608, 0.09165042955694608, 0.09165042955694608, 0.08983835313039386, 0.08983835313039386, 0.08983835313039386, 0.08983835313039386, 0.08983835313039386, 0.08983835313039386, 0.08983835313039386, 0.08983835313039386, 0.08983835313039386, 0.08983835313039386, 0.09180300290135526, 0.09180300290135526, 0.18360600580271053, 0.09180300290135526, 0.09180300290135526, 0.09180300290135526, 0.09180300290135526, 0.09180300290135526, 0.09180300290135526, 0.09180300290135526, 0.09175783390708687, 0.09175783390708687, 0.09175783390708687, 0.09175783390708687, 0.09175783390708687, 0.09175783390708687, 0.09175783390708687, 0.09175783390708687, 0.09175783390708687, 0.09175783390708687, 0.08970198297118959, 0.08970198297118959, 0.08970198297118959, 0.08970198297118959, 0.08970198297118959, 0.08970198297118959, 0.08970198297118959, 0.08970198297118959, 0.08970198297118959, 0.08970198297118959, 0.0915568570971321, 0.0915568570971321, 0.0915568570971321, 0.0915568570971321, 0.0915568570971321, 0.0915568570971321, 0.0915568570971321, 0.0915568570971321, 0.0915568570971321, 0.0915568570971321, 0.08991839175344224, 0.08991839175344224, 0.08991839175344224, 0.08991839175344224, 0.08991839175344224, 0.08991839175344224, 0.08991839175344224, 0.08991839175344224, 0.08991839175344224, 0.08991839175344224, 0.08794410807273832, 0.08794410807273832, 0.08794410807273832, 0.08794410807273832, 0.08794410807273832, 0.08794410807273832, 0.08794410807273832, 0.08794410807273832, 0.08794410807273832, 0.08794410807273832, 0.09091738399788925, 0.09091738399788925, 0.09091738399788925, 0.09091738399788925, 0.09091738399788925, 0.09091738399788925, 0.09091738399788925, 0.09091738399788925, 0.09091738399788925, 0.09091738399788925, 0.09201955798304658, 0.09201955798304658, 0.09201955798304658, 0.09201955798304658, 0.09201955798304658, 0.09201955798304658, 0.09201955798304658, 0.09201955798304658, 0.09201955798304658, 0.09201955798304658, 0.09134345256951673, 0.09134345256951673, 0.09134345256951673, 0.09134345256951673, 0.09134345256951673, 0.09134345256951673, 0.09134345256951673, 0.09134345256951673, 0.09134345256951673, 0.09134345256951673, 0.09000758803910519, 0.18001517607821038, 0.09000758803910519, 0.09000758803910519, 0.09000758803910519, 0.09000758803910519, 0.09000758803910519, 0.09000758803910519, 0.09000758803910519, 0.09000758803910519, 0.17275410691524878, 0.08637705345762439, 0.08637705345762439, 0.08637705345762439, 0.08637705345762439, 0.08637705345762439, 0.08637705345762439, 0.08637705345762439, 0.08637705345762439, 0.08637705345762439, 0.09102298225546736, 0.09102298225546736, 0.09102298225546736, 0.09102298225546736, 0.09102298225546736, 0.09102298225546736, 0.09102298225546736, 0.09102298225546736, 0.09102298225546736, 0.09102298225546736, 0.09337584775246598, 0.09337584775246598, 0.09337584775246598, 0.09337584775246598, 0.09337584775246598, 0.09337584775246598, 0.09337584775246598, 0.09337584775246598, 0.09337584775246598, 0.09337584775246598, 0.08999813299428049, 0.08999813299428049, 0.08999813299428049, 0.08999813299428049, 0.08999813299428049, 0.08999813299428049, 0.08999813299428049, 0.08999813299428049, 0.08999813299428049, 0.08999813299428049, 0.09020472328748942, 0.09020472328748942, 0.09020472328748942, 0.09020472328748942, 0.09020472328748942, 0.09020472328748942, 0.09020472328748942, 0.09020472328748942, 0.09020472328748942, 0.09020472328748942, 0.18965925806276063, 0.09482962903138031, 0.09482962903138031, 0.09482962903138031, 0.09482962903138031, 0.09482962903138031, 0.09482962903138031, 0.09482962903138031, 0.09482962903138031, 0.09482962903138031, 0.08976856670814867, 0.08976856670814867, 0.08976856670814867, 0.08976856670814867, 0.08976856670814867, 0.08976856670814867, 0.08976856670814867, 0.08976856670814867, 0.08976856670814867, 0.08976856670814867, 0.0885998036818543, 0.0885998036818543, 0.0885998036818543, 0.0885998036818543, 0.0885998036818543, 0.0885998036818543, 0.0885998036818543, 0.0885998036818543, 0.0885998036818543, 0.0885998036818543, 0.08947032549317706, 0.08947032549317706, 0.08947032549317706, 0.08947032549317706, 0.08947032549317706, 0.08947032549317706, 0.08947032549317706, 0.08947032549317706, 0.08947032549317706, 0.08947032549317706, 0.08936420677369969, 0.08936420677369969, 0.08936420677369969, 0.08936420677369969, 0.08936420677369969, 0.08936420677369969, 0.08936420677369969, 0.08936420677369969, 0.08936420677369969, 0.08936420677369969, 0.09022757364660808, 0.09022757364660808, 0.18045514729321616, 0.09022757364660808, 0.09022757364660808, 0.09022757364660808, 0.09022757364660808, 0.09022757364660808, 0.09022757364660808, 0.09022757364660808, 0.09330150409922289, 0.09330150409922289, 0.09330150409922289, 0.09330150409922289, 0.09330150409922289, 0.09330150409922289, 0.09330150409922289, 0.09330150409922289, 0.09330150409922289, 0.09330150409922289, 0.09246683753857497, 0.09246683753857497, 0.09246683753857497, 0.09246683753857497, 0.09246683753857497, 0.09246683753857497, 0.09246683753857497, 0.09246683753857497, 0.09246683753857497, 0.09246683753857497, 0.09055935492393784, 0.09055935492393784, 0.09055935492393784, 0.09055935492393784, 0.09055935492393784, 0.09055935492393784, 0.09055935492393784, 0.09055935492393784, 0.09055935492393784, 0.09055935492393784, 0.08835924904131615, 0.08835924904131615, 0.08835924904131615, 0.08835924904131615, 0.08835924904131615, 0.08835924904131615, 0.08835924904131615, 0.08835924904131615, 0.08835924904131615, 0.08835924904131615, 0.08742703430419674, 0.08742703430419674, 0.08742703430419674, 0.08742703430419674, 0.08742703430419674, 0.08742703430419674, 0.08742703430419674, 0.08742703430419674, 0.08742703430419674, 0.08742703430419674, 0.089216976409194, 0.089216976409194, 0.089216976409194, 0.089216976409194, 0.089216976409194, 0.089216976409194, 0.089216976409194, 0.089216976409194, 0.089216976409194, 0.089216976409194, 0.08993201657454179, 0.08993201657454179, 0.08993201657454179, 0.08993201657454179, 0.08993201657454179, 0.08993201657454179, 0.08993201657454179, 0.08993201657454179, 0.08993201657454179, 0.08993201657454179, 0.09108373626963276, 0.09108373626963276, 0.09108373626963276, 0.09108373626963276, 0.09108373626963276, 0.09108373626963276, 0.09108373626963276, 0.09108373626963276, 0.09108373626963276, 0.09108373626963276, 0.08995834013353826, 0.08995834013353826, 0.08995834013353826, 0.08995834013353826, 0.08995834013353826, 0.08995834013353826, 0.08995834013353826, 0.08995834013353826, 0.08995834013353826, 0.08995834013353826, 0.09214100205998628, 0.09214100205998628, 0.09214100205998628, 0.09214100205998628, 0.09214100205998628, 0.09214100205998628, 0.09214100205998628, 0.09214100205998628, 0.09214100205998628, 0.09214100205998628, 0.09118830471047878, 0.09118830471047878, 0.09118830471047878, 0.09118830471047878, 0.09118830471047878, 0.09118830471047878, 0.09118830471047878, 0.09118830471047878, 0.09118830471047878, 0.09118830471047878, 0.08463973926405714, 0.16927947852811429, 0.08463973926405714, 0.16927947852811429, 0.08463973926405714, 0.08463973926405714, 0.08463973926405714, 0.08463973926405714, 0.08463973926405714, 0.08463973926405714, 0.08677609266213411, 0.17355218532426822, 0.08677609266213411, 0.08677609266213411, 0.08677609266213411, 0.08677609266213411, 0.08677609266213411, 0.08677609266213411, 0.08677609266213411, 0.08677609266213411, 0.08792742356751082, 0.08792742356751082, 0.08792742356751082, 0.08792742356751082, 0.08792742356751082, 0.08792742356751082, 0.08792742356751082, 0.08792742356751082, 0.08792742356751082, 0.08792742356751082, 0.09195896480002637, 0.09195896480002637, 0.09195896480002637, 0.09195896480002637, 0.09195896480002637, 0.09195896480002637, 0.09195896480002637, 0.09195896480002637, 0.09195896480002637, 0.09195896480002637, 0.0882231392757807, 0.0882231392757807, 0.0882231392757807, 0.0882231392757807, 0.0882231392757807, 0.0882231392757807, 0.0882231392757807, 0.0882231392757807, 0.0882231392757807, 0.0882231392757807, 0.0918303358170457, 0.0918303358170457, 0.0918303358170457, 0.0918303358170457, 0.0918303358170457, 0.0918303358170457, 0.0918303358170457, 0.0918303358170457, 0.0918303358170457, 0.0918303358170457, 0.09097395741887036, 0.09097395741887036, 0.09097395741887036, 0.09097395741887036, 0.09097395741887036, 0.09097395741887036, 0.09097395741887036, 0.09097395741887036, 0.09097395741887036, 0.09097395741887036, 0.08978661652637131, 0.17957323305274261, 0.08978661652637131, 0.08978661652637131, 0.08978661652637131, 0.08978661652637131, 0.08978661652637131, 0.08978661652637131, 0.08978661652637131, 0.08978661652637131, 0.09139726375395911, 0.09139726375395911, 0.09139726375395911, 0.09139726375395911, 0.09139726375395911, 0.09139726375395911, 0.09139726375395911, 0.09139726375395911, 0.09139726375395911, 0.09139726375395911, 0.09316737792395141, 0.09316737792395141, 0.09316737792395141, 0.09316737792395141, 0.09316737792395141, 0.09316737792395141, 0.09316737792395141, 0.09316737792395141, 0.09316737792395141, 0.09316737792395141, 0.09095352170377605, 0.09095352170377605, 0.09095352170377605, 0.09095352170377605, 0.09095352170377605, 0.09095352170377605, 0.09095352170377605, 0.09095352170377605, 0.09095352170377605, 0.09095352170377605, 0.09050360823837399, 0.09050360823837399, 0.09050360823837399, 0.09050360823837399, 0.09050360823837399, 0.09050360823837399, 0.09050360823837399, 0.09050360823837399, 0.09050360823837399, 0.09050360823837399, 0.09433864393651115, 0.09433864393651115, 0.09433864393651115, 0.09433864393651115, 0.09433864393651115, 0.09433864393651115, 0.09433864393651115, 0.09433864393651115, 0.09433864393651115, 0.09433864393651115, 0.09595473781877065, 0.09595473781877065, 0.09595473781877065, 0.09595473781877065, 0.09595473781877065, 0.09595473781877065, 0.09595473781877065, 0.09595473781877065, 0.09595473781877065, 0.09595473781877065, 0.09120782552729906, 0.09120782552729906, 0.09120782552729906, 0.09120782552729906, 0.09120782552729906, 0.09120782552729906, 0.09120782552729906, 0.09120782552729906, 0.09120782552729906, 0.09120782552729906, 0.09137624125665687, 0.09137624125665687, 0.09137624125665687, 0.09137624125665687, 0.09137624125665687, 0.09137624125665687, 0.09137624125665687, 0.09137624125665687, 0.09137624125665687, 0.09137624125665687, 0.09137747414454284, 0.09137747414454284, 0.09137747414454284, 0.09137747414454284, 0.09137747414454284, 0.09137747414454284, 0.09137747414454284, 0.09137747414454284, 0.09137747414454284, 0.09137747414454284, 0.09353079398401526, 0.09353079398401526, 0.09353079398401526, 0.09353079398401526, 0.09353079398401526, 0.09353079398401526, 0.09353079398401526, 0.09353079398401526, 0.09353079398401526, 0.09353079398401526, 0.18394485642969055, 0.09197242821484528, 0.09197242821484528, 0.09197242821484528, 0.09197242821484528, 0.09197242821484528, 0.09197242821484528, 0.09197242821484528, 0.09197242821484528, 0.09197242821484528, 0.09282636055723058, 0.09282636055723058, 0.18565272111446116, 0.09282636055723058, 0.09282636055723058, 0.09282636055723058, 0.09282636055723058, 0.09282636055723058, 0.09282636055723058, 0.09282636055723058, 0.09376836140844516, 0.18753672281689032, 0.09376836140844516, 0.09376836140844516, 0.09376836140844516, 0.09376836140844516, 0.09376836140844516, 0.09376836140844516, 0.09376836140844516, 0.09376836140844516, 0.09014326610867546, 0.09014326610867546, 0.18028653221735091, 0.09014326610867546, 0.09014326610867546, 0.09014326610867546, 0.09014326610867546, 0.09014326610867546, 0.09014326610867546, 0.09014326610867546, 0.09055050749162766, 0.09055050749162766, 0.09055050749162766, 0.09055050749162766, 0.09055050749162766, 0.09055050749162766, 0.09055050749162766, 0.09055050749162766, 0.09055050749162766, 0.09055050749162766, 0.18145718492234753, 0.09072859246117376, 0.09072859246117376, 0.09072859246117376, 0.09072859246117376, 0.09072859246117376, 0.09072859246117376, 0.09072859246117376, 0.09072859246117376, 0.09072859246117376, 0.08881131747445035, 0.1776226349489007, 0.08881131747445035, 0.08881131747445035, 0.08881131747445035, 0.08881131747445035, 0.08881131747445035, 0.08881131747445035, 0.08881131747445035, 0.08881131747445035, 0.09222639639604521, 0.09222639639604521, 0.09222639639604521, 0.09222639639604521, 0.09222639639604521, 0.09222639639604521, 0.09222639639604521, 0.09222639639604521, 0.09222639639604521, 0.09222639639604521, 0.09460346155971308, 0.09460346155971308, 0.09460346155971308, 0.09460346155971308, 0.09460346155971308, 0.09460346155971308, 0.09460346155971308, 0.09460346155971308, 0.09460346155971308, 0.09460346155971308, 0.08966728570630815, 0.08966728570630815, 0.08966728570630815, 0.08966728570630815, 0.08966728570630815, 0.08966728570630815, 0.08966728570630815, 0.08966728570630815, 0.08966728570630815, 0.08966728570630815, 0.08871569448775773, 0.08871569448775773, 0.08871569448775773, 0.08871569448775773, 0.08871569448775773, 0.08871569448775773, 0.08871569448775773, 0.08871569448775773, 0.08871569448775773, 0.08871569448775773, 0.09156934242711241, 0.09156934242711241, 0.09156934242711241, 0.09156934242711241, 0.09156934242711241, 0.09156934242711241, 0.09156934242711241, 0.09156934242711241, 0.09156934242711241, 0.09156934242711241, 0.0884483181447436, 0.0884483181447436, 0.0884483181447436, 0.0884483181447436, 0.0884483181447436, 0.0884483181447436, 0.0884483181447436, 0.0884483181447436, 0.0884483181447436, 0.0884483181447436, 0.08927850619728764, 0.08927850619728764, 0.08927850619728764, 0.08927850619728764, 0.08927850619728764, 0.08927850619728764, 0.08927850619728764, 0.08927850619728764, 0.08927850619728764, 0.08927850619728764, 0.18297049639720234, 0.09148524819860117, 0.09148524819860117, 0.09148524819860117, 0.09148524819860117, 0.09148524819860117, 0.09148524819860117, 0.09148524819860117, 0.09148524819860117, 0.09148524819860117, 0.0913274595303171, 0.0913274595303171, 0.0913274595303171, 0.0913274595303171, 0.0913274595303171, 0.0913274595303171, 0.0913274595303171, 0.0913274595303171, 0.0913274595303171, 0.0913274595303171, 0.09362746323756146, 0.09362746323756146, 0.09362746323756146, 0.09362746323756146, 0.09362746323756146, 0.09362746323756146, 0.09362746323756146, 0.09362746323756146, 0.09362746323756146, 0.09362746323756146, 0.0920160701929837, 0.0920160701929837, 0.0920160701929837, 0.0920160701929837, 0.0920160701929837, 0.0920160701929837, 0.0920160701929837, 0.0920160701929837, 0.0920160701929837, 0.0920160701929837, 0.08921987064952802, 0.08921987064952802, 0.08921987064952802, 0.08921987064952802, 0.08921987064952802, 0.08921987064952802, 0.08921987064952802, 0.08921987064952802, 0.08921987064952802, 0.08921987064952802, 0.09365507387896703, 0.09365507387896703, 0.09365507387896703, 0.09365507387896703, 0.09365507387896703, 0.09365507387896703, 0.09365507387896703, 0.09365507387896703, 0.09365507387896703, 0.09365507387896703, 0.08963214466896331, 0.08963214466896331, 0.08963214466896331, 0.08963214466896331, 0.08963214466896331, 0.08963214466896331, 0.08963214466896331, 0.08963214466896331, 0.08963214466896331, 0.08963214466896331, 0.09058311379801674, 0.09058311379801674, 0.09058311379801674, 0.09058311379801674, 0.09058311379801674, 0.09058311379801674, 0.09058311379801674, 0.09058311379801674, 0.09058311379801674, 0.09058311379801674, 0.09267997719053436, 0.18535995438106873, 0.09267997719053436, 0.09267997719053436, 0.09267997719053436, 0.09267997719053436, 0.09267997719053436, 0.09267997719053436, 0.09267997719053436, 0.09267997719053436, 0.08995843530453133, 0.08995843530453133, 0.08995843530453133, 0.08995843530453133, 0.08995843530453133, 0.08995843530453133, 0.08995843530453133, 0.08995843530453133, 0.08995843530453133, 0.08995843530453133, 0.09340043269583663, 0.09340043269583663, 0.09340043269583663, 0.09340043269583663, 0.09340043269583663, 0.09340043269583663, 0.09340043269583663, 0.09340043269583663, 0.09340043269583663, 0.09340043269583663, 0.09015466161451104, 0.09015466161451104, 0.09015466161451104, 0.09015466161451104, 0.09015466161451104, 0.09015466161451104, 0.09015466161451104, 0.09015466161451104, 0.09015466161451104, 0.09015466161451104, 0.09262724815154216, 0.09262724815154216, 0.09262724815154216, 0.09262724815154216, 0.09262724815154216, 0.09262724815154216, 0.09262724815154216, 0.09262724815154216, 0.09262724815154216, 0.09262724815154216, 0.17714577429263895, 0.08857288714631947, 0.08857288714631947, 0.08857288714631947, 0.08857288714631947, 0.08857288714631947, 0.08857288714631947, 0.08857288714631947, 0.08857288714631947, 0.08857288714631947, 0.0900383541166394, 0.1800767082332788, 0.0900383541166394, 0.0900383541166394, 0.0900383541166394, 0.0900383541166394, 0.0900383541166394, 0.0900383541166394, 0.0900383541166394, 0.0900383541166394, 0.09075832988917414, 0.18151665977834827, 0.09075832988917414, 0.09075832988917414, 0.09075832988917414, 0.09075832988917414, 0.09075832988917414, 0.09075832988917414, 0.09075832988917414, 0.09075832988917414, 0.09255510988732611, 0.18511021977465222, 0.09255510988732611, 0.09255510988732611, 0.09255510988732611, 0.09255510988732611, 0.09255510988732611, 0.09255510988732611, 0.09255510988732611, 0.09255510988732611, 0.1876988575867885, 0.09384942879339425, 0.09384942879339425, 0.09384942879339425, 0.09384942879339425, 0.09384942879339425, 0.09384942879339425, 0.09384942879339425, 0.09384942879339425, 0.09384942879339425, 0.17253943138526692, 0.17253943138526692, 0.08626971569263346, 0.08626971569263346, 0.08626971569263346, 0.08626971569263346, 0.08626971569263346, 0.08626971569263346, 0.08626971569263346, 0.08626971569263346, 0.18038777240727236, 0.09019388620363618, 0.09019388620363618, 0.09019388620363618, 0.09019388620363618, 0.09019388620363618, 0.09019388620363618, 0.09019388620363618, 0.09019388620363618, 0.09019388620363618, 0.08922735366169368, 0.08922735366169368, 0.08922735366169368, 0.08922735366169368, 0.08922735366169368, 0.08922735366169368, 0.08922735366169368, 0.08922735366169368, 0.08922735366169368, 0.08922735366169368, 0.09057166810684944, 0.09057166810684944, 0.09057166810684944, 0.09057166810684944, 0.09057166810684944, 0.09057166810684944, 0.09057166810684944, 0.09057166810684944, 0.09057166810684944, 0.09057166810684944, 0.1835450256663286, 0.1835450256663286, 0.0917725128331643, 0.0917725128331643, 0.0917725128331643, 0.0917725128331643, 0.0917725128331643, 0.0917725128331643, 0.0917725128331643, 0.0917725128331643, 0.08767745798885497, 0.08767745798885497, 0.08767745798885497, 0.08767745798885497, 0.08767745798885497, 0.08767745798885497, 0.08767745798885497, 0.08767745798885497, 0.08767745798885497, 0.08767745798885497, 0.17307395796095681, 0.08653697898047841, 0.08653697898047841, 0.08653697898047841, 0.08653697898047841, 0.08653697898047841, 0.08653697898047841, 0.08653697898047841, 0.08653697898047841, 0.08653697898047841, 0.08834939359273701, 0.08834939359273701, 0.17669878718547402, 0.08834939359273701, 0.08834939359273701, 0.08834939359273701, 0.08834939359273701, 0.08834939359273701, 0.08834939359273701, 0.08834939359273701, 0.09130580976036105, 0.09130580976036105, 0.09130580976036105, 0.09130580976036105, 0.09130580976036105, 0.09130580976036105, 0.09130580976036105, 0.09130580976036105, 0.09130580976036105, 0.09130580976036105, 0.09137824806212984, 0.09137824806212984, 0.09137824806212984, 0.09137824806212984, 0.09137824806212984, 0.09137824806212984, 0.09137824806212984, 0.09137824806212984, 0.09137824806212984, 0.09137824806212984, 0.0912614498616355, 0.0912614498616355, 0.0912614498616355, 0.0912614498616355, 0.0912614498616355, 0.0912614498616355, 0.0912614498616355, 0.0912614498616355, 0.0912614498616355, 0.0912614498616355, 0.1810181648436741, 0.1810181648436741, 0.09050908242183706, 0.09050908242183706, 0.09050908242183706, 0.09050908242183706, 0.09050908242183706, 0.09050908242183706, 0.09050908242183706, 0.09050908242183706, 0.09017776069388304, 0.1803555213877661, 0.09017776069388304, 0.09017776069388304, 0.09017776069388304, 0.09017776069388304, 0.09017776069388304, 0.09017776069388304, 0.09017776069388304, 0.09017776069388304, 0.0880577716244957, 0.0880577716244957, 0.0880577716244957, 0.0880577716244957, 0.0880577716244957, 0.0880577716244957, 0.0880577716244957, 0.0880577716244957, 0.0880577716244957, 0.0880577716244957, 0.08907731282246849, 0.08907731282246849, 0.08907731282246849, 0.08907731282246849, 0.08907731282246849, 0.08907731282246849, 0.08907731282246849, 0.08907731282246849, 0.08907731282246849, 0.08907731282246849, 0.08947770804323919, 0.17895541608647839, 0.08947770804323919, 0.08947770804323919, 0.08947770804323919, 0.08947770804323919, 0.08947770804323919, 0.08947770804323919, 0.08947770804323919, 0.08947770804323919, 0.08916699386211395, 0.08916699386211395, 0.08916699386211395, 0.08916699386211395, 0.08916699386211395, 0.08916699386211395, 0.08916699386211395, 0.08916699386211395, 0.08916699386211395, 0.08916699386211395, 0.08923308239773248, 0.08923308239773248, 0.08923308239773248, 0.08923308239773248, 0.08923308239773248, 0.08923308239773248, 0.08923308239773248, 0.08923308239773248, 0.08923308239773248, 0.08923308239773248, 0.09306050414690897, 0.09306050414690897, 0.09306050414690897, 0.09306050414690897, 0.09306050414690897, 0.09306050414690897, 0.09306050414690897, 0.09306050414690897, 0.09306050414690897, 0.09306050414690897, 0.08785550345851426, 0.08785550345851426, 0.08785550345851426, 0.08785550345851426, 0.08785550345851426, 0.08785550345851426, 0.08785550345851426, 0.08785550345851426, 0.08785550345851426, 0.08785550345851426, 0.08914161832464407, 0.17828323664928813, 0.08914161832464407, 0.08914161832464407, 0.08914161832464407, 0.08914161832464407, 0.08914161832464407, 0.08914161832464407, 0.08914161832464407, 0.08914161832464407, 0.08917939129104589, 0.08917939129104589, 0.08917939129104589, 0.08917939129104589, 0.08917939129104589, 0.08917939129104589, 0.08917939129104589, 0.08917939129104589, 0.08917939129104589, 0.08917939129104589, 0.18888965722797713, 0.09444482861398856, 0.09444482861398856, 0.09444482861398856, 0.09444482861398856, 0.09444482861398856, 0.09444482861398856, 0.09444482861398856, 0.09444482861398856, 0.09444482861398856, 0.0928484662173054, 0.1856969324346108, 0.0928484662173054, 0.0928484662173054, 0.0928484662173054, 0.0928484662173054, 0.0928484662173054, 0.0928484662173054, 0.0928484662173054, 0.0928484662173054, 0.09017833297974925, 0.09017833297974925, 0.09017833297974925, 0.09017833297974925, 0.09017833297974925, 0.09017833297974925, 0.09017833297974925, 0.09017833297974925, 0.09017833297974925, 0.09017833297974925, 0.09367378590414242, 0.18734757180828485, 0.09367378590414242, 0.09367378590414242, 0.09367378590414242, 0.09367378590414242, 0.09367378590414242, 0.09367378590414242, 0.09367378590414242, 0.09367378590414242, 0.09458652543394286, 0.09458652543394286, 0.18917305086788572, 0.09458652543394286, 0.09458652543394286, 0.09458652543394286, 0.09458652543394286, 0.09458652543394286, 0.09458652543394286, 0.09458652543394286, 0.0942988312493576, 0.0942988312493576, 0.0942988312493576, 0.0942988312493576, 0.0942988312493576, 0.0942988312493576, 0.0942988312493576, 0.0942988312493576, 0.0942988312493576, 0.0942988312493576, 0.09171476837766254, 0.09171476837766254, 0.09171476837766254, 0.09171476837766254, 0.09171476837766254, 0.09171476837766254, 0.09171476837766254, 0.09171476837766254, 0.09171476837766254, 0.09171476837766254, 0.08970380898304944, 0.08970380898304944, 0.08970380898304944, 0.08970380898304944, 0.08970380898304944, 0.08970380898304944, 0.08970380898304944, 0.08970380898304944, 0.08970380898304944, 0.08970380898304944, 0.09097443595511781, 0.18194887191023562, 0.09097443595511781, 0.09097443595511781, 0.09097443595511781, 0.09097443595511781, 0.09097443595511781, 0.09097443595511781, 0.09097443595511781, 0.09097443595511781, 0.09312795787756008, 0.09312795787756008, 0.09312795787756008, 0.09312795787756008, 0.09312795787756008, 0.09312795787756008, 0.09312795787756008, 0.09312795787756008, 0.09312795787756008, 0.09312795787756008, 0.08720705754501015, 0.08720705754501015, 0.1744141150900203, 0.08720705754501015, 0.08720705754501015, 0.08720705754501015, 0.08720705754501015, 0.08720705754501015, 0.08720705754501015, 0.08720705754501015, 0.09100655970831369, 0.09100655970831369, 0.09100655970831369, 0.09100655970831369, 0.09100655970831369, 0.09100655970831369, 0.09100655970831369, 0.09100655970831369, 0.09100655970831369, 0.09100655970831369, 0.09411836188425415, 0.09411836188425415, 0.09411836188425415, 0.09411836188425415, 0.09411836188425415, 0.09411836188425415, 0.09411836188425415, 0.09411836188425415, 0.09411836188425415, 0.09411836188425415, 0.17856661370021268, 0.08928330685010634, 0.08928330685010634, 0.08928330685010634, 0.08928330685010634, 0.08928330685010634, 0.08928330685010634, 0.08928330685010634, 0.08928330685010634, 0.08928330685010634, 0.09127658216286001, 0.09127658216286001, 0.09127658216286001, 0.09127658216286001, 0.09127658216286001, 0.09127658216286001, 0.09127658216286001, 0.09127658216286001, 0.09127658216286001, 0.09127658216286001, 0.09041110895114812, 0.09041110895114812, 0.09041110895114812, 0.09041110895114812, 0.09041110895114812, 0.09041110895114812, 0.09041110895114812, 0.09041110895114812, 0.09041110895114812, 0.09041110895114812, 0.08984180385009224, 0.08984180385009224, 0.08984180385009224, 0.08984180385009224, 0.08984180385009224, 0.08984180385009224, 0.08984180385009224, 0.08984180385009224, 0.08984180385009224, 0.08984180385009224, 0.08917750467973555, 0.08917750467973555, 0.08917750467973555, 0.08917750467973555, 0.08917750467973555, 0.08917750467973555, 0.08917750467973555, 0.08917750467973555, 0.08917750467973555, 0.08917750467973555, 0.08837222693968229, 0.08837222693968229, 0.17674445387936458, 0.08837222693968229, 0.08837222693968229, 0.08837222693968229, 0.08837222693968229, 0.08837222693968229, 0.08837222693968229, 0.08837222693968229, 0.08894872276091562, 0.08894872276091562, 0.08894872276091562, 0.08894872276091562, 0.08894872276091562, 0.08894872276091562, 0.08894872276091562, 0.08894872276091562, 0.08894872276091562, 0.08894872276091562, 0.09161793729085917, 0.09161793729085917, 0.09161793729085917, 0.09161793729085917, 0.09161793729085917, 0.09161793729085917, 0.09161793729085917, 0.09161793729085917, 0.09161793729085917, 0.09161793729085917, 0.08704176653378799, 0.17408353306757599, 0.17408353306757599, 0.08704176653378799, 0.08704176653378799, 0.08704176653378799, 0.08704176653378799, 0.08704176653378799, 0.08704176653378799, 0.08704176653378799, 0.0913163410128415, 0.0913163410128415, 0.0913163410128415, 0.0913163410128415, 0.0913163410128415, 0.0913163410128415, 0.0913163410128415, 0.0913163410128415, 0.0913163410128415, 0.0913163410128415, 0.17687386120743298, 0.17687386120743298, 0.08843693060371649, 0.08843693060371649, 0.08843693060371649, 0.08843693060371649, 0.08843693060371649, 0.08843693060371649, 0.08843693060371649, 0.08843693060371649, 0.09012758743802683, 0.09012758743802683, 0.09012758743802683, 0.09012758743802683, 0.09012758743802683, 0.09012758743802683, 0.09012758743802683, 0.09012758743802683, 0.09012758743802683, 0.09012758743802683, 0.08917850104384765, 0.08917850104384765, 0.08917850104384765, 0.08917850104384765, 0.08917850104384765, 0.08917850104384765, 0.08917850104384765, 0.08917850104384765, 0.08917850104384765, 0.08917850104384765, 0.09095457419713351, 0.09095457419713351, 0.09095457419713351, 0.09095457419713351, 0.09095457419713351, 0.09095457419713351, 0.09095457419713351, 0.09095457419713351, 0.09095457419713351, 0.09095457419713351, 0.17992535606364174, 0.08996267803182087, 0.17992535606364174, 0.08996267803182087, 0.08996267803182087, 0.08996267803182087, 0.08996267803182087, 0.08996267803182087, 0.08996267803182087, 0.08996267803182087, 0.0884646456895242, 0.0884646456895242, 0.1769292913790484, 0.0884646456895242, 0.0884646456895242, 0.0884646456895242, 0.0884646456895242, 0.0884646456895242, 0.0884646456895242, 0.0884646456895242, 0.09352903333674446, 0.09352903333674446, 0.09352903333674446, 0.09352903333674446, 0.09352903333674446, 0.09352903333674446, 0.09352903333674446, 0.09352903333674446, 0.09352903333674446, 0.09352903333674446, 0.18954091568333928, 0.09477045784166964, 0.09477045784166964, 0.09477045784166964, 0.09477045784166964, 0.09477045784166964, 0.09477045784166964, 0.09477045784166964, 0.09477045784166964, 0.09477045784166964, 0.09132718986537056, 0.09132718986537056, 0.09132718986537056, 0.09132718986537056, 0.09132718986537056, 0.09132718986537056, 0.09132718986537056, 0.09132718986537056, 0.09132718986537056, 0.09132718986537056, 0.08887960343211662, 0.08887960343211662, 0.08887960343211662, 0.08887960343211662, 0.08887960343211662, 0.08887960343211662, 0.08887960343211662, 0.08887960343211662, 0.08887960343211662, 0.08887960343211662, 0.186642091102112, 0.093321045551056, 0.093321045551056, 0.093321045551056, 0.093321045551056, 0.093321045551056, 0.093321045551056, 0.093321045551056, 0.093321045551056, 0.093321045551056, 0.18804707526776893, 0.09402353763388446, 0.09402353763388446, 0.09402353763388446, 0.09402353763388446, 0.09402353763388446, 0.09402353763388446, 0.09402353763388446, 0.09402353763388446, 0.09402353763388446, 0.18188757804174066, 0.18188757804174066, 0.09094378902087033, 0.09094378902087033, 0.09094378902087033, 0.09094378902087033, 0.09094378902087033, 0.09094378902087033, 0.09094378902087033, 0.09094378902087033, 0.09283209435865687, 0.18566418871731374, 0.09283209435865687, 0.09283209435865687, 0.09283209435865687, 0.09283209435865687, 0.09283209435865687, 0.09283209435865687, 0.09283209435865687, 0.09283209435865687, 0.09185791761726023, 0.09185791761726023, 0.09185791761726023, 0.09185791761726023, 0.09185791761726023, 0.09185791761726023, 0.09185791761726023, 0.09185791761726023, 0.09185791761726023, 0.09185791761726023, 0.09517602482216977, 0.09517602482216977, 0.09517602482216977, 0.09517602482216977, 0.09517602482216977, 0.09517602482216977, 0.09517602482216977, 0.09517602482216977, 0.09517602482216977, 0.09517602482216977, 0.18701158027576897, 0.09350579013788449, 0.09350579013788449, 0.09350579013788449, 0.09350579013788449, 0.09350579013788449, 0.09350579013788449, 0.09350579013788449, 0.09350579013788449, 0.09350579013788449, 0.09040993849996912, 0.09040993849996912, 0.09040993849996912, 0.09040993849996912, 0.09040993849996912, 0.09040993849996912, 0.09040993849996912, 0.09040993849996912, 0.09040993849996912, 0.09040993849996912, 0.09244682643535494, 0.09244682643535494, 0.09244682643535494, 0.09244682643535494, 0.09244682643535494, 0.09244682643535494, 0.09244682643535494, 0.09244682643535494, 0.09244682643535494, 0.09244682643535494, 0.09180361614866919, 0.09180361614866919, 0.09180361614866919, 0.09180361614866919, 0.09180361614866919, 0.09180361614866919, 0.09180361614866919, 0.09180361614866919, 0.09180361614866919, 0.09180361614866919, 0.09089457617647466, 0.09089457617647466, 0.09089457617647466, 0.09089457617647466, 0.09089457617647466, 0.09089457617647466, 0.09089457617647466, 0.09089457617647466, 0.09089457617647466, 0.09089457617647466, 0.0910563126858696, 0.1821126253717392, 0.0910563126858696, 0.0910563126858696, 0.0910563126858696, 0.0910563126858696, 0.0910563126858696, 0.0910563126858696, 0.0910563126858696, 0.0910563126858696, 0.18176757093008758, 0.09088378546504379, 0.09088378546504379, 0.09088378546504379, 0.09088378546504379, 0.09088378546504379, 0.09088378546504379, 0.09088378546504379, 0.09088378546504379, 0.09088378546504379, 0.09201629236727038, 0.09201629236727038, 0.09201629236727038, 0.09201629236727038, 0.09201629236727038, 0.09201629236727038, 0.09201629236727038, 0.09201629236727038, 0.09201629236727038, 0.09201629236727038, 0.09219910095872011, 0.09219910095872011, 0.09219910095872011, 0.09219910095872011, 0.09219910095872011, 0.09219910095872011, 0.09219910095872011, 0.09219910095872011, 0.09219910095872011, 0.09219910095872011, 0.18195654656368107, 0.09097827328184054, 0.09097827328184054, 0.09097827328184054, 0.09097827328184054, 0.09097827328184054, 0.09097827328184054, 0.09097827328184054, 0.09097827328184054, 0.09097827328184054, 0.09144568270473749, 0.09144568270473749, 0.09144568270473749, 0.09144568270473749, 0.09144568270473749, 0.09144568270473749, 0.09144568270473749, 0.09144568270473749, 0.09144568270473749, 0.09144568270473749, 0.08986301043313849, 0.08986301043313849, 0.08986301043313849, 0.08986301043313849, 0.08986301043313849, 0.08986301043313849, 0.08986301043313849, 0.08986301043313849, 0.08986301043313849, 0.08986301043313849, 0.0916173246510187, 0.0916173246510187, 0.0916173246510187, 0.0916173246510187, 0.0916173246510187, 0.0916173246510187, 0.0916173246510187, 0.0916173246510187, 0.0916173246510187, 0.0916173246510187, 0.18451058304549242, 0.09225529152274621, 0.09225529152274621, 0.09225529152274621, 0.09225529152274621, 0.09225529152274621, 0.09225529152274621, 0.09225529152274621, 0.09225529152274621, 0.09225529152274621, 0.08952928243585458, 0.08952928243585458, 0.08952928243585458, 0.08952928243585458, 0.08952928243585458, 0.08952928243585458, 0.08952928243585458, 0.08952928243585458, 0.08952928243585458, 0.08952928243585458, 0.09497285708681291, 0.09497285708681291, 0.09497285708681291, 0.09497285708681291, 0.09497285708681291, 0.09497285708681291, 0.09497285708681291, 0.09497285708681291, 0.09497285708681291, 0.09497285708681291, 0.08995099464046094, 0.08995099464046094, 0.08995099464046094, 0.08995099464046094, 0.08995099464046094, 0.08995099464046094, 0.08995099464046094, 0.08995099464046094, 0.08995099464046094, 0.08995099464046094, 0.0920355907908369, 0.0920355907908369, 0.0920355907908369, 0.0920355907908369, 0.0920355907908369, 0.0920355907908369, 0.0920355907908369, 0.0920355907908369, 0.0920355907908369, 0.0920355907908369, 0.09028547944210469, 0.09028547944210469, 0.09028547944210469, 0.09028547944210469, 0.09028547944210469, 0.09028547944210469, 0.09028547944210469, 0.09028547944210469, 0.09028547944210469, 0.09028547944210469, 0.09288113100754057, 0.09288113100754057, 0.09288113100754057, 0.09288113100754057, 0.09288113100754057, 0.09288113100754057, 0.09288113100754057, 0.09288113100754057, 0.09288113100754057, 0.09288113100754057, 0.08965985727875492, 0.08965985727875492, 0.17931971455750984, 0.08965985727875492, 0.08965985727875492, 0.08965985727875492, 0.08965985727875492, 0.08965985727875492, 0.08965985727875492, 0.08965985727875492, 0.09220795542493751, 0.09220795542493751, 0.09220795542493751, 0.09220795542493751, 0.09220795542493751, 0.09220795542493751, 0.09220795542493751, 0.09220795542493751, 0.09220795542493751, 0.09220795542493751, 0.09094972920608879, 0.09094972920608879, 0.09094972920608879, 0.09094972920608879, 0.09094972920608879, 0.09094972920608879, 0.09094972920608879, 0.09094972920608879, 0.09094972920608879, 0.09094972920608879, 0.09254275086765534, 0.09254275086765534, 0.09254275086765534, 0.09254275086765534, 0.09254275086765534, 0.09254275086765534, 0.09254275086765534, 0.09254275086765534, 0.09254275086765534, 0.09254275086765534, 0.09020049401847138, 0.09020049401847138, 0.09020049401847138, 0.09020049401847138, 0.09020049401847138, 0.09020049401847138, 0.09020049401847138, 0.09020049401847138, 0.09020049401847138, 0.09020049401847138, 0.09020478820397013, 0.18040957640794025, 0.09020478820397013, 0.09020478820397013, 0.09020478820397013, 0.09020478820397013, 0.09020478820397013, 0.09020478820397013, 0.09020478820397013, 0.09020478820397013, 0.09097638601466998, 0.09097638601466998, 0.09097638601466998, 0.09097638601466998, 0.09097638601466998, 0.09097638601466998, 0.09097638601466998, 0.09097638601466998, 0.09097638601466998, 0.09097638601466998, 0.09115358760944828, 0.09115358760944828, 0.09115358760944828, 0.09115358760944828, 0.09115358760944828, 0.09115358760944828, 0.09115358760944828, 0.09115358760944828, 0.09115358760944828, 0.09115358760944828, 0.1843704007729916, 0.0921852003864958, 0.0921852003864958, 0.0921852003864958, 0.0921852003864958, 0.0921852003864958, 0.0921852003864958, 0.0921852003864958, 0.0921852003864958, 0.0921852003864958, 0.0897244670149461, 0.0897244670149461, 0.0897244670149461, 0.0897244670149461, 0.0897244670149461, 0.0897244670149461, 0.0897244670149461, 0.0897244670149461, 0.0897244670149461, 0.0897244670149461, 0.08857678973481779, 0.08857678973481779, 0.08857678973481779, 0.08857678973481779, 0.08857678973481779, 0.08857678973481779, 0.08857678973481779, 0.08857678973481779, 0.08857678973481779, 0.08857678973481779, 0.09054510836991378, 0.09054510836991378, 0.09054510836991378, 0.09054510836991378, 0.09054510836991378, 0.09054510836991378, 0.09054510836991378, 0.09054510836991378, 0.09054510836991378, 0.09054510836991378, 0.08775226141950121, 0.08775226141950121, 0.08775226141950121, 0.08775226141950121, 0.08775226141950121, 0.08775226141950121, 0.08775226141950121, 0.08775226141950121, 0.08775226141950121, 0.08775226141950121, 0.1812706295296503, 0.09063531476482516, 0.09063531476482516, 0.09063531476482516, 0.09063531476482516, 0.09063531476482516, 0.09063531476482516, 0.09063531476482516, 0.09063531476482516, 0.09063531476482516, 0.08892038852754257, 0.08892038852754257, 0.08892038852754257, 0.08892038852754257, 0.08892038852754257, 0.08892038852754257, 0.08892038852754257, 0.08892038852754257, 0.08892038852754257, 0.08892038852754257, 0.09179101780366615, 0.09179101780366615, 0.09179101780366615, 0.09179101780366615, 0.09179101780366615, 0.09179101780366615, 0.09179101780366615, 0.09179101780366615, 0.09179101780366615, 0.09179101780366615, 0.09442769462731576, 0.09442769462731576, 0.09442769462731576, 0.09442769462731576, 0.09442769462731576, 0.09442769462731576, 0.09442769462731576, 0.09442769462731576, 0.09442769462731576, 0.09442769462731576, 0.09388007633917608, 0.18776015267835217, 0.09388007633917608, 0.09388007633917608, 0.09388007633917608, 0.09388007633917608, 0.09388007633917608, 0.09388007633917608, 0.09388007633917608, 0.09388007633917608, 0.09054094196585702, 0.09054094196585702, 0.09054094196585702, 0.09054094196585702, 0.09054094196585702, 0.09054094196585702, 0.09054094196585702, 0.09054094196585702, 0.09054094196585702, 0.09054094196585702, 0.08844897317087712, 0.08844897317087712, 0.08844897317087712, 0.08844897317087712, 0.08844897317087712, 0.08844897317087712, 0.08844897317087712, 0.08844897317087712, 0.08844897317087712, 0.08844897317087712, 0.09043554317186464, 0.09043554317186464, 0.09043554317186464, 0.09043554317186464, 0.09043554317186464, 0.09043554317186464, 0.09043554317186464, 0.09043554317186464, 0.09043554317186464, 0.09043554317186464, 0.0902372405267105, 0.0902372405267105, 0.0902372405267105, 0.0902372405267105, 0.0902372405267105, 0.0902372405267105, 0.0902372405267105, 0.0902372405267105, 0.0902372405267105, 0.0902372405267105, 0.09318498294903348, 0.09318498294903348, 0.09318498294903348, 0.09318498294903348, 0.09318498294903348, 0.09318498294903348, 0.09318498294903348, 0.09318498294903348, 0.09318498294903348, 0.09318498294903348, 0.18709553670073506, 0.09354776835036753, 0.09354776835036753, 0.09354776835036753, 0.09354776835036753, 0.09354776835036753, 0.09354776835036753, 0.09354776835036753, 0.09354776835036753, 0.09354776835036753, 0.09202055451896499, 0.09202055451896499, 0.09202055451896499, 0.09202055451896499, 0.09202055451896499, 0.09202055451896499, 0.09202055451896499, 0.09202055451896499, 0.09202055451896499, 0.09202055451896499, 0.09263086844128297, 0.09263086844128297, 0.09263086844128297, 0.09263086844128297, 0.09263086844128297, 0.09263086844128297, 0.09263086844128297, 0.09263086844128297, 0.09263086844128297, 0.09263086844128297, 0.09077516910516387, 0.09077516910516387, 0.09077516910516387, 0.09077516910516387, 0.09077516910516387, 0.09077516910516387, 0.09077516910516387, 0.09077516910516387, 0.09077516910516387, 0.09077516910516387, 0.08903729844548619, 0.08903729844548619, 0.08903729844548619, 0.08903729844548619, 0.08903729844548619, 0.08903729844548619, 0.08903729844548619, 0.08903729844548619, 0.08903729844548619, 0.08903729844548619, 0.18600516154965582, 0.09300258077482791, 0.09300258077482791, 0.09300258077482791, 0.09300258077482791, 0.09300258077482791, 0.09300258077482791, 0.09300258077482791, 0.09300258077482791, 0.09300258077482791, 0.09265053897853333, 0.09265053897853333, 0.09265053897853333, 0.09265053897853333, 0.09265053897853333, 0.09265053897853333, 0.09265053897853333, 0.09265053897853333, 0.09265053897853333, 0.09265053897853333, 0.09227280349255595, 0.09227280349255595, 0.09227280349255595, 0.09227280349255595, 0.09227280349255595, 0.09227280349255595, 0.09227280349255595, 0.09227280349255595, 0.09227280349255595, 0.09227280349255595, 0.08993797346713839, 0.08993797346713839, 0.08993797346713839, 0.08993797346713839, 0.08993797346713839, 0.08993797346713839, 0.08993797346713839, 0.08993797346713839, 0.08993797346713839, 0.08993797346713839, 0.09100950063391049, 0.09100950063391049, 0.09100950063391049, 0.09100950063391049, 0.09100950063391049, 0.09100950063391049, 0.09100950063391049, 0.09100950063391049, 0.09100950063391049, 0.09100950063391049, 0.09115510119663688, 0.09115510119663688, 0.09115510119663688, 0.09115510119663688, 0.09115510119663688, 0.09115510119663688, 0.09115510119663688, 0.09115510119663688, 0.09115510119663688, 0.09115510119663688, 0.09125740300542821, 0.09125740300542821, 0.09125740300542821, 0.09125740300542821, 0.09125740300542821, 0.09125740300542821, 0.09125740300542821, 0.09125740300542821, 0.09125740300542821, 0.09125740300542821, 0.09215491580553295, 0.09215491580553295, 0.09215491580553295, 0.09215491580553295, 0.09215491580553295, 0.09215491580553295, 0.09215491580553295, 0.09215491580553295, 0.09215491580553295, 0.09215491580553295, 0.08943410100026192, 0.08943410100026192, 0.08943410100026192, 0.08943410100026192, 0.08943410100026192, 0.08943410100026192, 0.08943410100026192, 0.08943410100026192, 0.08943410100026192, 0.08943410100026192, 0.09283998329201235, 0.09283998329201235, 0.09283998329201235, 0.09283998329201235, 0.09283998329201235, 0.09283998329201235, 0.09283998329201235, 0.09283998329201235, 0.09283998329201235, 0.09283998329201235, 0.0906749774365949, 0.0906749774365949, 0.0906749774365949, 0.0906749774365949, 0.0906749774365949, 0.0906749774365949, 0.0906749774365949, 0.0906749774365949, 0.0906749774365949, 0.0906749774365949, 0.09012838862001409, 0.09012838862001409, 0.09012838862001409, 0.09012838862001409, 0.09012838862001409, 0.09012838862001409, 0.09012838862001409, 0.09012838862001409, 0.09012838862001409, 0.09012838862001409, 0.09078053684051822, 0.09078053684051822, 0.09078053684051822, 0.09078053684051822, 0.09078053684051822, 0.09078053684051822, 0.09078053684051822, 0.09078053684051822, 0.09078053684051822, 0.09078053684051822, 0.09195977850719667, 0.09195977850719667, 0.09195977850719667, 0.09195977850719667, 0.09195977850719667, 0.09195977850719667, 0.09195977850719667, 0.09195977850719667, 0.09195977850719667, 0.09195977850719667, 0.08977870697824432, 0.08977870697824432, 0.08977870697824432, 0.08977870697824432, 0.08977870697824432, 0.08977870697824432, 0.08977870697824432, 0.08977870697824432, 0.08977870697824432, 0.08977870697824432, 0.08948323521420055, 0.08948323521420055, 0.08948323521420055, 0.08948323521420055, 0.08948323521420055, 0.08948323521420055, 0.08948323521420055, 0.08948323521420055, 0.08948323521420055, 0.08948323521420055, 0.09043062444659253, 0.09043062444659253, 0.09043062444659253, 0.09043062444659253, 0.09043062444659253, 0.09043062444659253, 0.09043062444659253, 0.09043062444659253, 0.09043062444659253, 0.09043062444659253, 0.08969716884653334, 0.08969716884653334, 0.08969716884653334, 0.08969716884653334, 0.08969716884653334, 0.08969716884653334, 0.08969716884653334, 0.08969716884653334, 0.08969716884653334, 0.08969716884653334, 0.09276742399013599, 0.18553484798027198, 0.09276742399013599, 0.09276742399013599, 0.09276742399013599, 0.09276742399013599, 0.09276742399013599, 0.09276742399013599, 0.09276742399013599, 0.09276742399013599, 0.17660590128960071, 0.08830295064480036, 0.08830295064480036, 0.08830295064480036, 0.08830295064480036, 0.08830295064480036, 0.08830295064480036, 0.08830295064480036, 0.08830295064480036, 0.08830295064480036, 0.08900275257362221, 0.17800550514724442, 0.08900275257362221, 0.08900275257362221, 0.08900275257362221, 0.08900275257362221, 0.08900275257362221, 0.08900275257362221, 0.08900275257362221, 0.08900275257362221, 0.08984418238847179, 0.08984418238847179, 0.08984418238847179, 0.08984418238847179, 0.08984418238847179, 0.08984418238847179, 0.08984418238847179, 0.08984418238847179, 0.08984418238847179, 0.08984418238847179, 0.0883414814585856, 0.1766829629171712, 0.1766829629171712, 0.0883414814585856, 0.0883414814585856, 0.0883414814585856, 0.0883414814585856, 0.0883414814585856, 0.0883414814585856, 0.0883414814585856, 0.09065118832587081, 0.09065118832587081, 0.09065118832587081, 0.09065118832587081, 0.09065118832587081, 0.09065118832587081, 0.09065118832587081, 0.09065118832587081, 0.09065118832587081, 0.09065118832587081, 0.0879513729545692, 0.0879513729545692, 0.1759027459091384, 0.0879513729545692, 0.0879513729545692, 0.0879513729545692, 0.0879513729545692, 0.0879513729545692, 0.0879513729545692, 0.0879513729545692, 0.18326894228912372, 0.09163447114456186, 0.09163447114456186, 0.09163447114456186, 0.09163447114456186, 0.09163447114456186, 0.09163447114456186, 0.09163447114456186, 0.09163447114456186, 0.09163447114456186, 0.09281332399318983, 0.09281332399318983, 0.09281332399318983, 0.09281332399318983, 0.09281332399318983, 0.09281332399318983, 0.09281332399318983, 0.09281332399318983, 0.09281332399318983, 0.09281332399318983, 0.08886143479189162, 0.08886143479189162, 0.08886143479189162, 0.08886143479189162, 0.08886143479189162, 0.08886143479189162, 0.08886143479189162, 0.08886143479189162, 0.08886143479189162, 0.08886143479189162, 0.0886527676997945, 0.0886527676997945, 0.0886527676997945, 0.0886527676997945, 0.0886527676997945, 0.0886527676997945, 0.0886527676997945, 0.0886527676997945, 0.0886527676997945, 0.0886527676997945, 0.08997100771800677, 0.08997100771800677, 0.08997100771800677, 0.08997100771800677, 0.08997100771800677, 0.08997100771800677, 0.08997100771800677, 0.08997100771800677, 0.08997100771800677, 0.08997100771800677, 0.09113546081949106, 0.09113546081949106, 0.09113546081949106, 0.09113546081949106, 0.09113546081949106, 0.09113546081949106, 0.09113546081949106, 0.09113546081949106, 0.09113546081949106, 0.09113546081949106, 0.0874133821886026, 0.1748267643772052, 0.1748267643772052, 0.0874133821886026, 0.0874133821886026, 0.0874133821886026, 0.0874133821886026, 0.0874133821886026, 0.0874133821886026, 0.0874133821886026, 0.18533016663217033, 0.09266508331608517, 0.09266508331608517, 0.09266508331608517, 0.09266508331608517, 0.09266508331608517, 0.09266508331608517, 0.09266508331608517, 0.09266508331608517, 0.09266508331608517, 0.181694352437178, 0.090847176218589, 0.090847176218589, 0.090847176218589, 0.090847176218589, 0.090847176218589, 0.090847176218589, 0.090847176218589, 0.090847176218589, 0.090847176218589, 0.17943488181675876, 0.08971744090837938, 0.08971744090837938, 0.08971744090837938, 0.08971744090837938, 0.08971744090837938, 0.08971744090837938, 0.08971744090837938, 0.08971744090837938, 0.08971744090837938, 0.0893045471025552, 0.0893045471025552, 0.0893045471025552, 0.0893045471025552, 0.0893045471025552, 0.0893045471025552, 0.0893045471025552, 0.0893045471025552, 0.0893045471025552, 0.0893045471025552, 0.0912575059945905, 0.182515011989181, 0.0912575059945905, 0.0912575059945905, 0.0912575059945905, 0.0912575059945905, 0.0912575059945905, 0.0912575059945905, 0.0912575059945905, 0.0912575059945905, 0.18048063130780917, 0.09024031565390458, 0.09024031565390458, 0.09024031565390458, 0.09024031565390458, 0.09024031565390458, 0.09024031565390458, 0.09024031565390458, 0.09024031565390458, 0.09024031565390458, 0.09141931238705477, 0.18283862477410953, 0.09141931238705477, 0.09141931238705477, 0.09141931238705477, 0.09141931238705477, 0.09141931238705477, 0.09141931238705477, 0.09141931238705477, 0.09141931238705477, 0.09032386815398713, 0.09032386815398713, 0.09032386815398713, 0.09032386815398713, 0.09032386815398713, 0.09032386815398713, 0.09032386815398713, 0.09032386815398713, 0.09032386815398713, 0.09032386815398713, 0.09151554147194495, 0.09151554147194495, 0.09151554147194495, 0.09151554147194495, 0.09151554147194495, 0.09151554147194495, 0.09151554147194495, 0.09151554147194495, 0.09151554147194495, 0.09151554147194495, 0.09114700186277402, 0.09114700186277402, 0.09114700186277402, 0.09114700186277402, 0.09114700186277402, 0.09114700186277402, 0.09114700186277402, 0.09114700186277402, 0.09114700186277402, 0.09114700186277402, 0.09341565581718303, 0.18683131163436606, 0.09341565581718303, 0.09341565581718303, 0.09341565581718303, 0.09341565581718303, 0.09341565581718303, 0.09341565581718303, 0.09341565581718303, 0.09341565581718303, 0.09164094763992657, 0.09164094763992657, 0.09164094763992657, 0.09164094763992657, 0.09164094763992657, 0.09164094763992657, 0.09164094763992657, 0.09164094763992657, 0.09164094763992657, 0.09164094763992657, 0.09372058382133973, 0.09372058382133973, 0.18744116764267946, 0.09372058382133973, 0.09372058382133973, 0.09372058382133973, 0.09372058382133973, 0.09372058382133973, 0.09372058382133973, 0.09372058382133973, 0.09343039382446434, 0.09343039382446434, 0.09343039382446434, 0.09343039382446434, 0.09343039382446434, 0.09343039382446434, 0.09343039382446434, 0.09343039382446434, 0.09343039382446434, 0.09343039382446434, 0.09419265179026455, 0.09419265179026455, 0.1883853035805291, 0.09419265179026455, 0.09419265179026455, 0.09419265179026455, 0.09419265179026455, 0.09419265179026455, 0.09419265179026455, 0.09419265179026455, 0.09243154653360447, 0.09243154653360447, 0.09243154653360447, 0.09243154653360447, 0.09243154653360447, 0.09243154653360447, 0.09243154653360447, 0.09243154653360447, 0.09243154653360447, 0.09243154653360447, 0.09242476270304645, 0.09242476270304645, 0.09242476270304645, 0.09242476270304645, 0.09242476270304645, 0.09242476270304645, 0.09242476270304645, 0.09242476270304645, 0.09242476270304645, 0.09242476270304645, 0.08885997567810937, 0.08885997567810937, 0.17771995135621874, 0.08885997567810937, 0.08885997567810937, 0.08885997567810937, 0.08885997567810937, 0.08885997567810937, 0.08885997567810937, 0.08885997567810937, 0.09189285283971403, 0.09189285283971403, 0.09189285283971403, 0.09189285283971403, 0.09189285283971403, 0.09189285283971403, 0.09189285283971403, 0.09189285283971403, 0.09189285283971403, 0.09189285283971403, 0.09473599819063812, 0.09473599819063812, 0.09473599819063812, 0.09473599819063812, 0.09473599819063812, 0.09473599819063812, 0.09473599819063812, 0.09473599819063812, 0.09473599819063812, 0.09473599819063812, 0.09104051593068108, 0.18208103186136215, 0.09104051593068108, 0.09104051593068108, 0.09104051593068108, 0.09104051593068108, 0.09104051593068108, 0.09104051593068108, 0.09104051593068108, 0.09104051593068108, 0.0874611554254556, 0.0874611554254556, 0.0874611554254556, 0.0874611554254556, 0.0874611554254556, 0.0874611554254556, 0.0874611554254556, 0.0874611554254556, 0.0874611554254556, 0.0874611554254556, 0.09442192242701315, 0.09442192242701315, 0.09442192242701315, 0.09442192242701315, 0.09442192242701315, 0.09442192242701315, 0.09442192242701315, 0.09442192242701315, 0.09442192242701315, 0.09442192242701315, 0.08929995664750602, 0.17859991329501204, 0.17859991329501204, 0.08929995664750602, 0.08929995664750602, 0.08929995664750602, 0.08929995664750602, 0.08929995664750602, 0.08929995664750602, 0.08929995664750602, 0.0892966192319926, 0.1785932384639852, 0.0892966192319926, 0.0892966192319926, 0.0892966192319926, 0.0892966192319926, 0.0892966192319926, 0.0892966192319926, 0.0892966192319926, 0.0892966192319926, 0.093312368661895, 0.093312368661895, 0.093312368661895, 0.093312368661895, 0.093312368661895, 0.093312368661895, 0.093312368661895, 0.093312368661895, 0.093312368661895, 0.093312368661895, 0.08992566081248057, 0.08992566081248057, 0.08992566081248057, 0.08992566081248057, 0.08992566081248057, 0.08992566081248057, 0.08992566081248057, 0.08992566081248057, 0.08992566081248057, 0.08992566081248057, 0.09136567133293283, 0.09136567133293283, 0.09136567133293283, 0.09136567133293283, 0.09136567133293283, 0.09136567133293283, 0.09136567133293283, 0.09136567133293283, 0.09136567133293283, 0.09136567133293283, 0.08811389140150461, 0.08811389140150461, 0.08811389140150461, 0.08811389140150461, 0.08811389140150461, 0.08811389140150461, 0.08811389140150461, 0.08811389140150461, 0.08811389140150461, 0.08811389140150461, 0.09131738322344964, 0.09131738322344964, 0.09131738322344964, 0.09131738322344964, 0.09131738322344964, 0.09131738322344964, 0.09131738322344964, 0.09131738322344964, 0.09131738322344964, 0.09131738322344964], \"Term\": [\"aap\", \"aap\", \"aap\", \"aap\", \"aap\", \"aap\", \"aap\", \"aap\", \"aap\", \"aap\", \"accused\", \"accused\", \"accused\", \"accused\", \"accused\", \"accused\", \"accused\", \"accused\", \"accused\", \"accused\", \"across\", \"across\", \"across\", \"across\", \"across\", \"across\", \"across\", \"across\", \"across\", \"across\", \"adani\", \"adani\", \"adani\", \"adani\", \"adani\", \"adani\", \"adani\", \"adani\", \"adani\", \"adani\", \"add\", \"add\", \"add\", \"add\", \"add\", \"add\", \"add\", \"add\", \"add\", \"add\", \"air\", \"air\", \"air\", \"air\", \"air\", \"air\", \"air\", \"air\", \"air\", \"air\", \"also\", \"also\", \"also\", \"also\", \"also\", \"also\", \"also\", \"also\", \"also\", \"also\", \"ambani\", \"ambani\", \"ambani\", \"ambani\", \"ambani\", \"ambani\", \"ambani\", \"ambani\", \"ambani\", \"ambani\", \"amethi\", \"amethi\", \"amethi\", \"amethi\", \"amethi\", \"amethi\", \"amethi\", \"amethi\", \"amethi\", \"amethi\", \"amit\", \"amit\", \"amit\", \"amit\", \"amit\", \"amit\", \"amit\", \"amit\", \"amit\", \"amit\", \"anarchy\", \"anarchy\", \"anarchy\", \"anarchy\", \"anarchy\", \"anarchy\", \"anarchy\", \"anarchy\", \"anarchy\", \"anarchy\", \"arnab\", \"arnab\", \"arnab\", \"arnab\", \"arnab\", \"arnab\", \"arnab\", \"arnab\", \"arnab\", \"arnab\", \"article\", \"article\", \"article\", \"article\", \"article\", \"article\", \"article\", \"article\", \"article\", \"article\", \"arvind\", \"arvind\", \"arvind\", \"arvind\", \"arvind\", \"arvind\", \"arvind\", \"arvind\", \"arvind\", \"arvind\", \"arvindkejriwal\", \"arvindkejriwal\", \"arvindkejriwal\", \"arvindkejriwal\", \"arvindkejriwal\", \"arvindkejriwal\", \"arvindkejriwal\", \"arvindkejriwal\", \"arvindkejriwal\", \"arvindkejriwal\", \"ask\", \"ask\", \"ask\", \"ask\", \"ask\", \"ask\", \"ask\", \"ask\", \"ask\", \"ask\", \"assam\", \"assam\", \"assam\", \"assam\", \"assam\", \"assam\", \"assam\", \"assam\", \"assam\", \"assam\", \"attack\", \"attack\", \"attack\", \"attack\", \"attack\", \"attack\", \"attack\", \"attack\", \"attack\", \"attack\", \"attacks\", \"attacks\", \"attacks\", \"attacks\", \"attacks\", \"attacks\", \"attacks\", \"attacks\", \"attacks\", \"attacks\", \"babasaheb\", \"babasaheb\", \"babasaheb\", \"babasaheb\", \"babasaheb\", \"babasaheb\", \"babasaheb\", \"babasaheb\", \"babasaheb\", \"babasaheb\", \"back\", \"back\", \"back\", \"back\", \"back\", \"back\", \"back\", \"back\", \"back\", \"back\", \"ballot\", \"ballot\", \"ballot\", \"ballot\", \"ballot\", \"ballot\", \"ballot\", \"ballot\", \"ballot\", \"ballot\", \"become\", \"become\", \"become\", \"become\", \"become\", \"become\", \"become\", \"become\", \"become\", \"become\", \"bibekdebroy\", \"bibekdebroy\", \"bibekdebroy\", \"bibekdebroy\", \"bibekdebroy\", \"bibekdebroy\", \"bibekdebroy\", \"bibekdebroy\", \"bibekdebroy\", \"bibekdebroy\", \"bihar\", \"bihar\", \"bihar\", \"bihar\", \"bihar\", \"bihar\", \"bihar\", \"bihar\", \"bihar\", \"bihar\", \"bjp\", \"bjp\", \"bjp\", \"bjp\", \"bjp\", \"bjp\", \"bjp\", \"bjp\", \"bjp\", \"bjp\", \"called\", \"called\", \"called\", \"called\", \"called\", \"called\", \"called\", \"called\", \"called\", \"called\", \"candidate\", \"candidate\", \"candidate\", \"candidate\", \"candidate\", \"candidate\", \"candidate\", \"candidate\", \"candidate\", \"candidate\", \"cannot\", \"cannot\", \"cannot\", \"cannot\", \"cannot\", \"cannot\", \"cannot\", \"cannot\", \"cannot\", \"cannot\", \"capital\", \"capital\", \"capital\", \"capital\", \"capital\", \"capital\", \"capital\", \"capital\", \"capital\", \"capital\", \"carry\", \"carry\", \"carry\", \"carry\", \"carry\", \"carry\", \"carry\", \"carry\", \"carry\", \"carry\", \"case\", \"case\", \"case\", \"case\", \"case\", \"case\", \"case\", \"case\", \"case\", \"case\", \"catch\", \"catch\", \"catch\", \"catch\", \"catch\", \"catch\", \"catch\", \"catch\", \"catch\", \"catch\", \"chowkidarchorhai\", \"chowkidarchorhai\", \"chowkidarchorhai\", \"chowkidarchorhai\", \"chowkidarchorhai\", \"chowkidarchorhai\", \"chowkidarchorhai\", \"chowkidarchorhai\", \"chowkidarchorhai\", \"chowkidarchorhai\", \"claims\", \"claims\", \"claims\", \"claims\", \"claims\", \"claims\", \"claims\", \"claims\", \"claims\", \"claims\", \"clear\", \"clear\", \"clear\", \"clear\", \"clear\", \"clear\", \"clear\", \"clear\", \"clear\", \"clear\", \"com\", \"com\", \"com\", \"com\", \"com\", \"com\", \"com\", \"com\", \"com\", \"com\", \"come\", \"come\", \"come\", \"come\", \"come\", \"come\", \"come\", \"come\", \"come\", \"come\", \"comrade\", \"comrade\", \"comrade\", \"comrade\", \"comrade\", \"comrade\", \"comrade\", \"comrade\", \"comrade\", \"comrade\", \"concluded\", \"concluded\", \"concluded\", \"concluded\", \"concluded\", \"concluded\", \"concluded\", \"concluded\", \"concluded\", \"concluded\", \"cong\", \"cong\", \"cong\", \"cong\", \"cong\", \"cong\", \"cong\", \"cong\", \"cong\", \"cong\", \"congi\", \"congi\", \"congi\", \"congi\", \"congi\", \"congi\", \"congi\", \"congi\", \"congi\", \"congi\", \"congratulations\", \"congratulations\", \"congratulations\", \"congratulations\", \"congratulations\", \"congratulations\", \"congratulations\", \"congratulations\", \"congratulations\", \"congratulations\", \"congress\", \"congress\", \"congress\", \"congress\", \"congress\", \"congress\", \"congress\", \"congress\", \"congress\", \"congress\", \"conscience\", \"conscience\", \"conscience\", \"conscience\", \"conscience\", \"conscience\", \"conscience\", \"conscience\", \"conscience\", \"conscience\", \"constituency\", \"constituency\", \"constituency\", \"constituency\", \"constituency\", \"constituency\", \"constituency\", \"constituency\", \"constituency\", \"constituency\", \"constitution\", \"constitution\", \"constitution\", \"constitution\", \"constitution\", \"constitution\", \"constitution\", \"constitution\", \"constitution\", \"constitution\", \"corrupt\", \"corrupt\", \"corrupt\", \"corrupt\", \"corrupt\", \"corrupt\", \"corrupt\", \"corrupt\", \"corrupt\", \"corrupt\", \"country\", \"country\", \"country\", \"country\", \"country\", \"country\", \"country\", \"country\", \"country\", \"country\", \"credibility\", \"credibility\", \"credibility\", \"credibility\", \"credibility\", \"credibility\", \"credibility\", \"credibility\", \"credibility\", \"credibility\", \"dance\", \"dance\", \"dance\", \"dance\", \"dance\", \"dance\", \"dance\", \"dance\", \"dance\", \"dance\", \"data\", \"data\", \"data\", \"data\", \"data\", \"data\", \"data\", \"data\", \"data\", \"data\", \"day\", \"day\", \"day\", \"day\", \"day\", \"day\", \"day\", \"day\", \"day\", \"day\", \"days\", \"days\", \"days\", \"days\", \"days\", \"days\", \"days\", \"days\", \"days\", \"days\", \"dear\", \"dear\", \"dear\", \"dear\", \"dear\", \"dear\", \"dear\", \"dear\", \"dear\", \"dear\", \"debate\", \"debate\", \"debate\", \"debate\", \"debate\", \"debate\", \"debate\", \"debate\", \"debate\", \"debate\", \"deeply\", \"deeply\", \"deeply\", \"deeply\", \"deeply\", \"deeply\", \"deeply\", \"deeply\", \"deeply\", \"deeply\", \"defeat\", \"defeat\", \"defeat\", \"defeat\", \"defeat\", \"defeat\", \"defeat\", \"defeat\", \"defeat\", \"defeat\", \"delhi\", \"delhi\", \"delhi\", \"delhi\", \"delhi\", \"delhi\", \"delhi\", \"delhi\", \"delhi\", \"delhi\", \"democracy\", \"democracy\", \"democracy\", \"democracy\", \"democracy\", \"democracy\", \"democracy\", \"democracy\", \"democracy\", \"democracy\", \"detained\", \"detained\", \"detained\", \"detained\", \"detained\", \"detained\", \"detained\", \"detained\", \"detained\", \"detained\", \"detractors\", \"detractors\", \"detractors\", \"detractors\", \"detractors\", \"detractors\", \"detractors\", \"detractors\", \"detractors\", \"detractors\", \"development\", \"development\", \"development\", \"development\", \"development\", \"development\", \"development\", \"development\", \"development\", \"development\", \"din\", \"din\", \"din\", \"din\", \"din\", \"din\", \"din\", \"din\", \"din\", \"din\", \"disagreed\", \"disagreed\", \"disagreed\", \"disagreed\", \"disagreed\", \"disagreed\", \"disagreed\", \"disagreed\", \"disagreed\", \"disagreed\", \"discussion\", \"discussion\", \"discussion\", \"discussion\", \"discussion\", \"discussion\", \"discussion\", \"discussion\", \"discussion\", \"discussion\", \"done\", \"done\", \"done\", \"done\", \"done\", \"done\", \"done\", \"done\", \"done\", \"done\", \"dynasty\", \"dynasty\", \"dynasty\", \"dynasty\", \"dynasty\", \"dynasty\", \"dynasty\", \"dynasty\", \"dynasty\", \"dynasty\", \"easy\", \"easy\", \"easy\", \"easy\", \"easy\", \"easy\", \"easy\", \"easy\", \"easy\", \"easy\", \"ec\", \"ec\", \"ec\", \"ec\", \"ec\", \"ec\", \"ec\", \"ec\", \"ec\", \"ec\", \"economic\", \"economic\", \"economic\", \"economic\", \"economic\", \"economic\", \"economic\", \"economic\", \"economic\", \"economic\", \"economictimes\", \"economictimes\", \"economictimes\", \"economictimes\", \"economictimes\", \"economictimes\", \"economictimes\", \"economictimes\", \"economictimes\", \"economictimes\", \"economy\", \"economy\", \"economy\", \"economy\", \"economy\", \"economy\", \"economy\", \"economy\", \"economy\", \"economy\", \"ed\", \"ed\", \"ed\", \"ed\", \"ed\", \"ed\", \"ed\", \"ed\", \"ed\", \"ed\", \"electing\", \"electing\", \"electing\", \"electing\", \"electing\", \"electing\", \"electing\", \"electing\", \"electing\", \"electing\", \"election\", \"election\", \"election\", \"election\", \"election\", \"election\", \"election\", \"election\", \"election\", \"election\", \"elections\", \"elections\", \"elections\", \"elections\", \"elections\", \"elections\", \"elections\", \"elections\", \"elections\", \"elections\", \"electoral\", \"electoral\", \"electoral\", \"electoral\", \"electoral\", \"electoral\", \"electoral\", \"electoral\", \"electoral\", \"electoral\", \"employment\", \"employment\", \"employment\", \"employment\", \"employment\", \"employment\", \"employment\", \"employment\", \"employment\", \"employment\", \"empowerment\", \"empowerment\", \"empowerment\", \"empowerment\", \"empowerment\", \"empowerment\", \"empowerment\", \"empowerment\", \"empowerment\", \"empowerment\", \"energy\", \"energy\", \"energy\", \"energy\", \"energy\", \"energy\", \"energy\", \"energy\", \"energy\", \"energy\", \"evm\", \"evm\", \"evm\", \"evm\", \"evm\", \"evm\", \"evm\", \"evm\", \"evm\", \"evm\", \"exchange\", \"exchange\", \"exchange\", \"exchange\", \"exchange\", \"exchange\", \"exchange\", \"exchange\", \"exchange\", \"exchange\", \"exit\", \"exit\", \"exit\", \"exit\", \"exit\", \"exit\", \"exit\", \"exit\", \"exit\", \"exit\", \"face\", \"face\", \"face\", \"face\", \"face\", \"face\", \"face\", \"face\", \"face\", \"face\", \"faith\", \"faith\", \"faith\", \"faith\", \"faith\", \"faith\", \"faith\", \"faith\", \"faith\", \"faith\", \"fake\", \"fake\", \"fake\", \"fake\", \"fake\", \"fake\", \"fake\", \"fake\", \"fake\", \"fake\", \"farmers\", \"farmers\", \"farmers\", \"farmers\", \"farmers\", \"farmers\", \"farmers\", \"farmers\", \"farmers\", \"farmers\", \"fascist\", \"fascist\", \"fascist\", \"fascist\", \"fascist\", \"fascist\", \"fascist\", \"fascist\", \"fascist\", \"fascist\", \"feeling\", \"feeling\", \"feeling\", \"feeling\", \"feeling\", \"feeling\", \"feeling\", \"feeling\", \"feeling\", \"feeling\", \"festival\", \"festival\", \"festival\", \"festival\", \"festival\", \"festival\", \"festival\", \"festival\", \"festival\", \"festival\", \"fighter\", \"fighter\", \"fighter\", \"fighter\", \"fighter\", \"fighter\", \"fighter\", \"fighter\", \"fighter\", \"fighter\", \"filth\", \"filth\", \"filth\", \"filth\", \"filth\", \"filth\", \"filth\", \"filth\", \"filth\", \"filth\", \"first\", \"first\", \"first\", \"first\", \"first\", \"first\", \"first\", \"first\", \"first\", \"first\", \"focussed\", \"focussed\", \"focussed\", \"focussed\", \"focussed\", \"focussed\", \"focussed\", \"focussed\", \"focussed\", \"focussed\", \"forces\", \"forces\", \"forces\", \"forces\", \"forces\", \"forces\", \"forces\", \"forces\", \"forces\", \"forces\", \"forming\", \"forming\", \"forming\", \"forming\", \"forming\", \"forming\", \"forming\", \"forming\", \"forming\", \"forming\", \"forward\", \"forward\", \"forward\", \"forward\", \"forward\", \"forward\", \"forward\", \"forward\", \"forward\", \"forward\", \"franchise\", \"franchise\", \"franchise\", \"franchise\", \"franchise\", \"franchise\", \"franchise\", \"franchise\", \"franchise\", \"franchise\", \"freedom\", \"freedom\", \"freedom\", \"freedom\", \"freedom\", \"freedom\", \"freedom\", \"freedom\", \"freedom\", \"freedom\", \"future\", \"future\", \"future\", \"future\", \"future\", \"future\", \"future\", \"future\", \"future\", \"future\", \"game\", \"game\", \"game\", \"game\", \"game\", \"game\", \"game\", \"game\", \"game\", \"game\", \"gandhi\", \"gandhi\", \"gandhi\", \"gandhi\", \"gandhi\", \"gandhi\", \"gandhi\", \"gandhi\", \"gandhi\", \"gandhi\", \"gdp\", \"gdp\", \"gdp\", \"gdp\", \"gdp\", \"gdp\", \"gdp\", \"gdp\", \"gdp\", \"gdp\", \"give\", \"give\", \"give\", \"give\", \"give\", \"give\", \"give\", \"give\", \"give\", \"give\", \"given\", \"given\", \"given\", \"given\", \"given\", \"given\", \"given\", \"given\", \"given\", \"given\", \"gives\", \"gives\", \"gives\", \"gives\", \"gives\", \"gives\", \"gives\", \"gives\", \"gives\", \"gives\", \"godse\", \"godse\", \"godse\", \"godse\", \"godse\", \"godse\", \"godse\", \"godse\", \"godse\", \"godse\", \"governance\", \"governance\", \"governance\", \"governance\", \"governance\", \"governance\", \"governance\", \"governance\", \"governance\", \"governance\", \"government\", \"government\", \"government\", \"government\", \"government\", \"government\", \"government\", \"government\", \"government\", \"government\", \"govt\", \"govt\", \"govt\", \"govt\", \"govt\", \"govt\", \"govt\", \"govt\", \"govt\", \"govt\", \"gujarat\", \"gujarat\", \"gujarat\", \"gujarat\", \"gujarat\", \"gujarat\", \"gujarat\", \"gujarat\", \"gujarat\", \"gujarat\", \"hatao\", \"hatao\", \"hatao\", \"hatao\", \"hatao\", \"hatao\", \"hatao\", \"hatao\", \"hatao\", \"hatao\", \"hate\", \"hate\", \"hate\", \"hate\", \"hate\", \"hate\", \"hate\", \"hate\", \"hate\", \"hate\", \"heavy\", \"heavy\", \"heavy\", \"heavy\", \"heavy\", \"heavy\", \"heavy\", \"heavy\", \"heavy\", \"heavy\", \"hemant\", \"hemant\", \"hemant\", \"hemant\", \"hemant\", \"hemant\", \"hemant\", \"hemant\", \"hemant\", \"hemant\", \"high\", \"high\", \"high\", \"high\", \"high\", \"high\", \"high\", \"high\", \"high\", \"high\", \"hindu\", \"hindu\", \"hindu\", \"hindu\", \"hindu\", \"hindu\", \"hindu\", \"hindu\", \"hindu\", \"hindu\", \"hindus\", \"hindus\", \"hindus\", \"hindus\", \"hindus\", \"hindus\", \"hindus\", \"hindus\", \"hindus\", \"hindus\", \"history\", \"history\", \"history\", \"history\", \"history\", \"history\", \"history\", \"history\", \"history\", \"history\", \"hope\", \"hope\", \"hope\", \"hope\", \"hope\", \"hope\", \"hope\", \"hope\", \"hope\", \"hope\", \"horse\", \"horse\", \"horse\", \"horse\", \"horse\", \"horse\", \"horse\", \"horse\", \"horse\", \"horse\", \"hours\", \"hours\", \"hours\", \"hours\", \"hours\", \"hours\", \"hours\", \"hours\", \"hours\", \"hours\", \"housing\", \"housing\", \"housing\", \"housing\", \"housing\", \"housing\", \"housing\", \"housing\", \"housing\", \"housing\", \"hrd\", \"hrd\", \"hrd\", \"hrd\", \"hrd\", \"hrd\", \"hrd\", \"hrd\", \"hrd\", \"hrd\", \"http\", \"http\", \"http\", \"http\", \"http\", \"http\", \"http\", \"http\", \"http\", \"http\", \"https\", \"https\", \"https\", \"https\", \"https\", \"https\", \"https\", \"https\", \"https\", \"https\", \"human\", \"human\", \"human\", \"human\", \"human\", \"human\", \"human\", \"human\", \"human\", \"human\", \"hurriyat\", \"hurriyat\", \"hurriyat\", \"hurriyat\", \"hurriyat\", \"hurriyat\", \"hurriyat\", \"hurriyat\", \"hurriyat\", \"hurriyat\", \"ibnlive\", \"ibnlive\", \"ibnlive\", \"ibnlive\", \"ibnlive\", \"ibnlive\", \"ibnlive\", \"ibnlive\", \"ibnlive\", \"ibnlive\", \"image\", \"image\", \"image\", \"image\", \"image\", \"image\", \"image\", \"image\", \"image\", \"image\", \"imagination\", \"imagination\", \"imagination\", \"imagination\", \"imagination\", \"imagination\", \"imagination\", \"imagination\", \"imagination\", \"imagination\", \"india\", \"india\", \"india\", \"india\", \"india\", \"india\", \"india\", \"india\", \"india\", \"india\", \"indian\", \"indian\", \"indian\", \"indian\", \"indian\", \"indian\", \"indian\", \"indian\", \"indian\", \"indian\", \"indians\", \"indians\", \"indians\", \"indians\", \"indians\", \"indians\", \"indians\", \"indians\", \"indians\", \"indians\", \"intellectually\", \"intellectually\", \"intellectually\", \"intellectually\", \"intellectually\", \"intellectually\", \"intellectually\", \"intellectually\", \"intellectually\", \"intellectually\", \"issue\", \"issue\", \"issue\", \"issue\", \"issue\", \"issue\", \"issue\", \"issue\", \"issue\", \"issue\", \"jan\", \"jan\", \"jan\", \"jan\", \"jan\", \"jan\", \"jan\", \"jan\", \"jan\", \"jan\", \"jana\", \"jana\", \"jana\", \"jana\", \"jana\", \"jana\", \"jana\", \"jana\", \"jana\", \"jana\", \"ji\", \"ji\", \"ji\", \"ji\", \"ji\", \"ji\", \"ji\", \"ji\", \"ji\", \"ji\", \"joker\", \"joker\", \"joker\", \"joker\", \"joker\", \"joker\", \"joker\", \"joker\", \"joker\", \"joker\", \"journalism\", \"journalism\", \"journalism\", \"journalism\", \"journalism\", \"journalism\", \"journalism\", \"journalism\", \"journalism\", \"journalism\", \"journalists\", \"journalists\", \"journalists\", \"journalists\", \"journalists\", \"journalists\", \"journalists\", \"journalists\", \"journalists\", \"journalists\", \"justice\", \"justice\", \"justice\", \"justice\", \"justice\", \"justice\", \"justice\", \"justice\", \"justice\", \"justice\", \"ka\", \"ka\", \"ka\", \"ka\", \"ka\", \"ka\", \"ka\", \"ka\", \"ka\", \"ka\", \"karnataka\", \"karnataka\", \"karnataka\", \"karnataka\", \"karnataka\", \"karnataka\", \"karnataka\", \"karnataka\", \"karnataka\", \"karnataka\", \"kashmir\", \"kashmir\", \"kashmir\", \"kashmir\", \"kashmir\", \"kashmir\", \"kashmir\", \"kashmir\", \"kashmir\", \"kashmir\", \"keeps\", \"keeps\", \"keeps\", \"keeps\", \"keeps\", \"keeps\", \"keeps\", \"keeps\", \"keeps\", \"keeps\", \"kejriwal\", \"kejriwal\", \"kejriwal\", \"kejriwal\", \"kejriwal\", \"kejriwal\", \"kejriwal\", \"kejriwal\", \"kejriwal\", \"kejriwal\", \"kerala\", \"kerala\", \"kerala\", \"kerala\", \"kerala\", \"kerala\", \"kerala\", \"kerala\", \"kerala\", \"kerala\", \"lakh\", \"lakh\", \"lakh\", \"lakh\", \"lakh\", \"lakh\", \"lakh\", \"lakh\", \"lakh\", \"lakh\", \"large\", \"large\", \"large\", \"large\", \"large\", \"large\", \"large\", \"large\", \"large\", \"large\", \"largest\", \"largest\", \"largest\", \"largest\", \"largest\", \"largest\", \"largest\", \"largest\", \"largest\", \"largest\", \"last\", \"last\", \"last\", \"last\", \"last\", \"last\", \"last\", \"last\", \"last\", \"last\", \"lead\", \"lead\", \"lead\", \"lead\", \"lead\", \"lead\", \"lead\", \"lead\", \"lead\", \"lead\", \"leader\", \"leader\", \"leader\", \"leader\", \"leader\", \"leader\", \"leader\", \"leader\", \"leader\", \"leader\", \"leaders\", \"leaders\", \"leaders\", \"leaders\", \"leaders\", \"leaders\", \"leaders\", \"leaders\", \"leaders\", \"leaders\", \"leadership\", \"leadership\", \"leadership\", \"leadership\", \"leadership\", \"leadership\", \"leadership\", \"leadership\", \"leadership\", \"leadership\", \"learnt\", \"learnt\", \"learnt\", \"learnt\", \"learnt\", \"learnt\", \"learnt\", \"learnt\", \"learnt\", \"learnt\", \"left\", \"left\", \"left\", \"left\", \"left\", \"left\", \"left\", \"left\", \"left\", \"left\", \"let\", \"let\", \"let\", \"let\", \"let\", \"let\", \"let\", \"let\", \"let\", \"let\", \"letter\", \"letter\", \"letter\", \"letter\", \"letter\", \"letter\", \"letter\", \"letter\", \"letter\", \"letter\", \"life\", \"life\", \"life\", \"life\", \"life\", \"life\", \"life\", \"life\", \"life\", \"life\", \"like\", \"like\", \"like\", \"like\", \"like\", \"like\", \"like\", \"like\", \"like\", \"like\", \"loans\", \"loans\", \"loans\", \"loans\", \"loans\", \"loans\", \"loans\", \"loans\", \"loans\", \"loans\", \"lok\", \"lok\", \"lok\", \"lok\", \"lok\", \"lok\", \"lok\", \"lok\", \"lok\", \"lok\", \"longer\", \"longer\", \"longer\", \"longer\", \"longer\", \"longer\", \"longer\", \"longer\", \"longer\", \"longer\", \"lost\", \"lost\", \"lost\", \"lost\", \"lost\", \"lost\", \"lost\", \"lost\", \"lost\", \"lost\", \"love\", \"love\", \"love\", \"love\", \"love\", \"love\", \"love\", \"love\", \"love\", \"love\", \"madam\", \"madam\", \"madam\", \"madam\", \"madam\", \"madam\", \"madam\", \"madam\", \"madam\", \"madam\", \"man\", \"man\", \"man\", \"man\", \"man\", \"man\", \"man\", \"man\", \"man\", \"man\", \"managed\", \"managed\", \"managed\", \"managed\", \"managed\", \"managed\", \"managed\", \"managed\", \"managed\", \"managed\", \"mandate\", \"mandate\", \"mandate\", \"mandate\", \"mandate\", \"mandate\", \"mandate\", \"mandate\", \"mandate\", \"mandate\", \"many\", \"many\", \"many\", \"many\", \"many\", \"many\", \"many\", \"many\", \"many\", \"many\", \"massive\", \"massive\", \"massive\", \"massive\", \"massive\", \"massive\", \"massive\", \"massive\", \"massive\", \"massive\", \"mean\", \"mean\", \"mean\", \"mean\", \"mean\", \"mean\", \"mean\", \"mean\", \"mean\", \"mean\", \"meant\", \"meant\", \"meant\", \"meant\", \"meant\", \"meant\", \"meant\", \"meant\", \"meant\", \"meant\", \"media\", \"media\", \"media\", \"media\", \"media\", \"media\", \"media\", \"media\", \"media\", \"media\", \"meeting\", \"meeting\", \"meeting\", \"meeting\", \"meeting\", \"meeting\", \"meeting\", \"meeting\", \"meeting\", \"meeting\", \"minister\", \"minister\", \"minister\", \"minister\", \"minister\", \"minister\", \"minister\", \"minister\", \"minister\", \"minister\", \"ministers\", \"ministers\", \"ministers\", \"ministers\", \"ministers\", \"ministers\", \"ministers\", \"ministers\", \"ministers\", \"ministers\", \"mobs\", \"mobs\", \"mobs\", \"mobs\", \"mobs\", \"mobs\", \"mobs\", \"mobs\", \"mobs\", \"mobs\", \"modi\", \"modi\", \"modi\", \"modi\", \"modi\", \"modi\", \"modi\", \"modi\", \"modi\", \"modi\", \"money\", \"money\", \"money\", \"money\", \"money\", \"money\", \"money\", \"money\", \"money\", \"money\", \"mother\", \"mother\", \"mother\", \"mother\", \"mother\", \"mother\", \"mother\", \"mother\", \"mother\", \"mother\", \"mps\", \"mps\", \"mps\", \"mps\", \"mps\", \"mps\", \"mps\", \"mps\", \"mps\", \"mps\", \"mr\", \"mr\", \"mr\", \"mr\", \"mr\", \"mr\", \"mr\", \"mr\", \"mr\", \"mr\", \"muslim\", \"muslim\", \"muslim\", \"muslim\", \"muslim\", \"muslim\", \"muslim\", \"muslim\", \"muslim\", \"muslim\", \"muslims\", \"muslims\", \"muslims\", \"muslims\", \"muslims\", \"muslims\", \"muslims\", \"muslims\", \"muslims\", \"muslims\", \"must\", \"must\", \"must\", \"must\", \"must\", \"must\", \"must\", \"must\", \"must\", \"must\", \"nail\", \"nail\", \"nail\", \"nail\", \"nail\", \"nail\", \"nail\", \"nail\", \"nail\", \"nail\", \"name\", \"name\", \"name\", \"name\", \"name\", \"name\", \"name\", \"name\", \"name\", \"name\", \"namo\", \"namo\", \"namo\", \"namo\", \"namo\", \"namo\", \"namo\", \"namo\", \"namo\", \"namo\", \"narendra\", \"narendra\", \"narendra\", \"narendra\", \"narendra\", \"narendra\", \"narendra\", \"narendra\", \"narendra\", \"narendra\", \"narendramodi\", \"narendramodi\", \"narendramodi\", \"narendramodi\", \"narendramodi\", \"narendramodi\", \"narendramodi\", \"narendramodi\", \"narendramodi\", \"narendramodi\", \"nation\", \"nation\", \"nation\", \"nation\", \"nation\", \"nation\", \"nation\", \"nation\", \"nation\", \"nation\", \"national\", \"national\", \"national\", \"national\", \"national\", \"national\", \"national\", \"national\", \"national\", \"national\", \"nda\", \"nda\", \"nda\", \"nda\", \"nda\", \"nda\", \"nda\", \"nda\", \"nda\", \"nda\", \"need\", \"need\", \"need\", \"need\", \"need\", \"need\", \"need\", \"need\", \"need\", \"need\", \"nehru\", \"nehru\", \"nehru\", \"nehru\", \"nehru\", \"nehru\", \"nehru\", \"nehru\", \"nehru\", \"nehru\", \"neither\", \"neither\", \"neither\", \"neither\", \"neither\", \"neither\", \"neither\", \"neither\", \"neither\", \"neither\", \"never\", \"never\", \"never\", \"never\", \"never\", \"never\", \"never\", \"never\", \"never\", \"never\", \"new\", \"new\", \"new\", \"new\", \"new\", \"new\", \"new\", \"new\", \"new\", \"new\", \"news\", \"news\", \"news\", \"news\", \"news\", \"news\", \"news\", \"news\", \"news\", \"news\", \"nomination\", \"nomination\", \"nomination\", \"nomination\", \"nomination\", \"nomination\", \"nomination\", \"nomination\", \"nomination\", \"nomination\", \"north\", \"north\", \"north\", \"north\", \"north\", \"north\", \"north\", \"north\", \"north\", \"north\", \"nothing\", \"nothing\", \"nothing\", \"nothing\", \"nothing\", \"nothing\", \"nothing\", \"nothing\", \"nothing\", \"nothing\", \"nuclear\", \"nuclear\", \"nuclear\", \"nuclear\", \"nuclear\", \"nuclear\", \"nuclear\", \"nuclear\", \"nuclear\", \"nuclear\", \"numbers\", \"numbers\", \"numbers\", \"numbers\", \"numbers\", \"numbers\", \"numbers\", \"numbers\", \"numbers\", \"numbers\", \"obc\", \"obc\", \"obc\", \"obc\", \"obc\", \"obc\", \"obc\", \"obc\", \"obc\", \"obc\", \"occasion\", \"occasion\", \"occasion\", \"occasion\", \"occasion\", \"occasion\", \"occasion\", \"occasion\", \"occasion\", \"occasion\", \"offered\", \"offered\", \"offered\", \"offered\", \"offered\", \"offered\", \"offered\", \"offered\", \"offered\", \"offered\", \"office\", \"office\", \"office\", \"office\", \"office\", \"office\", \"office\", \"office\", \"office\", \"office\", \"old\", \"old\", \"old\", \"old\", \"old\", \"old\", \"old\", \"old\", \"old\", \"old\", \"one\", \"one\", \"one\", \"one\", \"one\", \"one\", \"one\", \"one\", \"one\", \"one\", \"op\", \"op\", \"op\", \"op\", \"op\", \"op\", \"op\", \"op\", \"op\", \"op\", \"opportunities\", \"opportunities\", \"opportunities\", \"opportunities\", \"opportunities\", \"opportunities\", \"opportunities\", \"opportunities\", \"opportunities\", \"opportunities\", \"opposition\", \"opposition\", \"opposition\", \"opposition\", \"opposition\", \"opposition\", \"opposition\", \"opposition\", \"opposition\", \"opposition\", \"orientation\", \"orientation\", \"orientation\", \"orientation\", \"orientation\", \"orientation\", \"orientation\", \"orientation\", \"orientation\", \"orientation\", \"others\", \"others\", \"others\", \"others\", \"others\", \"others\", \"others\", \"others\", \"others\", \"others\", \"pak\", \"pak\", \"pak\", \"pak\", \"pak\", \"pak\", \"pak\", \"pak\", \"pak\", \"pak\", \"pakistan\", \"pakistan\", \"pakistan\", \"pakistan\", \"pakistan\", \"pakistan\", \"pakistan\", \"pakistan\", \"pakistan\", \"pakistan\", \"party\", \"party\", \"party\", \"party\", \"party\", \"party\", \"party\", \"party\", \"party\", \"party\", \"paying\", \"paying\", \"paying\", \"paying\", \"paying\", \"paying\", \"paying\", \"paying\", \"paying\", \"paying\", \"peace\", \"peace\", \"peace\", \"peace\", \"peace\", \"peace\", \"peace\", \"peace\", \"peace\", \"peace\", \"people\", \"people\", \"people\", \"people\", \"people\", \"people\", \"people\", \"people\", \"people\", \"people\", \"please\", \"please\", \"please\", \"please\", \"please\", \"please\", \"please\", \"please\", \"please\", \"please\", \"pm\", \"pm\", \"pm\", \"pm\", \"pm\", \"pm\", \"pm\", \"pm\", \"pm\", \"pm\", \"pmoindia\", \"pmoindia\", \"pmoindia\", \"pmoindia\", \"pmoindia\", \"pmoindia\", \"pmoindia\", \"pmoindia\", \"pmoindia\", \"pmoindia\", \"police\", \"police\", \"police\", \"police\", \"police\", \"police\", \"police\", \"police\", \"police\", \"police\", \"policy\", \"policy\", \"policy\", \"policy\", \"policy\", \"policy\", \"policy\", \"policy\", \"policy\", \"policy\", \"political\", \"political\", \"political\", \"political\", \"political\", \"political\", \"political\", \"political\", \"political\", \"political\", \"politics\", \"politics\", \"politics\", \"politics\", \"politics\", \"politics\", \"politics\", \"politics\", \"politics\", \"politics\", \"poll\", \"poll\", \"poll\", \"poll\", \"poll\", \"poll\", \"poll\", \"poll\", \"poll\", \"poll\", \"polling\", \"polling\", \"polling\", \"polling\", \"polling\", \"polling\", \"polling\", \"polling\", \"polling\", \"polling\", \"polls\", \"polls\", \"polls\", \"polls\", \"polls\", \"polls\", \"polls\", \"polls\", \"polls\", \"polls\", \"poor\", \"poor\", \"poor\", \"poor\", \"poor\", \"poor\", \"poor\", \"poor\", \"poor\", \"poor\", \"pradesh\", \"pradesh\", \"pradesh\", \"pradesh\", \"pradesh\", \"pradesh\", \"pradesh\", \"pradesh\", \"pradesh\", \"pradesh\", \"pragya\", \"pragya\", \"pragya\", \"pragya\", \"pragya\", \"pragya\", \"pragya\", \"pragya\", \"pragya\", \"pragya\", \"president\", \"president\", \"president\", \"president\", \"president\", \"president\", \"president\", \"president\", \"president\", \"president\", \"prime\", \"prime\", \"prime\", \"prime\", \"prime\", \"prime\", \"prime\", \"prime\", \"prime\", \"prime\", \"priority\", \"priority\", \"priority\", \"priority\", \"priority\", \"priority\", \"priority\", \"priority\", \"priority\", \"priority\", \"priyanka\", \"priyanka\", \"priyanka\", \"priyanka\", \"priyanka\", \"priyanka\", \"priyanka\", \"priyanka\", \"priyanka\", \"priyanka\", \"priyankavsbjp\", \"priyankavsbjp\", \"priyankavsbjp\", \"priyankavsbjp\", \"priyankavsbjp\", \"priyankavsbjp\", \"priyankavsbjp\", \"priyankavsbjp\", \"priyankavsbjp\", \"priyankavsbjp\", \"problem\", \"problem\", \"problem\", \"problem\", \"problem\", \"problem\", \"problem\", \"problem\", \"problem\", \"problem\", \"professional\", \"professional\", \"professional\", \"professional\", \"professional\", \"professional\", \"professional\", \"professional\", \"professional\", \"professional\", \"prosperity\", \"prosperity\", \"prosperity\", \"prosperity\", \"prosperity\", \"prosperity\", \"prosperity\", \"prosperity\", \"prosperity\", \"prosperity\", \"protests\", \"protests\", \"protests\", \"protests\", \"protests\", \"protests\", \"protests\", \"protests\", \"protests\", \"protests\", \"proud\", \"proud\", \"proud\", \"proud\", \"proud\", \"proud\", \"proud\", \"proud\", \"proud\", \"proud\", \"public\", \"public\", \"public\", \"public\", \"public\", \"public\", \"public\", \"public\", \"public\", \"public\", \"punjab\", \"punjab\", \"punjab\", \"punjab\", \"punjab\", \"punjab\", \"punjab\", \"punjab\", \"punjab\", \"punjab\", \"qotd\", \"qotd\", \"qotd\", \"qotd\", \"qotd\", \"qotd\", \"qotd\", \"qotd\", \"qotd\", \"qotd\", \"questions\", \"questions\", \"questions\", \"questions\", \"questions\", \"questions\", \"questions\", \"questions\", \"questions\", \"questions\", \"rahul\", \"rahul\", \"rahul\", \"rahul\", \"rahul\", \"rahul\", \"rahul\", \"rahul\", \"rahul\", \"rahul\", \"raj\", \"raj\", \"raj\", \"raj\", \"raj\", \"raj\", \"raj\", \"raj\", \"raj\", \"raj\", \"rallies\", \"rallies\", \"rallies\", \"rallies\", \"rallies\", \"rallies\", \"rallies\", \"rallies\", \"rallies\", \"rallies\", \"rally\", \"rally\", \"rally\", \"rally\", \"rally\", \"rally\", \"rally\", \"rally\", \"rally\", \"rally\", \"read\", \"read\", \"read\", \"read\", \"read\", \"read\", \"read\", \"read\", \"read\", \"read\", \"reject\", \"reject\", \"reject\", \"reject\", \"reject\", \"reject\", \"reject\", \"reject\", \"reject\", \"reject\", \"religious\", \"religious\", \"religious\", \"religious\", \"religious\", \"religious\", \"religious\", \"religious\", \"religious\", \"religious\", \"resignation\", \"resignation\", \"resignation\", \"resignation\", \"resignation\", \"resignation\", \"resignation\", \"resignation\", \"resignation\", \"resignation\", \"respect\", \"respect\", \"respect\", \"respect\", \"respect\", \"respect\", \"respect\", \"respect\", \"respect\", \"respect\", \"ridiculous\", \"ridiculous\", \"ridiculous\", \"ridiculous\", \"ridiculous\", \"ridiculous\", \"ridiculous\", \"ridiculous\", \"ridiculous\", \"ridiculous\", \"right\", \"right\", \"right\", \"right\", \"right\", \"right\", \"right\", \"right\", \"right\", \"right\", \"road\", \"road\", \"road\", \"road\", \"road\", \"road\", \"road\", \"road\", \"road\", \"road\", \"role\", \"role\", \"role\", \"role\", \"role\", \"role\", \"role\", \"role\", \"role\", \"role\", \"rs\", \"rs\", \"rs\", \"rs\", \"rs\", \"rs\", \"rs\", \"rs\", \"rs\", \"rs\", \"rss\", \"rss\", \"rss\", \"rss\", \"rss\", \"rss\", \"rss\", \"rss\", \"rss\", \"rss\", \"rule\", \"rule\", \"rule\", \"rule\", \"rule\", \"rule\", \"rule\", \"rule\", \"rule\", \"rule\", \"sabha\", \"sabha\", \"sabha\", \"sabha\", \"sabha\", \"sabha\", \"sabha\", \"sabha\", \"sabha\", \"sabha\", \"sadhguruquotes\", \"sadhguruquotes\", \"sadhguruquotes\", \"sadhguruquotes\", \"sadhguruquotes\", \"sadhguruquotes\", \"sadhguruquotes\", \"sadhguruquotes\", \"sadhguruquotes\", \"sadhguruquotes\", \"sadhvi\", \"sadhvi\", \"sadhvi\", \"sadhvi\", \"sadhvi\", \"sadhvi\", \"sadhvi\", \"sadhvi\", \"sadhvi\", \"sadhvi\", \"salute\", \"salute\", \"salute\", \"salute\", \"salute\", \"salute\", \"salute\", \"salute\", \"salute\", \"salute\", \"savarkar\", \"savarkar\", \"savarkar\", \"savarkar\", \"savarkar\", \"savarkar\", \"savarkar\", \"savarkar\", \"savarkar\", \"savarkar\", \"saw\", \"saw\", \"saw\", \"saw\", \"saw\", \"saw\", \"saw\", \"saw\", \"saw\", \"saw\", \"say\", \"say\", \"say\", \"say\", \"say\", \"say\", \"say\", \"say\", \"say\", \"say\", \"sc\", \"sc\", \"sc\", \"sc\", \"sc\", \"sc\", \"sc\", \"sc\", \"sc\", \"sc\", \"schemes\", \"schemes\", \"schemes\", \"schemes\", \"schemes\", \"schemes\", \"schemes\", \"schemes\", \"schemes\", \"schemes\", \"schools\", \"schools\", \"schools\", \"schools\", \"schools\", \"schools\", \"schools\", \"schools\", \"schools\", \"schools\", \"seats\", \"seats\", \"seats\", \"seats\", \"seats\", \"seats\", \"seats\", \"seats\", \"seats\", \"seats\", \"second\", \"second\", \"second\", \"second\", \"second\", \"second\", \"second\", \"second\", \"second\", \"second\", \"secular\", \"secular\", \"secular\", \"secular\", \"secular\", \"secular\", \"secular\", \"secular\", \"secular\", \"secular\", \"security\", \"security\", \"security\", \"security\", \"security\", \"security\", \"security\", \"security\", \"security\", \"security\", \"seeking\", \"seeking\", \"seeking\", \"seeking\", \"seeking\", \"seeking\", \"seeking\", \"seeking\", \"seeking\", \"seeking\", \"set\", \"set\", \"set\", \"set\", \"set\", \"set\", \"set\", \"set\", \"set\", \"set\", \"sg\", \"sg\", \"sg\", \"sg\", \"sg\", \"sg\", \"sg\", \"sg\", \"sg\", \"sg\", \"shah\", \"shah\", \"shah\", \"shah\", \"shah\", \"shah\", \"shah\", \"shah\", \"shah\", \"shah\", \"since\", \"since\", \"since\", \"since\", \"since\", \"since\", \"since\", \"since\", \"since\", \"since\", \"sincerely\", \"sincerely\", \"sincerely\", \"sincerely\", \"sincerely\", \"sincerely\", \"sincerely\", \"sincerely\", \"sincerely\", \"sincerely\", \"sitting\", \"sitting\", \"sitting\", \"sitting\", \"sitting\", \"sitting\", \"sitting\", \"sitting\", \"sitting\", \"sitting\", \"smritiirani\", \"smritiirani\", \"smritiirani\", \"smritiirani\", \"smritiirani\", \"smritiirani\", \"smritiirani\", \"smritiirani\", \"smritiirani\", \"smritiirani\", \"snoopgate\", \"snoopgate\", \"snoopgate\", \"snoopgate\", \"snoopgate\", \"snoopgate\", \"snoopgate\", \"snoopgate\", \"snoopgate\", \"snoopgate\", \"sonia\", \"sonia\", \"sonia\", \"sonia\", \"sonia\", \"sonia\", \"sonia\", \"sonia\", \"sonia\", \"sonia\", \"spent\", \"spent\", \"spent\", \"spent\", \"spent\", \"spent\", \"spent\", \"spent\", \"spent\", \"spent\", \"stand\", \"stand\", \"stand\", \"stand\", \"stand\", \"stand\", \"stand\", \"stand\", \"stand\", \"stand\", \"start\", \"start\", \"start\", \"start\", \"start\", \"start\", \"start\", \"start\", \"start\", \"start\", \"state\", \"state\", \"state\", \"state\", \"state\", \"state\", \"state\", \"state\", \"state\", \"state\", \"strike\", \"strike\", \"strike\", \"strike\", \"strike\", \"strike\", \"strike\", \"strike\", \"strike\", \"strike\", \"strong\", \"strong\", \"strong\", \"strong\", \"strong\", \"strong\", \"strong\", \"strong\", \"strong\", \"strong\", \"students\", \"students\", \"students\", \"students\", \"students\", \"students\", \"students\", \"students\", \"students\", \"students\", \"suggesting\", \"suggesting\", \"suggesting\", \"suggesting\", \"suggesting\", \"suggesting\", \"suggesting\", \"suggesting\", \"suggesting\", \"suggesting\", \"suggestion\", \"suggestion\", \"suggestion\", \"suggestion\", \"suggestion\", \"suggestion\", \"suggestion\", \"suggestion\", \"suggestion\", \"suggestion\", \"sun\", \"sun\", \"sun\", \"sun\", \"sun\", \"sun\", \"sun\", \"sun\", \"sun\", \"sun\", \"support\", \"support\", \"support\", \"support\", \"support\", \"support\", \"support\", \"support\", \"support\", \"support\", \"system\", \"system\", \"system\", \"system\", \"system\", \"system\", \"system\", \"system\", \"system\", \"system\", \"take\", \"take\", \"take\", \"take\", \"take\", \"take\", \"take\", \"take\", \"take\", \"take\", \"talking\", \"talking\", \"talking\", \"talking\", \"talking\", \"talking\", \"talking\", \"talking\", \"talking\", \"talking\", \"tax\", \"tax\", \"tax\", \"tax\", \"tax\", \"tax\", \"tax\", \"tax\", \"tax\", \"tax\", \"temple\", \"temple\", \"temple\", \"temple\", \"temple\", \"temple\", \"temple\", \"temple\", \"temple\", \"temple\", \"term\", \"term\", \"term\", \"term\", \"term\", \"term\", \"term\", \"term\", \"term\", \"term\", \"terror\", \"terror\", \"terror\", \"terror\", \"terror\", \"terror\", \"terror\", \"terror\", \"terror\", \"terror\", \"thank\", \"thank\", \"thank\", \"thank\", \"thank\", \"thank\", \"thank\", \"thank\", \"thank\", \"thank\", \"threatened\", \"threatened\", \"threatened\", \"threatened\", \"threatened\", \"threatened\", \"threatened\", \"threatened\", \"threatened\", \"threatened\", \"time\", \"time\", \"time\", \"time\", \"time\", \"time\", \"time\", \"time\", \"time\", \"time\", \"times\", \"times\", \"times\", \"times\", \"times\", \"times\", \"times\", \"times\", \"times\", \"times\", \"today\", \"today\", \"today\", \"today\", \"today\", \"today\", \"today\", \"today\", \"today\", \"today\", \"tonight\", \"tonight\", \"tonight\", \"tonight\", \"tonight\", \"tonight\", \"tonight\", \"tonight\", \"tonight\", \"tonight\", \"tools\", \"tools\", \"tools\", \"tools\", \"tools\", \"tools\", \"tools\", \"tools\", \"tools\", \"tools\", \"tourism\", \"tourism\", \"tourism\", \"tourism\", \"tourism\", \"tourism\", \"tourism\", \"tourism\", \"tourism\", \"tourism\", \"tribute\", \"tribute\", \"tribute\", \"tribute\", \"tribute\", \"tribute\", \"tribute\", \"tribute\", \"tribute\", \"tribute\", \"tributes\", \"tributes\", \"tributes\", \"tributes\", \"tributes\", \"tributes\", \"tributes\", \"tributes\", \"tributes\", \"tributes\", \"upa\", \"upa\", \"upa\", \"upa\", \"upa\", \"upa\", \"upa\", \"upa\", \"upa\", \"upa\", \"us\", \"us\", \"us\", \"us\", \"us\", \"us\", \"us\", \"us\", \"us\", \"us\", \"used\", \"used\", \"used\", \"used\", \"used\", \"used\", \"used\", \"used\", \"used\", \"used\", \"using\", \"using\", \"using\", \"using\", \"using\", \"using\", \"using\", \"using\", \"using\", \"using\", \"varanasi\", \"varanasi\", \"varanasi\", \"varanasi\", \"varanasi\", \"varanasi\", \"varanasi\", \"varanasi\", \"varanasi\", \"varanasi\", \"veer\", \"veer\", \"veer\", \"veer\", \"veer\", \"veer\", \"veer\", \"veer\", \"veer\", \"veer\", \"verdict\", \"verdict\", \"verdict\", \"verdict\", \"verdict\", \"verdict\", \"verdict\", \"verdict\", \"verdict\", \"verdict\", \"via\", \"via\", \"via\", \"via\", \"via\", \"via\", \"via\", \"via\", \"via\", \"via\", \"victory\", \"victory\", \"victory\", \"victory\", \"victory\", \"victory\", \"victory\", \"victory\", \"victory\", \"victory\", \"videos\", \"videos\", \"videos\", \"videos\", \"videos\", \"videos\", \"videos\", \"videos\", \"videos\", \"videos\", \"views\", \"views\", \"views\", \"views\", \"views\", \"views\", \"views\", \"views\", \"views\", \"views\", \"villages\", \"villages\", \"villages\", \"villages\", \"villages\", \"villages\", \"villages\", \"villages\", \"villages\", \"villages\", \"vision\", \"vision\", \"vision\", \"vision\", \"vision\", \"vision\", \"vision\", \"vision\", \"vision\", \"vision\", \"volunteers\", \"volunteers\", \"volunteers\", \"volunteers\", \"volunteers\", \"volunteers\", \"volunteers\", \"volunteers\", \"volunteers\", \"volunteers\", \"vote\", \"vote\", \"vote\", \"vote\", \"vote\", \"vote\", \"vote\", \"vote\", \"vote\", \"vote\", \"voted\", \"voted\", \"voted\", \"voted\", \"voted\", \"voted\", \"voted\", \"voted\", \"voted\", \"voted\", \"voters\", \"voters\", \"voters\", \"voters\", \"voters\", \"voters\", \"voters\", \"voters\", \"voters\", \"voters\", \"votes\", \"votes\", \"votes\", \"votes\", \"votes\", \"votes\", \"votes\", \"votes\", \"votes\", \"votes\", \"voting\", \"voting\", \"voting\", \"voting\", \"voting\", \"voting\", \"voting\", \"voting\", \"voting\", \"voting\", \"want\", \"want\", \"want\", \"want\", \"want\", \"want\", \"want\", \"want\", \"want\", \"want\", \"wayanad\", \"wayanad\", \"wayanad\", \"wayanad\", \"wayanad\", \"wayanad\", \"wayanad\", \"wayanad\", \"wayanad\", \"wayanad\", \"whatever\", \"whatever\", \"whatever\", \"whatever\", \"whatever\", \"whatever\", \"whatever\", \"whatever\", \"whatever\", \"whatever\", \"win\", \"win\", \"win\", \"win\", \"win\", \"win\", \"win\", \"win\", \"win\", \"win\", \"women\", \"women\", \"women\", \"women\", \"women\", \"women\", \"women\", \"women\", \"women\", \"women\", \"woof\", \"woof\", \"woof\", \"woof\", \"woof\", \"woof\", \"woof\", \"woof\", \"woof\", \"woof\", \"work\", \"work\", \"work\", \"work\", \"work\", \"work\", \"work\", \"work\", \"work\", \"work\", \"world\", \"world\", \"world\", \"world\", \"world\", \"world\", \"world\", \"world\", \"world\", \"world\", \"worth\", \"worth\", \"worth\", \"worth\", \"worth\", \"worth\", \"worth\", \"worth\", \"worth\", \"worth\", \"would\", \"would\", \"would\", \"would\", \"would\", \"would\", \"would\", \"would\", \"would\", \"would\", \"wrote\", \"wrote\", \"wrote\", \"wrote\", \"wrote\", \"wrote\", \"wrote\", \"wrote\", \"wrote\", \"wrote\", \"years\", \"years\", \"years\", \"years\", \"years\", \"years\", \"years\", \"years\", \"years\", \"years\", \"yet\", \"yet\", \"yet\", \"yet\", \"yet\", \"yet\", \"yet\", \"yet\", \"yet\", \"yet\"]}, \"R\": 30, \"lambda.step\": 0.01, \"plot.opts\": {\"xlab\": \"PC1\", \"ylab\": \"PC2\"}, \"topic.order\": [3, 9, 8, 6, 4, 5, 7, 2, 1, 10]};\n",
              "\n",
              "function LDAvis_load_lib(url, callback){\n",
              "  var s = document.createElement('script');\n",
              "  s.src = url;\n",
              "  s.async = true;\n",
              "  s.onreadystatechange = s.onload = callback;\n",
              "  s.onerror = function(){console.warn(\"failed to load library \" + url);};\n",
              "  document.getElementsByTagName(\"head\")[0].appendChild(s);\n",
              "}\n",
              "\n",
              "if(typeof(LDAvis) !== \"undefined\"){\n",
              "   // already loaded: just create the visualization\n",
              "   !function(LDAvis){\n",
              "       new LDAvis(\"#\" + \"ldavis_el6511402138776363047962771061\", ldavis_el6511402138776363047962771061_data);\n",
              "   }(LDAvis);\n",
              "}else if(typeof define === \"function\" && define.amd){\n",
              "   // require.js is available: use it to load d3/LDAvis\n",
              "   require.config({paths: {d3: \"https://d3js.org/d3.v5\"}});\n",
              "   require([\"d3\"], function(d3){\n",
              "      window.d3 = d3;\n",
              "      LDAvis_load_lib(\"https://cdn.jsdelivr.net/gh/bmabey/pyLDAvis@3.3.1/pyLDAvis/js/ldavis.v3.0.0.js\", function(){\n",
              "        new LDAvis(\"#\" + \"ldavis_el6511402138776363047962771061\", ldavis_el6511402138776363047962771061_data);\n",
              "      });\n",
              "    });\n",
              "}else{\n",
              "    // require.js not available: dynamically load d3 & LDAvis\n",
              "    LDAvis_load_lib(\"https://d3js.org/d3.v5.js\", function(){\n",
              "         LDAvis_load_lib(\"https://cdn.jsdelivr.net/gh/bmabey/pyLDAvis@3.3.1/pyLDAvis/js/ldavis.v3.0.0.js\", function(){\n",
              "                 new LDAvis(\"#\" + \"ldavis_el6511402138776363047962771061\", ldavis_el6511402138776363047962771061_data);\n",
              "            })\n",
              "         });\n",
              "}\n",
              "</script>"
            ]
          },
          "metadata": {},
          "execution_count": 80
        }
      ],
      "source": [
        "import pyLDAvis as vis\n",
        "movies_pd = vis.prepare(**lda_vis_data)\n",
        "vis.display(movies_pd)"
      ]
    },
    {
      "cell_type": "code",
      "execution_count": 80,
      "metadata": {
        "id": "noRn-stzx0bA"
      },
      "outputs": [],
      "source": [
        ""
      ]
    }
  ],
  "metadata": {
    "accelerator": "GPU",
    "colab": {
      "collapsed_sections": [],
      "name": "BERTopic_trac_DS.ipynb",
      "provenance": []
    },
    "gpuClass": "standard",
    "kernelspec": {
      "display_name": "Python 3 (ipykernel)",
      "language": "python",
      "name": "python3"
    },
    "language_info": {
      "codemirror_mode": {
        "name": "ipython",
        "version": 3
      },
      "file_extension": ".py",
      "mimetype": "text/x-python",
      "name": "python",
      "nbconvert_exporter": "python",
      "pygments_lexer": "ipython3",
      "version": "3.10.5"
    },
    "vscode": {
      "interpreter": {
        "hash": "b3e391204e80b22b3060844b47869bceb07c4a4750a35445c4073764e0128100"
      }
    },
    "widgets": {
      "application/vnd.jupyter.widget-state+json": {
        "d5fd70dfdd6e465ebaa4df2a38bd9d0c": {
          "model_module": "@jupyter-widgets/controls",
          "model_name": "HBoxModel",
          "model_module_version": "1.5.0",
          "state": {
            "_dom_classes": [],
            "_model_module": "@jupyter-widgets/controls",
            "_model_module_version": "1.5.0",
            "_model_name": "HBoxModel",
            "_view_count": null,
            "_view_module": "@jupyter-widgets/controls",
            "_view_module_version": "1.5.0",
            "_view_name": "HBoxView",
            "box_style": "",
            "children": [
              "IPY_MODEL_981d9ef089dc45b5b833ee671c7a1886",
              "IPY_MODEL_c1797bb2d82c442695e4f3f2096086cf",
              "IPY_MODEL_8f5fe02d6ea84b2aba1b1c36e9c84911"
            ],
            "layout": "IPY_MODEL_403c7c08a6bd49239e096e902cf11de7"
          }
        },
        "981d9ef089dc45b5b833ee671c7a1886": {
          "model_module": "@jupyter-widgets/controls",
          "model_name": "HTMLModel",
          "model_module_version": "1.5.0",
          "state": {
            "_dom_classes": [],
            "_model_module": "@jupyter-widgets/controls",
            "_model_module_version": "1.5.0",
            "_model_name": "HTMLModel",
            "_view_count": null,
            "_view_module": "@jupyter-widgets/controls",
            "_view_module_version": "1.5.0",
            "_view_name": "HTMLView",
            "description": "",
            "description_tooltip": null,
            "layout": "IPY_MODEL_f7e921aba3d040a28d3e7b21753a6450",
            "placeholder": "​",
            "style": "IPY_MODEL_0fefeff3a7844cb79eccf16f5d3fe2d4",
            "value": "Batches: 100%"
          }
        },
        "c1797bb2d82c442695e4f3f2096086cf": {
          "model_module": "@jupyter-widgets/controls",
          "model_name": "FloatProgressModel",
          "model_module_version": "1.5.0",
          "state": {
            "_dom_classes": [],
            "_model_module": "@jupyter-widgets/controls",
            "_model_module_version": "1.5.0",
            "_model_name": "FloatProgressModel",
            "_view_count": null,
            "_view_module": "@jupyter-widgets/controls",
            "_view_module_version": "1.5.0",
            "_view_name": "ProgressView",
            "bar_style": "success",
            "description": "",
            "description_tooltip": null,
            "layout": "IPY_MODEL_cf6f2309b9b7439ba85271d2bc385d39",
            "max": 63,
            "min": 0,
            "orientation": "horizontal",
            "style": "IPY_MODEL_c6a74997977d4717ac5e8be57518a460",
            "value": 63
          }
        },
        "8f5fe02d6ea84b2aba1b1c36e9c84911": {
          "model_module": "@jupyter-widgets/controls",
          "model_name": "HTMLModel",
          "model_module_version": "1.5.0",
          "state": {
            "_dom_classes": [],
            "_model_module": "@jupyter-widgets/controls",
            "_model_module_version": "1.5.0",
            "_model_name": "HTMLModel",
            "_view_count": null,
            "_view_module": "@jupyter-widgets/controls",
            "_view_module_version": "1.5.0",
            "_view_name": "HTMLView",
            "description": "",
            "description_tooltip": null,
            "layout": "IPY_MODEL_064205cb9ebc45b1afc9d0e745861895",
            "placeholder": "​",
            "style": "IPY_MODEL_cfa781bbb17540ec97db66bb8a071ac7",
            "value": " 63/63 [00:08&lt;00:00, 11.60it/s]"
          }
        },
        "403c7c08a6bd49239e096e902cf11de7": {
          "model_module": "@jupyter-widgets/base",
          "model_name": "LayoutModel",
          "model_module_version": "1.2.0",
          "state": {
            "_model_module": "@jupyter-widgets/base",
            "_model_module_version": "1.2.0",
            "_model_name": "LayoutModel",
            "_view_count": null,
            "_view_module": "@jupyter-widgets/base",
            "_view_module_version": "1.2.0",
            "_view_name": "LayoutView",
            "align_content": null,
            "align_items": null,
            "align_self": null,
            "border": null,
            "bottom": null,
            "display": null,
            "flex": null,
            "flex_flow": null,
            "grid_area": null,
            "grid_auto_columns": null,
            "grid_auto_flow": null,
            "grid_auto_rows": null,
            "grid_column": null,
            "grid_gap": null,
            "grid_row": null,
            "grid_template_areas": null,
            "grid_template_columns": null,
            "grid_template_rows": null,
            "height": null,
            "justify_content": null,
            "justify_items": null,
            "left": null,
            "margin": null,
            "max_height": null,
            "max_width": null,
            "min_height": null,
            "min_width": null,
            "object_fit": null,
            "object_position": null,
            "order": null,
            "overflow": null,
            "overflow_x": null,
            "overflow_y": null,
            "padding": null,
            "right": null,
            "top": null,
            "visibility": null,
            "width": null
          }
        },
        "f7e921aba3d040a28d3e7b21753a6450": {
          "model_module": "@jupyter-widgets/base",
          "model_name": "LayoutModel",
          "model_module_version": "1.2.0",
          "state": {
            "_model_module": "@jupyter-widgets/base",
            "_model_module_version": "1.2.0",
            "_model_name": "LayoutModel",
            "_view_count": null,
            "_view_module": "@jupyter-widgets/base",
            "_view_module_version": "1.2.0",
            "_view_name": "LayoutView",
            "align_content": null,
            "align_items": null,
            "align_self": null,
            "border": null,
            "bottom": null,
            "display": null,
            "flex": null,
            "flex_flow": null,
            "grid_area": null,
            "grid_auto_columns": null,
            "grid_auto_flow": null,
            "grid_auto_rows": null,
            "grid_column": null,
            "grid_gap": null,
            "grid_row": null,
            "grid_template_areas": null,
            "grid_template_columns": null,
            "grid_template_rows": null,
            "height": null,
            "justify_content": null,
            "justify_items": null,
            "left": null,
            "margin": null,
            "max_height": null,
            "max_width": null,
            "min_height": null,
            "min_width": null,
            "object_fit": null,
            "object_position": null,
            "order": null,
            "overflow": null,
            "overflow_x": null,
            "overflow_y": null,
            "padding": null,
            "right": null,
            "top": null,
            "visibility": null,
            "width": null
          }
        },
        "0fefeff3a7844cb79eccf16f5d3fe2d4": {
          "model_module": "@jupyter-widgets/controls",
          "model_name": "DescriptionStyleModel",
          "model_module_version": "1.5.0",
          "state": {
            "_model_module": "@jupyter-widgets/controls",
            "_model_module_version": "1.5.0",
            "_model_name": "DescriptionStyleModel",
            "_view_count": null,
            "_view_module": "@jupyter-widgets/base",
            "_view_module_version": "1.2.0",
            "_view_name": "StyleView",
            "description_width": ""
          }
        },
        "cf6f2309b9b7439ba85271d2bc385d39": {
          "model_module": "@jupyter-widgets/base",
          "model_name": "LayoutModel",
          "model_module_version": "1.2.0",
          "state": {
            "_model_module": "@jupyter-widgets/base",
            "_model_module_version": "1.2.0",
            "_model_name": "LayoutModel",
            "_view_count": null,
            "_view_module": "@jupyter-widgets/base",
            "_view_module_version": "1.2.0",
            "_view_name": "LayoutView",
            "align_content": null,
            "align_items": null,
            "align_self": null,
            "border": null,
            "bottom": null,
            "display": null,
            "flex": null,
            "flex_flow": null,
            "grid_area": null,
            "grid_auto_columns": null,
            "grid_auto_flow": null,
            "grid_auto_rows": null,
            "grid_column": null,
            "grid_gap": null,
            "grid_row": null,
            "grid_template_areas": null,
            "grid_template_columns": null,
            "grid_template_rows": null,
            "height": null,
            "justify_content": null,
            "justify_items": null,
            "left": null,
            "margin": null,
            "max_height": null,
            "max_width": null,
            "min_height": null,
            "min_width": null,
            "object_fit": null,
            "object_position": null,
            "order": null,
            "overflow": null,
            "overflow_x": null,
            "overflow_y": null,
            "padding": null,
            "right": null,
            "top": null,
            "visibility": null,
            "width": null
          }
        },
        "c6a74997977d4717ac5e8be57518a460": {
          "model_module": "@jupyter-widgets/controls",
          "model_name": "ProgressStyleModel",
          "model_module_version": "1.5.0",
          "state": {
            "_model_module": "@jupyter-widgets/controls",
            "_model_module_version": "1.5.0",
            "_model_name": "ProgressStyleModel",
            "_view_count": null,
            "_view_module": "@jupyter-widgets/base",
            "_view_module_version": "1.2.0",
            "_view_name": "StyleView",
            "bar_color": null,
            "description_width": ""
          }
        },
        "064205cb9ebc45b1afc9d0e745861895": {
          "model_module": "@jupyter-widgets/base",
          "model_name": "LayoutModel",
          "model_module_version": "1.2.0",
          "state": {
            "_model_module": "@jupyter-widgets/base",
            "_model_module_version": "1.2.0",
            "_model_name": "LayoutModel",
            "_view_count": null,
            "_view_module": "@jupyter-widgets/base",
            "_view_module_version": "1.2.0",
            "_view_name": "LayoutView",
            "align_content": null,
            "align_items": null,
            "align_self": null,
            "border": null,
            "bottom": null,
            "display": null,
            "flex": null,
            "flex_flow": null,
            "grid_area": null,
            "grid_auto_columns": null,
            "grid_auto_flow": null,
            "grid_auto_rows": null,
            "grid_column": null,
            "grid_gap": null,
            "grid_row": null,
            "grid_template_areas": null,
            "grid_template_columns": null,
            "grid_template_rows": null,
            "height": null,
            "justify_content": null,
            "justify_items": null,
            "left": null,
            "margin": null,
            "max_height": null,
            "max_width": null,
            "min_height": null,
            "min_width": null,
            "object_fit": null,
            "object_position": null,
            "order": null,
            "overflow": null,
            "overflow_x": null,
            "overflow_y": null,
            "padding": null,
            "right": null,
            "top": null,
            "visibility": null,
            "width": null
          }
        },
        "cfa781bbb17540ec97db66bb8a071ac7": {
          "model_module": "@jupyter-widgets/controls",
          "model_name": "DescriptionStyleModel",
          "model_module_version": "1.5.0",
          "state": {
            "_model_module": "@jupyter-widgets/controls",
            "_model_module_version": "1.5.0",
            "_model_name": "DescriptionStyleModel",
            "_view_count": null,
            "_view_module": "@jupyter-widgets/base",
            "_view_module_version": "1.2.0",
            "_view_name": "StyleView",
            "description_width": ""
          }
        },
        "32bedd0a4e66498bb9b1d1a37c79fdba": {
          "model_module": "@jupyter-widgets/controls",
          "model_name": "HBoxModel",
          "model_module_version": "1.5.0",
          "state": {
            "_dom_classes": [],
            "_model_module": "@jupyter-widgets/controls",
            "_model_module_version": "1.5.0",
            "_model_name": "HBoxModel",
            "_view_count": null,
            "_view_module": "@jupyter-widgets/controls",
            "_view_module_version": "1.5.0",
            "_view_name": "HBoxView",
            "box_style": "",
            "children": [
              "IPY_MODEL_16ede3e04b82423f9cee552e4d76450f",
              "IPY_MODEL_95ec7ee7643747da80e175edc957db9f",
              "IPY_MODEL_537660709f074863bd050e88c469a6db"
            ],
            "layout": "IPY_MODEL_8b3a8a32fbc54e0c85b09679de82ad72"
          }
        },
        "16ede3e04b82423f9cee552e4d76450f": {
          "model_module": "@jupyter-widgets/controls",
          "model_name": "HTMLModel",
          "model_module_version": "1.5.0",
          "state": {
            "_dom_classes": [],
            "_model_module": "@jupyter-widgets/controls",
            "_model_module_version": "1.5.0",
            "_model_name": "HTMLModel",
            "_view_count": null,
            "_view_module": "@jupyter-widgets/controls",
            "_view_module_version": "1.5.0",
            "_view_name": "HTMLView",
            "description": "",
            "description_tooltip": null,
            "layout": "IPY_MODEL_f6c6db7036f8460a9cb90008e671defd",
            "placeholder": "​",
            "style": "IPY_MODEL_1fc6f1acd86c4666a3d9f4ebd069cbba",
            "value": "Batches: 100%"
          }
        },
        "95ec7ee7643747da80e175edc957db9f": {
          "model_module": "@jupyter-widgets/controls",
          "model_name": "FloatProgressModel",
          "model_module_version": "1.5.0",
          "state": {
            "_dom_classes": [],
            "_model_module": "@jupyter-widgets/controls",
            "_model_module_version": "1.5.0",
            "_model_name": "FloatProgressModel",
            "_view_count": null,
            "_view_module": "@jupyter-widgets/controls",
            "_view_module_version": "1.5.0",
            "_view_name": "ProgressView",
            "bar_style": "success",
            "description": "",
            "description_tooltip": null,
            "layout": "IPY_MODEL_0bf5f280ce904827a0ba501d33e3fb0e",
            "max": 10,
            "min": 0,
            "orientation": "horizontal",
            "style": "IPY_MODEL_dfb16812e26e49978d8e1d703c689e1a",
            "value": 10
          }
        },
        "537660709f074863bd050e88c469a6db": {
          "model_module": "@jupyter-widgets/controls",
          "model_name": "HTMLModel",
          "model_module_version": "1.5.0",
          "state": {
            "_dom_classes": [],
            "_model_module": "@jupyter-widgets/controls",
            "_model_module_version": "1.5.0",
            "_model_name": "HTMLModel",
            "_view_count": null,
            "_view_module": "@jupyter-widgets/controls",
            "_view_module_version": "1.5.0",
            "_view_name": "HTMLView",
            "description": "",
            "description_tooltip": null,
            "layout": "IPY_MODEL_24198e1ef07c421e80a5f457c398e7f6",
            "placeholder": "​",
            "style": "IPY_MODEL_1d7912073ba34806b98767e089f3a914",
            "value": " 10/10 [00:03&lt;00:00,  3.67it/s]"
          }
        },
        "8b3a8a32fbc54e0c85b09679de82ad72": {
          "model_module": "@jupyter-widgets/base",
          "model_name": "LayoutModel",
          "model_module_version": "1.2.0",
          "state": {
            "_model_module": "@jupyter-widgets/base",
            "_model_module_version": "1.2.0",
            "_model_name": "LayoutModel",
            "_view_count": null,
            "_view_module": "@jupyter-widgets/base",
            "_view_module_version": "1.2.0",
            "_view_name": "LayoutView",
            "align_content": null,
            "align_items": null,
            "align_self": null,
            "border": null,
            "bottom": null,
            "display": null,
            "flex": null,
            "flex_flow": null,
            "grid_area": null,
            "grid_auto_columns": null,
            "grid_auto_flow": null,
            "grid_auto_rows": null,
            "grid_column": null,
            "grid_gap": null,
            "grid_row": null,
            "grid_template_areas": null,
            "grid_template_columns": null,
            "grid_template_rows": null,
            "height": null,
            "justify_content": null,
            "justify_items": null,
            "left": null,
            "margin": null,
            "max_height": null,
            "max_width": null,
            "min_height": null,
            "min_width": null,
            "object_fit": null,
            "object_position": null,
            "order": null,
            "overflow": null,
            "overflow_x": null,
            "overflow_y": null,
            "padding": null,
            "right": null,
            "top": null,
            "visibility": null,
            "width": null
          }
        },
        "f6c6db7036f8460a9cb90008e671defd": {
          "model_module": "@jupyter-widgets/base",
          "model_name": "LayoutModel",
          "model_module_version": "1.2.0",
          "state": {
            "_model_module": "@jupyter-widgets/base",
            "_model_module_version": "1.2.0",
            "_model_name": "LayoutModel",
            "_view_count": null,
            "_view_module": "@jupyter-widgets/base",
            "_view_module_version": "1.2.0",
            "_view_name": "LayoutView",
            "align_content": null,
            "align_items": null,
            "align_self": null,
            "border": null,
            "bottom": null,
            "display": null,
            "flex": null,
            "flex_flow": null,
            "grid_area": null,
            "grid_auto_columns": null,
            "grid_auto_flow": null,
            "grid_auto_rows": null,
            "grid_column": null,
            "grid_gap": null,
            "grid_row": null,
            "grid_template_areas": null,
            "grid_template_columns": null,
            "grid_template_rows": null,
            "height": null,
            "justify_content": null,
            "justify_items": null,
            "left": null,
            "margin": null,
            "max_height": null,
            "max_width": null,
            "min_height": null,
            "min_width": null,
            "object_fit": null,
            "object_position": null,
            "order": null,
            "overflow": null,
            "overflow_x": null,
            "overflow_y": null,
            "padding": null,
            "right": null,
            "top": null,
            "visibility": null,
            "width": null
          }
        },
        "1fc6f1acd86c4666a3d9f4ebd069cbba": {
          "model_module": "@jupyter-widgets/controls",
          "model_name": "DescriptionStyleModel",
          "model_module_version": "1.5.0",
          "state": {
            "_model_module": "@jupyter-widgets/controls",
            "_model_module_version": "1.5.0",
            "_model_name": "DescriptionStyleModel",
            "_view_count": null,
            "_view_module": "@jupyter-widgets/base",
            "_view_module_version": "1.2.0",
            "_view_name": "StyleView",
            "description_width": ""
          }
        },
        "0bf5f280ce904827a0ba501d33e3fb0e": {
          "model_module": "@jupyter-widgets/base",
          "model_name": "LayoutModel",
          "model_module_version": "1.2.0",
          "state": {
            "_model_module": "@jupyter-widgets/base",
            "_model_module_version": "1.2.0",
            "_model_name": "LayoutModel",
            "_view_count": null,
            "_view_module": "@jupyter-widgets/base",
            "_view_module_version": "1.2.0",
            "_view_name": "LayoutView",
            "align_content": null,
            "align_items": null,
            "align_self": null,
            "border": null,
            "bottom": null,
            "display": null,
            "flex": null,
            "flex_flow": null,
            "grid_area": null,
            "grid_auto_columns": null,
            "grid_auto_flow": null,
            "grid_auto_rows": null,
            "grid_column": null,
            "grid_gap": null,
            "grid_row": null,
            "grid_template_areas": null,
            "grid_template_columns": null,
            "grid_template_rows": null,
            "height": null,
            "justify_content": null,
            "justify_items": null,
            "left": null,
            "margin": null,
            "max_height": null,
            "max_width": null,
            "min_height": null,
            "min_width": null,
            "object_fit": null,
            "object_position": null,
            "order": null,
            "overflow": null,
            "overflow_x": null,
            "overflow_y": null,
            "padding": null,
            "right": null,
            "top": null,
            "visibility": null,
            "width": null
          }
        },
        "dfb16812e26e49978d8e1d703c689e1a": {
          "model_module": "@jupyter-widgets/controls",
          "model_name": "ProgressStyleModel",
          "model_module_version": "1.5.0",
          "state": {
            "_model_module": "@jupyter-widgets/controls",
            "_model_module_version": "1.5.0",
            "_model_name": "ProgressStyleModel",
            "_view_count": null,
            "_view_module": "@jupyter-widgets/base",
            "_view_module_version": "1.2.0",
            "_view_name": "StyleView",
            "bar_color": null,
            "description_width": ""
          }
        },
        "24198e1ef07c421e80a5f457c398e7f6": {
          "model_module": "@jupyter-widgets/base",
          "model_name": "LayoutModel",
          "model_module_version": "1.2.0",
          "state": {
            "_model_module": "@jupyter-widgets/base",
            "_model_module_version": "1.2.0",
            "_model_name": "LayoutModel",
            "_view_count": null,
            "_view_module": "@jupyter-widgets/base",
            "_view_module_version": "1.2.0",
            "_view_name": "LayoutView",
            "align_content": null,
            "align_items": null,
            "align_self": null,
            "border": null,
            "bottom": null,
            "display": null,
            "flex": null,
            "flex_flow": null,
            "grid_area": null,
            "grid_auto_columns": null,
            "grid_auto_flow": null,
            "grid_auto_rows": null,
            "grid_column": null,
            "grid_gap": null,
            "grid_row": null,
            "grid_template_areas": null,
            "grid_template_columns": null,
            "grid_template_rows": null,
            "height": null,
            "justify_content": null,
            "justify_items": null,
            "left": null,
            "margin": null,
            "max_height": null,
            "max_width": null,
            "min_height": null,
            "min_width": null,
            "object_fit": null,
            "object_position": null,
            "order": null,
            "overflow": null,
            "overflow_x": null,
            "overflow_y": null,
            "padding": null,
            "right": null,
            "top": null,
            "visibility": null,
            "width": null
          }
        },
        "1d7912073ba34806b98767e089f3a914": {
          "model_module": "@jupyter-widgets/controls",
          "model_name": "DescriptionStyleModel",
          "model_module_version": "1.5.0",
          "state": {
            "_model_module": "@jupyter-widgets/controls",
            "_model_module_version": "1.5.0",
            "_model_name": "DescriptionStyleModel",
            "_view_count": null,
            "_view_module": "@jupyter-widgets/base",
            "_view_module_version": "1.2.0",
            "_view_name": "StyleView",
            "description_width": ""
          }
        }
      }
    }
  },
  "nbformat": 4,
  "nbformat_minor": 0
}