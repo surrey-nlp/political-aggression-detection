{
 "cells": [
  {
   "cell_type": "code",
   "execution_count": 2,
   "metadata": {},
   "outputs": [],
   "source": [
    "import numpy as np\n",
    "import pandas as pd\n",
    "from sklearn.metrics import cohen_kappa_score"
   ]
  },
  {
   "cell_type": "code",
   "execution_count": 3,
   "metadata": {},
   "outputs": [],
   "source": [
    "elections_14 = pd.read_excel('merged_14_before.xlsx')\n",
    "elections_19 = pd.read_excel('merged_19_before.xlsx')"
   ]
  },
  {
   "cell_type": "code",
   "execution_count": 4,
   "metadata": {},
   "outputs": [
    {
     "data": {
      "text/html": [
       "<div>\n",
       "<style scoped>\n",
       "    .dataframe tbody tr th:only-of-type {\n",
       "        vertical-align: middle;\n",
       "    }\n",
       "\n",
       "    .dataframe tbody tr th {\n",
       "        vertical-align: top;\n",
       "    }\n",
       "\n",
       "    .dataframe thead th {\n",
       "        text-align: right;\n",
       "    }\n",
       "</style>\n",
       "<table border=\"1\" class=\"dataframe\">\n",
       "  <thead>\n",
       "    <tr style=\"text-align: right;\">\n",
       "      <th></th>\n",
       "      <th>Id</th>\n",
       "      <th>Tweet</th>\n",
       "      <th>Time</th>\n",
       "      <th>Unnamed: 3</th>\n",
       "      <th>Akash_Category</th>\n",
       "      <th>Naiza_Category</th>\n",
       "      <th>Akash_Label</th>\n",
       "      <th>Nazia_Label</th>\n",
       "    </tr>\n",
       "  </thead>\n",
       "  <tbody>\n",
       "    <tr>\n",
       "      <th>0</th>\n",
       "      <td>tc14_b_1</td>\n",
       "      <td>My profound apologies to Ganga Maa for not be...</td>\n",
       "      <td>B</td>\n",
       "      <td>0</td>\n",
       "      <td>NAG</td>\n",
       "      <td>NAG</td>\n",
       "      <td>0</td>\n",
       "      <td>0</td>\n",
       "    </tr>\n",
       "    <tr>\n",
       "      <th>1</th>\n",
       "      <td>tc14_b_2</td>\n",
       "      <td>I appeal to my Karyakarta sisters &amp; brothers ...</td>\n",
       "      <td>B</td>\n",
       "      <td>1</td>\n",
       "      <td>NAG</td>\n",
       "      <td>NAG</td>\n",
       "      <td>0</td>\n",
       "      <td>0</td>\n",
       "    </tr>\n",
       "    <tr>\n",
       "      <th>2</th>\n",
       "      <td>tc14_b_3</td>\n",
       "      <td>I am overwhelmed by people's response! I assu...</td>\n",
       "      <td>B</td>\n",
       "      <td>0</td>\n",
       "      <td>NAG</td>\n",
       "      <td>NAG</td>\n",
       "      <td>0</td>\n",
       "      <td>0</td>\n",
       "    </tr>\n",
       "    <tr>\n",
       "      <th>3</th>\n",
       "      <td>tc14_b_4</td>\n",
       "      <td>Concluded the campaign for 2014 Lok Sabha ele...</td>\n",
       "      <td>B</td>\n",
       "      <td>0</td>\n",
       "      <td>NAG</td>\n",
       "      <td>NAG</td>\n",
       "      <td>0</td>\n",
       "      <td>0</td>\n",
       "    </tr>\n",
       "    <tr>\n",
       "      <th>4</th>\n",
       "      <td>tc14_b_5</td>\n",
       "      <td>8 months 5800+ rallies Charchas programmes 3 ...</td>\n",
       "      <td>B</td>\n",
       "      <td>0</td>\n",
       "      <td>NAG</td>\n",
       "      <td>NAG</td>\n",
       "      <td>0</td>\n",
       "      <td>0</td>\n",
       "    </tr>\n",
       "  </tbody>\n",
       "</table>\n",
       "</div>"
      ],
      "text/plain": [
       "         Id                                              Tweet Time  \\\n",
       "0  tc14_b_1   My profound apologies to Ganga Maa for not be...    B   \n",
       "1  tc14_b_2   I appeal to my Karyakarta sisters & brothers ...    B   \n",
       "2  tc14_b_3   I am overwhelmed by people's response! I assu...    B   \n",
       "3  tc14_b_4   Concluded the campaign for 2014 Lok Sabha ele...    B   \n",
       "4  tc14_b_5   8 months 5800+ rallies Charchas programmes 3 ...    B   \n",
       "\n",
       "   Unnamed: 3 Akash_Category Naiza_Category  Akash_Label  Nazia_Label  \n",
       "0           0            NAG            NAG            0            0  \n",
       "1           1            NAG            NAG            0            0  \n",
       "2           0            NAG            NAG            0            0  \n",
       "3           0            NAG            NAG            0            0  \n",
       "4           0            NAG            NAG            0            0  "
      ]
     },
     "execution_count": 4,
     "metadata": {},
     "output_type": "execute_result"
    }
   ],
   "source": [
    "elections_14.head(5)"
   ]
  },
  {
   "cell_type": "code",
   "execution_count": 6,
   "metadata": {},
   "outputs": [
    {
     "data": {
      "text/plain": [
       "pandas.core.series.Series"
      ]
     },
     "execution_count": 6,
     "metadata": {},
     "output_type": "execute_result"
    }
   ],
   "source": [
    "type(elections_14['Akash_Category'])"
   ]
  },
  {
   "cell_type": "code",
   "execution_count": 7,
   "metadata": {},
   "outputs": [
    {
     "name": "stdout",
     "output_type": "stream",
     "text": [
      "[0 0 0 0 0 0 0 0 0 0 0 1 0 0 0 0 1 1 2 0 0 0 1 2 1 0 1 0 1 2 1 0 1 2 1 0 1\n",
      " 0 0 0 0 1 1 0 0 0 0 0 0 1 1 0 0 1 1 2 1 0 2 1 1 0 0 0 0 1 0 0 1 0 0 1 1 2\n",
      " 0 2 0 0 1 1 1 1 0 1 1 0 0 1 1 1 1 0 1 0 0 1 1 1 1 0 1 1 1 0 1 0 1 0 1 1 1\n",
      " 1 1 0 1 0 1 1 0 1 1 0 1 1 0 1 0 1 1 0 0 0 1 2 1 1 1 1 1 0 1 1 1 1 2 0 1 1\n",
      " 1 1 0 1 0 1 1 0 1 0 0 1 0 1 0 0 1 0 1 1 0 1 1 0 1 0 2 1 0 1 1 1 1 0 0 0 1\n",
      " 1 2 0 1 2 1 0 0 0 1 0 0 0 1 0 1 1 0 0 1 1 0 0 0 0 0 0 1 1 0 0 0 1 0 0 0 0\n",
      " 0 1 0 0 2 1 0 0 1 0 0 0 0 1 2 1 1 1 0 1 1 1 1 0 0 1 1 0 1 0 1 0 1 0 0 1 1\n",
      " 0 0 0 0 1 0 0 1 0 1 1 1 0 2 0 0 0 0 0 0 0 0 0 0 0 1 0 2 2 2 2 2 1 2 1 1 2\n",
      " 2 0 0 0 1 0 1 0 0 1 0 0 1 0 0 1 0 0 2 0 1 1 0 0 0 1 0 0 1 0 0 0 0 0 0 0 0\n",
      " 0 1 0 0 0 2 0 0 1 1 0 2 1 0 0 0 0 0 0 1 1 1 1 0 0 0 0 0 0 0 0 1 0 1 0 1 1\n",
      " 1 1 1 2 2 2 2 0 1 1 2 0 2 0 0 0 1 1 1 0 0 1 1 2 2 0 1 1 0 0 1 0 0 0 0 1 0\n",
      " 1 0 0 1 1 1 1 0 1 0 1 0 1 1 0 1 0 0 1 1 1 0 1 1 0 2 0 0 1 0 0 1 1 2 0 1 1\n",
      " 0 1 0 1 1 1 1 0 0 1 0 0 0 0 1 1 1 1 0 1 0 1 0 1 2 2 0 1 1 1 1 0 0 1 1 1 0\n",
      " 0 1 0 1 0 0 1 0 1 2 1 1 1 1 2 2 1 2 0 2 2 2 1 1 0 0 0 0 0 0 0 0 1 1 0 0 2\n",
      " 1 2 1 2 0 1 1 0 0 1 0 1 0 1 0 1 0 0 0 0 0 0 0 0 1 2 1 1 0 0 0 0 0 0 1 1 2\n",
      " 1 0 2 0 0 1 0 0 1 0 0 1 1 0 0 0 0 1 1 0 0 1 0 1 1 0 2 1 1 1 1 2 1 0 0 0 0\n",
      " 0 0 0 1 1 0 0 0 1 1 2 1 1 1 1 1 2 2 1 0 1 2 1 1 1 1 2 2 0 1 1 1 1 2 2 1 2\n",
      " 1 2 1 0 2 2 0 0 0 0 0 0 1 1 0 2 0 0 1 0 1 0 2 0 2 2 1 0 0 2 2 2 1 1 1 1 1\n",
      " 0 0 1 1 2 1 2 1 1 1 0 0 0 1 1 1 1 2 1 1 1 1 0 0 1 1 1 1 0 2 1 1 2 0]\n"
     ]
    }
   ],
   "source": [
    "labels_Akash = elections_14['Akash_Label'].to_numpy()\n",
    "print(labels_Akash)"
   ]
  },
  {
   "cell_type": "code",
   "execution_count": 8,
   "metadata": {},
   "outputs": [],
   "source": [
    "labels_Nazia = elections_14['Nazia_Label'].to_numpy()"
   ]
  },
  {
   "cell_type": "code",
   "execution_count": 9,
   "metadata": {},
   "outputs": [
    {
     "name": "stdout",
     "output_type": "stream",
     "text": [
      "0.47514838094837675\n"
     ]
    }
   ],
   "source": [
    "election_14_kappa = cohen_kappa_score(labels_Akash, labels_Nazia)\n",
    "print(election_14_kappa)"
   ]
  },
  {
   "cell_type": "markdown",
   "metadata": {},
   "source": [
    "![Cohen's Kappa Reliability](ck.png)"
   ]
  },
  {
   "cell_type": "code",
   "execution_count": 16,
   "metadata": {},
   "outputs": [],
   "source": [
    "labels_Nazia_2 = elections_19['Nazia_Label'].to_numpy()\n",
    "labels_Akash_2 = elections_19['Akash_Label'].to_numpy()\n"
   ]
  },
  {
   "cell_type": "code",
   "execution_count": 17,
   "metadata": {},
   "outputs": [
    {
     "name": "stdout",
     "output_type": "stream",
     "text": [
      "0.2614767826763553\n"
     ]
    }
   ],
   "source": [
    "election_19_kappa = cohen_kappa_score(labels_Akash_2, labels_Nazia_2)\n",
    "print(election_19_kappa)"
   ]
  },
  {
   "cell_type": "markdown",
   "metadata": {},
   "source": [
    "#### Election 2014"
   ]
  },
  {
   "cell_type": "markdown",
   "metadata": {},
   "source": [
    "![Election 2014](merged_14_b.png)"
   ]
  },
  {
   "cell_type": "markdown",
   "metadata": {},
   "source": [
    "#### Election 2019"
   ]
  },
  {
   "cell_type": "markdown",
   "metadata": {},
   "source": [
    "![Election 2019](merged_19_b.png)"
   ]
  }
 ],
 "metadata": {
  "interpreter": {
   "hash": "8bd2466231e41ed14114f2b409d9719ddb015392667fe5003083bc13ae641016"
  },
  "kernelspec": {
   "display_name": "Python 3.9.5 64-bit",
   "language": "python",
   "name": "python3"
  },
  "language_info": {
   "codemirror_mode": {
    "name": "ipython",
    "version": 3
   },
   "file_extension": ".py",
   "mimetype": "text/x-python",
   "name": "python",
   "nbconvert_exporter": "python",
   "pygments_lexer": "ipython3",
   "version": "3.9.5"
  },
  "orig_nbformat": 4
 },
 "nbformat": 4,
 "nbformat_minor": 2
}
